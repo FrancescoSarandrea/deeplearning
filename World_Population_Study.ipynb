{
 "cells": [
  {
   "cell_type": "code",
   "execution_count": 2,
   "id": "8a281714",
   "metadata": {},
   "outputs": [
    {
     "name": "stdout",
     "output_type": "stream",
     "text": [
      "Available Themes: \r\n",
      "   chesterish\r\n",
      "   grade3\r\n",
      "   gruvboxd\r\n",
      "   gruvboxl\r\n",
      "   monokai\r\n",
      "   oceans16\r\n",
      "   onedork\r\n",
      "   solarizedd\r\n",
      "   solarizedl\r\n"
     ]
    }
   ],
   "source": [
    "!jt -l"
   ]
  },
  {
   "cell_type": "code",
   "execution_count": 3,
   "id": "fe45955b",
   "metadata": {},
   "outputs": [],
   "source": [
    "!jt -t chesterish"
   ]
  },
  {
   "cell_type": "code",
   "execution_count": 1,
   "id": "c73ad84a",
   "metadata": {},
   "outputs": [
    {
     "name": "stderr",
     "output_type": "stream",
     "text": [
      "2023-01-15 13:06:25.954887: I tensorflow/core/platform/cpu_feature_guard.cc:193] This TensorFlow binary is optimized with oneAPI Deep Neural Network Library (oneDNN) to use the following CPU instructions in performance-critical operations:  SSE4.1 SSE4.2 AVX AVX2 FMA\n",
      "To enable them in other operations, rebuild TensorFlow with the appropriate compiler flags.\n"
     ]
    }
   ],
   "source": [
    "import tensorflow as tf"
   ]
  },
  {
   "cell_type": "markdown",
   "id": "b575d83f",
   "metadata": {},
   "source": [
    "Importing libraries"
   ]
  },
  {
   "cell_type": "code",
   "execution_count": 51,
   "id": "315da986",
   "metadata": {},
   "outputs": [],
   "source": [
    "import matplotlib\n",
    "import matplotlib.pyplot as plt\n",
    "import pandas as pd\n",
    "#importing class to do preprocessing on the data\n",
    "from sklearn.pipeline import make_pipeline\n",
    "from sklearn.preprocessing import StandardScaler\n",
    "\n",
    "import numpy as np"
   ]
  },
  {
   "cell_type": "markdown",
   "id": "5988a302",
   "metadata": {},
   "source": [
    "Unzipping the world population file"
   ]
  },
  {
   "cell_type": "code",
   "execution_count": 3,
   "id": "77514757",
   "metadata": {},
   "outputs": [],
   "source": [
    "from zipfile import ZipFile\n",
    "zf = ZipFile('archive.zip', 'r')\n",
    "zf.extractall()"
   ]
  },
  {
   "cell_type": "code",
   "execution_count": 4,
   "id": "e7668d18",
   "metadata": {},
   "outputs": [],
   "source": [
    "df=pd.read_csv('world_population.csv')"
   ]
  },
  {
   "cell_type": "code",
   "execution_count": 5,
   "id": "6b686341",
   "metadata": {},
   "outputs": [
    {
     "data": {
      "text/html": [
       "<div>\n",
       "<style scoped>\n",
       "    .dataframe tbody tr th:only-of-type {\n",
       "        vertical-align: middle;\n",
       "    }\n",
       "\n",
       "    .dataframe tbody tr th {\n",
       "        vertical-align: top;\n",
       "    }\n",
       "\n",
       "    .dataframe thead th {\n",
       "        text-align: right;\n",
       "    }\n",
       "</style>\n",
       "<table border=\"1\" class=\"dataframe\">\n",
       "  <thead>\n",
       "    <tr style=\"text-align: right;\">\n",
       "      <th></th>\n",
       "      <th>Rank</th>\n",
       "      <th>CCA3</th>\n",
       "      <th>Country/Territory</th>\n",
       "      <th>Capital</th>\n",
       "      <th>Continent</th>\n",
       "      <th>2022 Population</th>\n",
       "      <th>2020 Population</th>\n",
       "      <th>2015 Population</th>\n",
       "      <th>2010 Population</th>\n",
       "      <th>2000 Population</th>\n",
       "      <th>1990 Population</th>\n",
       "      <th>1980 Population</th>\n",
       "      <th>1970 Population</th>\n",
       "      <th>Area (km²)</th>\n",
       "      <th>Density (per km²)</th>\n",
       "      <th>Growth Rate</th>\n",
       "      <th>World Population Percentage</th>\n",
       "    </tr>\n",
       "  </thead>\n",
       "  <tbody>\n",
       "    <tr>\n",
       "      <th>0</th>\n",
       "      <td>36</td>\n",
       "      <td>AFG</td>\n",
       "      <td>Afghanistan</td>\n",
       "      <td>Kabul</td>\n",
       "      <td>Asia</td>\n",
       "      <td>41128771</td>\n",
       "      <td>38972230</td>\n",
       "      <td>33753499</td>\n",
       "      <td>28189672</td>\n",
       "      <td>19542982</td>\n",
       "      <td>10694796</td>\n",
       "      <td>12486631</td>\n",
       "      <td>10752971</td>\n",
       "      <td>652230</td>\n",
       "      <td>63.0587</td>\n",
       "      <td>1.0257</td>\n",
       "      <td>0.52</td>\n",
       "    </tr>\n",
       "    <tr>\n",
       "      <th>1</th>\n",
       "      <td>138</td>\n",
       "      <td>ALB</td>\n",
       "      <td>Albania</td>\n",
       "      <td>Tirana</td>\n",
       "      <td>Europe</td>\n",
       "      <td>2842321</td>\n",
       "      <td>2866849</td>\n",
       "      <td>2882481</td>\n",
       "      <td>2913399</td>\n",
       "      <td>3182021</td>\n",
       "      <td>3295066</td>\n",
       "      <td>2941651</td>\n",
       "      <td>2324731</td>\n",
       "      <td>28748</td>\n",
       "      <td>98.8702</td>\n",
       "      <td>0.9957</td>\n",
       "      <td>0.04</td>\n",
       "    </tr>\n",
       "    <tr>\n",
       "      <th>2</th>\n",
       "      <td>34</td>\n",
       "      <td>DZA</td>\n",
       "      <td>Algeria</td>\n",
       "      <td>Algiers</td>\n",
       "      <td>Africa</td>\n",
       "      <td>44903225</td>\n",
       "      <td>43451666</td>\n",
       "      <td>39543154</td>\n",
       "      <td>35856344</td>\n",
       "      <td>30774621</td>\n",
       "      <td>25518074</td>\n",
       "      <td>18739378</td>\n",
       "      <td>13795915</td>\n",
       "      <td>2381741</td>\n",
       "      <td>18.8531</td>\n",
       "      <td>1.0164</td>\n",
       "      <td>0.56</td>\n",
       "    </tr>\n",
       "    <tr>\n",
       "      <th>3</th>\n",
       "      <td>213</td>\n",
       "      <td>ASM</td>\n",
       "      <td>American Samoa</td>\n",
       "      <td>Pago Pago</td>\n",
       "      <td>Oceania</td>\n",
       "      <td>44273</td>\n",
       "      <td>46189</td>\n",
       "      <td>51368</td>\n",
       "      <td>54849</td>\n",
       "      <td>58230</td>\n",
       "      <td>47818</td>\n",
       "      <td>32886</td>\n",
       "      <td>27075</td>\n",
       "      <td>199</td>\n",
       "      <td>222.4774</td>\n",
       "      <td>0.9831</td>\n",
       "      <td>0.00</td>\n",
       "    </tr>\n",
       "    <tr>\n",
       "      <th>4</th>\n",
       "      <td>203</td>\n",
       "      <td>AND</td>\n",
       "      <td>Andorra</td>\n",
       "      <td>Andorra la Vella</td>\n",
       "      <td>Europe</td>\n",
       "      <td>79824</td>\n",
       "      <td>77700</td>\n",
       "      <td>71746</td>\n",
       "      <td>71519</td>\n",
       "      <td>66097</td>\n",
       "      <td>53569</td>\n",
       "      <td>35611</td>\n",
       "      <td>19860</td>\n",
       "      <td>468</td>\n",
       "      <td>170.5641</td>\n",
       "      <td>1.0100</td>\n",
       "      <td>0.00</td>\n",
       "    </tr>\n",
       "    <tr>\n",
       "      <th>...</th>\n",
       "      <td>...</td>\n",
       "      <td>...</td>\n",
       "      <td>...</td>\n",
       "      <td>...</td>\n",
       "      <td>...</td>\n",
       "      <td>...</td>\n",
       "      <td>...</td>\n",
       "      <td>...</td>\n",
       "      <td>...</td>\n",
       "      <td>...</td>\n",
       "      <td>...</td>\n",
       "      <td>...</td>\n",
       "      <td>...</td>\n",
       "      <td>...</td>\n",
       "      <td>...</td>\n",
       "      <td>...</td>\n",
       "      <td>...</td>\n",
       "    </tr>\n",
       "    <tr>\n",
       "      <th>229</th>\n",
       "      <td>226</td>\n",
       "      <td>WLF</td>\n",
       "      <td>Wallis and Futuna</td>\n",
       "      <td>Mata-Utu</td>\n",
       "      <td>Oceania</td>\n",
       "      <td>11572</td>\n",
       "      <td>11655</td>\n",
       "      <td>12182</td>\n",
       "      <td>13142</td>\n",
       "      <td>14723</td>\n",
       "      <td>13454</td>\n",
       "      <td>11315</td>\n",
       "      <td>9377</td>\n",
       "      <td>142</td>\n",
       "      <td>81.4930</td>\n",
       "      <td>0.9953</td>\n",
       "      <td>0.00</td>\n",
       "    </tr>\n",
       "    <tr>\n",
       "      <th>230</th>\n",
       "      <td>172</td>\n",
       "      <td>ESH</td>\n",
       "      <td>Western Sahara</td>\n",
       "      <td>El Aaiún</td>\n",
       "      <td>Africa</td>\n",
       "      <td>575986</td>\n",
       "      <td>556048</td>\n",
       "      <td>491824</td>\n",
       "      <td>413296</td>\n",
       "      <td>270375</td>\n",
       "      <td>178529</td>\n",
       "      <td>116775</td>\n",
       "      <td>76371</td>\n",
       "      <td>266000</td>\n",
       "      <td>2.1654</td>\n",
       "      <td>1.0184</td>\n",
       "      <td>0.01</td>\n",
       "    </tr>\n",
       "    <tr>\n",
       "      <th>231</th>\n",
       "      <td>46</td>\n",
       "      <td>YEM</td>\n",
       "      <td>Yemen</td>\n",
       "      <td>Sanaa</td>\n",
       "      <td>Asia</td>\n",
       "      <td>33696614</td>\n",
       "      <td>32284046</td>\n",
       "      <td>28516545</td>\n",
       "      <td>24743946</td>\n",
       "      <td>18628700</td>\n",
       "      <td>13375121</td>\n",
       "      <td>9204938</td>\n",
       "      <td>6843607</td>\n",
       "      <td>527968</td>\n",
       "      <td>63.8232</td>\n",
       "      <td>1.0217</td>\n",
       "      <td>0.42</td>\n",
       "    </tr>\n",
       "    <tr>\n",
       "      <th>232</th>\n",
       "      <td>63</td>\n",
       "      <td>ZMB</td>\n",
       "      <td>Zambia</td>\n",
       "      <td>Lusaka</td>\n",
       "      <td>Africa</td>\n",
       "      <td>20017675</td>\n",
       "      <td>18927715</td>\n",
       "      <td>16248230</td>\n",
       "      <td>13792086</td>\n",
       "      <td>9891136</td>\n",
       "      <td>7686401</td>\n",
       "      <td>5720438</td>\n",
       "      <td>4281671</td>\n",
       "      <td>752612</td>\n",
       "      <td>26.5976</td>\n",
       "      <td>1.0280</td>\n",
       "      <td>0.25</td>\n",
       "    </tr>\n",
       "    <tr>\n",
       "      <th>233</th>\n",
       "      <td>74</td>\n",
       "      <td>ZWE</td>\n",
       "      <td>Zimbabwe</td>\n",
       "      <td>Harare</td>\n",
       "      <td>Africa</td>\n",
       "      <td>16320537</td>\n",
       "      <td>15669666</td>\n",
       "      <td>14154937</td>\n",
       "      <td>12839771</td>\n",
       "      <td>11834676</td>\n",
       "      <td>10113893</td>\n",
       "      <td>7049926</td>\n",
       "      <td>5202918</td>\n",
       "      <td>390757</td>\n",
       "      <td>41.7665</td>\n",
       "      <td>1.0204</td>\n",
       "      <td>0.20</td>\n",
       "    </tr>\n",
       "  </tbody>\n",
       "</table>\n",
       "<p>234 rows × 17 columns</p>\n",
       "</div>"
      ],
      "text/plain": [
       "     Rank CCA3  Country/Territory           Capital Continent  \\\n",
       "0      36  AFG        Afghanistan             Kabul      Asia   \n",
       "1     138  ALB            Albania            Tirana    Europe   \n",
       "2      34  DZA            Algeria           Algiers    Africa   \n",
       "3     213  ASM     American Samoa         Pago Pago   Oceania   \n",
       "4     203  AND            Andorra  Andorra la Vella    Europe   \n",
       "..    ...  ...                ...               ...       ...   \n",
       "229   226  WLF  Wallis and Futuna          Mata-Utu   Oceania   \n",
       "230   172  ESH     Western Sahara          El Aaiún    Africa   \n",
       "231    46  YEM              Yemen             Sanaa      Asia   \n",
       "232    63  ZMB             Zambia            Lusaka    Africa   \n",
       "233    74  ZWE           Zimbabwe            Harare    Africa   \n",
       "\n",
       "     2022 Population  2020 Population  2015 Population  2010 Population  \\\n",
       "0           41128771         38972230         33753499         28189672   \n",
       "1            2842321          2866849          2882481          2913399   \n",
       "2           44903225         43451666         39543154         35856344   \n",
       "3              44273            46189            51368            54849   \n",
       "4              79824            77700            71746            71519   \n",
       "..               ...              ...              ...              ...   \n",
       "229            11572            11655            12182            13142   \n",
       "230           575986           556048           491824           413296   \n",
       "231         33696614         32284046         28516545         24743946   \n",
       "232         20017675         18927715         16248230         13792086   \n",
       "233         16320537         15669666         14154937         12839771   \n",
       "\n",
       "     2000 Population  1990 Population  1980 Population  1970 Population  \\\n",
       "0           19542982         10694796         12486631         10752971   \n",
       "1            3182021          3295066          2941651          2324731   \n",
       "2           30774621         25518074         18739378         13795915   \n",
       "3              58230            47818            32886            27075   \n",
       "4              66097            53569            35611            19860   \n",
       "..               ...              ...              ...              ...   \n",
       "229            14723            13454            11315             9377   \n",
       "230           270375           178529           116775            76371   \n",
       "231         18628700         13375121          9204938          6843607   \n",
       "232          9891136          7686401          5720438          4281671   \n",
       "233         11834676         10113893          7049926          5202918   \n",
       "\n",
       "     Area (km²)  Density (per km²)  Growth Rate  World Population Percentage  \n",
       "0        652230            63.0587       1.0257                         0.52  \n",
       "1         28748            98.8702       0.9957                         0.04  \n",
       "2       2381741            18.8531       1.0164                         0.56  \n",
       "3           199           222.4774       0.9831                         0.00  \n",
       "4           468           170.5641       1.0100                         0.00  \n",
       "..          ...                ...          ...                          ...  \n",
       "229         142            81.4930       0.9953                         0.00  \n",
       "230      266000             2.1654       1.0184                         0.01  \n",
       "231      527968            63.8232       1.0217                         0.42  \n",
       "232      752612            26.5976       1.0280                         0.25  \n",
       "233      390757            41.7665       1.0204                         0.20  \n",
       "\n",
       "[234 rows x 17 columns]"
      ]
     },
     "execution_count": 5,
     "metadata": {},
     "output_type": "execute_result"
    }
   ],
   "source": [
    "df"
   ]
  },
  {
   "cell_type": "markdown",
   "id": "5eb0dde0",
   "metadata": {},
   "source": [
    "Describing general features of the dataframe"
   ]
  },
  {
   "cell_type": "code",
   "execution_count": 6,
   "id": "ad6a3651",
   "metadata": {},
   "outputs": [
    {
     "data": {
      "text/html": [
       "<div>\n",
       "<style scoped>\n",
       "    .dataframe tbody tr th:only-of-type {\n",
       "        vertical-align: middle;\n",
       "    }\n",
       "\n",
       "    .dataframe tbody tr th {\n",
       "        vertical-align: top;\n",
       "    }\n",
       "\n",
       "    .dataframe thead th {\n",
       "        text-align: right;\n",
       "    }\n",
       "</style>\n",
       "<table border=\"1\" class=\"dataframe\">\n",
       "  <thead>\n",
       "    <tr style=\"text-align: right;\">\n",
       "      <th></th>\n",
       "      <th>Rank</th>\n",
       "      <th>2022 Population</th>\n",
       "      <th>2020 Population</th>\n",
       "      <th>2015 Population</th>\n",
       "      <th>2010 Population</th>\n",
       "      <th>2000 Population</th>\n",
       "      <th>1990 Population</th>\n",
       "      <th>1980 Population</th>\n",
       "      <th>1970 Population</th>\n",
       "      <th>Area (km²)</th>\n",
       "      <th>Density (per km²)</th>\n",
       "      <th>Growth Rate</th>\n",
       "      <th>World Population Percentage</th>\n",
       "    </tr>\n",
       "  </thead>\n",
       "  <tbody>\n",
       "    <tr>\n",
       "      <th>count</th>\n",
       "      <td>234.000000</td>\n",
       "      <td>2.340000e+02</td>\n",
       "      <td>2.340000e+02</td>\n",
       "      <td>2.340000e+02</td>\n",
       "      <td>2.340000e+02</td>\n",
       "      <td>2.340000e+02</td>\n",
       "      <td>2.340000e+02</td>\n",
       "      <td>2.340000e+02</td>\n",
       "      <td>2.340000e+02</td>\n",
       "      <td>2.340000e+02</td>\n",
       "      <td>234.000000</td>\n",
       "      <td>234.000000</td>\n",
       "      <td>234.000000</td>\n",
       "    </tr>\n",
       "    <tr>\n",
       "      <th>mean</th>\n",
       "      <td>117.500000</td>\n",
       "      <td>3.407441e+07</td>\n",
       "      <td>3.350107e+07</td>\n",
       "      <td>3.172996e+07</td>\n",
       "      <td>2.984524e+07</td>\n",
       "      <td>2.626947e+07</td>\n",
       "      <td>2.271022e+07</td>\n",
       "      <td>1.898462e+07</td>\n",
       "      <td>1.578691e+07</td>\n",
       "      <td>5.814494e+05</td>\n",
       "      <td>452.127044</td>\n",
       "      <td>1.009577</td>\n",
       "      <td>0.427051</td>\n",
       "    </tr>\n",
       "    <tr>\n",
       "      <th>std</th>\n",
       "      <td>67.694165</td>\n",
       "      <td>1.367664e+08</td>\n",
       "      <td>1.355899e+08</td>\n",
       "      <td>1.304050e+08</td>\n",
       "      <td>1.242185e+08</td>\n",
       "      <td>1.116982e+08</td>\n",
       "      <td>9.783217e+07</td>\n",
       "      <td>8.178519e+07</td>\n",
       "      <td>6.779509e+07</td>\n",
       "      <td>1.761841e+06</td>\n",
       "      <td>2066.121904</td>\n",
       "      <td>0.013385</td>\n",
       "      <td>1.714977</td>\n",
       "    </tr>\n",
       "    <tr>\n",
       "      <th>min</th>\n",
       "      <td>1.000000</td>\n",
       "      <td>5.100000e+02</td>\n",
       "      <td>5.200000e+02</td>\n",
       "      <td>5.640000e+02</td>\n",
       "      <td>5.960000e+02</td>\n",
       "      <td>6.510000e+02</td>\n",
       "      <td>7.000000e+02</td>\n",
       "      <td>7.330000e+02</td>\n",
       "      <td>7.520000e+02</td>\n",
       "      <td>1.000000e+00</td>\n",
       "      <td>0.026100</td>\n",
       "      <td>0.912000</td>\n",
       "      <td>0.000000</td>\n",
       "    </tr>\n",
       "    <tr>\n",
       "      <th>25%</th>\n",
       "      <td>59.250000</td>\n",
       "      <td>4.197385e+05</td>\n",
       "      <td>4.152845e+05</td>\n",
       "      <td>4.046760e+05</td>\n",
       "      <td>3.931490e+05</td>\n",
       "      <td>3.272420e+05</td>\n",
       "      <td>2.641158e+05</td>\n",
       "      <td>2.296142e+05</td>\n",
       "      <td>1.559970e+05</td>\n",
       "      <td>2.650000e+03</td>\n",
       "      <td>38.417875</td>\n",
       "      <td>1.001775</td>\n",
       "      <td>0.010000</td>\n",
       "    </tr>\n",
       "    <tr>\n",
       "      <th>50%</th>\n",
       "      <td>117.500000</td>\n",
       "      <td>5.559944e+06</td>\n",
       "      <td>5.493074e+06</td>\n",
       "      <td>5.307400e+06</td>\n",
       "      <td>4.942770e+06</td>\n",
       "      <td>4.292907e+06</td>\n",
       "      <td>3.825410e+06</td>\n",
       "      <td>3.141146e+06</td>\n",
       "      <td>2.604830e+06</td>\n",
       "      <td>8.119950e+04</td>\n",
       "      <td>95.346750</td>\n",
       "      <td>1.007900</td>\n",
       "      <td>0.070000</td>\n",
       "    </tr>\n",
       "    <tr>\n",
       "      <th>75%</th>\n",
       "      <td>175.750000</td>\n",
       "      <td>2.247650e+07</td>\n",
       "      <td>2.144798e+07</td>\n",
       "      <td>1.973085e+07</td>\n",
       "      <td>1.915957e+07</td>\n",
       "      <td>1.576230e+07</td>\n",
       "      <td>1.186923e+07</td>\n",
       "      <td>9.826054e+06</td>\n",
       "      <td>8.817329e+06</td>\n",
       "      <td>4.304258e+05</td>\n",
       "      <td>238.933250</td>\n",
       "      <td>1.016950</td>\n",
       "      <td>0.280000</td>\n",
       "    </tr>\n",
       "    <tr>\n",
       "      <th>max</th>\n",
       "      <td>234.000000</td>\n",
       "      <td>1.425887e+09</td>\n",
       "      <td>1.424930e+09</td>\n",
       "      <td>1.393715e+09</td>\n",
       "      <td>1.348191e+09</td>\n",
       "      <td>1.264099e+09</td>\n",
       "      <td>1.153704e+09</td>\n",
       "      <td>9.823725e+08</td>\n",
       "      <td>8.225344e+08</td>\n",
       "      <td>1.709824e+07</td>\n",
       "      <td>23172.266700</td>\n",
       "      <td>1.069100</td>\n",
       "      <td>17.880000</td>\n",
       "    </tr>\n",
       "  </tbody>\n",
       "</table>\n",
       "</div>"
      ],
      "text/plain": [
       "             Rank  2022 Population  2020 Population  2015 Population  \\\n",
       "count  234.000000     2.340000e+02     2.340000e+02     2.340000e+02   \n",
       "mean   117.500000     3.407441e+07     3.350107e+07     3.172996e+07   \n",
       "std     67.694165     1.367664e+08     1.355899e+08     1.304050e+08   \n",
       "min      1.000000     5.100000e+02     5.200000e+02     5.640000e+02   \n",
       "25%     59.250000     4.197385e+05     4.152845e+05     4.046760e+05   \n",
       "50%    117.500000     5.559944e+06     5.493074e+06     5.307400e+06   \n",
       "75%    175.750000     2.247650e+07     2.144798e+07     1.973085e+07   \n",
       "max    234.000000     1.425887e+09     1.424930e+09     1.393715e+09   \n",
       "\n",
       "       2010 Population  2000 Population  1990 Population  1980 Population  \\\n",
       "count     2.340000e+02     2.340000e+02     2.340000e+02     2.340000e+02   \n",
       "mean      2.984524e+07     2.626947e+07     2.271022e+07     1.898462e+07   \n",
       "std       1.242185e+08     1.116982e+08     9.783217e+07     8.178519e+07   \n",
       "min       5.960000e+02     6.510000e+02     7.000000e+02     7.330000e+02   \n",
       "25%       3.931490e+05     3.272420e+05     2.641158e+05     2.296142e+05   \n",
       "50%       4.942770e+06     4.292907e+06     3.825410e+06     3.141146e+06   \n",
       "75%       1.915957e+07     1.576230e+07     1.186923e+07     9.826054e+06   \n",
       "max       1.348191e+09     1.264099e+09     1.153704e+09     9.823725e+08   \n",
       "\n",
       "       1970 Population    Area (km²)  Density (per km²)  Growth Rate  \\\n",
       "count     2.340000e+02  2.340000e+02         234.000000   234.000000   \n",
       "mean      1.578691e+07  5.814494e+05         452.127044     1.009577   \n",
       "std       6.779509e+07  1.761841e+06        2066.121904     0.013385   \n",
       "min       7.520000e+02  1.000000e+00           0.026100     0.912000   \n",
       "25%       1.559970e+05  2.650000e+03          38.417875     1.001775   \n",
       "50%       2.604830e+06  8.119950e+04          95.346750     1.007900   \n",
       "75%       8.817329e+06  4.304258e+05         238.933250     1.016950   \n",
       "max       8.225344e+08  1.709824e+07       23172.266700     1.069100   \n",
       "\n",
       "       World Population Percentage  \n",
       "count                   234.000000  \n",
       "mean                      0.427051  \n",
       "std                       1.714977  \n",
       "min                       0.000000  \n",
       "25%                       0.010000  \n",
       "50%                       0.070000  \n",
       "75%                       0.280000  \n",
       "max                      17.880000  "
      ]
     },
     "execution_count": 6,
     "metadata": {},
     "output_type": "execute_result"
    }
   ],
   "source": [
    "df.describe()"
   ]
  },
  {
   "cell_type": "markdown",
   "id": "6523eb77",
   "metadata": {},
   "source": [
    "Import Seaborn for graphs"
   ]
  },
  {
   "cell_type": "code",
   "execution_count": 8,
   "id": "0d8e2292",
   "metadata": {},
   "outputs": [],
   "source": [
    "import seaborn as sns"
   ]
  },
  {
   "cell_type": "markdown",
   "id": "60931ff9",
   "metadata": {},
   "source": [
    "Outputs entries as booleans"
   ]
  },
  {
   "cell_type": "code",
   "execution_count": 7,
   "id": "ee907925",
   "metadata": {},
   "outputs": [
    {
     "data": {
      "text/plain": [
       "0       True\n",
       "1      False\n",
       "2       True\n",
       "3      False\n",
       "4      False\n",
       "       ...  \n",
       "229    False\n",
       "230    False\n",
       "231     True\n",
       "232     True\n",
       "233     True\n",
       "Name: 2022 Population, Length: 234, dtype: bool"
      ]
     },
     "execution_count": 7,
     "metadata": {},
     "output_type": "execute_result"
    }
   ],
   "source": [
    "df[\"2022 Population\"]>10000000"
   ]
  },
  {
   "cell_type": "markdown",
   "id": "0d5b60d7",
   "metadata": {},
   "source": [
    "Outputs elements for which the boolean is true"
   ]
  },
  {
   "cell_type": "code",
   "execution_count": 14,
   "id": "c9362ef9",
   "metadata": {},
   "outputs": [
    {
     "data": {
      "text/html": [
       "<div>\n",
       "<style scoped>\n",
       "    .dataframe tbody tr th:only-of-type {\n",
       "        vertical-align: middle;\n",
       "    }\n",
       "\n",
       "    .dataframe tbody tr th {\n",
       "        vertical-align: top;\n",
       "    }\n",
       "\n",
       "    .dataframe thead th {\n",
       "        text-align: right;\n",
       "    }\n",
       "</style>\n",
       "<table border=\"1\" class=\"dataframe\">\n",
       "  <thead>\n",
       "    <tr style=\"text-align: right;\">\n",
       "      <th></th>\n",
       "      <th>Rank</th>\n",
       "      <th>CCA3</th>\n",
       "      <th>Country/Territory</th>\n",
       "      <th>Capital</th>\n",
       "      <th>Continent</th>\n",
       "      <th>2022 Population</th>\n",
       "      <th>2020 Population</th>\n",
       "      <th>2015 Population</th>\n",
       "      <th>2010 Population</th>\n",
       "      <th>2000 Population</th>\n",
       "      <th>1990 Population</th>\n",
       "      <th>1980 Population</th>\n",
       "      <th>1970 Population</th>\n",
       "      <th>Area (km²)</th>\n",
       "      <th>Density (per km²)</th>\n",
       "      <th>Growth Rate</th>\n",
       "      <th>World Population Percentage</th>\n",
       "    </tr>\n",
       "  </thead>\n",
       "  <tbody>\n",
       "    <tr>\n",
       "      <th>0</th>\n",
       "      <td>36</td>\n",
       "      <td>AFG</td>\n",
       "      <td>Afghanistan</td>\n",
       "      <td>Kabul</td>\n",
       "      <td>Asia</td>\n",
       "      <td>41128771</td>\n",
       "      <td>38972230</td>\n",
       "      <td>33753499</td>\n",
       "      <td>28189672</td>\n",
       "      <td>19542982</td>\n",
       "      <td>10694796</td>\n",
       "      <td>12486631</td>\n",
       "      <td>10752971</td>\n",
       "      <td>652230</td>\n",
       "      <td>63.0587</td>\n",
       "      <td>1.0257</td>\n",
       "      <td>0.52</td>\n",
       "    </tr>\n",
       "    <tr>\n",
       "      <th>2</th>\n",
       "      <td>34</td>\n",
       "      <td>DZA</td>\n",
       "      <td>Algeria</td>\n",
       "      <td>Algiers</td>\n",
       "      <td>Africa</td>\n",
       "      <td>44903225</td>\n",
       "      <td>43451666</td>\n",
       "      <td>39543154</td>\n",
       "      <td>35856344</td>\n",
       "      <td>30774621</td>\n",
       "      <td>25518074</td>\n",
       "      <td>18739378</td>\n",
       "      <td>13795915</td>\n",
       "      <td>2381741</td>\n",
       "      <td>18.8531</td>\n",
       "      <td>1.0164</td>\n",
       "      <td>0.56</td>\n",
       "    </tr>\n",
       "    <tr>\n",
       "      <th>5</th>\n",
       "      <td>42</td>\n",
       "      <td>AGO</td>\n",
       "      <td>Angola</td>\n",
       "      <td>Luanda</td>\n",
       "      <td>Africa</td>\n",
       "      <td>35588987</td>\n",
       "      <td>33428485</td>\n",
       "      <td>28127721</td>\n",
       "      <td>23364185</td>\n",
       "      <td>16394062</td>\n",
       "      <td>11828638</td>\n",
       "      <td>8330047</td>\n",
       "      <td>6029700</td>\n",
       "      <td>1246700</td>\n",
       "      <td>28.5466</td>\n",
       "      <td>1.0315</td>\n",
       "      <td>0.45</td>\n",
       "    </tr>\n",
       "    <tr>\n",
       "      <th>8</th>\n",
       "      <td>33</td>\n",
       "      <td>ARG</td>\n",
       "      <td>Argentina</td>\n",
       "      <td>Buenos Aires</td>\n",
       "      <td>South America</td>\n",
       "      <td>45510318</td>\n",
       "      <td>45036032</td>\n",
       "      <td>43257065</td>\n",
       "      <td>41100123</td>\n",
       "      <td>37070774</td>\n",
       "      <td>32637657</td>\n",
       "      <td>28024803</td>\n",
       "      <td>23842803</td>\n",
       "      <td>2780400</td>\n",
       "      <td>16.3683</td>\n",
       "      <td>1.0052</td>\n",
       "      <td>0.57</td>\n",
       "    </tr>\n",
       "    <tr>\n",
       "      <th>11</th>\n",
       "      <td>55</td>\n",
       "      <td>AUS</td>\n",
       "      <td>Australia</td>\n",
       "      <td>Canberra</td>\n",
       "      <td>Oceania</td>\n",
       "      <td>26177413</td>\n",
       "      <td>25670051</td>\n",
       "      <td>23820236</td>\n",
       "      <td>22019168</td>\n",
       "      <td>19017963</td>\n",
       "      <td>17048003</td>\n",
       "      <td>14706322</td>\n",
       "      <td>12595034</td>\n",
       "      <td>7692024</td>\n",
       "      <td>3.4032</td>\n",
       "      <td>1.0099</td>\n",
       "      <td>0.33</td>\n",
       "    </tr>\n",
       "    <tr>\n",
       "      <th>...</th>\n",
       "      <td>...</td>\n",
       "      <td>...</td>\n",
       "      <td>...</td>\n",
       "      <td>...</td>\n",
       "      <td>...</td>\n",
       "      <td>...</td>\n",
       "      <td>...</td>\n",
       "      <td>...</td>\n",
       "      <td>...</td>\n",
       "      <td>...</td>\n",
       "      <td>...</td>\n",
       "      <td>...</td>\n",
       "      <td>...</td>\n",
       "      <td>...</td>\n",
       "      <td>...</td>\n",
       "      <td>...</td>\n",
       "      <td>...</td>\n",
       "    </tr>\n",
       "    <tr>\n",
       "      <th>227</th>\n",
       "      <td>51</td>\n",
       "      <td>VEN</td>\n",
       "      <td>Venezuela</td>\n",
       "      <td>Caracas</td>\n",
       "      <td>South America</td>\n",
       "      <td>28301696</td>\n",
       "      <td>28490453</td>\n",
       "      <td>30529716</td>\n",
       "      <td>28715022</td>\n",
       "      <td>24427729</td>\n",
       "      <td>19750579</td>\n",
       "      <td>15210443</td>\n",
       "      <td>11355475</td>\n",
       "      <td>916445</td>\n",
       "      <td>30.8820</td>\n",
       "      <td>1.0036</td>\n",
       "      <td>0.35</td>\n",
       "    </tr>\n",
       "    <tr>\n",
       "      <th>228</th>\n",
       "      <td>16</td>\n",
       "      <td>VNM</td>\n",
       "      <td>Vietnam</td>\n",
       "      <td>Hanoi</td>\n",
       "      <td>Asia</td>\n",
       "      <td>98186856</td>\n",
       "      <td>96648685</td>\n",
       "      <td>92191398</td>\n",
       "      <td>87411012</td>\n",
       "      <td>79001142</td>\n",
       "      <td>66912613</td>\n",
       "      <td>52968270</td>\n",
       "      <td>41928849</td>\n",
       "      <td>331212</td>\n",
       "      <td>296.4472</td>\n",
       "      <td>1.0074</td>\n",
       "      <td>1.23</td>\n",
       "    </tr>\n",
       "    <tr>\n",
       "      <th>231</th>\n",
       "      <td>46</td>\n",
       "      <td>YEM</td>\n",
       "      <td>Yemen</td>\n",
       "      <td>Sanaa</td>\n",
       "      <td>Asia</td>\n",
       "      <td>33696614</td>\n",
       "      <td>32284046</td>\n",
       "      <td>28516545</td>\n",
       "      <td>24743946</td>\n",
       "      <td>18628700</td>\n",
       "      <td>13375121</td>\n",
       "      <td>9204938</td>\n",
       "      <td>6843607</td>\n",
       "      <td>527968</td>\n",
       "      <td>63.8232</td>\n",
       "      <td>1.0217</td>\n",
       "      <td>0.42</td>\n",
       "    </tr>\n",
       "    <tr>\n",
       "      <th>232</th>\n",
       "      <td>63</td>\n",
       "      <td>ZMB</td>\n",
       "      <td>Zambia</td>\n",
       "      <td>Lusaka</td>\n",
       "      <td>Africa</td>\n",
       "      <td>20017675</td>\n",
       "      <td>18927715</td>\n",
       "      <td>16248230</td>\n",
       "      <td>13792086</td>\n",
       "      <td>9891136</td>\n",
       "      <td>7686401</td>\n",
       "      <td>5720438</td>\n",
       "      <td>4281671</td>\n",
       "      <td>752612</td>\n",
       "      <td>26.5976</td>\n",
       "      <td>1.0280</td>\n",
       "      <td>0.25</td>\n",
       "    </tr>\n",
       "    <tr>\n",
       "      <th>233</th>\n",
       "      <td>74</td>\n",
       "      <td>ZWE</td>\n",
       "      <td>Zimbabwe</td>\n",
       "      <td>Harare</td>\n",
       "      <td>Africa</td>\n",
       "      <td>16320537</td>\n",
       "      <td>15669666</td>\n",
       "      <td>14154937</td>\n",
       "      <td>12839771</td>\n",
       "      <td>11834676</td>\n",
       "      <td>10113893</td>\n",
       "      <td>7049926</td>\n",
       "      <td>5202918</td>\n",
       "      <td>390757</td>\n",
       "      <td>41.7665</td>\n",
       "      <td>1.0204</td>\n",
       "      <td>0.20</td>\n",
       "    </tr>\n",
       "  </tbody>\n",
       "</table>\n",
       "<p>93 rows × 17 columns</p>\n",
       "</div>"
      ],
      "text/plain": [
       "     Rank CCA3 Country/Territory       Capital      Continent  \\\n",
       "0      36  AFG       Afghanistan         Kabul           Asia   \n",
       "2      34  DZA           Algeria       Algiers         Africa   \n",
       "5      42  AGO            Angola        Luanda         Africa   \n",
       "8      33  ARG         Argentina  Buenos Aires  South America   \n",
       "11     55  AUS         Australia      Canberra        Oceania   \n",
       "..    ...  ...               ...           ...            ...   \n",
       "227    51  VEN         Venezuela       Caracas  South America   \n",
       "228    16  VNM           Vietnam         Hanoi           Asia   \n",
       "231    46  YEM             Yemen         Sanaa           Asia   \n",
       "232    63  ZMB            Zambia        Lusaka         Africa   \n",
       "233    74  ZWE          Zimbabwe        Harare         Africa   \n",
       "\n",
       "     2022 Population  2020 Population  2015 Population  2010 Population  \\\n",
       "0           41128771         38972230         33753499         28189672   \n",
       "2           44903225         43451666         39543154         35856344   \n",
       "5           35588987         33428485         28127721         23364185   \n",
       "8           45510318         45036032         43257065         41100123   \n",
       "11          26177413         25670051         23820236         22019168   \n",
       "..               ...              ...              ...              ...   \n",
       "227         28301696         28490453         30529716         28715022   \n",
       "228         98186856         96648685         92191398         87411012   \n",
       "231         33696614         32284046         28516545         24743946   \n",
       "232         20017675         18927715         16248230         13792086   \n",
       "233         16320537         15669666         14154937         12839771   \n",
       "\n",
       "     2000 Population  1990 Population  1980 Population  1970 Population  \\\n",
       "0           19542982         10694796         12486631         10752971   \n",
       "2           30774621         25518074         18739378         13795915   \n",
       "5           16394062         11828638          8330047          6029700   \n",
       "8           37070774         32637657         28024803         23842803   \n",
       "11          19017963         17048003         14706322         12595034   \n",
       "..               ...              ...              ...              ...   \n",
       "227         24427729         19750579         15210443         11355475   \n",
       "228         79001142         66912613         52968270         41928849   \n",
       "231         18628700         13375121          9204938          6843607   \n",
       "232          9891136          7686401          5720438          4281671   \n",
       "233         11834676         10113893          7049926          5202918   \n",
       "\n",
       "     Area (km²)  Density (per km²)  Growth Rate  World Population Percentage  \n",
       "0        652230            63.0587       1.0257                         0.52  \n",
       "2       2381741            18.8531       1.0164                         0.56  \n",
       "5       1246700            28.5466       1.0315                         0.45  \n",
       "8       2780400            16.3683       1.0052                         0.57  \n",
       "11      7692024             3.4032       1.0099                         0.33  \n",
       "..          ...                ...          ...                          ...  \n",
       "227      916445            30.8820       1.0036                         0.35  \n",
       "228      331212           296.4472       1.0074                         1.23  \n",
       "231      527968            63.8232       1.0217                         0.42  \n",
       "232      752612            26.5976       1.0280                         0.25  \n",
       "233      390757            41.7665       1.0204                         0.20  \n",
       "\n",
       "[93 rows x 17 columns]"
      ]
     },
     "execution_count": 14,
     "metadata": {},
     "output_type": "execute_result"
    }
   ],
   "source": [
    "df[df[\"2022 Population\"]>10000000]"
   ]
  },
  {
   "cell_type": "markdown",
   "id": "02f10e07",
   "metadata": {},
   "source": [
    "Shows the value of the second given column but only for those entries for which the condition is true"
   ]
  },
  {
   "cell_type": "code",
   "execution_count": 13,
   "id": "8fb79cd1",
   "metadata": {},
   "outputs": [
    {
     "data": {
      "text/plain": [
       "0      1.0257\n",
       "2      1.0164\n",
       "5      1.0315\n",
       "8      1.0052\n",
       "11     1.0099\n",
       "        ...  \n",
       "227    1.0036\n",
       "228    1.0074\n",
       "231    1.0217\n",
       "232    1.0280\n",
       "233    1.0204\n",
       "Name: Growth Rate, Length: 93, dtype: float64"
      ]
     },
     "execution_count": 13,
     "metadata": {},
     "output_type": "execute_result"
    }
   ],
   "source": [
    "df[df[\"2022 Population\"]>10000000]['Growth Rate']"
   ]
  },
  {
   "cell_type": "code",
   "execution_count": 16,
   "id": "bf5475f0",
   "metadata": {},
   "outputs": [
    {
     "data": {
      "text/plain": [
       "99    0.9966\n",
       "Name: Growth Rate, dtype: float64"
      ]
     },
     "execution_count": 16,
     "metadata": {},
     "output_type": "execute_result"
    }
   ],
   "source": [
    "df[df['Country/Territory']=='Italy']['Growth Rate']"
   ]
  },
  {
   "cell_type": "markdown",
   "id": "a8531732",
   "metadata": {},
   "source": [
    "Creating a smaller dataframe which only contains countries with population above a threshold."
   ]
  },
  {
   "cell_type": "code",
   "execution_count": 267,
   "id": "f47e5461",
   "metadata": {},
   "outputs": [
    {
     "data": {
      "text/html": [
       "<div>\n",
       "<style scoped>\n",
       "    .dataframe tbody tr th:only-of-type {\n",
       "        vertical-align: middle;\n",
       "    }\n",
       "\n",
       "    .dataframe tbody tr th {\n",
       "        vertical-align: top;\n",
       "    }\n",
       "\n",
       "    .dataframe thead th {\n",
       "        text-align: right;\n",
       "    }\n",
       "</style>\n",
       "<table border=\"1\" class=\"dataframe\">\n",
       "  <thead>\n",
       "    <tr style=\"text-align: right;\">\n",
       "      <th></th>\n",
       "      <th>Rank</th>\n",
       "      <th>CCA3</th>\n",
       "      <th>Country/Territory</th>\n",
       "      <th>Capital</th>\n",
       "      <th>Continent</th>\n",
       "      <th>2022 Population</th>\n",
       "      <th>2020 Population</th>\n",
       "      <th>2015 Population</th>\n",
       "      <th>2010 Population</th>\n",
       "      <th>2000 Population</th>\n",
       "      <th>1990 Population</th>\n",
       "      <th>1980 Population</th>\n",
       "      <th>1970 Population</th>\n",
       "      <th>Area (km²)</th>\n",
       "      <th>Density (per km²)</th>\n",
       "      <th>Growth Rate</th>\n",
       "      <th>World Population Percentage</th>\n",
       "    </tr>\n",
       "  </thead>\n",
       "  <tbody>\n",
       "    <tr>\n",
       "      <th>27</th>\n",
       "      <td>7</td>\n",
       "      <td>BRA</td>\n",
       "      <td>Brazil</td>\n",
       "      <td>Brasilia</td>\n",
       "      <td>South America</td>\n",
       "      <td>215313498</td>\n",
       "      <td>213196304</td>\n",
       "      <td>205188205</td>\n",
       "      <td>196353492</td>\n",
       "      <td>175873720</td>\n",
       "      <td>150706446</td>\n",
       "      <td>122288383</td>\n",
       "      <td>96369875</td>\n",
       "      <td>8515767</td>\n",
       "      <td>25.2841</td>\n",
       "      <td>1.0046</td>\n",
       "      <td>2.70</td>\n",
       "    </tr>\n",
       "    <tr>\n",
       "      <th>41</th>\n",
       "      <td>1</td>\n",
       "      <td>CHN</td>\n",
       "      <td>China</td>\n",
       "      <td>Beijing</td>\n",
       "      <td>Asia</td>\n",
       "      <td>1425887337</td>\n",
       "      <td>1424929781</td>\n",
       "      <td>1393715448</td>\n",
       "      <td>1348191368</td>\n",
       "      <td>1264099069</td>\n",
       "      <td>1153704252</td>\n",
       "      <td>982372466</td>\n",
       "      <td>822534450</td>\n",
       "      <td>9706961</td>\n",
       "      <td>146.8933</td>\n",
       "      <td>1.0000</td>\n",
       "      <td>17.88</td>\n",
       "    </tr>\n",
       "    <tr>\n",
       "      <th>92</th>\n",
       "      <td>2</td>\n",
       "      <td>IND</td>\n",
       "      <td>India</td>\n",
       "      <td>New Delhi</td>\n",
       "      <td>Asia</td>\n",
       "      <td>1417173173</td>\n",
       "      <td>1396387127</td>\n",
       "      <td>1322866505</td>\n",
       "      <td>1240613620</td>\n",
       "      <td>1059633675</td>\n",
       "      <td>870452165</td>\n",
       "      <td>696828385</td>\n",
       "      <td>557501301</td>\n",
       "      <td>3287590</td>\n",
       "      <td>431.0675</td>\n",
       "      <td>1.0068</td>\n",
       "      <td>17.77</td>\n",
       "    </tr>\n",
       "    <tr>\n",
       "      <th>93</th>\n",
       "      <td>4</td>\n",
       "      <td>IDN</td>\n",
       "      <td>Indonesia</td>\n",
       "      <td>Jakarta</td>\n",
       "      <td>Asia</td>\n",
       "      <td>275501339</td>\n",
       "      <td>271857970</td>\n",
       "      <td>259091970</td>\n",
       "      <td>244016173</td>\n",
       "      <td>214072421</td>\n",
       "      <td>182159874</td>\n",
       "      <td>148177096</td>\n",
       "      <td>115228394</td>\n",
       "      <td>1904569</td>\n",
       "      <td>144.6529</td>\n",
       "      <td>1.0064</td>\n",
       "      <td>3.45</td>\n",
       "    </tr>\n",
       "    <tr>\n",
       "      <th>149</th>\n",
       "      <td>6</td>\n",
       "      <td>NGA</td>\n",
       "      <td>Nigeria</td>\n",
       "      <td>Abuja</td>\n",
       "      <td>Africa</td>\n",
       "      <td>218541212</td>\n",
       "      <td>208327405</td>\n",
       "      <td>183995785</td>\n",
       "      <td>160952853</td>\n",
       "      <td>122851984</td>\n",
       "      <td>95214257</td>\n",
       "      <td>72951439</td>\n",
       "      <td>55569264</td>\n",
       "      <td>923768</td>\n",
       "      <td>236.5759</td>\n",
       "      <td>1.0241</td>\n",
       "      <td>2.74</td>\n",
       "    </tr>\n",
       "    <tr>\n",
       "      <th>156</th>\n",
       "      <td>5</td>\n",
       "      <td>PAK</td>\n",
       "      <td>Pakistan</td>\n",
       "      <td>Islamabad</td>\n",
       "      <td>Asia</td>\n",
       "      <td>235824862</td>\n",
       "      <td>227196741</td>\n",
       "      <td>210969298</td>\n",
       "      <td>194454498</td>\n",
       "      <td>154369924</td>\n",
       "      <td>115414069</td>\n",
       "      <td>80624057</td>\n",
       "      <td>59290872</td>\n",
       "      <td>881912</td>\n",
       "      <td>267.4018</td>\n",
       "      <td>1.0191</td>\n",
       "      <td>2.96</td>\n",
       "    </tr>\n",
       "    <tr>\n",
       "      <th>221</th>\n",
       "      <td>3</td>\n",
       "      <td>USA</td>\n",
       "      <td>United States</td>\n",
       "      <td>Washington, D.C.</td>\n",
       "      <td>North America</td>\n",
       "      <td>338289857</td>\n",
       "      <td>335942003</td>\n",
       "      <td>324607776</td>\n",
       "      <td>311182845</td>\n",
       "      <td>282398554</td>\n",
       "      <td>248083732</td>\n",
       "      <td>223140018</td>\n",
       "      <td>200328340</td>\n",
       "      <td>9372610</td>\n",
       "      <td>36.0935</td>\n",
       "      <td>1.0038</td>\n",
       "      <td>4.24</td>\n",
       "    </tr>\n",
       "  </tbody>\n",
       "</table>\n",
       "</div>"
      ],
      "text/plain": [
       "     Rank CCA3 Country/Territory           Capital      Continent  \\\n",
       "27      7  BRA            Brazil          Brasilia  South America   \n",
       "41      1  CHN             China           Beijing           Asia   \n",
       "92      2  IND             India         New Delhi           Asia   \n",
       "93      4  IDN         Indonesia           Jakarta           Asia   \n",
       "149     6  NGA           Nigeria             Abuja         Africa   \n",
       "156     5  PAK          Pakistan         Islamabad           Asia   \n",
       "221     3  USA     United States  Washington, D.C.  North America   \n",
       "\n",
       "     2022 Population  2020 Population  2015 Population  2010 Population  \\\n",
       "27         215313498        213196304        205188205        196353492   \n",
       "41        1425887337       1424929781       1393715448       1348191368   \n",
       "92        1417173173       1396387127       1322866505       1240613620   \n",
       "93         275501339        271857970        259091970        244016173   \n",
       "149        218541212        208327405        183995785        160952853   \n",
       "156        235824862        227196741        210969298        194454498   \n",
       "221        338289857        335942003        324607776        311182845   \n",
       "\n",
       "     2000 Population  1990 Population  1980 Population  1970 Population  \\\n",
       "27         175873720        150706446        122288383         96369875   \n",
       "41        1264099069       1153704252        982372466        822534450   \n",
       "92        1059633675        870452165        696828385        557501301   \n",
       "93         214072421        182159874        148177096        115228394   \n",
       "149        122851984         95214257         72951439         55569264   \n",
       "156        154369924        115414069         80624057         59290872   \n",
       "221        282398554        248083732        223140018        200328340   \n",
       "\n",
       "     Area (km²)  Density (per km²)  Growth Rate  World Population Percentage  \n",
       "27      8515767            25.2841       1.0046                         2.70  \n",
       "41      9706961           146.8933       1.0000                        17.88  \n",
       "92      3287590           431.0675       1.0068                        17.77  \n",
       "93      1904569           144.6529       1.0064                         3.45  \n",
       "149      923768           236.5759       1.0241                         2.74  \n",
       "156      881912           267.4018       1.0191                         2.96  \n",
       "221     9372610            36.0935       1.0038                         4.24  "
      ]
     },
     "execution_count": 267,
     "metadata": {},
     "output_type": "execute_result"
    }
   ],
   "source": [
    "dfCrowded=df[df['2022 Population']>200000000];\n",
    "dfCrowded"
   ]
  },
  {
   "cell_type": "markdown",
   "id": "98b816a0",
   "metadata": {},
   "source": [
    "Scatter plot of the population of the most crowded country with their growth rate in the colour scale."
   ]
  },
  {
   "cell_type": "code",
   "execution_count": 137,
   "id": "de33bda9",
   "metadata": {},
   "outputs": [
    {
     "data": {
      "text/plain": [
       "<AxesSubplot: xlabel='2010 Population', ylabel='Country/Territory'>"
      ]
     },
     "execution_count": 137,
     "metadata": {},
     "output_type": "execute_result"
    },
    {
     "data": {
      "image/png": "[encoded data removed]",
      "text/plain": [
       "<Figure size 640x480 with 2 Axes>"
      ]
     },
     "metadata": {},
     "output_type": "display_data"
    }
   ],
   "source": [
    "dfCrowded.plot.scatter(x='2010 Population',y='Country/Territory', c='Growth Rate' )"
   ]
  },
  {
   "cell_type": "markdown",
   "id": "0842ae40",
   "metadata": {},
   "source": [
    "Observe the change in population of a single country. In order to plot it we isolate the row of interest and we turn it into a column."
   ]
  },
  {
   "cell_type": "code",
   "execution_count": 260,
   "id": "c53d5341",
   "metadata": {},
   "outputs": [],
   "source": [
    "#select the only the India row and only the population columns\n",
    "population_of_India=(df[df['Country/Territory']=='India']).iloc[:,5:13]\n",
    "#turn row into column\n",
    "population_of_India=population_of_India.T\n",
    "#reverse order of column\n",
    "population_of_India=population_of_India[::-1]"
   ]
  },
  {
   "cell_type": "code",
   "execution_count": 262,
   "id": "9576a391",
   "metadata": {},
   "outputs": [
    {
     "data": {
      "text/html": [
       "<div>\n",
       "<style scoped>\n",
       "    .dataframe tbody tr th:only-of-type {\n",
       "        vertical-align: middle;\n",
       "    }\n",
       "\n",
       "    .dataframe tbody tr th {\n",
       "        vertical-align: top;\n",
       "    }\n",
       "\n",
       "    .dataframe thead th {\n",
       "        text-align: right;\n",
       "    }\n",
       "</style>\n",
       "<table border=\"1\" class=\"dataframe\">\n",
       "  <thead>\n",
       "    <tr style=\"text-align: right;\">\n",
       "      <th></th>\n",
       "      <th>92</th>\n",
       "      <th>Year</th>\n",
       "    </tr>\n",
       "  </thead>\n",
       "  <tbody>\n",
       "    <tr>\n",
       "      <th>1970 Population</th>\n",
       "      <td>557501301</td>\n",
       "      <td>1970</td>\n",
       "    </tr>\n",
       "    <tr>\n",
       "      <th>1980 Population</th>\n",
       "      <td>696828385</td>\n",
       "      <td>1980</td>\n",
       "    </tr>\n",
       "    <tr>\n",
       "      <th>1990 Population</th>\n",
       "      <td>870452165</td>\n",
       "      <td>1990</td>\n",
       "    </tr>\n",
       "    <tr>\n",
       "      <th>2000 Population</th>\n",
       "      <td>1059633675</td>\n",
       "      <td>2000</td>\n",
       "    </tr>\n",
       "    <tr>\n",
       "      <th>2010 Population</th>\n",
       "      <td>1240613620</td>\n",
       "      <td>2010</td>\n",
       "    </tr>\n",
       "    <tr>\n",
       "      <th>2015 Population</th>\n",
       "      <td>1322866505</td>\n",
       "      <td>2015</td>\n",
       "    </tr>\n",
       "    <tr>\n",
       "      <th>2020 Population</th>\n",
       "      <td>1396387127</td>\n",
       "      <td>2020</td>\n",
       "    </tr>\n",
       "    <tr>\n",
       "      <th>2022 Population</th>\n",
       "      <td>1417173173</td>\n",
       "      <td>2022</td>\n",
       "    </tr>\n",
       "  </tbody>\n",
       "</table>\n",
       "</div>"
      ],
      "text/plain": [
       "                         92  Year\n",
       "1970 Population   557501301  1970\n",
       "1980 Population   696828385  1980\n",
       "1990 Population   870452165  1990\n",
       "2000 Population  1059633675  2000\n",
       "2010 Population  1240613620  2010\n",
       "2015 Population  1322866505  2015\n",
       "2020 Population  1396387127  2020\n",
       "2022 Population  1417173173  2022"
      ]
     },
     "execution_count": 262,
     "metadata": {},
     "output_type": "execute_result"
    }
   ],
   "source": [
    "#add a column which has years as variables\n",
    "population_of_India['Year']=[1970,1980,1990,2000,2010,2015,2020,2022]\n",
    "population_of_India"
   ]
  },
  {
   "cell_type": "code",
   "execution_count": 264,
   "id": "6babd481",
   "metadata": {},
   "outputs": [
    {
     "data": {
      "text/plain": [
       "<matplotlib.legend.Legend at 0x7f2c5c9b0430>"
      ]
     },
     "execution_count": 264,
     "metadata": {},
     "output_type": "execute_result"
    },
    {
     "data": {
      "image/png": "[encoded data removed]",
      "text/plain": [
       "<Figure size 640x480 with 1 Axes>"
      ]
     },
     "metadata": {},
     "output_type": "display_data"
    }
   ],
   "source": [
    "#population_of_India.plot()\n",
    "plt.plot(np.array(population_of_India['Year']),np.array(population_of_India[92]))\n",
    "plt.legend(df[df['Country/Territory']=='India']['Country/Territory'])"
   ]
  },
  {
   "cell_type": "code",
   "execution_count": 276,
   "id": "9ae03d8c",
   "metadata": {},
   "outputs": [],
   "source": [
    "#select the only the India row and only the population columns\n",
    "population_of_Italy=(df[df['Country/Territory']=='Italy']).iloc[:,5:13]\n",
    "#turn row into column\n",
    "population_of_Italy=population_of_Italy.T\n",
    "#reverse order of column\n",
    "population_of_Italy=population_of_Italy[::-1]"
   ]
  },
  {
   "cell_type": "code",
   "execution_count": 279,
   "id": "d0391ba7",
   "metadata": {},
   "outputs": [
    {
     "data": {
      "text/html": [
       "<div>\n",
       "<style scoped>\n",
       "    .dataframe tbody tr th:only-of-type {\n",
       "        vertical-align: middle;\n",
       "    }\n",
       "\n",
       "    .dataframe tbody tr th {\n",
       "        vertical-align: top;\n",
       "    }\n",
       "\n",
       "    .dataframe thead th {\n",
       "        text-align: right;\n",
       "    }\n",
       "</style>\n",
       "<table border=\"1\" class=\"dataframe\">\n",
       "  <thead>\n",
       "    <tr style=\"text-align: right;\">\n",
       "      <th></th>\n",
       "      <th>99</th>\n",
       "      <th>Year</th>\n",
       "    </tr>\n",
       "  </thead>\n",
       "  <tbody>\n",
       "    <tr>\n",
       "      <th>1970 Population</th>\n",
       "      <td>53324036</td>\n",
       "      <td>1970</td>\n",
       "    </tr>\n",
       "    <tr>\n",
       "      <th>1980 Population</th>\n",
       "      <td>56329482</td>\n",
       "      <td>1980</td>\n",
       "    </tr>\n",
       "    <tr>\n",
       "      <th>1990 Population</th>\n",
       "      <td>56756561</td>\n",
       "      <td>1990</td>\n",
       "    </tr>\n",
       "    <tr>\n",
       "      <th>2000 Population</th>\n",
       "      <td>56966397</td>\n",
       "      <td>2000</td>\n",
       "    </tr>\n",
       "    <tr>\n",
       "      <th>2010 Population</th>\n",
       "      <td>59822450</td>\n",
       "      <td>2010</td>\n",
       "    </tr>\n",
       "    <tr>\n",
       "      <th>2015 Population</th>\n",
       "      <td>60232906</td>\n",
       "      <td>2015</td>\n",
       "    </tr>\n",
       "    <tr>\n",
       "      <th>2020 Population</th>\n",
       "      <td>59500579</td>\n",
       "      <td>2020</td>\n",
       "    </tr>\n",
       "    <tr>\n",
       "      <th>2022 Population</th>\n",
       "      <td>59037474</td>\n",
       "      <td>2022</td>\n",
       "    </tr>\n",
       "  </tbody>\n",
       "</table>\n",
       "</div>"
      ],
      "text/plain": [
       "                       99  Year\n",
       "1970 Population  53324036  1970\n",
       "1980 Population  56329482  1980\n",
       "1990 Population  56756561  1990\n",
       "2000 Population  56966397  2000\n",
       "2010 Population  59822450  2010\n",
       "2015 Population  60232906  2015\n",
       "2020 Population  59500579  2020\n",
       "2022 Population  59037474  2022"
      ]
     },
     "execution_count": 279,
     "metadata": {},
     "output_type": "execute_result"
    }
   ],
   "source": [
    "#add a column which has years as variables\n",
    "population_of_Italy['Year']=[1970,1980,1990,2000,2010,2015,2020,2022]\n",
    "population_of_Italy"
   ]
  },
  {
   "cell_type": "code",
   "execution_count": 280,
   "id": "857778d4",
   "metadata": {},
   "outputs": [
    {
     "data": {
      "text/plain": [
       "<matplotlib.legend.Legend at 0x7f2c5c6e5e50>"
      ]
     },
     "execution_count": 280,
     "metadata": {},
     "output_type": "execute_result"
    },
    {
     "data": {
      "image/png": "[encoded data removed]",
      "text/plain": [
       "<Figure size 640x480 with 1 Axes>"
      ]
     },
     "metadata": {},
     "output_type": "display_data"
    }
   ],
   "source": [
    "#population_of_India.plot()\n",
    "plt.plot(np.array(population_of_Italy['Year']),np.array(population_of_Italy[99]))\n",
    "plt.legend(df[df['Country/Territory']=='Italy']['Country/Territory'])"
   ]
  },
  {
   "cell_type": "markdown",
   "id": "d4f5bb70",
   "metadata": {},
   "source": [
    "We do the same for all the most populous countries."
   ]
  },
  {
   "cell_type": "code",
   "execution_count": 158,
   "id": "22433109",
   "metadata": {},
   "outputs": [
    {
     "data": {
      "text/plain": [
       "27            Brazil\n",
       "41             China\n",
       "92             India\n",
       "93         Indonesia\n",
       "149          Nigeria\n",
       "156         Pakistan\n",
       "221    United States\n",
       "Name: Country/Territory, dtype: object"
      ]
     },
     "execution_count": 158,
     "metadata": {},
     "output_type": "execute_result"
    }
   ],
   "source": [
    "dfCrowded['Country/Territory']"
   ]
  },
  {
   "cell_type": "code",
   "execution_count": 270,
   "id": "76faffd6",
   "metadata": {},
   "outputs": [],
   "source": [
    "df_crowded_smaller=dfCrowded[dfCrowded.iloc[:,5:13].columns[::-1]].T\n",
    "df_crowded_smaller['Year']=[1970,1980,1990,2000,2010,2015,2020,2022]"
   ]
  },
  {
   "cell_type": "code",
   "execution_count": 271,
   "id": "d045e8a8",
   "metadata": {},
   "outputs": [
    {
     "data": {
      "text/html": [
       "<div>\n",
       "<style scoped>\n",
       "    .dataframe tbody tr th:only-of-type {\n",
       "        vertical-align: middle;\n",
       "    }\n",
       "\n",
       "    .dataframe tbody tr th {\n",
       "        vertical-align: top;\n",
       "    }\n",
       "\n",
       "    .dataframe thead th {\n",
       "        text-align: right;\n",
       "    }\n",
       "</style>\n",
       "<table border=\"1\" class=\"dataframe\">\n",
       "  <thead>\n",
       "    <tr style=\"text-align: right;\">\n",
       "      <th></th>\n",
       "      <th>27</th>\n",
       "      <th>41</th>\n",
       "      <th>92</th>\n",
       "      <th>93</th>\n",
       "      <th>149</th>\n",
       "      <th>156</th>\n",
       "      <th>221</th>\n",
       "      <th>Year</th>\n",
       "    </tr>\n",
       "  </thead>\n",
       "  <tbody>\n",
       "    <tr>\n",
       "      <th>1970 Population</th>\n",
       "      <td>96369875</td>\n",
       "      <td>822534450</td>\n",
       "      <td>557501301</td>\n",
       "      <td>115228394</td>\n",
       "      <td>55569264</td>\n",
       "      <td>59290872</td>\n",
       "      <td>200328340</td>\n",
       "      <td>1970</td>\n",
       "    </tr>\n",
       "    <tr>\n",
       "      <th>1980 Population</th>\n",
       "      <td>122288383</td>\n",
       "      <td>982372466</td>\n",
       "      <td>696828385</td>\n",
       "      <td>148177096</td>\n",
       "      <td>72951439</td>\n",
       "      <td>80624057</td>\n",
       "      <td>223140018</td>\n",
       "      <td>1980</td>\n",
       "    </tr>\n",
       "    <tr>\n",
       "      <th>1990 Population</th>\n",
       "      <td>150706446</td>\n",
       "      <td>1153704252</td>\n",
       "      <td>870452165</td>\n",
       "      <td>182159874</td>\n",
       "      <td>95214257</td>\n",
       "      <td>115414069</td>\n",
       "      <td>248083732</td>\n",
       "      <td>1990</td>\n",
       "    </tr>\n",
       "    <tr>\n",
       "      <th>2000 Population</th>\n",
       "      <td>175873720</td>\n",
       "      <td>1264099069</td>\n",
       "      <td>1059633675</td>\n",
       "      <td>214072421</td>\n",
       "      <td>122851984</td>\n",
       "      <td>154369924</td>\n",
       "      <td>282398554</td>\n",
       "      <td>2000</td>\n",
       "    </tr>\n",
       "    <tr>\n",
       "      <th>2010 Population</th>\n",
       "      <td>196353492</td>\n",
       "      <td>1348191368</td>\n",
       "      <td>1240613620</td>\n",
       "      <td>244016173</td>\n",
       "      <td>160952853</td>\n",
       "      <td>194454498</td>\n",
       "      <td>311182845</td>\n",
       "      <td>2010</td>\n",
       "    </tr>\n",
       "    <tr>\n",
       "      <th>2015 Population</th>\n",
       "      <td>205188205</td>\n",
       "      <td>1393715448</td>\n",
       "      <td>1322866505</td>\n",
       "      <td>259091970</td>\n",
       "      <td>183995785</td>\n",
       "      <td>210969298</td>\n",
       "      <td>324607776</td>\n",
       "      <td>2015</td>\n",
       "    </tr>\n",
       "    <tr>\n",
       "      <th>2020 Population</th>\n",
       "      <td>213196304</td>\n",
       "      <td>1424929781</td>\n",
       "      <td>1396387127</td>\n",
       "      <td>271857970</td>\n",
       "      <td>208327405</td>\n",
       "      <td>227196741</td>\n",
       "      <td>335942003</td>\n",
       "      <td>2020</td>\n",
       "    </tr>\n",
       "    <tr>\n",
       "      <th>2022 Population</th>\n",
       "      <td>215313498</td>\n",
       "      <td>1425887337</td>\n",
       "      <td>1417173173</td>\n",
       "      <td>275501339</td>\n",
       "      <td>218541212</td>\n",
       "      <td>235824862</td>\n",
       "      <td>338289857</td>\n",
       "      <td>2022</td>\n",
       "    </tr>\n",
       "  </tbody>\n",
       "</table>\n",
       "</div>"
      ],
      "text/plain": [
       "                        27          41          92         93        149  \\\n",
       "1970 Population   96369875   822534450   557501301  115228394   55569264   \n",
       "1980 Population  122288383   982372466   696828385  148177096   72951439   \n",
       "1990 Population  150706446  1153704252   870452165  182159874   95214257   \n",
       "2000 Population  175873720  1264099069  1059633675  214072421  122851984   \n",
       "2010 Population  196353492  1348191368  1240613620  244016173  160952853   \n",
       "2015 Population  205188205  1393715448  1322866505  259091970  183995785   \n",
       "2020 Population  213196304  1424929781  1396387127  271857970  208327405   \n",
       "2022 Population  215313498  1425887337  1417173173  275501339  218541212   \n",
       "\n",
       "                       156        221  Year  \n",
       "1970 Population   59290872  200328340  1970  \n",
       "1980 Population   80624057  223140018  1980  \n",
       "1990 Population  115414069  248083732  1990  \n",
       "2000 Population  154369924  282398554  2000  \n",
       "2010 Population  194454498  311182845  2010  \n",
       "2015 Population  210969298  324607776  2015  \n",
       "2020 Population  227196741  335942003  2020  \n",
       "2022 Population  235824862  338289857  2022  "
      ]
     },
     "execution_count": 271,
     "metadata": {},
     "output_type": "execute_result"
    }
   ],
   "source": [
    "df_crowded_smaller"
   ]
  },
  {
   "cell_type": "code",
   "execution_count": 317,
   "id": "635dc817",
   "metadata": {},
   "outputs": [
    {
     "data": {
      "text/plain": [
       "<matplotlib.legend.Legend at 0x7f2c5b7d97c0>"
      ]
     },
     "execution_count": 317,
     "metadata": {},
     "output_type": "execute_result"
    },
    {
     "data": {
      "image/png": "[encoded data removed]",
      "text/plain": [
       "<Figure size 640x480 with 1 Axes>"
      ]
     },
     "metadata": {},
     "output_type": "display_data"
    }
   ],
   "source": [
    "categ=[27,41,92,93,149,156,221]\n",
    "for i in categ:\n",
    "    plt.plot(np.array(df_crowded_smaller['Year']),\n",
    "    np.array(df_crowded_smaller[i]))\n",
    "    \n",
    "#df_crowded_smaller.plot()\n",
    "plt.legend(dfCrowded['Country/Territory'])"
   ]
  },
  {
   "cell_type": "code",
   "execution_count": 151,
   "id": "b108d8f6",
   "metadata": {},
   "outputs": [
    {
     "data": {
      "text/html": [
       "<div>\n",
       "<style scoped>\n",
       "    .dataframe tbody tr th:only-of-type {\n",
       "        vertical-align: middle;\n",
       "    }\n",
       "\n",
       "    .dataframe tbody tr th {\n",
       "        vertical-align: top;\n",
       "    }\n",
       "\n",
       "    .dataframe thead th {\n",
       "        text-align: right;\n",
       "    }\n",
       "</style>\n",
       "<table border=\"1\" class=\"dataframe\">\n",
       "  <thead>\n",
       "    <tr style=\"text-align: right;\">\n",
       "      <th></th>\n",
       "      <th>Rank</th>\n",
       "      <th>CCA3</th>\n",
       "      <th>Country/Territory</th>\n",
       "      <th>Capital</th>\n",
       "      <th>Continent</th>\n",
       "      <th>2022 Population</th>\n",
       "      <th>2020 Population</th>\n",
       "      <th>2015 Population</th>\n",
       "      <th>2010 Population</th>\n",
       "      <th>2000 Population</th>\n",
       "      <th>1990 Population</th>\n",
       "      <th>1980 Population</th>\n",
       "      <th>1970 Population</th>\n",
       "      <th>Area (km²)</th>\n",
       "      <th>Density (per km²)</th>\n",
       "      <th>Growth Rate</th>\n",
       "      <th>World Population Percentage</th>\n",
       "    </tr>\n",
       "  </thead>\n",
       "  <tbody>\n",
       "    <tr>\n",
       "      <th>27</th>\n",
       "      <td>7</td>\n",
       "      <td>BRA</td>\n",
       "      <td>Brazil</td>\n",
       "      <td>Brasilia</td>\n",
       "      <td>South America</td>\n",
       "      <td>215313498</td>\n",
       "      <td>213196304</td>\n",
       "      <td>205188205</td>\n",
       "      <td>196353492</td>\n",
       "      <td>175873720</td>\n",
       "      <td>150706446</td>\n",
       "      <td>122288383</td>\n",
       "      <td>96369875</td>\n",
       "      <td>8515767</td>\n",
       "      <td>25.2841</td>\n",
       "      <td>1.0046</td>\n",
       "      <td>2.70</td>\n",
       "    </tr>\n",
       "    <tr>\n",
       "      <th>41</th>\n",
       "      <td>1</td>\n",
       "      <td>CHN</td>\n",
       "      <td>China</td>\n",
       "      <td>Beijing</td>\n",
       "      <td>Asia</td>\n",
       "      <td>1425887337</td>\n",
       "      <td>1424929781</td>\n",
       "      <td>1393715448</td>\n",
       "      <td>1348191368</td>\n",
       "      <td>1264099069</td>\n",
       "      <td>1153704252</td>\n",
       "      <td>982372466</td>\n",
       "      <td>822534450</td>\n",
       "      <td>9706961</td>\n",
       "      <td>146.8933</td>\n",
       "      <td>1.0000</td>\n",
       "      <td>17.88</td>\n",
       "    </tr>\n",
       "    <tr>\n",
       "      <th>92</th>\n",
       "      <td>2</td>\n",
       "      <td>IND</td>\n",
       "      <td>India</td>\n",
       "      <td>New Delhi</td>\n",
       "      <td>Asia</td>\n",
       "      <td>1417173173</td>\n",
       "      <td>1396387127</td>\n",
       "      <td>1322866505</td>\n",
       "      <td>1240613620</td>\n",
       "      <td>1059633675</td>\n",
       "      <td>870452165</td>\n",
       "      <td>696828385</td>\n",
       "      <td>557501301</td>\n",
       "      <td>3287590</td>\n",
       "      <td>431.0675</td>\n",
       "      <td>1.0068</td>\n",
       "      <td>17.77</td>\n",
       "    </tr>\n",
       "    <tr>\n",
       "      <th>93</th>\n",
       "      <td>4</td>\n",
       "      <td>IDN</td>\n",
       "      <td>Indonesia</td>\n",
       "      <td>Jakarta</td>\n",
       "      <td>Asia</td>\n",
       "      <td>275501339</td>\n",
       "      <td>271857970</td>\n",
       "      <td>259091970</td>\n",
       "      <td>244016173</td>\n",
       "      <td>214072421</td>\n",
       "      <td>182159874</td>\n",
       "      <td>148177096</td>\n",
       "      <td>115228394</td>\n",
       "      <td>1904569</td>\n",
       "      <td>144.6529</td>\n",
       "      <td>1.0064</td>\n",
       "      <td>3.45</td>\n",
       "    </tr>\n",
       "    <tr>\n",
       "      <th>149</th>\n",
       "      <td>6</td>\n",
       "      <td>NGA</td>\n",
       "      <td>Nigeria</td>\n",
       "      <td>Abuja</td>\n",
       "      <td>Africa</td>\n",
       "      <td>218541212</td>\n",
       "      <td>208327405</td>\n",
       "      <td>183995785</td>\n",
       "      <td>160952853</td>\n",
       "      <td>122851984</td>\n",
       "      <td>95214257</td>\n",
       "      <td>72951439</td>\n",
       "      <td>55569264</td>\n",
       "      <td>923768</td>\n",
       "      <td>236.5759</td>\n",
       "      <td>1.0241</td>\n",
       "      <td>2.74</td>\n",
       "    </tr>\n",
       "    <tr>\n",
       "      <th>156</th>\n",
       "      <td>5</td>\n",
       "      <td>PAK</td>\n",
       "      <td>Pakistan</td>\n",
       "      <td>Islamabad</td>\n",
       "      <td>Asia</td>\n",
       "      <td>235824862</td>\n",
       "      <td>227196741</td>\n",
       "      <td>210969298</td>\n",
       "      <td>194454498</td>\n",
       "      <td>154369924</td>\n",
       "      <td>115414069</td>\n",
       "      <td>80624057</td>\n",
       "      <td>59290872</td>\n",
       "      <td>881912</td>\n",
       "      <td>267.4018</td>\n",
       "      <td>1.0191</td>\n",
       "      <td>2.96</td>\n",
       "    </tr>\n",
       "    <tr>\n",
       "      <th>221</th>\n",
       "      <td>3</td>\n",
       "      <td>USA</td>\n",
       "      <td>United States</td>\n",
       "      <td>Washington, D.C.</td>\n",
       "      <td>North America</td>\n",
       "      <td>338289857</td>\n",
       "      <td>335942003</td>\n",
       "      <td>324607776</td>\n",
       "      <td>311182845</td>\n",
       "      <td>282398554</td>\n",
       "      <td>248083732</td>\n",
       "      <td>223140018</td>\n",
       "      <td>200328340</td>\n",
       "      <td>9372610</td>\n",
       "      <td>36.0935</td>\n",
       "      <td>1.0038</td>\n",
       "      <td>4.24</td>\n",
       "    </tr>\n",
       "  </tbody>\n",
       "</table>\n",
       "</div>"
      ],
      "text/plain": [
       "     Rank CCA3 Country/Territory           Capital      Continent  \\\n",
       "27      7  BRA            Brazil          Brasilia  South America   \n",
       "41      1  CHN             China           Beijing           Asia   \n",
       "92      2  IND             India         New Delhi           Asia   \n",
       "93      4  IDN         Indonesia           Jakarta           Asia   \n",
       "149     6  NGA           Nigeria             Abuja         Africa   \n",
       "156     5  PAK          Pakistan         Islamabad           Asia   \n",
       "221     3  USA     United States  Washington, D.C.  North America   \n",
       "\n",
       "     2022 Population  2020 Population  2015 Population  2010 Population  \\\n",
       "27         215313498        213196304        205188205        196353492   \n",
       "41        1425887337       1424929781       1393715448       1348191368   \n",
       "92        1417173173       1396387127       1322866505       1240613620   \n",
       "93         275501339        271857970        259091970        244016173   \n",
       "149        218541212        208327405        183995785        160952853   \n",
       "156        235824862        227196741        210969298        194454498   \n",
       "221        338289857        335942003        324607776        311182845   \n",
       "\n",
       "     2000 Population  1990 Population  1980 Population  1970 Population  \\\n",
       "27         175873720        150706446        122288383         96369875   \n",
       "41        1264099069       1153704252        982372466        822534450   \n",
       "92        1059633675        870452165        696828385        557501301   \n",
       "93         214072421        182159874        148177096        115228394   \n",
       "149        122851984         95214257         72951439         55569264   \n",
       "156        154369924        115414069         80624057         59290872   \n",
       "221        282398554        248083732        223140018        200328340   \n",
       "\n",
       "     Area (km²)  Density (per km²)  Growth Rate  World Population Percentage  \n",
       "27      8515767            25.2841       1.0046                         2.70  \n",
       "41      9706961           146.8933       1.0000                        17.88  \n",
       "92      3287590           431.0675       1.0068                        17.77  \n",
       "93      1904569           144.6529       1.0064                         3.45  \n",
       "149      923768           236.5759       1.0241                         2.74  \n",
       "156      881912           267.4018       1.0191                         2.96  \n",
       "221     9372610            36.0935       1.0038                         4.24  "
      ]
     },
     "execution_count": 151,
     "metadata": {},
     "output_type": "execute_result"
    }
   ],
   "source": [
    "dfCrowded"
   ]
  },
  {
   "cell_type": "code",
   "execution_count": 153,
   "id": "a2dac574",
   "metadata": {},
   "outputs": [
    {
     "data": {
      "text/plain": [
       "2022 Population    218541212\n",
       "2020 Population    208327405\n",
       "2015 Population    183995785\n",
       "2010 Population    160952853\n",
       "2000 Population    122851984\n",
       "1990 Population     95214257\n",
       "1980 Population     72951439\n",
       "1970 Population     55569264\n",
       "Name: 149, dtype: object"
      ]
     },
     "execution_count": 153,
     "metadata": {},
     "output_type": "execute_result"
    }
   ],
   "source": [
    "dfCrowded.iloc[4,5:13]"
   ]
  },
  {
   "cell_type": "code",
   "execution_count": 129,
   "id": "909d8ee6",
   "metadata": {},
   "outputs": [
    {
     "data": {
      "text/html": [
       "<div>\n",
       "<style scoped>\n",
       "    .dataframe tbody tr th:only-of-type {\n",
       "        vertical-align: middle;\n",
       "    }\n",
       "\n",
       "    .dataframe tbody tr th {\n",
       "        vertical-align: top;\n",
       "    }\n",
       "\n",
       "    .dataframe thead th {\n",
       "        text-align: right;\n",
       "    }\n",
       "</style>\n",
       "<table border=\"1\" class=\"dataframe\">\n",
       "  <thead>\n",
       "    <tr style=\"text-align: right;\">\n",
       "      <th></th>\n",
       "      <th>16</th>\n",
       "      <th>27</th>\n",
       "      <th>41</th>\n",
       "      <th>55</th>\n",
       "      <th>57</th>\n",
       "      <th>63</th>\n",
       "      <th>68</th>\n",
       "      <th>74</th>\n",
       "      <th>92</th>\n",
       "      <th>93</th>\n",
       "      <th>...</th>\n",
       "      <th>149</th>\n",
       "      <th>156</th>\n",
       "      <th>163</th>\n",
       "      <th>171</th>\n",
       "      <th>205</th>\n",
       "      <th>206</th>\n",
       "      <th>213</th>\n",
       "      <th>220</th>\n",
       "      <th>221</th>\n",
       "      <th>228</th>\n",
       "    </tr>\n",
       "  </thead>\n",
       "  <tbody>\n",
       "    <tr>\n",
       "      <th>2020 Population</th>\n",
       "      <td>167420951</td>\n",
       "      <td>213196304</td>\n",
       "      <td>1424929781</td>\n",
       "      <td>92853164</td>\n",
       "      <td>107465134</td>\n",
       "      <td>117190911</td>\n",
       "      <td>64480053</td>\n",
       "      <td>83328988</td>\n",
       "      <td>1396387127</td>\n",
       "      <td>271857970</td>\n",
       "      <td>...</td>\n",
       "      <td>208327405</td>\n",
       "      <td>227196741</td>\n",
       "      <td>112190977</td>\n",
       "      <td>145617329</td>\n",
       "      <td>61704518</td>\n",
       "      <td>71475664</td>\n",
       "      <td>84135428</td>\n",
       "      <td>67059474</td>\n",
       "      <td>335942003</td>\n",
       "      <td>96648685</td>\n",
       "    </tr>\n",
       "    <tr>\n",
       "      <th>2015 Population</th>\n",
       "      <td>157830000</td>\n",
       "      <td>205188205</td>\n",
       "      <td>1393715448</td>\n",
       "      <td>78656904</td>\n",
       "      <td>97723799</td>\n",
       "      <td>102471895</td>\n",
       "      <td>63809769</td>\n",
       "      <td>82073226</td>\n",
       "      <td>1322866505</td>\n",
       "      <td>259091970</td>\n",
       "      <td>...</td>\n",
       "      <td>183995785</td>\n",
       "      <td>210969298</td>\n",
       "      <td>103031365</td>\n",
       "      <td>144668389</td>\n",
       "      <td>52542823</td>\n",
       "      <td>70294397</td>\n",
       "      <td>79646178</td>\n",
       "      <td>65224364</td>\n",
       "      <td>324607776</td>\n",
       "      <td>92191398</td>\n",
       "    </tr>\n",
       "    <tr>\n",
       "      <th>2010 Population</th>\n",
       "      <td>148391139</td>\n",
       "      <td>196353492</td>\n",
       "      <td>1348191368</td>\n",
       "      <td>66391257</td>\n",
       "      <td>87252413</td>\n",
       "      <td>89237791</td>\n",
       "      <td>62444567</td>\n",
       "      <td>81325090</td>\n",
       "      <td>1240613620</td>\n",
       "      <td>244016173</td>\n",
       "      <td>...</td>\n",
       "      <td>160952853</td>\n",
       "      <td>194454498</td>\n",
       "      <td>94636700</td>\n",
       "      <td>143242599</td>\n",
       "      <td>45110527</td>\n",
       "      <td>68270489</td>\n",
       "      <td>73195345</td>\n",
       "      <td>62760039</td>\n",
       "      <td>311182845</td>\n",
       "      <td>87411012</td>\n",
       "    </tr>\n",
       "    <tr>\n",
       "      <th>2000 Population</th>\n",
       "      <td>129193327</td>\n",
       "      <td>175873720</td>\n",
       "      <td>1264099069</td>\n",
       "      <td>48616317</td>\n",
       "      <td>71371371</td>\n",
       "      <td>67031867</td>\n",
       "      <td>58665453</td>\n",
       "      <td>81551677</td>\n",
       "      <td>1059633675</td>\n",
       "      <td>214072421</td>\n",
       "      <td>...</td>\n",
       "      <td>122851984</td>\n",
       "      <td>154369924</td>\n",
       "      <td>77958223</td>\n",
       "      <td>146844839</td>\n",
       "      <td>34463704</td>\n",
       "      <td>63066603</td>\n",
       "      <td>64113547</td>\n",
       "      <td>58850043</td>\n",
       "      <td>282398554</td>\n",
       "      <td>79001142</td>\n",
       "    </tr>\n",
       "    <tr>\n",
       "      <th>1990 Population</th>\n",
       "      <td>107147651</td>\n",
       "      <td>150706446</td>\n",
       "      <td>1153704252</td>\n",
       "      <td>35987541</td>\n",
       "      <td>57214630</td>\n",
       "      <td>47878073</td>\n",
       "      <td>56412897</td>\n",
       "      <td>79370196</td>\n",
       "      <td>870452165</td>\n",
       "      <td>182159874</td>\n",
       "      <td>...</td>\n",
       "      <td>95214257</td>\n",
       "      <td>115414069</td>\n",
       "      <td>61558898</td>\n",
       "      <td>148005704</td>\n",
       "      <td>26206012</td>\n",
       "      <td>55228410</td>\n",
       "      <td>54324142</td>\n",
       "      <td>57210442</td>\n",
       "      <td>248083732</td>\n",
       "      <td>66912613</td>\n",
       "    </tr>\n",
       "    <tr>\n",
       "      <th>1980 Population</th>\n",
       "      <td>83929765</td>\n",
       "      <td>122288383</td>\n",
       "      <td>982372466</td>\n",
       "      <td>26708686</td>\n",
       "      <td>43748556</td>\n",
       "      <td>34945469</td>\n",
       "      <td>53713830</td>\n",
       "      <td>77786703</td>\n",
       "      <td>696828385</td>\n",
       "      <td>148177096</td>\n",
       "      <td>...</td>\n",
       "      <td>72951439</td>\n",
       "      <td>80624057</td>\n",
       "      <td>48419546</td>\n",
       "      <td>138257420</td>\n",
       "      <td>19297659</td>\n",
       "      <td>45737753</td>\n",
       "      <td>44089069</td>\n",
       "      <td>56326328</td>\n",
       "      <td>223140018</td>\n",
       "      <td>52968270</td>\n",
       "    </tr>\n",
       "    <tr>\n",
       "      <th>1970 Population</th>\n",
       "      <td>67541860</td>\n",
       "      <td>96369875</td>\n",
       "      <td>822534450</td>\n",
       "      <td>20151733</td>\n",
       "      <td>34781986</td>\n",
       "      <td>28308246</td>\n",
       "      <td>50523586</td>\n",
       "      <td>78294583</td>\n",
       "      <td>557501301</td>\n",
       "      <td>115228394</td>\n",
       "      <td>...</td>\n",
       "      <td>55569264</td>\n",
       "      <td>59290872</td>\n",
       "      <td>37435586</td>\n",
       "      <td>130093010</td>\n",
       "      <td>13618192</td>\n",
       "      <td>35791728</td>\n",
       "      <td>35540990</td>\n",
       "      <td>55650166</td>\n",
       "      <td>200328340</td>\n",
       "      <td>41928849</td>\n",
       "    </tr>\n",
       "  </tbody>\n",
       "</table>\n",
       "<p>7 rows × 23 columns</p>\n",
       "</div>"
      ],
      "text/plain": [
       "                       16         27          41        55         57   \\\n",
       "2020 Population  167420951  213196304  1424929781  92853164  107465134   \n",
       "2015 Population  157830000  205188205  1393715448  78656904   97723799   \n",
       "2010 Population  148391139  196353492  1348191368  66391257   87252413   \n",
       "2000 Population  129193327  175873720  1264099069  48616317   71371371   \n",
       "1990 Population  107147651  150706446  1153704252  35987541   57214630   \n",
       "1980 Population   83929765  122288383   982372466  26708686   43748556   \n",
       "1970 Population   67541860   96369875   822534450  20151733   34781986   \n",
       "\n",
       "                       63        68        74          92         93   ...  \\\n",
       "2020 Population  117190911  64480053  83328988  1396387127  271857970  ...   \n",
       "2015 Population  102471895  63809769  82073226  1322866505  259091970  ...   \n",
       "2010 Population   89237791  62444567  81325090  1240613620  244016173  ...   \n",
       "2000 Population   67031867  58665453  81551677  1059633675  214072421  ...   \n",
       "1990 Population   47878073  56412897  79370196   870452165  182159874  ...   \n",
       "1980 Population   34945469  53713830  77786703   696828385  148177096  ...   \n",
       "1970 Population   28308246  50523586  78294583   557501301  115228394  ...   \n",
       "\n",
       "                       149        156        163        171       205  \\\n",
       "2020 Population  208327405  227196741  112190977  145617329  61704518   \n",
       "2015 Population  183995785  210969298  103031365  144668389  52542823   \n",
       "2010 Population  160952853  194454498   94636700  143242599  45110527   \n",
       "2000 Population  122851984  154369924   77958223  146844839  34463704   \n",
       "1990 Population   95214257  115414069   61558898  148005704  26206012   \n",
       "1980 Population   72951439   80624057   48419546  138257420  19297659   \n",
       "1970 Population   55569264   59290872   37435586  130093010  13618192   \n",
       "\n",
       "                      206       213       220        221       228  \n",
       "2020 Population  71475664  84135428  67059474  335942003  96648685  \n",
       "2015 Population  70294397  79646178  65224364  324607776  92191398  \n",
       "2010 Population  68270489  73195345  62760039  311182845  87411012  \n",
       "2000 Population  63066603  64113547  58850043  282398554  79001142  \n",
       "1990 Population  55228410  54324142  57210442  248083732  66912613  \n",
       "1980 Population  45737753  44089069  56326328  223140018  52968270  \n",
       "1970 Population  35791728  35540990  55650166  200328340  41928849  \n",
       "\n",
       "[7 rows x 23 columns]"
      ]
     },
     "execution_count": 129,
     "metadata": {},
     "output_type": "execute_result"
    }
   ],
   "source": [
    "(dfCrowded.iloc[:,6:13].T)"
   ]
  },
  {
   "cell_type": "code",
   "execution_count": 71,
   "id": "e82d80a8",
   "metadata": {},
   "outputs": [
    {
     "data": {
      "text/html": [
       "<div>\n",
       "<style scoped>\n",
       "    .dataframe tbody tr th:only-of-type {\n",
       "        vertical-align: middle;\n",
       "    }\n",
       "\n",
       "    .dataframe tbody tr th {\n",
       "        vertical-align: top;\n",
       "    }\n",
       "\n",
       "    .dataframe thead th {\n",
       "        text-align: right;\n",
       "    }\n",
       "</style>\n",
       "<table border=\"1\" class=\"dataframe\">\n",
       "  <thead>\n",
       "    <tr style=\"text-align: right;\">\n",
       "      <th></th>\n",
       "      <th>2020 Population</th>\n",
       "      <th>2015 Population</th>\n",
       "      <th>2010 Population</th>\n",
       "      <th>2000 Population</th>\n",
       "      <th>1990 Population</th>\n",
       "      <th>1980 Population</th>\n",
       "      <th>1970 Population</th>\n",
       "    </tr>\n",
       "  </thead>\n",
       "  <tbody>\n",
       "    <tr>\n",
       "      <th>0</th>\n",
       "      <td>38972230</td>\n",
       "      <td>33753499</td>\n",
       "      <td>28189672</td>\n",
       "      <td>19542982</td>\n",
       "      <td>10694796</td>\n",
       "      <td>12486631</td>\n",
       "      <td>10752971</td>\n",
       "    </tr>\n",
       "    <tr>\n",
       "      <th>1</th>\n",
       "      <td>2866849</td>\n",
       "      <td>2882481</td>\n",
       "      <td>2913399</td>\n",
       "      <td>3182021</td>\n",
       "      <td>3295066</td>\n",
       "      <td>2941651</td>\n",
       "      <td>2324731</td>\n",
       "    </tr>\n",
       "    <tr>\n",
       "      <th>2</th>\n",
       "      <td>43451666</td>\n",
       "      <td>39543154</td>\n",
       "      <td>35856344</td>\n",
       "      <td>30774621</td>\n",
       "      <td>25518074</td>\n",
       "      <td>18739378</td>\n",
       "      <td>13795915</td>\n",
       "    </tr>\n",
       "    <tr>\n",
       "      <th>3</th>\n",
       "      <td>46189</td>\n",
       "      <td>51368</td>\n",
       "      <td>54849</td>\n",
       "      <td>58230</td>\n",
       "      <td>47818</td>\n",
       "      <td>32886</td>\n",
       "      <td>27075</td>\n",
       "    </tr>\n",
       "    <tr>\n",
       "      <th>4</th>\n",
       "      <td>77700</td>\n",
       "      <td>71746</td>\n",
       "      <td>71519</td>\n",
       "      <td>66097</td>\n",
       "      <td>53569</td>\n",
       "      <td>35611</td>\n",
       "      <td>19860</td>\n",
       "    </tr>\n",
       "    <tr>\n",
       "      <th>...</th>\n",
       "      <td>...</td>\n",
       "      <td>...</td>\n",
       "      <td>...</td>\n",
       "      <td>...</td>\n",
       "      <td>...</td>\n",
       "      <td>...</td>\n",
       "      <td>...</td>\n",
       "    </tr>\n",
       "    <tr>\n",
       "      <th>229</th>\n",
       "      <td>11655</td>\n",
       "      <td>12182</td>\n",
       "      <td>13142</td>\n",
       "      <td>14723</td>\n",
       "      <td>13454</td>\n",
       "      <td>11315</td>\n",
       "      <td>9377</td>\n",
       "    </tr>\n",
       "    <tr>\n",
       "      <th>230</th>\n",
       "      <td>556048</td>\n",
       "      <td>491824</td>\n",
       "      <td>413296</td>\n",
       "      <td>270375</td>\n",
       "      <td>178529</td>\n",
       "      <td>116775</td>\n",
       "      <td>76371</td>\n",
       "    </tr>\n",
       "    <tr>\n",
       "      <th>231</th>\n",
       "      <td>32284046</td>\n",
       "      <td>28516545</td>\n",
       "      <td>24743946</td>\n",
       "      <td>18628700</td>\n",
       "      <td>13375121</td>\n",
       "      <td>9204938</td>\n",
       "      <td>6843607</td>\n",
       "    </tr>\n",
       "    <tr>\n",
       "      <th>232</th>\n",
       "      <td>18927715</td>\n",
       "      <td>16248230</td>\n",
       "      <td>13792086</td>\n",
       "      <td>9891136</td>\n",
       "      <td>7686401</td>\n",
       "      <td>5720438</td>\n",
       "      <td>4281671</td>\n",
       "    </tr>\n",
       "    <tr>\n",
       "      <th>233</th>\n",
       "      <td>15669666</td>\n",
       "      <td>14154937</td>\n",
       "      <td>12839771</td>\n",
       "      <td>11834676</td>\n",
       "      <td>10113893</td>\n",
       "      <td>7049926</td>\n",
       "      <td>5202918</td>\n",
       "    </tr>\n",
       "  </tbody>\n",
       "</table>\n",
       "<p>234 rows × 7 columns</p>\n",
       "</div>"
      ],
      "text/plain": [
       "     2020 Population  2015 Population  2010 Population  2000 Population  \\\n",
       "0           38972230         33753499         28189672         19542982   \n",
       "1            2866849          2882481          2913399          3182021   \n",
       "2           43451666         39543154         35856344         30774621   \n",
       "3              46189            51368            54849            58230   \n",
       "4              77700            71746            71519            66097   \n",
       "..               ...              ...              ...              ...   \n",
       "229            11655            12182            13142            14723   \n",
       "230           556048           491824           413296           270375   \n",
       "231         32284046         28516545         24743946         18628700   \n",
       "232         18927715         16248230         13792086          9891136   \n",
       "233         15669666         14154937         12839771         11834676   \n",
       "\n",
       "     1990 Population  1980 Population  1970 Population  \n",
       "0           10694796         12486631         10752971  \n",
       "1            3295066          2941651          2324731  \n",
       "2           25518074         18739378         13795915  \n",
       "3              47818            32886            27075  \n",
       "4              53569            35611            19860  \n",
       "..               ...              ...              ...  \n",
       "229            13454            11315             9377  \n",
       "230           178529           116775            76371  \n",
       "231         13375121          9204938          6843607  \n",
       "232          7686401          5720438          4281671  \n",
       "233         10113893          7049926          5202918  \n",
       "\n",
       "[234 rows x 7 columns]"
      ]
     },
     "execution_count": 71,
     "metadata": {},
     "output_type": "execute_result"
    }
   ],
   "source": [
    "df.iloc[:, 6:13]"
   ]
  },
  {
   "cell_type": "markdown",
   "id": "ad7601a5",
   "metadata": {},
   "source": [
    "Transform Growth Rate into a binary variable"
   ]
  },
  {
   "cell_type": "code",
   "execution_count": 20,
   "id": "4190ba1a",
   "metadata": {},
   "outputs": [],
   "source": [
    "def isGrowing(number):\n",
    "    if number>=1:\n",
    "        return 1\n",
    "    else:\n",
    "        return 0"
   ]
  },
  {
   "cell_type": "code",
   "execution_count": 21,
   "id": "dc64a4cb",
   "metadata": {},
   "outputs": [
    {
     "data": {
      "text/plain": [
       "16     1.0108\n",
       "27     1.0046\n",
       "41     1.0000\n",
       "55     1.0325\n",
       "57     1.0158\n",
       "63     1.0257\n",
       "68     1.0015\n",
       "74     0.9995\n",
       "92     1.0068\n",
       "93     1.0064\n",
       "94     1.0071\n",
       "102    0.9947\n",
       "131    1.0063\n",
       "149    1.0241\n",
       "156    1.0191\n",
       "163    1.0147\n",
       "171    0.9973\n",
       "205    1.0300\n",
       "206    1.0013\n",
       "213    1.0067\n",
       "220    1.0034\n",
       "221    1.0038\n",
       "228    1.0074\n",
       "Name: Growth Rate, dtype: float64"
      ]
     },
     "execution_count": 21,
     "metadata": {},
     "output_type": "execute_result"
    }
   ],
   "source": [
    "dfCrowded['Growth Rate']"
   ]
  },
  {
   "cell_type": "code",
   "execution_count": 31,
   "id": "dba719d7",
   "metadata": {},
   "outputs": [
    {
     "data": {
      "text/plain": [
       "16     1\n",
       "27     1\n",
       "41     1\n",
       "55     1\n",
       "57     1\n",
       "63     1\n",
       "68     1\n",
       "74     0\n",
       "92     1\n",
       "93     1\n",
       "94     1\n",
       "102    0\n",
       "131    1\n",
       "149    1\n",
       "156    1\n",
       "163    1\n",
       "171    0\n",
       "205    1\n",
       "206    1\n",
       "213    1\n",
       "220    1\n",
       "221    1\n",
       "228    1\n",
       "Name: Growth Rate, dtype: int64"
      ]
     },
     "execution_count": 31,
     "metadata": {},
     "output_type": "execute_result"
    }
   ],
   "source": [
    "growingDfCrowded=dfCrowded['Growth Rate'].map(isGrowing)\n",
    "growingDfCrowded"
   ]
  },
  {
   "cell_type": "markdown",
   "id": "1e6d6ee0",
   "metadata": {},
   "source": [
    "Substituting the values for growth rate with binary values, the warning is a false positive and can be ignored."
   ]
  },
  {
   "cell_type": "code",
   "execution_count": 23,
   "id": "75b59faf",
   "metadata": {},
   "outputs": [
    {
     "data": {
      "text/plain": [
       "16     1\n",
       "27     1\n",
       "41     1\n",
       "55     1\n",
       "57     1\n",
       "63     1\n",
       "68     1\n",
       "74     0\n",
       "92     1\n",
       "93     1\n",
       "94     1\n",
       "102    0\n",
       "131    1\n",
       "149    1\n",
       "156    1\n",
       "163    1\n",
       "171    0\n",
       "205    1\n",
       "206    1\n",
       "213    1\n",
       "220    1\n",
       "221    1\n",
       "228    1\n",
       "Name: Growth Rate, dtype: int64"
      ]
     },
     "execution_count": 23,
     "metadata": {},
     "output_type": "execute_result"
    }
   ],
   "source": []
  },
  {
   "cell_type": "code",
   "execution_count": 46,
   "id": "e23fd0e1",
   "metadata": {},
   "outputs": [
    {
     "name": "stderr",
     "output_type": "stream",
     "text": [
      "/tmp/ipykernel_46588/1390476438.py:1: SettingWithCopyWarning: \n",
      "A value is trying to be set on a copy of a slice from a DataFrame.\n",
      "Try using .loc[row_indexer,col_indexer] = value instead\n",
      "\n",
      "See the caveats in the documentation: https://pandas.pydata.org/pandas-docs/stable/user_guide/indexing.html#returning-a-view-versus-a-copy\n",
      "  dfCrowded['Growth Rate']=growingDfCrowded.astype('Int64')\n"
     ]
    }
   ],
   "source": [
    "dfCrowded['Growth Rate']=growingDfCrowded.astype('Int64')"
   ]
  },
  {
   "cell_type": "code",
   "execution_count": 47,
   "id": "a8e0fc01",
   "metadata": {},
   "outputs": [
    {
     "data": {
      "text/plain": [
       "16                1\n",
       "27                1\n",
       "41                1\n",
       "55                1\n",
       "57                1\n",
       "63                1\n",
       "68                1\n",
       "74                0\n",
       "92                1\n",
       "93                1\n",
       "94                1\n",
       "102               0\n",
       "131               1\n",
       "149               1\n",
       "156               1\n",
       "163               1\n",
       "171               0\n",
       "205               1\n",
       "206               1\n",
       "213               1\n",
       "220               1\n",
       "221               1\n",
       "228               1\n",
       "Growth Rate    <NA>\n",
       "Name: Growth Rate, dtype: Int64"
      ]
     },
     "execution_count": 47,
     "metadata": {},
     "output_type": "execute_result"
    }
   ],
   "source": [
    "dfCrowded['Growth Rate']"
   ]
  },
  {
   "cell_type": "code",
   "execution_count": 55,
   "id": "c3ceec82",
   "metadata": {},
   "outputs": [
    {
     "data": {
      "text/plain": [
       "<AxesSubplot: xlabel='2022 Population', ylabel='2020 Population'>"
      ]
     },
     "execution_count": 55,
     "metadata": {},
     "output_type": "execute_result"
    },
    {
     "data": {
      "image/png": "[encoded data removed]",
      "text/plain": [
       "<Figure size 640x480 with 2 Axes>"
      ]
     },
     "metadata": {},
     "output_type": "display_data"
    }
   ],
   "source": [
    " dfCrowded.plot.scatter(x='2022 Population',y='2020 Population', c='Growth Rate')\n",
    "                        #,c='Growth Rate',colormap='viridis')"
   ]
  },
  {
   "cell_type": "code",
   "execution_count": 32,
   "id": "4f8b041d",
   "metadata": {},
   "outputs": [
    {
     "name": "stderr",
     "output_type": "stream",
     "text": [
      "/tmp/ipykernel_46588/618042123.py:1: SettingWithCopyWarning: \n",
      "A value is trying to be set on a copy of a slice from a DataFrame\n",
      "\n",
      "See the caveats in the documentation: https://pandas.pydata.org/pandas-docs/stable/user_guide/indexing.html#returning-a-view-versus-a-copy\n",
      "  dfCrowded.loc['Growth Rate']=growingDfCrowded.astype('int')\n"
     ]
    }
   ],
   "source": [
    "dfCrowded.loc['Growth Rate']=growingDfCrowded.astype('int')"
   ]
  },
  {
   "cell_type": "code",
   "execution_count": 53,
   "id": "3f2b420f",
   "metadata": {},
   "outputs": [
    {
     "data": {
      "text/html": [
       "<div>\n",
       "<style scoped>\n",
       "    .dataframe tbody tr th:only-of-type {\n",
       "        vertical-align: middle;\n",
       "    }\n",
       "\n",
       "    .dataframe tbody tr th {\n",
       "        vertical-align: top;\n",
       "    }\n",
       "\n",
       "    .dataframe thead th {\n",
       "        text-align: right;\n",
       "    }\n",
       "</style>\n",
       "<table border=\"1\" class=\"dataframe\">\n",
       "  <thead>\n",
       "    <tr style=\"text-align: right;\">\n",
       "      <th></th>\n",
       "      <th>Rank</th>\n",
       "      <th>CCA3</th>\n",
       "      <th>Country/Territory</th>\n",
       "      <th>Capital</th>\n",
       "      <th>Continent</th>\n",
       "      <th>2022 Population</th>\n",
       "      <th>2020 Population</th>\n",
       "      <th>2015 Population</th>\n",
       "      <th>2010 Population</th>\n",
       "      <th>2000 Population</th>\n",
       "      <th>1990 Population</th>\n",
       "      <th>1980 Population</th>\n",
       "      <th>1970 Population</th>\n",
       "      <th>Area (km²)</th>\n",
       "      <th>Density (per km²)</th>\n",
       "      <th>Growth Rate</th>\n",
       "      <th>World Population Percentage</th>\n",
       "    </tr>\n",
       "  </thead>\n",
       "  <tbody>\n",
       "    <tr>\n",
       "      <th>16</th>\n",
       "      <td>8.0</td>\n",
       "      <td>BGD</td>\n",
       "      <td>Bangladesh</td>\n",
       "      <td>Dhaka</td>\n",
       "      <td>Asia</td>\n",
       "      <td>1.711864e+08</td>\n",
       "      <td>1.674210e+08</td>\n",
       "      <td>1.578300e+08</td>\n",
       "      <td>1.483911e+08</td>\n",
       "      <td>1.291933e+08</td>\n",
       "      <td>1.071477e+08</td>\n",
       "      <td>83929765.0</td>\n",
       "      <td>67541860.0</td>\n",
       "      <td>147570.0</td>\n",
       "      <td>1160.0350</td>\n",
       "      <td>1</td>\n",
       "      <td>2.15</td>\n",
       "    </tr>\n",
       "    <tr>\n",
       "      <th>27</th>\n",
       "      <td>7.0</td>\n",
       "      <td>BRA</td>\n",
       "      <td>Brazil</td>\n",
       "      <td>Brasilia</td>\n",
       "      <td>South America</td>\n",
       "      <td>2.153135e+08</td>\n",
       "      <td>2.131963e+08</td>\n",
       "      <td>2.051882e+08</td>\n",
       "      <td>1.963535e+08</td>\n",
       "      <td>1.758737e+08</td>\n",
       "      <td>1.507064e+08</td>\n",
       "      <td>122288383.0</td>\n",
       "      <td>96369875.0</td>\n",
       "      <td>8515767.0</td>\n",
       "      <td>25.2841</td>\n",
       "      <td>1</td>\n",
       "      <td>2.70</td>\n",
       "    </tr>\n",
       "    <tr>\n",
       "      <th>41</th>\n",
       "      <td>1.0</td>\n",
       "      <td>CHN</td>\n",
       "      <td>China</td>\n",
       "      <td>Beijing</td>\n",
       "      <td>Asia</td>\n",
       "      <td>1.425887e+09</td>\n",
       "      <td>1.424930e+09</td>\n",
       "      <td>1.393715e+09</td>\n",
       "      <td>1.348191e+09</td>\n",
       "      <td>1.264099e+09</td>\n",
       "      <td>1.153704e+09</td>\n",
       "      <td>982372466.0</td>\n",
       "      <td>822534450.0</td>\n",
       "      <td>9706961.0</td>\n",
       "      <td>146.8933</td>\n",
       "      <td>1</td>\n",
       "      <td>17.88</td>\n",
       "    </tr>\n",
       "    <tr>\n",
       "      <th>55</th>\n",
       "      <td>15.0</td>\n",
       "      <td>COD</td>\n",
       "      <td>DR Congo</td>\n",
       "      <td>Kinshasa</td>\n",
       "      <td>Africa</td>\n",
       "      <td>9.901021e+07</td>\n",
       "      <td>9.285316e+07</td>\n",
       "      <td>7.865690e+07</td>\n",
       "      <td>6.639126e+07</td>\n",
       "      <td>4.861632e+07</td>\n",
       "      <td>3.598754e+07</td>\n",
       "      <td>26708686.0</td>\n",
       "      <td>20151733.0</td>\n",
       "      <td>2344858.0</td>\n",
       "      <td>42.2244</td>\n",
       "      <td>1</td>\n",
       "      <td>1.24</td>\n",
       "    </tr>\n",
       "    <tr>\n",
       "      <th>57</th>\n",
       "      <td>14.0</td>\n",
       "      <td>EGY</td>\n",
       "      <td>Egypt</td>\n",
       "      <td>Cairo</td>\n",
       "      <td>Africa</td>\n",
       "      <td>1.109901e+08</td>\n",
       "      <td>1.074651e+08</td>\n",
       "      <td>9.772380e+07</td>\n",
       "      <td>8.725241e+07</td>\n",
       "      <td>7.137137e+07</td>\n",
       "      <td>5.721463e+07</td>\n",
       "      <td>43748556.0</td>\n",
       "      <td>34781986.0</td>\n",
       "      <td>1002450.0</td>\n",
       "      <td>110.7188</td>\n",
       "      <td>1</td>\n",
       "      <td>1.39</td>\n",
       "    </tr>\n",
       "    <tr>\n",
       "      <th>63</th>\n",
       "      <td>12.0</td>\n",
       "      <td>ETH</td>\n",
       "      <td>Ethiopia</td>\n",
       "      <td>Addis Ababa</td>\n",
       "      <td>Africa</td>\n",
       "      <td>1.233799e+08</td>\n",
       "      <td>1.171909e+08</td>\n",
       "      <td>1.024719e+08</td>\n",
       "      <td>8.923779e+07</td>\n",
       "      <td>6.703187e+07</td>\n",
       "      <td>4.787807e+07</td>\n",
       "      <td>34945469.0</td>\n",
       "      <td>28308246.0</td>\n",
       "      <td>1104300.0</td>\n",
       "      <td>111.7268</td>\n",
       "      <td>1</td>\n",
       "      <td>1.55</td>\n",
       "    </tr>\n",
       "    <tr>\n",
       "      <th>68</th>\n",
       "      <td>23.0</td>\n",
       "      <td>FRA</td>\n",
       "      <td>France</td>\n",
       "      <td>Paris</td>\n",
       "      <td>Europe</td>\n",
       "      <td>6.462663e+07</td>\n",
       "      <td>6.448005e+07</td>\n",
       "      <td>6.380977e+07</td>\n",
       "      <td>6.244457e+07</td>\n",
       "      <td>5.866545e+07</td>\n",
       "      <td>5.641290e+07</td>\n",
       "      <td>53713830.0</td>\n",
       "      <td>50523586.0</td>\n",
       "      <td>551695.0</td>\n",
       "      <td>117.1419</td>\n",
       "      <td>1</td>\n",
       "      <td>0.81</td>\n",
       "    </tr>\n",
       "    <tr>\n",
       "      <th>74</th>\n",
       "      <td>19.0</td>\n",
       "      <td>DEU</td>\n",
       "      <td>Germany</td>\n",
       "      <td>Berlin</td>\n",
       "      <td>Europe</td>\n",
       "      <td>8.336984e+07</td>\n",
       "      <td>8.332899e+07</td>\n",
       "      <td>8.207323e+07</td>\n",
       "      <td>8.132509e+07</td>\n",
       "      <td>8.155168e+07</td>\n",
       "      <td>7.937020e+07</td>\n",
       "      <td>77786703.0</td>\n",
       "      <td>78294583.0</td>\n",
       "      <td>357114.0</td>\n",
       "      <td>233.4544</td>\n",
       "      <td>0</td>\n",
       "      <td>1.05</td>\n",
       "    </tr>\n",
       "    <tr>\n",
       "      <th>92</th>\n",
       "      <td>2.0</td>\n",
       "      <td>IND</td>\n",
       "      <td>India</td>\n",
       "      <td>New Delhi</td>\n",
       "      <td>Asia</td>\n",
       "      <td>1.417173e+09</td>\n",
       "      <td>1.396387e+09</td>\n",
       "      <td>1.322867e+09</td>\n",
       "      <td>1.240614e+09</td>\n",
       "      <td>1.059634e+09</td>\n",
       "      <td>8.704522e+08</td>\n",
       "      <td>696828385.0</td>\n",
       "      <td>557501301.0</td>\n",
       "      <td>3287590.0</td>\n",
       "      <td>431.0675</td>\n",
       "      <td>1</td>\n",
       "      <td>17.77</td>\n",
       "    </tr>\n",
       "    <tr>\n",
       "      <th>93</th>\n",
       "      <td>4.0</td>\n",
       "      <td>IDN</td>\n",
       "      <td>Indonesia</td>\n",
       "      <td>Jakarta</td>\n",
       "      <td>Asia</td>\n",
       "      <td>2.755013e+08</td>\n",
       "      <td>2.718580e+08</td>\n",
       "      <td>2.590920e+08</td>\n",
       "      <td>2.440162e+08</td>\n",
       "      <td>2.140724e+08</td>\n",
       "      <td>1.821599e+08</td>\n",
       "      <td>148177096.0</td>\n",
       "      <td>115228394.0</td>\n",
       "      <td>1904569.0</td>\n",
       "      <td>144.6529</td>\n",
       "      <td>1</td>\n",
       "      <td>3.45</td>\n",
       "    </tr>\n",
       "    <tr>\n",
       "      <th>94</th>\n",
       "      <td>17.0</td>\n",
       "      <td>IRN</td>\n",
       "      <td>Iran</td>\n",
       "      <td>Tehran</td>\n",
       "      <td>Asia</td>\n",
       "      <td>8.855057e+07</td>\n",
       "      <td>8.729019e+07</td>\n",
       "      <td>8.179084e+07</td>\n",
       "      <td>7.537386e+07</td>\n",
       "      <td>6.554438e+07</td>\n",
       "      <td>5.579363e+07</td>\n",
       "      <td>38520664.0</td>\n",
       "      <td>28449705.0</td>\n",
       "      <td>1648195.0</td>\n",
       "      <td>53.7258</td>\n",
       "      <td>1</td>\n",
       "      <td>1.11</td>\n",
       "    </tr>\n",
       "    <tr>\n",
       "      <th>102</th>\n",
       "      <td>11.0</td>\n",
       "      <td>JPN</td>\n",
       "      <td>Japan</td>\n",
       "      <td>Tokyo</td>\n",
       "      <td>Asia</td>\n",
       "      <td>1.239517e+08</td>\n",
       "      <td>1.252448e+08</td>\n",
       "      <td>1.272509e+08</td>\n",
       "      <td>1.281054e+08</td>\n",
       "      <td>1.268039e+08</td>\n",
       "      <td>1.236863e+08</td>\n",
       "      <td>117624196.0</td>\n",
       "      <td>105416839.0</td>\n",
       "      <td>377930.0</td>\n",
       "      <td>327.9753</td>\n",
       "      <td>0</td>\n",
       "      <td>1.55</td>\n",
       "    </tr>\n",
       "    <tr>\n",
       "      <th>131</th>\n",
       "      <td>10.0</td>\n",
       "      <td>MEX</td>\n",
       "      <td>Mexico</td>\n",
       "      <td>Mexico City</td>\n",
       "      <td>North America</td>\n",
       "      <td>1.275041e+08</td>\n",
       "      <td>1.259983e+08</td>\n",
       "      <td>1.201499e+08</td>\n",
       "      <td>1.125324e+08</td>\n",
       "      <td>9.787344e+07</td>\n",
       "      <td>8.172043e+07</td>\n",
       "      <td>67705186.0</td>\n",
       "      <td>50289306.0</td>\n",
       "      <td>1964375.0</td>\n",
       "      <td>64.9082</td>\n",
       "      <td>1</td>\n",
       "      <td>1.60</td>\n",
       "    </tr>\n",
       "    <tr>\n",
       "      <th>149</th>\n",
       "      <td>6.0</td>\n",
       "      <td>NGA</td>\n",
       "      <td>Nigeria</td>\n",
       "      <td>Abuja</td>\n",
       "      <td>Africa</td>\n",
       "      <td>2.185412e+08</td>\n",
       "      <td>2.083274e+08</td>\n",
       "      <td>1.839958e+08</td>\n",
       "      <td>1.609529e+08</td>\n",
       "      <td>1.228520e+08</td>\n",
       "      <td>9.521426e+07</td>\n",
       "      <td>72951439.0</td>\n",
       "      <td>55569264.0</td>\n",
       "      <td>923768.0</td>\n",
       "      <td>236.5759</td>\n",
       "      <td>1</td>\n",
       "      <td>2.74</td>\n",
       "    </tr>\n",
       "    <tr>\n",
       "      <th>156</th>\n",
       "      <td>5.0</td>\n",
       "      <td>PAK</td>\n",
       "      <td>Pakistan</td>\n",
       "      <td>Islamabad</td>\n",
       "      <td>Asia</td>\n",
       "      <td>2.358249e+08</td>\n",
       "      <td>2.271967e+08</td>\n",
       "      <td>2.109693e+08</td>\n",
       "      <td>1.944545e+08</td>\n",
       "      <td>1.543699e+08</td>\n",
       "      <td>1.154141e+08</td>\n",
       "      <td>80624057.0</td>\n",
       "      <td>59290872.0</td>\n",
       "      <td>881912.0</td>\n",
       "      <td>267.4018</td>\n",
       "      <td>1</td>\n",
       "      <td>2.96</td>\n",
       "    </tr>\n",
       "    <tr>\n",
       "      <th>163</th>\n",
       "      <td>13.0</td>\n",
       "      <td>PHL</td>\n",
       "      <td>Philippines</td>\n",
       "      <td>Manila</td>\n",
       "      <td>Asia</td>\n",
       "      <td>1.155590e+08</td>\n",
       "      <td>1.121910e+08</td>\n",
       "      <td>1.030314e+08</td>\n",
       "      <td>9.463670e+07</td>\n",
       "      <td>7.795822e+07</td>\n",
       "      <td>6.155890e+07</td>\n",
       "      <td>48419546.0</td>\n",
       "      <td>37435586.0</td>\n",
       "      <td>342353.0</td>\n",
       "      <td>337.5434</td>\n",
       "      <td>1</td>\n",
       "      <td>1.45</td>\n",
       "    </tr>\n",
       "    <tr>\n",
       "      <th>171</th>\n",
       "      <td>9.0</td>\n",
       "      <td>RUS</td>\n",
       "      <td>Russia</td>\n",
       "      <td>Moscow</td>\n",
       "      <td>Europe</td>\n",
       "      <td>1.447133e+08</td>\n",
       "      <td>1.456173e+08</td>\n",
       "      <td>1.446684e+08</td>\n",
       "      <td>1.432426e+08</td>\n",
       "      <td>1.468448e+08</td>\n",
       "      <td>1.480057e+08</td>\n",
       "      <td>138257420.0</td>\n",
       "      <td>130093010.0</td>\n",
       "      <td>17098242.0</td>\n",
       "      <td>8.4636</td>\n",
       "      <td>0</td>\n",
       "      <td>1.81</td>\n",
       "    </tr>\n",
       "    <tr>\n",
       "      <th>205</th>\n",
       "      <td>22.0</td>\n",
       "      <td>TZA</td>\n",
       "      <td>Tanzania</td>\n",
       "      <td>Dodoma</td>\n",
       "      <td>Africa</td>\n",
       "      <td>6.549775e+07</td>\n",
       "      <td>6.170452e+07</td>\n",
       "      <td>5.254282e+07</td>\n",
       "      <td>4.511053e+07</td>\n",
       "      <td>3.446370e+07</td>\n",
       "      <td>2.620601e+07</td>\n",
       "      <td>19297659.0</td>\n",
       "      <td>13618192.0</td>\n",
       "      <td>945087.0</td>\n",
       "      <td>69.3034</td>\n",
       "      <td>1</td>\n",
       "      <td>0.82</td>\n",
       "    </tr>\n",
       "    <tr>\n",
       "      <th>206</th>\n",
       "      <td>20.0</td>\n",
       "      <td>THA</td>\n",
       "      <td>Thailand</td>\n",
       "      <td>Bangkok</td>\n",
       "      <td>Asia</td>\n",
       "      <td>7.169703e+07</td>\n",
       "      <td>7.147566e+07</td>\n",
       "      <td>7.029440e+07</td>\n",
       "      <td>6.827049e+07</td>\n",
       "      <td>6.306660e+07</td>\n",
       "      <td>5.522841e+07</td>\n",
       "      <td>45737753.0</td>\n",
       "      <td>35791728.0</td>\n",
       "      <td>513120.0</td>\n",
       "      <td>139.7276</td>\n",
       "      <td>1</td>\n",
       "      <td>0.90</td>\n",
       "    </tr>\n",
       "    <tr>\n",
       "      <th>213</th>\n",
       "      <td>18.0</td>\n",
       "      <td>TUR</td>\n",
       "      <td>Turkey</td>\n",
       "      <td>Ankara</td>\n",
       "      <td>Asia</td>\n",
       "      <td>8.534124e+07</td>\n",
       "      <td>8.413543e+07</td>\n",
       "      <td>7.964618e+07</td>\n",
       "      <td>7.319534e+07</td>\n",
       "      <td>6.411355e+07</td>\n",
       "      <td>5.432414e+07</td>\n",
       "      <td>44089069.0</td>\n",
       "      <td>35540990.0</td>\n",
       "      <td>783562.0</td>\n",
       "      <td>108.9145</td>\n",
       "      <td>1</td>\n",
       "      <td>1.07</td>\n",
       "    </tr>\n",
       "    <tr>\n",
       "      <th>220</th>\n",
       "      <td>21.0</td>\n",
       "      <td>GBR</td>\n",
       "      <td>United Kingdom</td>\n",
       "      <td>London</td>\n",
       "      <td>Europe</td>\n",
       "      <td>6.750894e+07</td>\n",
       "      <td>6.705947e+07</td>\n",
       "      <td>6.522436e+07</td>\n",
       "      <td>6.276004e+07</td>\n",
       "      <td>5.885004e+07</td>\n",
       "      <td>5.721044e+07</td>\n",
       "      <td>56326328.0</td>\n",
       "      <td>55650166.0</td>\n",
       "      <td>242900.0</td>\n",
       "      <td>277.9289</td>\n",
       "      <td>1</td>\n",
       "      <td>0.85</td>\n",
       "    </tr>\n",
       "    <tr>\n",
       "      <th>221</th>\n",
       "      <td>3.0</td>\n",
       "      <td>USA</td>\n",
       "      <td>United States</td>\n",
       "      <td>Washington, D.C.</td>\n",
       "      <td>North America</td>\n",
       "      <td>3.382899e+08</td>\n",
       "      <td>3.359420e+08</td>\n",
       "      <td>3.246078e+08</td>\n",
       "      <td>3.111828e+08</td>\n",
       "      <td>2.823986e+08</td>\n",
       "      <td>2.480837e+08</td>\n",
       "      <td>223140018.0</td>\n",
       "      <td>200328340.0</td>\n",
       "      <td>9372610.0</td>\n",
       "      <td>36.0935</td>\n",
       "      <td>1</td>\n",
       "      <td>4.24</td>\n",
       "    </tr>\n",
       "    <tr>\n",
       "      <th>228</th>\n",
       "      <td>16.0</td>\n",
       "      <td>VNM</td>\n",
       "      <td>Vietnam</td>\n",
       "      <td>Hanoi</td>\n",
       "      <td>Asia</td>\n",
       "      <td>9.818686e+07</td>\n",
       "      <td>9.664868e+07</td>\n",
       "      <td>9.219140e+07</td>\n",
       "      <td>8.741101e+07</td>\n",
       "      <td>7.900114e+07</td>\n",
       "      <td>6.691261e+07</td>\n",
       "      <td>52968270.0</td>\n",
       "      <td>41928849.0</td>\n",
       "      <td>331212.0</td>\n",
       "      <td>296.4472</td>\n",
       "      <td>1</td>\n",
       "      <td>1.23</td>\n",
       "    </tr>\n",
       "    <tr>\n",
       "      <th>Growth Rate</th>\n",
       "      <td>NaN</td>\n",
       "      <td>NaN</td>\n",
       "      <td>NaN</td>\n",
       "      <td>NaN</td>\n",
       "      <td>NaN</td>\n",
       "      <td>NaN</td>\n",
       "      <td>NaN</td>\n",
       "      <td>NaN</td>\n",
       "      <td>NaN</td>\n",
       "      <td>NaN</td>\n",
       "      <td>NaN</td>\n",
       "      <td>NaN</td>\n",
       "      <td>NaN</td>\n",
       "      <td>NaN</td>\n",
       "      <td>NaN</td>\n",
       "      <td>&lt;NA&gt;</td>\n",
       "      <td>NaN</td>\n",
       "    </tr>\n",
       "  </tbody>\n",
       "</table>\n",
       "</div>"
      ],
      "text/plain": [
       "             Rank CCA3 Country/Territory           Capital      Continent  \\\n",
       "16            8.0  BGD        Bangladesh             Dhaka           Asia   \n",
       "27            7.0  BRA            Brazil          Brasilia  South America   \n",
       "41            1.0  CHN             China           Beijing           Asia   \n",
       "55           15.0  COD          DR Congo          Kinshasa         Africa   \n",
       "57           14.0  EGY             Egypt             Cairo         Africa   \n",
       "63           12.0  ETH          Ethiopia       Addis Ababa         Africa   \n",
       "68           23.0  FRA            France             Paris         Europe   \n",
       "74           19.0  DEU           Germany            Berlin         Europe   \n",
       "92            2.0  IND             India         New Delhi           Asia   \n",
       "93            4.0  IDN         Indonesia           Jakarta           Asia   \n",
       "94           17.0  IRN              Iran            Tehran           Asia   \n",
       "102          11.0  JPN             Japan             Tokyo           Asia   \n",
       "131          10.0  MEX            Mexico       Mexico City  North America   \n",
       "149           6.0  NGA           Nigeria             Abuja         Africa   \n",
       "156           5.0  PAK          Pakistan         Islamabad           Asia   \n",
       "163          13.0  PHL       Philippines            Manila           Asia   \n",
       "171           9.0  RUS            Russia            Moscow         Europe   \n",
       "205          22.0  TZA          Tanzania            Dodoma         Africa   \n",
       "206          20.0  THA          Thailand           Bangkok           Asia   \n",
       "213          18.0  TUR            Turkey            Ankara           Asia   \n",
       "220          21.0  GBR    United Kingdom            London         Europe   \n",
       "221           3.0  USA     United States  Washington, D.C.  North America   \n",
       "228          16.0  VNM           Vietnam             Hanoi           Asia   \n",
       "Growth Rate   NaN  NaN               NaN               NaN            NaN   \n",
       "\n",
       "             2022 Population  2020 Population  2015 Population  \\\n",
       "16              1.711864e+08     1.674210e+08     1.578300e+08   \n",
       "27              2.153135e+08     2.131963e+08     2.051882e+08   \n",
       "41              1.425887e+09     1.424930e+09     1.393715e+09   \n",
       "55              9.901021e+07     9.285316e+07     7.865690e+07   \n",
       "57              1.109901e+08     1.074651e+08     9.772380e+07   \n",
       "63              1.233799e+08     1.171909e+08     1.024719e+08   \n",
       "68              6.462663e+07     6.448005e+07     6.380977e+07   \n",
       "74              8.336984e+07     8.332899e+07     8.207323e+07   \n",
       "92              1.417173e+09     1.396387e+09     1.322867e+09   \n",
       "93              2.755013e+08     2.718580e+08     2.590920e+08   \n",
       "94              8.855057e+07     8.729019e+07     8.179084e+07   \n",
       "102             1.239517e+08     1.252448e+08     1.272509e+08   \n",
       "131             1.275041e+08     1.259983e+08     1.201499e+08   \n",
       "149             2.185412e+08     2.083274e+08     1.839958e+08   \n",
       "156             2.358249e+08     2.271967e+08     2.109693e+08   \n",
       "163             1.155590e+08     1.121910e+08     1.030314e+08   \n",
       "171             1.447133e+08     1.456173e+08     1.446684e+08   \n",
       "205             6.549775e+07     6.170452e+07     5.254282e+07   \n",
       "206             7.169703e+07     7.147566e+07     7.029440e+07   \n",
       "213             8.534124e+07     8.413543e+07     7.964618e+07   \n",
       "220             6.750894e+07     6.705947e+07     6.522436e+07   \n",
       "221             3.382899e+08     3.359420e+08     3.246078e+08   \n",
       "228             9.818686e+07     9.664868e+07     9.219140e+07   \n",
       "Growth Rate              NaN              NaN              NaN   \n",
       "\n",
       "             2010 Population  2000 Population  1990 Population  \\\n",
       "16              1.483911e+08     1.291933e+08     1.071477e+08   \n",
       "27              1.963535e+08     1.758737e+08     1.507064e+08   \n",
       "41              1.348191e+09     1.264099e+09     1.153704e+09   \n",
       "55              6.639126e+07     4.861632e+07     3.598754e+07   \n",
       "57              8.725241e+07     7.137137e+07     5.721463e+07   \n",
       "63              8.923779e+07     6.703187e+07     4.787807e+07   \n",
       "68              6.244457e+07     5.866545e+07     5.641290e+07   \n",
       "74              8.132509e+07     8.155168e+07     7.937020e+07   \n",
       "92              1.240614e+09     1.059634e+09     8.704522e+08   \n",
       "93              2.440162e+08     2.140724e+08     1.821599e+08   \n",
       "94              7.537386e+07     6.554438e+07     5.579363e+07   \n",
       "102             1.281054e+08     1.268039e+08     1.236863e+08   \n",
       "131             1.125324e+08     9.787344e+07     8.172043e+07   \n",
       "149             1.609529e+08     1.228520e+08     9.521426e+07   \n",
       "156             1.944545e+08     1.543699e+08     1.154141e+08   \n",
       "163             9.463670e+07     7.795822e+07     6.155890e+07   \n",
       "171             1.432426e+08     1.468448e+08     1.480057e+08   \n",
       "205             4.511053e+07     3.446370e+07     2.620601e+07   \n",
       "206             6.827049e+07     6.306660e+07     5.522841e+07   \n",
       "213             7.319534e+07     6.411355e+07     5.432414e+07   \n",
       "220             6.276004e+07     5.885004e+07     5.721044e+07   \n",
       "221             3.111828e+08     2.823986e+08     2.480837e+08   \n",
       "228             8.741101e+07     7.900114e+07     6.691261e+07   \n",
       "Growth Rate              NaN              NaN              NaN   \n",
       "\n",
       "             1980 Population  1970 Population  Area (km²)  Density (per km²)  \\\n",
       "16                83929765.0       67541860.0    147570.0          1160.0350   \n",
       "27               122288383.0       96369875.0   8515767.0            25.2841   \n",
       "41               982372466.0      822534450.0   9706961.0           146.8933   \n",
       "55                26708686.0       20151733.0   2344858.0            42.2244   \n",
       "57                43748556.0       34781986.0   1002450.0           110.7188   \n",
       "63                34945469.0       28308246.0   1104300.0           111.7268   \n",
       "68                53713830.0       50523586.0    551695.0           117.1419   \n",
       "74                77786703.0       78294583.0    357114.0           233.4544   \n",
       "92               696828385.0      557501301.0   3287590.0           431.0675   \n",
       "93               148177096.0      115228394.0   1904569.0           144.6529   \n",
       "94                38520664.0       28449705.0   1648195.0            53.7258   \n",
       "102              117624196.0      105416839.0    377930.0           327.9753   \n",
       "131               67705186.0       50289306.0   1964375.0            64.9082   \n",
       "149               72951439.0       55569264.0    923768.0           236.5759   \n",
       "156               80624057.0       59290872.0    881912.0           267.4018   \n",
       "163               48419546.0       37435586.0    342353.0           337.5434   \n",
       "171              138257420.0      130093010.0  17098242.0             8.4636   \n",
       "205               19297659.0       13618192.0    945087.0            69.3034   \n",
       "206               45737753.0       35791728.0    513120.0           139.7276   \n",
       "213               44089069.0       35540990.0    783562.0           108.9145   \n",
       "220               56326328.0       55650166.0    242900.0           277.9289   \n",
       "221              223140018.0      200328340.0   9372610.0            36.0935   \n",
       "228               52968270.0       41928849.0    331212.0           296.4472   \n",
       "Growth Rate              NaN              NaN         NaN                NaN   \n",
       "\n",
       "             Growth Rate  World Population Percentage  \n",
       "16                     1                         2.15  \n",
       "27                     1                         2.70  \n",
       "41                     1                        17.88  \n",
       "55                     1                         1.24  \n",
       "57                     1                         1.39  \n",
       "63                     1                         1.55  \n",
       "68                     1                         0.81  \n",
       "74                     0                         1.05  \n",
       "92                     1                        17.77  \n",
       "93                     1                         3.45  \n",
       "94                     1                         1.11  \n",
       "102                    0                         1.55  \n",
       "131                    1                         1.60  \n",
       "149                    1                         2.74  \n",
       "156                    1                         2.96  \n",
       "163                    1                         1.45  \n",
       "171                    0                         1.81  \n",
       "205                    1                         0.82  \n",
       "206                    1                         0.90  \n",
       "213                    1                         1.07  \n",
       "220                    1                         0.85  \n",
       "221                    1                         4.24  \n",
       "228                    1                         1.23  \n",
       "Growth Rate         <NA>                          NaN  "
      ]
     },
     "execution_count": 53,
     "metadata": {},
     "output_type": "execute_result"
    }
   ],
   "source": [
    "dfCrowded"
   ]
  },
  {
   "cell_type": "code",
   "execution_count": 36,
   "id": "053ae325",
   "metadata": {},
   "outputs": [
    {
     "data": {
      "image/png": "[encoded data removed]",
      "text/html": [
       "<div style=\"vertical-align: middle;\"><strong>viridis</strong> </div><div class=\"cmap\"><img alt=\"viridis colormap\" title=\"viridis\" style=\"border: 1px solid #555;\" src=\"data:image/png;base64,iVBORw0KGgoAAAANSUhEUgAAAgAAAABACAYAAABsv8+/AAAAFnRFWHRUaXRsZQB2aXJpZGlzIGNvbG9ybWFwrE0mCwAAABx0RVh0RGVzY3JpcHRpb24AdmlyaWRpcyBjb2xvcm1hcAtjl3IAAAAwdEVYdEF1dGhvcgBNYXRwbG90bGliIHYzLjYuMCwgaHR0cHM6Ly9tYXRwbG90bGliLm9yZ+GocwIAAAAydEVYdFNvZnR3YXJlAE1hdHBsb3RsaWIgdjMuNi4wLCBodHRwczovL21hdHBsb3RsaWIub3Jnzw7sJQAAAiJJREFUeJzt1kGSmzAURdEv2FqWkP0vJfQgMhQCGceV2Ttn4pL0EVQPum771X5vVVXVWv39XfrPeV193V5zS98f1sf5/fPjey73zu6/3Hv/uz2cz57f9vP68rxO9+/zre7nhvvG+et6vH92bw3PDfcsD+eX59+/53n96f3362/f87/vf5yr93Of72/fPV9P89tX3zGeH3OT8/07Zs+/32+TuXZZD8/VODf8W5uuH/b7vctlfuv7NazH8/t7ZnP7bz2cD3NL+/Ph3Hl+/efz83vWun/vuL++nquH9eu9w/uu6/vvOO49f/8xf77vOj+8b7Y/fMfse9ca/y7nv+d62a++X+f1vt+G/b7u+/u6TxzzS//tc2053QMABBEAABBIAABAIAEAAIEEAAAEEgAAEEgAAEAgAQAAgQQAAAQSAAAQSAAAQCABAACBBAAABBIAABBIAABAIAEAAIEEAAAEEgAAEEgAAEAgAQAAgQQAAAQSAAAQSAAAQCABAACBBAAABBIAABBIAABAIAEAAIEEAAAEEgAAEEgAAEAgAQAAgQQAAAQSAAAQSAAAQCABAACBBAAABBIAABBIAABAIAEAAIEEAAAEEgAAEEgAAEAgAQAAgQQAAAQSAAAQSAAAQCABAACBBAAABBIAABBIAABAIAEAAIEEAAAEEgAAEEgAAEAgAQAAgQQAAAQSAAAQSAAAQCABAACBBAAABBIAABBIAABAoB9ucImHxcKZtAAAAABJRU5ErkJggg==\"></div><div style=\"vertical-align: middle; max-width: 514px; display: flex; justify-content: space-between;\"><div style=\"float: left;\"><div title=\"#440154ff\" style=\"display: inline-block; width: 1em; height: 1em; margin: 0; vertical-align: middle; border: 1px solid #555; background-color: #440154ff;\"></div> under</div><div style=\"margin: 0 auto; display: inline-block;\">bad <div title=\"#00000000\" style=\"display: inline-block; width: 1em; height: 1em; margin: 0; vertical-align: middle; border: 1px solid #555; background-color: #00000000;\"></div></div><div style=\"float: right;\">over <div title=\"#fde725ff\" style=\"display: inline-block; width: 1em; height: 1em; margin: 0; vertical-align: middle; border: 1px solid #555; background-color: #fde725ff;\"></div></div>"
      ],
      "text/plain": [
       "<matplotlib.colors.ListedColormap at 0x7fcb8de52370>"
      ]
     },
     "execution_count": 36,
     "metadata": {},
     "output_type": "execute_result"
    }
   ],
   "source": [
    "matplotlib.colormaps['viridis']"
   ]
  },
  {
   "cell_type": "markdown",
   "id": "42c61e80",
   "metadata": {},
   "source": [
    "# Predictive Models"
   ]
  },
  {
   "cell_type": "markdown",
   "id": "36318fde",
   "metadata": {},
   "source": [
    "We try and predict the population of the various countries."
   ]
  },
  {
   "cell_type": "markdown",
   "id": "adf83a62",
   "metadata": {},
   "source": [
    "We start with India. We need to add the years as the independent variables in the dataframe."
   ]
  },
  {
   "cell_type": "code",
   "execution_count": 172,
   "id": "d6da7f0d",
   "metadata": {},
   "outputs": [],
   "source": [
    "population_of_India['Year']=[1970,1980,1990,2000,2010,2015,2020,2022]"
   ]
  },
  {
   "cell_type": "code",
   "execution_count": 173,
   "id": "ea8d5af7",
   "metadata": {},
   "outputs": [
    {
     "data": {
      "text/html": [
       "<div>\n",
       "<style scoped>\n",
       "    .dataframe tbody tr th:only-of-type {\n",
       "        vertical-align: middle;\n",
       "    }\n",
       "\n",
       "    .dataframe tbody tr th {\n",
       "        vertical-align: top;\n",
       "    }\n",
       "\n",
       "    .dataframe thead th {\n",
       "        text-align: right;\n",
       "    }\n",
       "</style>\n",
       "<table border=\"1\" class=\"dataframe\">\n",
       "  <thead>\n",
       "    <tr style=\"text-align: right;\">\n",
       "      <th></th>\n",
       "      <th>92</th>\n",
       "      <th>Year</th>\n",
       "    </tr>\n",
       "  </thead>\n",
       "  <tbody>\n",
       "    <tr>\n",
       "      <th>1970 Population</th>\n",
       "      <td>557501301</td>\n",
       "      <td>1970</td>\n",
       "    </tr>\n",
       "    <tr>\n",
       "      <th>1980 Population</th>\n",
       "      <td>696828385</td>\n",
       "      <td>1980</td>\n",
       "    </tr>\n",
       "    <tr>\n",
       "      <th>1990 Population</th>\n",
       "      <td>870452165</td>\n",
       "      <td>1990</td>\n",
       "    </tr>\n",
       "    <tr>\n",
       "      <th>2000 Population</th>\n",
       "      <td>1059633675</td>\n",
       "      <td>2000</td>\n",
       "    </tr>\n",
       "    <tr>\n",
       "      <th>2010 Population</th>\n",
       "      <td>1240613620</td>\n",
       "      <td>2010</td>\n",
       "    </tr>\n",
       "    <tr>\n",
       "      <th>2015 Population</th>\n",
       "      <td>1322866505</td>\n",
       "      <td>2015</td>\n",
       "    </tr>\n",
       "    <tr>\n",
       "      <th>2020 Population</th>\n",
       "      <td>1396387127</td>\n",
       "      <td>2020</td>\n",
       "    </tr>\n",
       "    <tr>\n",
       "      <th>2022 Population</th>\n",
       "      <td>1417173173</td>\n",
       "      <td>2022</td>\n",
       "    </tr>\n",
       "  </tbody>\n",
       "</table>\n",
       "</div>"
      ],
      "text/plain": [
       "                         92  Year\n",
       "1970 Population   557501301  1970\n",
       "1980 Population   696828385  1980\n",
       "1990 Population   870452165  1990\n",
       "2000 Population  1059633675  2000\n",
       "2010 Population  1240613620  2010\n",
       "2015 Population  1322866505  2015\n",
       "2020 Population  1396387127  2020\n",
       "2022 Population  1417173173  2022"
      ]
     },
     "execution_count": 173,
     "metadata": {},
     "output_type": "execute_result"
    }
   ],
   "source": [
    "population_of_India"
   ]
  },
  {
   "cell_type": "code",
   "execution_count": 174,
   "id": "4f26bfa6",
   "metadata": {},
   "outputs": [],
   "source": [
    "import sklearn\n",
    "from sklearn.model_selection import train_test_split "
   ]
  },
  {
   "cell_type": "code",
   "execution_count": 175,
   "id": "c49a0d6d",
   "metadata": {},
   "outputs": [],
   "source": [
    "# For ML models\n",
    "from sklearn.linear_model import LogisticRegression\n",
    "from sklearn.tree import DecisionTreeClassifier\n",
    "from sklearn.ensemble import RandomForestClassifier\n",
    "from sklearn.metrics import *"
   ]
  },
  {
   "cell_type": "code",
   "execution_count": 178,
   "id": "ed45ae7c",
   "metadata": {},
   "outputs": [],
   "source": [
    "#train_df, val_df = train_test_split(df, test_size=0.2, random_state=42)\n",
    "train_India, val_India = train_test_split(population_of_India, test_size=0.2, random_state=42)"
   ]
  },
  {
   "cell_type": "code",
   "execution_count": 180,
   "id": "fe9f7968",
   "metadata": {},
   "outputs": [
    {
     "data": {
      "text/html": [
       "<div>\n",
       "<style scoped>\n",
       "    .dataframe tbody tr th:only-of-type {\n",
       "        vertical-align: middle;\n",
       "    }\n",
       "\n",
       "    .dataframe tbody tr th {\n",
       "        vertical-align: top;\n",
       "    }\n",
       "\n",
       "    .dataframe thead th {\n",
       "        text-align: right;\n",
       "    }\n",
       "</style>\n",
       "<table border=\"1\" class=\"dataframe\">\n",
       "  <thead>\n",
       "    <tr style=\"text-align: right;\">\n",
       "      <th></th>\n",
       "      <th>92</th>\n",
       "      <th>Year</th>\n",
       "    </tr>\n",
       "  </thead>\n",
       "  <tbody>\n",
       "    <tr>\n",
       "      <th>1980 Population</th>\n",
       "      <td>696828385</td>\n",
       "      <td>1980</td>\n",
       "    </tr>\n",
       "    <tr>\n",
       "      <th>2015 Population</th>\n",
       "      <td>1322866505</td>\n",
       "      <td>2015</td>\n",
       "    </tr>\n",
       "  </tbody>\n",
       "</table>\n",
       "</div>"
      ],
      "text/plain": [
       "                         92  Year\n",
       "1980 Population   696828385  1980\n",
       "2015 Population  1322866505  2015"
      ]
     },
     "execution_count": 180,
     "metadata": {},
     "output_type": "execute_result"
    }
   ],
   "source": [
    "val_India"
   ]
  },
  {
   "cell_type": "markdown",
   "id": "fb6033c8",
   "metadata": {},
   "source": [
    "## Separate the target"
   ]
  },
  {
   "cell_type": "code",
   "execution_count": 12,
   "id": "063b89e6",
   "metadata": {},
   "outputs": [
    {
     "data": {
      "text/plain": [
       "117       2750055\n",
       "155       4576298\n",
       "148      26207977\n",
       "158       5250072\n",
       "231      33696614\n",
       "          ...    \n",
       "106      54027487\n",
       "14         409984\n",
       "92     1417173173\n",
       "179        222382\n",
       "102     123951692\n",
       "Name: 2022 Population, Length: 187, dtype: int64"
      ]
     },
     "execution_count": 12,
     "metadata": {},
     "output_type": "execute_result"
    }
   ],
   "source": [
    "train_df['2022 Population']"
   ]
  },
  {
   "cell_type": "code",
   "execution_count": 185,
   "id": "4475e350",
   "metadata": {},
   "outputs": [
    {
     "data": {
      "text/plain": [
       "1970 Population    1970\n",
       "2022 Population    2022\n",
       "1990 Population    1990\n",
       "2010 Population    2010\n",
       "2000 Population    2000\n",
       "2020 Population    2020\n",
       "Name: Year, dtype: int64"
      ]
     },
     "execution_count": 185,
     "metadata": {},
     "output_type": "execute_result"
    }
   ],
   "source": [
    "y_train = train_India[92]\n",
    "X_train=train_India['Year']\n",
    "X_train"
   ]
  },
  {
   "cell_type": "code",
   "execution_count": 118,
   "id": "9b081644",
   "metadata": {},
   "outputs": [],
   "source": [
    "#y_train = train_India['92']\n",
    "#X_train=train_df.drop(labels=['2022 Population', 'CCA3','Rank','Country/Territory','Capital','Continent','Area (km²)',\n",
    " #                         'Density (per km²)','Growth Rate','World Population Percentage']\n",
    " #                 ,axis=1)"
   ]
  },
  {
   "cell_type": "code",
   "execution_count": 186,
   "id": "7c8021df",
   "metadata": {},
   "outputs": [
    {
     "data": {
      "text/plain": [
       "1970 Population    1970\n",
       "2022 Population    2022\n",
       "1990 Population    1990\n",
       "2010 Population    2010\n",
       "2000 Population    2000\n",
       "2020 Population    2020\n",
       "Name: Year, dtype: int64"
      ]
     },
     "execution_count": 186,
     "metadata": {},
     "output_type": "execute_result"
    }
   ],
   "source": [
    "X_train"
   ]
  },
  {
   "cell_type": "code",
   "execution_count": 120,
   "id": "53558ae5",
   "metadata": {},
   "outputs": [],
   "source": [
    "#y_val = val_df['2022 Population']\n",
    "#X_val=val_df.drop(labels=['2022 Population', 'CCA3','Rank','Country/Territory','Capital','Continent','Area (km²)',\n",
    "#                          'Density (per km²)','Growth Rate','World Population Percentage']\n",
    "#                  ,axis=1)"
   ]
  },
  {
   "cell_type": "code",
   "execution_count": 200,
   "id": "c5e930e7",
   "metadata": {},
   "outputs": [],
   "source": [
    "y_val=val_India[92]\n",
    "X_val=val_India['Year']"
   ]
  },
  {
   "cell_type": "code",
   "execution_count": 201,
   "id": "3408df67",
   "metadata": {},
   "outputs": [],
   "source": [
    "y_val=np.array(y_val)\n",
    "y_train=np.array(y_train)\n",
    "\n",
    "X_val=np.array(X_val)\n",
    "X_val=X_val.reshape(-1, 1) \n",
    "X_train=np.array(X_train)\n",
    "X_train=X_train.reshape(-1, 1) "
   ]
  },
  {
   "cell_type": "code",
   "execution_count": 195,
   "id": "629629dc",
   "metadata": {},
   "outputs": [
    {
     "data": {
      "text/plain": [
       "array([[1970],\n",
       "       [2022],\n",
       "       [1990],\n",
       "       [2010],\n",
       "       [2000],\n",
       "       [2020]])"
      ]
     },
     "execution_count": 195,
     "metadata": {},
     "output_type": "execute_result"
    }
   ],
   "source": [
    "X_train"
   ]
  },
  {
   "cell_type": "code",
   "execution_count": 191,
   "id": "975cefd4",
   "metadata": {},
   "outputs": [
    {
     "name": "stdout",
     "output_type": "stream",
     "text": [
      "696828385\n",
      "1980\n"
     ]
    }
   ],
   "source": [
    "print(y_val[0])\n",
    "print(X_val[0])"
   ]
  },
  {
   "cell_type": "markdown",
   "id": "5cf32313",
   "metadata": {},
   "source": [
    "## Linear Regression Model"
   ]
  },
  {
   "cell_type": "markdown",
   "id": "32669a87",
   "metadata": {},
   "source": [
    "We use the linear model as a first approximation."
   ]
  },
  {
   "cell_type": "code",
   "execution_count": 246,
   "id": "8d96efa5",
   "metadata": {},
   "outputs": [],
   "source": [
    "from sklearn.linear_model import LinearRegression\n",
    "from sklearn.pipeline import make_pipeline\n",
    "from sklearn.preprocessing import StandardScaler"
   ]
  },
  {
   "cell_type": "code",
   "execution_count": 202,
   "id": "49259378",
   "metadata": {},
   "outputs": [],
   "source": [
    "#reg = LinearRegression().fit(X_train, y_train)"
   ]
  },
  {
   "cell_type": "code",
   "execution_count": 248,
   "id": "db422c62",
   "metadata": {},
   "outputs": [],
   "source": [
    "pipe = make_pipeline(StandardScaler(), LinearRegression())\n",
    "reg=pipe.fit(X_train, y_train) "
   ]
  },
  {
   "cell_type": "code",
   "execution_count": 249,
   "id": "ff7557cc",
   "metadata": {},
   "outputs": [
    {
     "data": {
      "text/plain": [
       "0.9987196392954348"
      ]
     },
     "execution_count": 249,
     "metadata": {},
     "output_type": "execute_result"
    }
   ],
   "source": [
    "reg.score(X_train,y_train)"
   ]
  },
  {
   "cell_type": "code",
   "execution_count": 250,
   "id": "9d2c53d1",
   "metadata": {},
   "outputs": [
    {
     "name": "stdout",
     "output_type": "stream",
     "text": [
      "[1970]\n",
      "557501301\n"
     ]
    }
   ],
   "source": [
    "print(X_train[0])\n",
    "print(y_train[0])"
   ]
  },
  {
   "cell_type": "code",
   "execution_count": 251,
   "id": "61239e41",
   "metadata": {},
   "outputs": [],
   "source": [
    "y_pred=reg.predict(X_val)"
   ]
  },
  {
   "cell_type": "code",
   "execution_count": 252,
   "id": "de318f27",
   "metadata": {},
   "outputs": [
    {
     "data": {
      "text/plain": [
       "array([7.19900997e+08, 1.30916181e+09])"
      ]
     },
     "execution_count": 252,
     "metadata": {},
     "output_type": "execute_result"
    }
   ],
   "source": [
    "y_pred"
   ]
  },
  {
   "cell_type": "code",
   "execution_count": 253,
   "id": "b250bc4c",
   "metadata": {},
   "outputs": [
    {
     "name": "stdout",
     "output_type": "stream",
     "text": [
      "[7.19900997e+08 1.30916181e+09]\n",
      "[ 696828385 1322866505]\n"
     ]
    }
   ],
   "source": [
    "print(y_pred)\n",
    "print(y_val)"
   ]
  },
  {
   "cell_type": "code",
   "execution_count": 254,
   "id": "834b68b2",
   "metadata": {},
   "outputs": [
    {
     "ename": "AttributeError",
     "evalue": "'Pipeline' object has no attribute 'coef_'",
     "output_type": "error",
     "traceback": [
      "\u001b[0;31m---------------------------------------------------------------------------\u001b[0m",
      "\u001b[0;31mAttributeError\u001b[0m                            Traceback (most recent call last)",
      "Cell \u001b[0;32mIn [254], line 1\u001b[0m\n\u001b[0;32m----> 1\u001b[0m coeff\u001b[38;5;241m=\u001b[39m\u001b[43mreg\u001b[49m\u001b[38;5;241;43m.\u001b[39;49m\u001b[43mcoef_\u001b[49m[\u001b[38;5;241m0\u001b[39m]\n",
      "\u001b[0;31mAttributeError\u001b[0m: 'Pipeline' object has no attribute 'coef_'"
     ]
    }
   ],
   "source": [
    "coeff=reg.coef_[0]"
   ]
  },
  {
   "cell_type": "markdown",
   "id": "f286d5c8",
   "metadata": {},
   "source": [
    "Plot the linear fit vs the real data"
   ]
  },
  {
   "cell_type": "code",
   "execution_count": 255,
   "id": "1ca51156",
   "metadata": {},
   "outputs": [
    {
     "data": {
      "text/plain": [
       "array([ 557501301,  696828385,  870452165, 1059633675, 1240613620,\n",
       "       1322866505, 1396387127, 1417173173])"
      ]
     },
     "execution_count": 255,
     "metadata": {},
     "output_type": "execute_result"
    }
   ],
   "source": [
    "np.array(population_of_India[92])"
   ]
  },
  {
   "cell_type": "code",
   "execution_count": 256,
   "id": "e1e9ce30",
   "metadata": {},
   "outputs": [
    {
     "name": "stdout",
     "output_type": "stream",
     "text": [
      "[3.33353262e+10]\n",
      "719900996.7136056\n",
      "696828385\n"
     ]
    },
    {
     "data": {
      "text/plain": [
       "16836023.338775508"
      ]
     },
     "execution_count": 256,
     "metadata": {},
     "output_type": "execute_result"
    }
   ],
   "source": [
    "print(coeff*X_val[0])\n",
    "print(y_pred[0])\n",
    "print(y_val[0])\n",
    "coeff"
   ]
  },
  {
   "cell_type": "code",
   "execution_count": 257,
   "id": "06b31b5e",
   "metadata": {},
   "outputs": [
    {
     "data": {
      "text/plain": [
       "array([5.51540763e+08, 7.19900997e+08, 8.88261230e+08, 1.05662146e+09,\n",
       "       1.22498170e+09, 1.30916181e+09, 1.39334193e+09, 1.42701398e+09])"
      ]
     },
     "execution_count": 257,
     "metadata": {},
     "output_type": "execute_result"
    }
   ],
   "source": [
    "allYears=np.array(population_of_India['Year']).reshape(-1,1)\n",
    "reg.predict(allYears)"
   ]
  },
  {
   "cell_type": "code",
   "execution_count": 259,
   "id": "5a6f7af3",
   "metadata": {},
   "outputs": [
    {
     "data": {
      "text/plain": [
       "<matplotlib.collections.PathCollection at 0x7f2c5cacbe50>"
      ]
     },
     "execution_count": 259,
     "metadata": {},
     "output_type": "execute_result"
    },
    {
     "data": {
      "image/png": "[encoded data removed]",
      "text/plain": [
       "<Figure size 640x480 with 1 Axes>"
      ]
     },
     "metadata": {},
     "output_type": "display_data"
    }
   ],
   "source": [
    "plt.plot(np.array(population_of_India['Year']),\n",
    "         reg.predict(allYears),color='red')\n",
    "plt.scatter(np.array(population_of_India['Year']),np.array(population_of_India[92]))"
   ]
  },
  {
   "cell_type": "markdown",
   "id": "df845f65",
   "metadata": {},
   "source": [
    "# Prediction for Italy"
   ]
  },
  {
   "cell_type": "markdown",
   "id": "4ce6ad37",
   "metadata": {},
   "source": [
    "We use polynomial regression, since the population evolution is clearly not linear"
   ]
  },
  {
   "cell_type": "code",
   "execution_count": 281,
   "id": "10c512bd",
   "metadata": {},
   "outputs": [],
   "source": [
    "from sklearn.preprocessing import PolynomialFeatures"
   ]
  },
  {
   "cell_type": "code",
   "execution_count": 337,
   "id": "28d4d526",
   "metadata": {},
   "outputs": [],
   "source": [
    "poly = PolynomialFeatures(degree=2, include_bias=False)"
   ]
  },
  {
   "cell_type": "code",
   "execution_count": 338,
   "id": "9af7e985",
   "metadata": {},
   "outputs": [],
   "source": [
    "#train_df, val_df = train_test_split(df, test_size=0.2, random_state=42)\n",
    "train_Italy, val_Italy = train_test_split(population_of_Italy, test_size=0.2, random_state=42)"
   ]
  },
  {
   "cell_type": "code",
   "execution_count": 340,
   "id": "e74cbb9e",
   "metadata": {},
   "outputs": [
    {
     "data": {
      "text/plain": [
       "1970 Population    1970\n",
       "2022 Population    2022\n",
       "1990 Population    1990\n",
       "2010 Population    2010\n",
       "2000 Population    2000\n",
       "2020 Population    2020\n",
       "Name: Year, dtype: int64"
      ]
     },
     "execution_count": 340,
     "metadata": {},
     "output_type": "execute_result"
    }
   ],
   "source": [
    "y_val=val_Italy[99]\n",
    "X_val=val_Italy['Year']\n",
    "\n",
    "y_train = train_Italy[99]\n",
    "X_train=train_Italy['Year']\n",
    "X_train "
   ]
  },
  {
   "cell_type": "code",
   "execution_count": 341,
   "id": "8263347b",
   "metadata": {},
   "outputs": [],
   "source": [
    "y_val=np.array(y_val)\n",
    "y_train=np.array(y_train)\n",
    "\n",
    "X_val=np.array(X_val)\n",
    "X_val=X_val.reshape(-1, 1) \n",
    "X_val = poly.fit_transform(X_val.reshape(-1, 1))\n",
    "\n",
    "X_train=np.array(X_train)\n",
    "X_train=X_train.reshape(-1, 1)\n",
    "X_train = poly.fit_transform(X_train.reshape(-1, 1))"
   ]
  },
  {
   "cell_type": "code",
   "execution_count": 342,
   "id": "31ce539b",
   "metadata": {},
   "outputs": [
    {
     "name": "stdout",
     "output_type": "stream",
     "text": [
      "[[1.980000e+03 3.920400e+06]\n",
      " [2.015000e+03 4.060225e+06]]\n",
      "[[1.970000e+03 3.880900e+06]\n",
      " [2.022000e+03 4.088484e+06]\n",
      " [1.990000e+03 3.960100e+06]\n",
      " [2.010000e+03 4.040100e+06]\n",
      " [2.000000e+03 4.000000e+06]\n",
      " [2.020000e+03 4.080400e+06]]\n"
     ]
    }
   ],
   "source": [
    "print(X_val)\n",
    "print(X_train)"
   ]
  },
  {
   "cell_type": "code",
   "execution_count": 343,
   "id": "a403ab1e",
   "metadata": {},
   "outputs": [],
   "source": [
    "pipe = make_pipeline(StandardScaler(), LinearRegression())\n",
    "reg=pipe.fit(X_train, y_train) "
   ]
  },
  {
   "cell_type": "code",
   "execution_count": 344,
   "id": "2b5ccf69",
   "metadata": {},
   "outputs": [
    {
     "data": {
      "text/plain": [
       "0.9296499786378916"
      ]
     },
     "execution_count": 344,
     "metadata": {},
     "output_type": "execute_result"
    }
   ],
   "source": [
    "reg.score(X_train,y_train)"
   ]
  },
  {
   "cell_type": "code",
   "execution_count": 349,
   "id": "3300e6c9",
   "metadata": {},
   "outputs": [
    {
     "data": {
      "text/plain": [
       "0.6410942335227849"
      ]
     },
     "execution_count": 349,
     "metadata": {},
     "output_type": "execute_result"
    }
   ],
   "source": [
    "reg.score(X_val,y_val)"
   ]
  },
  {
   "cell_type": "code",
   "execution_count": 345,
   "id": "56f6cbe7",
   "metadata": {},
   "outputs": [
    {
     "data": {
      "text/plain": [
       "array([55103578.34799888, 59123206.32081731])"
      ]
     },
     "execution_count": 345,
     "metadata": {},
     "output_type": "execute_result"
    }
   ],
   "source": [
    "y_pred=reg.predict(X_val)\n",
    "y_pred"
   ]
  },
  {
   "cell_type": "code",
   "execution_count": 346,
   "id": "0ee60632",
   "metadata": {},
   "outputs": [
    {
     "data": {
      "text/plain": [
       "array([56329482, 60232906])"
      ]
     },
     "execution_count": 346,
     "metadata": {},
     "output_type": "execute_result"
    }
   ],
   "source": [
    "y_val"
   ]
  },
  {
   "cell_type": "code",
   "execution_count": 347,
   "id": "73651ad8",
   "metadata": {},
   "outputs": [],
   "source": [
    "allYears=np.array(population_of_Italy['Year'])\n",
    "allYears=poly.fit_transform(allYears.reshape(-1,1))\n",
    "#allYearsSq=poly.fit_transform(allYears)\n",
    "#allYears"
   ]
  },
  {
   "cell_type": "code",
   "execution_count": 348,
   "id": "f53d4d61",
   "metadata": {},
   "outputs": [
    {
     "data": {
      "text/plain": [
       "<matplotlib.collections.PathCollection at 0x7f2c5c81dc70>"
      ]
     },
     "execution_count": 348,
     "metadata": {},
     "output_type": "execute_result"
    },
    {
     "data": {
      "image/png": "[encoded data removed]",
      "text/plain": [
       "<Figure size 640x480 with 1 Axes>"
      ]
     },
     "metadata": {},
     "output_type": "display_data"
    }
   ],
   "source": [
    "plt.plot(np.array(population_of_Italy['Year']),\n",
    "         reg.predict(allYears),color='red')\n",
    "plt.scatter(np.array(population_of_Italy['Year']),np.array(population_of_Italy[99]))"
   ]
  },
  {
   "cell_type": "code",
   "execution_count": 316,
   "id": "090dcce5",
   "metadata": {},
   "outputs": [
    {
     "data": {
      "text/html": [
       "<div>\n",
       "<style scoped>\n",
       "    .dataframe tbody tr th:only-of-type {\n",
       "        vertical-align: middle;\n",
       "    }\n",
       "\n",
       "    .dataframe tbody tr th {\n",
       "        vertical-align: top;\n",
       "    }\n",
       "\n",
       "    .dataframe thead th {\n",
       "        text-align: right;\n",
       "    }\n",
       "</style>\n",
       "<table border=\"1\" class=\"dataframe\">\n",
       "  <thead>\n",
       "    <tr style=\"text-align: right;\">\n",
       "      <th></th>\n",
       "      <th>99</th>\n",
       "      <th>Year</th>\n",
       "    </tr>\n",
       "  </thead>\n",
       "  <tbody>\n",
       "    <tr>\n",
       "      <th>1970 Population</th>\n",
       "      <td>53324036</td>\n",
       "      <td>1970</td>\n",
       "    </tr>\n",
       "    <tr>\n",
       "      <th>1980 Population</th>\n",
       "      <td>56329482</td>\n",
       "      <td>1980</td>\n",
       "    </tr>\n",
       "    <tr>\n",
       "      <th>1990 Population</th>\n",
       "      <td>56756561</td>\n",
       "      <td>1990</td>\n",
       "    </tr>\n",
       "    <tr>\n",
       "      <th>2000 Population</th>\n",
       "      <td>56966397</td>\n",
       "      <td>2000</td>\n",
       "    </tr>\n",
       "    <tr>\n",
       "      <th>2010 Population</th>\n",
       "      <td>59822450</td>\n",
       "      <td>2010</td>\n",
       "    </tr>\n",
       "    <tr>\n",
       "      <th>2015 Population</th>\n",
       "      <td>60232906</td>\n",
       "      <td>2015</td>\n",
       "    </tr>\n",
       "    <tr>\n",
       "      <th>2020 Population</th>\n",
       "      <td>59500579</td>\n",
       "      <td>2020</td>\n",
       "    </tr>\n",
       "    <tr>\n",
       "      <th>2022 Population</th>\n",
       "      <td>59037474</td>\n",
       "      <td>2022</td>\n",
       "    </tr>\n",
       "  </tbody>\n",
       "</table>\n",
       "</div>"
      ],
      "text/plain": [
       "                       99  Year\n",
       "1970 Population  53324036  1970\n",
       "1980 Population  56329482  1980\n",
       "1990 Population  56756561  1990\n",
       "2000 Population  56966397  2000\n",
       "2010 Population  59822450  2010\n",
       "2015 Population  60232906  2015\n",
       "2020 Population  59500579  2020\n",
       "2022 Population  59037474  2022"
      ]
     },
     "execution_count": 316,
     "metadata": {},
     "output_type": "execute_result"
    }
   ],
   "source": [
    "population_of_Italy"
   ]
  },
  {
   "cell_type": "markdown",
   "id": "80677598",
   "metadata": {},
   "source": [
    "Overfitting exercise"
   ]
  },
  {
   "cell_type": "code",
   "execution_count": 392,
   "id": "51adfb39",
   "metadata": {},
   "outputs": [],
   "source": [
    "poly = PolynomialFeatures(degree=4, include_bias=False)\n",
    "\n",
    "y_val = val_Italy[99]\n",
    "X_val=val_Italy['Year']\n",
    "\n",
    "y_train = train_Italy[99]\n",
    "X_train=train_Italy['Year']\n",
    "\n",
    "y_val=np.array(y_val)\n",
    "y_train=np.array(y_train)\n",
    "\n",
    "X_val=np.array(X_val)\n",
    "X_val=X_val.reshape(-1, 1) \n",
    "X_val = poly.fit_transform(X_val.reshape(-1, 1))\n",
    "\n",
    "X_train=np.array(X_train)\n",
    "X_train=X_train.reshape(-1, 1)\n",
    "X_train = poly.fit_transform(X_train.reshape(-1, 1))"
   ]
  },
  {
   "cell_type": "code",
   "execution_count": 393,
   "id": "5517e241",
   "metadata": {},
   "outputs": [
    {
     "data": {
      "text/plain": [
       "0.9928904981129079"
      ]
     },
     "execution_count": 393,
     "metadata": {},
     "output_type": "execute_result"
    }
   ],
   "source": [
    "pipe = make_pipeline(StandardScaler(), LinearRegression())\n",
    "reg=pipe.fit(X_train, y_train) \n",
    "reg.score(X_train,y_train)"
   ]
  },
  {
   "cell_type": "code",
   "execution_count": 394,
   "id": "ff801240",
   "metadata": {},
   "outputs": [
    {
     "data": {
      "text/plain": [
       "0.8068838551339786"
      ]
     },
     "execution_count": 394,
     "metadata": {},
     "output_type": "execute_result"
    }
   ],
   "source": [
    "reg.score(X_val,y_val)"
   ]
  },
  {
   "cell_type": "code",
   "execution_count": 395,
   "id": "08b9cff5",
   "metadata": {},
   "outputs": [
    {
     "data": {
      "text/plain": [
       "array([57513907.56067604, 60494371.67786354])"
      ]
     },
     "execution_count": 395,
     "metadata": {},
     "output_type": "execute_result"
    }
   ],
   "source": [
    "y_pred=reg.predict(X_val)\n",
    "y_pred"
   ]
  },
  {
   "cell_type": "code",
   "execution_count": 396,
   "id": "f0aae315",
   "metadata": {},
   "outputs": [
    {
     "data": {
      "text/plain": [
       "<matplotlib.collections.PathCollection at 0x7f2c5d846e80>"
      ]
     },
     "execution_count": 396,
     "metadata": {},
     "output_type": "execute_result"
    },
    {
     "data": {
      "image/png": "[encoded data removed]",
      "text/plain": [
       "<Figure size 640x480 with 1 Axes>"
      ]
     },
     "metadata": {},
     "output_type": "display_data"
    }
   ],
   "source": [
    "allYears=np.array(population_of_Italy['Year'])\n",
    "allYears=poly.fit_transform(allYears.reshape(-1,1))\n",
    "\n",
    "plt.plot(np.array(population_of_Italy['Year']),\n",
    "         reg.predict(allYears),color='red')\n",
    "plt.scatter(np.array(population_of_Italy['Year']),np.array(population_of_Italy[99]))"
   ]
  },
  {
   "cell_type": "code",
   "execution_count": 328,
   "id": "faba87b1",
   "metadata": {},
   "outputs": [
    {
     "data": {
      "text/plain": [
       "array([6.07442439e+007, 8.30783930e+044, 3.88911803e+074, 1.81902231e+104,\n",
       "       8.50794626e+133, 8.30783930e+044, 1.81902231e+104, 3.97934369e+163,\n",
       "       8.70532270e+222, 1.90440056e+282, 6.02237867e+007, 1.13888152e+045,\n",
       "       6.24190793e+074, 3.41816477e+104, 1.87183881e+134, 1.13888152e+045,\n",
       "       3.41816477e+104, 1.02504729e+164, 3.07393592e+223, 9.21819135e+282])"
      ]
     },
     "execution_count": 328,
     "metadata": {},
     "output_type": "execute_result"
    }
   ],
   "source": [
    "y_pred"
   ]
  },
  {
   "cell_type": "code",
   "execution_count": 331,
   "id": "9c338a0c",
   "metadata": {},
   "outputs": [
    {
     "data": {
      "text/plain": [
       "20"
      ]
     },
     "execution_count": 331,
     "metadata": {},
     "output_type": "execute_result"
    }
   ],
   "source": [
    "len(X_val)"
   ]
  },
  {
   "cell_type": "markdown",
   "id": "1033c97f",
   "metadata": {},
   "source": [
    "## Plotting the coefficient of determination for different polynomial models"
   ]
  },
  {
   "cell_type": "code",
   "execution_count": 371,
   "id": "56cf672b",
   "metadata": {},
   "outputs": [],
   "source": [
    "from sklearn.metrics import mean_squared_error"
   ]
  },
  {
   "cell_type": "markdown",
   "id": "ba6f91d6",
   "metadata": {},
   "source": [
    "We try fitting polynomials up to x^5 and check the mean standard error between predicted data and validation data"
   ]
  },
  {
   "cell_type": "code",
   "execution_count": 407,
   "id": "a87fcd12",
   "metadata": {},
   "outputs": [],
   "source": [
    "#train_df, val_df = train_test_split(df, test_size=0.2, random_state=42)\n",
    "train_Italy, val_Italy = train_test_split(population_of_Italy, test_size=0.2, random_state=42)\n",
    "\n",
    "y_val = val_Italy[99]\n",
    "X_val=val_Italy['Year']\n",
    "\n",
    "y_train = train_Italy[99]\n",
    "X_train=train_Italy['Year']\n",
    "\n",
    "y_val=np.array(y_val)\n",
    "y_train=np.array(y_train)\n",
    "\n",
    "X_val=np.array(X_val)\n",
    "X_val=X_val.reshape(-1, 1) \n",
    "\n",
    "X_train=np.array(X_train)\n",
    "X_train=X_train.reshape(-1, 1)"
   ]
  },
  {
   "cell_type": "code",
   "execution_count": 408,
   "id": "a43899b5",
   "metadata": {},
   "outputs": [
    {
     "name": "stdout",
     "output_type": "stream",
     "text": [
      "1\n",
      "2\n",
      "3\n",
      "4\n",
      "5\n"
     ]
    }
   ],
   "source": [
    "mse_array_train=[]\n",
    "mse_array_val=[]\n",
    "for i in [1,2,3,4,5]:\n",
    "    print(i)\n",
    "    X_train=train_Italy['Year']\n",
    "    X_val=val_Italy['Year']\n",
    "    X_val=np.array(X_val)\n",
    "    X_train=np.array(X_train)\n",
    "    poly = PolynomialFeatures(degree=i, include_bias=False)\n",
    "    X_val = poly.fit_transform(X_val.reshape(-1, 1))\n",
    "    X_train = poly.fit_transform(X_train.reshape(-1, 1))\n",
    "    pipe = make_pipeline(StandardScaler(), LinearRegression())\n",
    "    reg=pipe.fit(X_train, y_train)\n",
    "    y_pred_train=reg.predict(X_train)\n",
    "    y_pred_val=reg.predict(X_val)\n",
    "    mse_array_train.append(mean_squared_error(y_train,y_pred_train))\n",
    "    mse_array_val.append(mean_squared_error(y_val,y_pred_val))\n",
    "    #print(reg.score(X_train,y_train))\n",
    "    #print(reg.score(X_val,y_val))\n",
    "    #print(mean_squared_error(y_pred,y_val))"
   ]
  },
  {
   "cell_type": "code",
   "execution_count": 409,
   "id": "f91c7d47",
   "metadata": {},
   "outputs": [
    {
     "data": {
      "text/plain": [
       "[543726445120.0418,\n",
       " 351848011081.25366,\n",
       " 288335776168.46906,\n",
       " 35557403541.8718,\n",
       " 8.625849483915738]"
      ]
     },
     "execution_count": 409,
     "metadata": {},
     "output_type": "execute_result"
    }
   ],
   "source": [
    "mse_array_train"
   ]
  },
  {
   "cell_type": "markdown",
   "id": "969d6db3",
   "metadata": {},
   "source": [
    "The minimum MSE between predicted data and validation data is obtained by fitting with a quartic polynomial"
   ]
  },
  {
   "cell_type": "code",
   "execution_count": 410,
   "id": "9fb22da6",
   "metadata": {},
   "outputs": [
    {
     "data": {
      "text/plain": [
       "[<matplotlib.lines.Line2D at 0x7f2c5b424fd0>]"
      ]
     },
     "execution_count": 410,
     "metadata": {},
     "output_type": "execute_result"
    },
    {
     "data": {
      "image/png": "[encoded data removed]",
      "text/plain": [
       "<Figure size 640x480 with 1 Axes>"
      ]
     },
     "metadata": {},
     "output_type": "display_data"
    }
   ],
   "source": [
    "plt.plot([1,2,3,4,5],mse_array_train)\n",
    "plt.plot([1,2,3,4,5],mse_array_val)"
   ]
  },
  {
   "cell_type": "code",
   "execution_count": null,
   "id": "1c728d41",
   "metadata": {},
   "outputs": [],
   "source": []
  }
 ],
 "metadata": {
  "kernelspec": {
   "display_name": "myenv",
   "language": "python",
   "name": "myenv"
  },
  "language_info": {
   "codemirror_mode": {
    "name": "ipython",
    "version": 3
   },
   "file_extension": ".py",
   "mimetype": "text/x-python",
   "name": "python",
   "nbconvert_exporter": "python",
   "pygments_lexer": "ipython3",
   "version": "3.9.15"
  }
 },
 "nbformat": 4,
 "nbformat_minor": 5
}
