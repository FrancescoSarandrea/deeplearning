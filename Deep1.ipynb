{
  "nbformat": 4,
  "nbformat_minor": 0,
  "metadata": {
    "colab": {
      "provenance": [],
      "authorship_tag": "ABX9TyPq1neFRwauqRAPz4AMuH3/",
      "include_colab_link": true
    },
    "kernelspec": {
      "name": "python3",
      "display_name": "Python 3"
    },
    "language_info": {
      "name": "python"
    }
  },
  "cells": [
    {
      "cell_type": "markdown",
      "metadata": {
        "id": "view-in-github",
        "colab_type": "text"
      },
      "source": [
        "<a href=\"https://colab.research.google.com/github/FrancescoSarandrea/deeplearning/blob/main/Deep1.ipynb\" target=\"_parent\"><img src=\"https://colab.research.google.com/assets/colab-badge.svg\" alt=\"Open In Colab\"/></a>"
      ]
    },
    {
      "cell_type": "markdown",
      "source": [
        "** email** = umberto.ferraro@uniroma1.it"
      ],
      "metadata": {
        "id": "hEEucb61jjih"
      }
    },
    {
      "cell_type": "code",
      "source": [],
      "metadata": {
        "id": "bplQNUhGjikQ"
      },
      "execution_count": null,
      "outputs": []
    },
    {
      "cell_type": "markdown",
      "source": [
        "# Brevissima introduzione a Google Colab.\n",
        "Attraverso il servizio Google Colab posso creare dei notebook. Questi operano come contenitori di codice Python e documentabile. questo codice, cioe, puo' essere eseguito utilizzando i server che Google mette a disposizione. I notebook di Colab sono raccolte di celle testo (*Text Cell*) e celle codice (*Cell Code*). Le prime ospitano dei frammenti di testo formattati utilizzando il linguaggio **MathML**. Per questo linguaggio esistono numerose risorse on-line e non e' ogetto di approfondimento in questo corso. Le celle di tipo codice ospitano frammenti di codice Python da eseguire i server di Google. Alla nostra prima esecuzione di un codice Python Googleci riserva una macchina virtuale a noi dedicata. Da quel momento in poi tutto il codice che eseguiremo girera' in quella macchina virtuale in un interprete Python a noi dedicato. E' possibile gestire l'interprete Python che stuamo usando atraverso il menu **RunTime**."
      ],
      "metadata": {
        "id": "Dk2zM9xYOeMP"
      }
    },
    {
      "cell_type": "code",
      "source": [
        "print(\"Ciao a tutti!\")\n",
        "print(\"Ho detto ciao\")\n",
        "print(\"Mi sentite?\")"
      ],
      "metadata": {
        "colab": {
          "base_uri": "https://localhost:8080/"
        },
        "id": "P8zaQOHXQcE2",
        "outputId": "30198112-65ac-40ce-e248-4697c509cf61"
      },
      "execution_count": null,
      "outputs": [
        {
          "output_type": "stream",
          "name": "stdout",
          "text": [
            "Ciao a tutti!\n",
            "Ho detto ciao\n",
            "Mi sentite?\n"
          ]
        }
      ]
    },
    {
      "cell_type": "markdown",
      "source": [
        "#Python\n",
        "##Tipi primitivi\n",
        "Python consente la relaizzazione di applicazioni per la manipolazione di dati. Come prerequisito e' necessario codificare questi dati in memoria. Per codificare questi dati occorre fare ricorso ad uni dei tipi di dato disponibili in Python. Il linguaggio differisce de molti altri nel fatto che i tipi di dato sono apparentemente limitati.\n",
        "\n",
        "* **Tipi numerici**\n",
        "\n",
        "* int\n",
        "* float\n",
        "* complex\n",
        "\n",
        "* **Tipi booleani**\n",
        "* bool\n",
        "\n",
        "* **Sequenze di caratteri**\n",
        "* str\n",
        "\n",
        "Notiamo la limitata disponibilita' dei tipi di dato in Python. Nel caso dei tipi numerici abbiamo solo tre scelte. A differenza di altri linguaggi, non e' possibile selezionare la precisione nella rappresentazione. E' il linguaggio al posto nostro a sceglliere la precisione da usare in vase alla lunghezza del valore da conservare. La taglia massima che puo' raggiungere un valore in memoria e' unicamente limitata dalla stessa memoria disponibile. \n",
        "##Operatori numerici\n",
        "Introduciamo adesso gli operatori disponibili per la manipolazione di tipi numerici. Approfondiamo il caso degli interi, gli stessi operatori sono disponibili anche per gli altri numerici."
      ],
      "metadata": {
        "id": "kZ6pkm2ORTfP"
      }
    },
    {
      "cell_type": "code",
      "source": [
        "print(4+7) #addizione\n",
        "print(4-7) #sottrazione\n",
        "print(4*7) #moltiplicazione\n",
        "print(4/7) #divisione\n",
        "\n",
        "'''\n",
        "nella sezione sottostante introduciamo casi meno ovvi:\n",
        "-esponenziazione\n",
        "-resto della divisione\n",
        "-parte intera della divisione\n",
        "'''\n",
        "print(4**7)\n",
        "print(7%4)\n",
        "print(7//4)"
      ],
      "metadata": {
        "colab": {
          "base_uri": "https://localhost:8080/"
        },
        "id": "QZ5FTwS2TWDx",
        "outputId": "e3633725-a6eb-4730-a33f-56564a786778"
      },
      "execution_count": null,
      "outputs": [
        {
          "output_type": "stream",
          "name": "stdout",
          "text": [
            "11\n",
            "-3\n",
            "28\n",
            "0.5714285714285714\n",
            "16384\n",
            "3\n",
            "1\n"
          ]
        }
      ]
    },
    {
      "cell_type": "markdown",
      "source": [
        "Spesso si rende necessario assemblare delle espressioni che facciano uso di piu' operatori contemporaneamente.Nel caso di Python, in presenza di piu' operatori, si da' priorita' alle senguenti operazioni:\n",
        "\n",
        "* esponenziazione\n",
        "* divisioni, moltiplicazioni\n",
        "* addizioni, sottrazioni\n",
        "\n",
        "Nel caso di pareggio, sono valutate le operazioni incontrate per prime, da sinistra verso destra. Possiamo scegliere un ordine arbitratio usando le parentesi tonde."
      ],
      "metadata": {
        "id": "N2HmCXWWUDtj"
      }
    },
    {
      "cell_type": "code",
      "source": [
        "(4+7)*5\n",
        "4+7*5"
      ],
      "metadata": {
        "colab": {
          "base_uri": "https://localhost:8080/"
        },
        "id": "8YX_nVrXUMH9",
        "outputId": "87e34860-4f15-41f1-cdf8-6ebcc58a0966"
      },
      "execution_count": null,
      "outputs": [
        {
          "output_type": "execute_result",
          "data": {
            "text/plain": [
              "39"
            ]
          },
          "metadata": {},
          "execution_count": 5
        }
      ]
    },
    {
      "cell_type": "markdown",
      "source": [
        "## Operratori di confronto\n",
        "E' possibile confrontare coppie di valori rispettoa alla relazione d'ordine naturale, ottenendo come risultato dei booleani, usando i seguenti operatori:"
      ],
      "metadata": {
        "id": "6_5AjJ6OVQ-q"
      }
    },
    {
      "cell_type": "code",
      "source": [
        "print(7>4)\n",
        "print(7>=4)\n",
        "print(7!=4)\n",
        "print(7<=4)"
      ],
      "metadata": {
        "colab": {
          "base_uri": "https://localhost:8080/"
        },
        "id": "nFwwskJtVZ8u",
        "outputId": "312da8b4-4886-40c1-dbd8-100013009403"
      },
      "execution_count": null,
      "outputs": [
        {
          "output_type": "stream",
          "name": "stdout",
          "text": [
            "True\n",
            "True\n",
            "True\n",
            "False\n"
          ]
        }
      ]
    },
    {
      "cell_type": "markdown",
      "source": [
        "# Tipi booleani\n",
        "Consentono di codificare due stati: True e False.\n",
        "Date due espressioni di tipo booleano, posso combinarle usando operatori booleani. "
      ],
      "metadata": {
        "id": "21-iF0m0V3_B"
      }
    },
    {
      "cell_type": "code",
      "source": [
        "print(7>4)\n",
        "print(3>1)\n",
        "print((7>11) and (3>1))\n",
        "print((7>11) or (3>1))\n",
        "\n",
        "# l'operatore not restituisce True se l'espressione in input e' False, altrimenti False\n",
        "print(not(7>11))"
      ],
      "metadata": {
        "colab": {
          "base_uri": "https://localhost:8080/"
        },
        "id": "DiwiVzt9WFfQ",
        "outputId": "4209ae67-f94f-4011-8174-968ea235a14e"
      },
      "execution_count": null,
      "outputs": [
        {
          "output_type": "stream",
          "name": "stdout",
          "text": [
            "True\n",
            "True\n",
            "False\n",
            "True\n",
            "True\n"
          ]
        }
      ]
    },
    {
      "cell_type": "markdown",
      "source": [
        "### Tipi di stringhe\n",
        "Le stringhe sono sequenze di caratteri la cui taglia e' limitata dalla memoria disponibile. Esistono diverse sintassi per la creazione di una stringa in Python. Esistono divese sintassi e differiscono in base al carattere usato come delimitatore. In caso ce ne fosse bisogno e' possibile definire stringhe al cui interno e' presente testo arbitrario. E' possibile proteggere il contenuto di una stringa facendo precedere il contenuto dal carattere \\.\n"
      ],
      "metadata": {
        "id": "M3g_3sxaW8DL"
      }
    },
    {
      "cell_type": "code",
      "source": [
        "print(\"questa espressione e' vera\")\n",
        "print(\"anche quest'espressione e' vera\")\n",
        "print(\"\"\"Ho detto che l'altra espressione e' \n",
        "\n",
        "\n",
        "\"vera\" \"\"\")\n",
        "print('anche quest\\'altra espressione e\\' vera')"
      ],
      "metadata": {
        "colab": {
          "base_uri": "https://localhost:8080/"
        },
        "id": "cwz4iiv3XMjV",
        "outputId": "c2f5196c-3dc4-43e8-b86b-618d09750ece"
      },
      "execution_count": null,
      "outputs": [
        {
          "output_type": "stream",
          "name": "stdout",
          "text": [
            "questa espressione e' vera\n",
            "anche quest'espressione e' vera\n",
            "Ho detto che l'altra espressione e' \n",
            "\n",
            "\n",
            "\"vera\" \n",
            "anche quest'altra espressione e' vera\n"
          ]
        }
      ]
    },
    {
      "cell_type": "markdown",
      "source": [
        "Le stringe in Python sono _immutable_ (immutabili), non e' cioe' possibile modificarne il contenuto. E' possibile accedere al loro contenuto per mezzo dell'operatore []. Indicando la posizione del carattere di una stringa, e' possibile leggerne il valore. Ricordiamo che i caratteri iniziano dalla posizione 0. Lo stesso operatore puo' essere usato anche per selezionare intervalli di caratteri (operatori di _slicing_)."
      ],
      "metadata": {
        "id": "c_Ul48MSYjNk"
      }
    },
    {
      "cell_type": "code",
      "source": [
        "'abracadabra'[2] #accedo ad un singolo carattere\n",
        "'abracadabra'[2:5] #accedo ad una sottostringa\n",
        "'abracadabra'[2:] #accedo alla sottostringa che parte da 2 fino allla fine\n",
        "'abracadabra'[:5] # a partire dal quinto carattere\n",
        "'abracadabra'[:] #clono la stringa\n",
        "'abracadabra'[::2] #seleziona caratteri a step di distanza 2\n",
        "'abracadabra'[1::2] #seleziona i caratteri di indice dispari\n",
        "'abracadabra'[::-2] #seleziono i caratteri di indice pari da destra verso sinistra\n",
        "'abracadabra'[::-1]#rovescio la stringa\n",
        "'abracadabra'[:-2] #seleziona tutti i caratteri e si ferma a 2 caratteri dalla fine\n",
        "\n",
        "#e' possibile utilizzare alcuni degli operatori aritmetici su stringhe \n",
        "'abra' + 'cadabra'\n",
        "'abracadabra'*3\n",
        "'e'+'abracadabra'[1:]\n",
        "len('abracadabra')\n",
        "'abracadabra'.upper() #tutto maiuscolo\n",
        "'abracadabra'.lower() #tutto minuscolo"
      ],
      "metadata": {
        "colab": {
          "base_uri": "https://localhost:8080/",
          "height": 35
        },
        "id": "72zuUoZxY5wn",
        "outputId": "c8d287ab-69ad-445d-b8d8-327a7ee16f22"
      },
      "execution_count": null,
      "outputs": [
        {
          "output_type": "execute_result",
          "data": {
            "text/plain": [
              "'abracadabra'"
            ],
            "application/vnd.google.colaboratory.intrinsic+json": {
              "type": "string"
            }
          },
          "metadata": {},
          "execution_count": 30
        }
      ]
    },
    {
      "cell_type": "markdown",
      "source": [
        "## Le variabili in Python\n",
        "Nelle nostre applicazioni i dati sono precentivamente caricati in memoria e facciamo riferimento ad essi attraverso delle variabili. Ciascuna variabile punta ad un dato presente in memoria e possiede un proprio *identificatore* attraverso il quale puo' essere richiamato. Tipicamente, in altri linguaggi di programmazione, si dichiarano le variabili che si intendono usare. Cioe', per ciascuna variabile, si sceglie **tipo** e **identificatore**. Questa fase e' assente in Python, per cui non occorre dichiarare preventivamente le variabili. Una variabile nasce nel momento in cui la si inizia ad usare. L'approccio usato da Python e' il cossiddetto *duck typing* (if it quacks like a duck, it's a duck). La scelta degli identificatori per una variabile deve sottostare a delle semplici regole. Il nome puo' contenere solo lettere (maiuscole e minuscole) e numeri, non puo' iniziare se non con una lettera. L'unico caratteres epciale consentito e' il carattere _. "
      ],
      "metadata": {
        "id": "Tzwmg_Fsb07s"
      }
    },
    {
      "cell_type": "code",
      "source": [
        "somma=0\n",
        "type(somma)\n",
        "print(somma)"
      ],
      "metadata": {
        "colab": {
          "base_uri": "https://localhost:8080/"
        },
        "id": "h4KL4_nzcrXk",
        "outputId": "219a8e2d-1c1e-4af7-a044-352614f94f27"
      },
      "execution_count": null,
      "outputs": [
        {
          "output_type": "stream",
          "name": "stdout",
          "text": [
            "0\n"
          ]
        }
      ]
    },
    {
      "cell_type": "markdown",
      "source": [
        "E' possibile indagare il tpo di una variabile attraverso la variabile **type**."
      ],
      "metadata": {
        "id": "1wjh0QIqdovA"
      }
    },
    {
      "cell_type": "code",
      "source": [
        "type(somma) is int\n",
        "type(somma) is str\n",
        "type(somma) is bool\n",
        "type(somma) is float"
      ],
      "metadata": {
        "colab": {
          "base_uri": "https://localhost:8080/"
        },
        "id": "3yyc-0Cmd0yA",
        "outputId": "88cc1cb7-259f-4b39-94b6-c8ed11603cda"
      },
      "execution_count": null,
      "outputs": [
        {
          "output_type": "execute_result",
          "data": {
            "text/plain": [
              "False"
            ]
          },
          "metadata": {},
          "execution_count": 36
        }
      ]
    },
    {
      "cell_type": "markdown",
      "source": [
        "Sono disponibili inoltre delle funzioni per la conversione tra tipi."
      ],
      "metadata": {
        "id": "TyklLFUGeY5x"
      }
    },
    {
      "cell_type": "code",
      "source": [
        "numero='211'\n",
        "type(int(numero))\n",
        "bool(1) #qualunque numero diverso da 0 e' convertito in bool True \n",
        "bool(0)\n",
        "bool('qreq') #qualunque stringa non vuota e' convertita in bool True\n",
        "bool('')"
      ],
      "metadata": {
        "colab": {
          "base_uri": "https://localhost:8080/"
        },
        "id": "mLKgSN5jedy8",
        "outputId": "0e3f88ce-35a4-4c5b-b58e-3bb9ec07767f"
      },
      "execution_count": null,
      "outputs": [
        {
          "output_type": "execute_result",
          "data": {
            "text/plain": [
              "False"
            ]
          },
          "metadata": {},
          "execution_count": 42
        }
      ]
    },
    {
      "cell_type": "markdown",
      "source": [
        "#Funzioni Input/Output\n",
        "Introduciamo brevemente alcune funzioni necessarie per interagire con le nostre applicazioni Python."
      ],
      "metadata": {
        "id": "ixA-s28JlvxX"
      }
    },
    {
      "cell_type": "code",
      "source": [
        "stringa=input('Inserisci stringa')\n"
      ],
      "metadata": {
        "colab": {
          "base_uri": "https://localhost:8080/"
        },
        "id": "C7xEtd5ll6x_",
        "outputId": "55d0414c-c22b-4fda-8a00-d29ccc9c4334"
      },
      "execution_count": null,
      "outputs": [
        {
          "name": "stdout",
          "output_type": "stream",
          "text": [
            "Inserisci stringaabracadabra\n"
          ]
        }
      ]
    },
    {
      "cell_type": "code",
      "source": [
        "print('Stringa di prova')\n",
        "a=5\n",
        "b=7\n",
        "somma=a+b\n",
        "print('La somma di '+ str(a) + ' e ' + str(b) + \" e': \" +str(somma))\n",
        "print(f\"La somma di {a} e {b} e': {somma}\")\n",
        "print(f\"Il rapporto di {a} e {b} e': {a/b:07.5}\")"
      ],
      "metadata": {
        "colab": {
          "base_uri": "https://localhost:8080/"
        },
        "id": "olsAHWismMvP",
        "outputId": "c5eeadee-24df-417a-c50a-4a3de2e3d81f"
      },
      "execution_count": null,
      "outputs": [
        {
          "output_type": "stream",
          "name": "stdout",
          "text": [
            "Stringa di prova\n",
            "La somma di 5 e 7 e': 12\n",
            "La somma di 5 e 7 e': 12\n",
            "Il rapporto di 5 e 7 e': 0.71429\n"
          ]
        }
      ]
    },
    {
      "cell_type": "code",
      "source": [
        "#Il metodo split partiziona uan stringa in una raccolta di stringhe utilizzando il carattere acquisito in input come separatore\n",
        "stringa= '5;Tizio;Rossi;32'\n",
        "stringa.split(';')[2]"
      ],
      "metadata": {
        "colab": {
          "base_uri": "https://localhost:8080/",
          "height": 35
        },
        "id": "T-gOXHvenmym",
        "outputId": "9125cdc9-86dd-4141-e194-99a3b090820e"
      },
      "execution_count": null,
      "outputs": [
        {
          "output_type": "execute_result",
          "data": {
            "text/plain": [
              "'Rossi'"
            ],
            "application/vnd.google.colaboratory.intrinsic+json": {
              "type": "string"
            }
          },
          "metadata": {},
          "execution_count": 54
        }
      ]
    },
    {
      "cell_type": "markdown",
      "source": [
        "## Il costrutto if\n",
        "Nella redazione del nostro codice capita frequentemente di vincolare l'esecuzione di un certo blocco di istruzioni al verificarsi di una certa condizione booleana. Questo comportamento puo' essere codificato in Python attraverso il costrutto **if**. La sintassi d'uso prevede l'indicazione della _keyword_ **if**, seguita dalla condizione booleana da testare e dal carattere **:** . A partire dalla riga successiva, spostato a destra rispetto alla posizione iniziale di **if**, andra' riportato il blocco di codice da eseguire se la condizione e' vera."
      ],
      "metadata": {
        "id": "GoDjZ7_ZvwoX"
      }
    },
    {
      "cell_type": "code",
      "source": [
        "a=5\n",
        "\n",
        "if a>0:\n",
        "  print('positivo')\n",
        "else:\n",
        "  print('negativo')\n",
        "\n",
        "print('basta')"
      ],
      "metadata": {
        "colab": {
          "base_uri": "https://localhost:8080/"
        },
        "id": "v2BF7AQCwtjN",
        "outputId": "8a105002-239f-4dc7-957e-bd64b520b41e"
      },
      "execution_count": null,
      "outputs": [
        {
          "output_type": "stream",
          "name": "stdout",
          "text": [
            "positivo\n",
            "basta\n"
          ]
        }
      ]
    },
    {
      "cell_type": "code",
      "source": [
        "if a>0:\n",
        "   print('positivo')\n",
        "elif a==0:\n",
        "   print('nullo')\n",
        "else:\n",
        "   print('negativo')\n"
      ],
      "metadata": {
        "colab": {
          "base_uri": "https://localhost:8080/"
        },
        "id": "qVMlpjZFxjHH",
        "outputId": "d58341a9-cf53-4b49-ac32-701a12202f41"
      },
      "execution_count": null,
      "outputs": [
        {
          "output_type": "stream",
          "name": "stdout",
          "text": [
            "positivo\n"
          ]
        }
      ]
    },
    {
      "cell_type": "markdown",
      "source": [
        "# Il costrutto while\n",
        "Capita frequentemente di dover eseguire un certo blocco di codice ripetutamente, fintanto che una certa condizione e' soddisfatta. E' possibile codificare soluzioni del genere in python usando cicli **while**.\n",
        "Sintassi: indicazione della _keyword_ **while**, seguita dalla condizione da verificarsi e dal carattere **:**. A partire dalla riga successiva usiamo la stessa indentazione di **if**. "
      ],
      "metadata": {
        "id": "B9IfiW7YyTOT"
      }
    },
    {
      "cell_type": "code",
      "source": [
        "a=5\n",
        "\n",
        "while a>0:\n",
        "  print(a)\n",
        "  a=a-1"
      ],
      "metadata": {
        "colab": {
          "base_uri": "https://localhost:8080/"
        },
        "id": "6NsIapACy421",
        "outputId": "1c2938f5-775d-454a-a17f-d9c4b436e307"
      },
      "execution_count": null,
      "outputs": [
        {
          "output_type": "stream",
          "name": "stdout",
          "text": [
            "5\n",
            "4\n",
            "3\n",
            "2\n",
            "1\n"
          ]
        }
      ]
    },
    {
      "cell_type": "markdown",
      "source": [
        "Di norma quando si incontra un ciclo while se ne esegue ripetutamente il contenuto finche' la condizione di ripetizione non e' piu' vera. Tuttavia ci sono casi in cui desideriamo poter governare esplicitamente il funzionamento di questo ciclo."
      ],
      "metadata": {
        "id": "KtWHQg7TzMbD"
      }
    },
    {
      "cell_type": "code",
      "source": [
        "'''\n",
        "Nell'esempio seguente l'utente ha la possibilita' di inserire un numero variabile di valori. Una volta terminato, l'applicazione ne mostrera' a schermo la somma\n",
        "'''\n",
        "somma=0\n",
        "x=input('inserisci il prossimo valore (0 per uscire): ')\n",
        "\n",
        "while bool(int(x)):\n",
        "  somma+=int(x)\n",
        "  x=input('inserisci il prossimo valore (0 per uscire): ')\n",
        "\n",
        "print(f\"La somma e': {somma}\")"
      ],
      "metadata": {
        "id": "DxMz3SYSzdOW"
      },
      "execution_count": null,
      "outputs": []
    },
    {
      "cell_type": "code",
      "source": [
        "somma=0\n",
        "x=input('inserisci il prossimo valore (0 per uscire): ')\n",
        "\n",
        "while True:\n",
        "  x=input('inserisci il prossimo valore (0 per uscire): ')\n",
        "  if not(x.isdecimal()):\n",
        "    print(\"Il valore inserito non e' valido\")\n",
        "    continue\n",
        "\n",
        "  if int(x)==0:\n",
        "    break\n",
        "\n",
        "  somma+= int(x)\n",
        "\n",
        "print(f\"La somma e': {somma}\")\n"
      ],
      "metadata": {
        "colab": {
          "base_uri": "https://localhost:8080/"
        },
        "id": "LQuK7Xxl0ltM",
        "outputId": "aa92396c-8f23-4fd6-e8e3-f8570f41d464"
      },
      "execution_count": null,
      "outputs": [
        {
          "output_type": "stream",
          "name": "stdout",
          "text": [
            "inserisci il prossimo valore (0 per uscire): 0\n",
            "inserisci il prossimo valore (0 per uscire): 0\n",
            "La somma e': 0\n"
          ]
        }
      ]
    },
    {
      "cell_type": "markdown",
      "source": [
        "## Il costrutto for\n",
        "Il costrutto for ci consente di iterare sugli elementi di una _collection_. Se abbiamo un insieme di valori e dobbiamo processarli uno ad uno, secondo un ordine qualsiasi. Utilizzando un ciclo for si possono pescarli secondo un ordine no noto a priori e processarli uno alla volta."
      ],
      "metadata": {
        "id": "_CFo6WC22whK"
      }
    },
    {
      "cell_type": "code",
      "source": [
        "for c in \"abracadabra\":\n",
        "  print(c)"
      ],
      "metadata": {
        "colab": {
          "base_uri": "https://localhost:8080/"
        },
        "id": "NO_OBdiu3J4W",
        "outputId": "2bb1c0ce-6e90-4246-f733-b73b9fb6b683"
      },
      "execution_count": null,
      "outputs": [
        {
          "output_type": "stream",
          "name": "stdout",
          "text": [
            "a\n",
            "b\n",
            "r\n",
            "a\n",
            "c\n",
            "a\n",
            "d\n",
            "a\n",
            "b\n",
            "r\n",
            "a\n"
          ]
        }
      ]
    },
    {
      "cell_type": "markdown",
      "source": [
        "Spesso altrove il ciclo for viene utilizzato in congiunzione ad una variabile, tipicamente un indice posizionale. In Python questo puo' essere fatto utilizzando la funzione range()."
      ],
      "metadata": {
        "id": "x-cxTUei3dgL"
      }
    },
    {
      "cell_type": "code",
      "source": [
        "for i in range(-4,10):\n",
        "  print(i)\n",
        "\n"
      ],
      "metadata": {
        "colab": {
          "base_uri": "https://localhost:8080/"
        },
        "id": "PEP435-J3mrW",
        "outputId": "00c8537c-3bd7-48e7-ec17-008353537b9e"
      },
      "execution_count": null,
      "outputs": [
        {
          "output_type": "stream",
          "name": "stdout",
          "text": [
            "-4\n",
            "-3\n",
            "-2\n",
            "-1\n",
            "0\n",
            "1\n",
            "2\n",
            "3\n",
            "4\n",
            "5\n",
            "6\n",
            "7\n",
            "8\n",
            "9\n"
          ]
        }
      ]
    },
    {
      "cell_type": "markdown",
      "source": [
        "# Le funzioni in Python\n",
        "Nell'affrontare la risoluzione di problemi complessi si privilegia la possibilita' di decomporre questi problemi in problemmi piu' semplii da risolvere mediante l'uso di funzioni. Una funzione e' un blocco di codice che assolve a un certo scopo secondo un'interfaccia formalizzata. E' quini prevista una fase formale in cui si dichiara il corpo della funzione (_body_) e l'interfaccia della funzione (_header_). L'uso delle funzioni e' quindi raccomandato sia per affrontare problemi di mdia/grande complessita' ma anche per favorire la riusabilita' e la manutenibilita' del codice. In python e' prevista la possibilita' di definire ed utilizzare funzioni. \n",
        "\n",
        "E' possibile definire una nuova funzione mediaante la keyword **def**, seguita da un identificatore per la stessa e, tra parentesi tonde, dall'elenco dei parametri.\n",
        "\n",
        "L'esecuzione della funzione comporta "
      ],
      "metadata": {
        "id": "Rg72-AjBH0dj"
      }
    },
    {
      "cell_type": "code",
      "source": [
        "def greet():\n",
        "  print(\"Hi!\")"
      ],
      "metadata": {
        "id": "UNxTu8HQI3bT"
      },
      "execution_count": null,
      "outputs": []
    },
    {
      "cell_type": "markdown",
      "source": [
        "In un momento succesivo, e' possibile eseguire una funzione precedentemente definita invocandola per nome ed indicando tra parentesi gli eventuali argomenti."
      ],
      "metadata": {
        "id": "q5r_G9p5Ja99"
      }
    },
    {
      "cell_type": "code",
      "source": [
        "greet()"
      ],
      "metadata": {
        "colab": {
          "base_uri": "https://localhost:8080/"
        },
        "id": "qQytjyrOJZuX",
        "outputId": "4c486f72-de78-4698-e05a-e19bc553a7f1"
      },
      "execution_count": null,
      "outputs": [
        {
          "output_type": "stream",
          "name": "stdout",
          "text": [
            "Hi!\n"
          ]
        }
      ]
    },
    {
      "cell_type": "markdown",
      "source": [
        "Nel caso di Python, differentemente da altri linguaggi, quando si definisce una funzione non occorreindicare il tipo di dato dei suoi argumenti."
      ],
      "metadata": {
        "id": "sjl1aabRJ6Ln"
      }
    },
    {
      "cell_type": "code",
      "source": [
        "def greet(name):\n",
        "  print(f\"Hello {name}!\")"
      ],
      "metadata": {
        "id": "6URZXj9kJ0pc"
      },
      "execution_count": null,
      "outputs": []
    },
    {
      "cell_type": "code",
      "source": [
        "greet(\"Francesco\")"
      ],
      "metadata": {
        "colab": {
          "base_uri": "https://localhost:8080/"
        },
        "id": "l1WXc5h-KHd9",
        "outputId": "d79384ce-1d17-4996-f4d4-046958e0148d"
      },
      "execution_count": null,
      "outputs": [
        {
          "output_type": "stream",
          "name": "stdout",
          "text": [
            "Hello Francesco!\n"
          ]
        }
      ]
    },
    {
      "cell_type": "markdown",
      "source": [
        "In alcuni casi e' buona pratica inserire un check opzionale, che puo' essere attivato a seconda del caso.\n",
        "In python non e' necessario dichiarare il tipo di valore restituito da una funzione, ne' il fatto che ci sia un valore di ritorno."
      ],
      "metadata": {
        "id": "qY3LpUpAL0W1"
      }
    },
    {
      "cell_type": "code",
      "source": [
        "'''\n",
        "La funzoine sum somma il contenuto di due variabili assumentdo che siano numeriche.\n",
        "Opzionalmente e' possibile attivare un safety check per verificare la correttezza di questi tipi prima di procedere\n",
        "'''\n",
        "\n",
        "def sum(a,b,safety_check=False):\n",
        "  if safety_check:.\n",
        "     if type(a) is not int or type(b) is not int:\n",
        "       print(\"Invalid input\")\n",
        "       return      \n",
        "  return a+b\n",
        "\n",
        "print(sum(\"3\",4,True))"
      ],
      "metadata": {
        "colab": {
          "base_uri": "https://localhost:8080/"
        },
        "id": "lU8yGD9RKkBl",
        "outputId": "885a3797-7a51-41fe-e7c9-eb21b93f7253"
      },
      "execution_count": null,
      "outputs": [
        {
          "output_type": "stream",
          "name": "stdout",
          "text": [
            "Invalid input\n",
            "None\n"
          ]
        }
      ]
    },
    {
      "cell_type": "markdown",
      "source": [
        "Negli esempi precedenti i valori degli argomenti erano passati per posizione. Questo non e' necessario. Python supporta anche i **named arguments**, per cui e' possibile specificare i parametri in un ordine qualsiasi."
      ],
      "metadata": {
        "id": "ZPWm1rStMCYr"
      }
    },
    {
      "cell_type": "code",
      "source": [
        "sum(safety_check=True,a=3,b=6)"
      ],
      "metadata": {
        "colab": {
          "base_uri": "https://localhost:8080/"
        },
        "id": "FylLUm5MMUhZ",
        "outputId": "fe5fd749-81bb-48ea-88dd-f9a617dba5b3"
      },
      "execution_count": null,
      "outputs": [
        {
          "output_type": "execute_result",
          "data": {
            "text/plain": [
              "9"
            ]
          },
          "metadata": {},
          "execution_count": 16
        }
      ]
    },
    {
      "cell_type": "markdown",
      "source": [
        "In Python ogni variabile ha un suo ambito di visibilita'. All'interno di una funzione e' possibile accedere  alla variabile localmente a quella funzione. Se si vuole accedere a una variabile esterna all'interno di una funzione, bisogna aggiungere l'attributo **global**."
      ],
      "metadata": {
        "id": "0lZxcRFkMeqp"
      }
    },
    {
      "cell_type": "code",
      "source": [
        "#Inizialmente somma e' una variabile globale, accessibile in sola lettura dalle funzioni\n",
        "def sum(a,b):\n",
        "  \n",
        "  #se ho bisogno di modificare il valore di una variabile la definisco come global\n",
        "  global somma \n",
        "  somma=a+b\n",
        "sum(6,7)\n",
        "#ritrovo l'aggiornamento precedentemente fatto all'interno della funzione\n",
        "print(somma)"
      ],
      "metadata": {
        "id": "zLIEkIGdYi-A"
      },
      "execution_count": null,
      "outputs": []
    },
    {
      "cell_type": "markdown",
      "source": [
        "## Le strutture dati di Python\n",
        "Negli esempi visti finora i dati erano singoli valori. Questo e' irrealistico, nella relata' si lavora con dataset di numerose variabili. Ci occorrono quindi delle strutture dati che ci consentano di conservare questi dataset in memoria ed organizzarli per predisporli a certi tipi di analisi. Python offre l'implementazione di diverse strutture dati utili per gestire numerosi casi applicativi. Tutte queste strutture dati, pur essendo internamente organizzate in modo diverso, sono tutte assimilabili a delle collezioni."
      ],
      "metadata": {
        "id": "9YloZ_SAZGTV"
      }
    },
    {
      "cell_type": "markdown",
      "source": [
        "# Le tuple\n",
        "La tupla e' una struttura dati di Python che consente di mantenere collezioni **immutabili** di valori **eterogenei**. Un tipico esempio d'uso e' quello della codifica dei record acquisiti da una base dati. Nella sintassi di Python e' possibile definire una nuova tupla come (ex1,ex2,ex2)."
      ],
      "metadata": {
        "id": "koZytZTdZ6NT"
      }
    },
    {
      "cell_type": "code",
      "source": [
        "t1=(13,'Ugo','Rossi',25,True)\n",
        "t2=(14,'Eva','Bianchi',28,False)\n",
        "t3=(14,'Eva','Bianchi',False,28)"
      ],
      "metadata": {
        "id": "VPJwTun7afd9"
      },
      "execution_count": null,
      "outputs": []
    },
    {
      "cell_type": "markdown",
      "source": [
        "Si accede al contenuto della tupla con l'operatore **[ ]** indicando la posizione/range di posizioni di elemento/i. Come per le stringhe, le tuple non possono essere modificate. Una tupla di un solo valore e' scritta come: (elemento,) ."
      ],
      "metadata": {
        "id": "tn3ZnP4Ja2Jv"
      }
    },
    {
      "cell_type": "code",
      "source": [
        "tupla_corta=(1,)\n",
        "t1=(13,'Ugo','Rossi',25,True,(12,2,1987),('Via Tal dei Tali','Roma'))\n",
        "len(t1)"
      ],
      "metadata": {
        "colab": {
          "base_uri": "https://localhost:8080/"
        },
        "id": "UhqBLKCTbaiY",
        "outputId": "c95b7b5b-2b48-44f2-f30c-65d890ecc3ae"
      },
      "execution_count": null,
      "outputs": [
        {
          "output_type": "execute_result",
          "data": {
            "text/plain": [
              "7"
            ]
          },
          "metadata": {},
          "execution_count": 20
        }
      ]
    },
    {
      "cell_type": "markdown",
      "source": [
        "# Le liste in Python\n",
        "Le liste implementano strutture dati in grado di ospitare elementi omogenei **dinamicamente**. Per instanziare una nuova lista e' sufficiente indicarne il contenuto racchiusa da una coppia di **parentesi quadre**. I singoli elemtni vengono ottenuti nello stesso modo delle tuple."
      ],
      "metadata": {
        "id": "YniBByQUcsOQ"
      }
    },
    {
      "cell_type": "code",
      "source": [
        "lista_frutta=['pera','banana','anguria']\n",
        "lista_verdura=['zucchina','peperone','ravanello']\n",
        "lista_cose_da_comprare=[]"
      ],
      "metadata": {
        "id": "Au8HKKG_dDQ3"
      },
      "execution_count": null,
      "outputs": []
    },
    {
      "cell_type": "markdown",
      "source": [
        "A differenza delle tuple, e' possibile aggiornare il contenuto di una lista."
      ],
      "metadata": {
        "id": "r6lgksUQdehT"
      }
    },
    {
      "cell_type": "code",
      "source": [
        "lista_frutta[0]='ananas'\n",
        "lista_frutta"
      ],
      "metadata": {
        "colab": {
          "base_uri": "https://localhost:8080/"
        },
        "id": "te5F1_bKdjE-",
        "outputId": "1128f5de-4fbf-49d3-bf01-df3162d071b2"
      },
      "execution_count": null,
      "outputs": [
        {
          "output_type": "execute_result",
          "data": {
            "text/plain": [
              "['ananas', 'banana', 'anguria']"
            ]
          },
          "metadata": {},
          "execution_count": 22
        }
      ]
    },
    {
      "cell_type": "code",
      "source": [
        "lista_cose_da_comprare.clear() #cancella il contenuto\n",
        "lista_cose_da_comprare.append('detersivo') #aggiungi elemento\n",
        "lista_cose_da_comprare.insert(0,'sapone') #inserisce elemento in una posizione specifica\n",
        "lista_cose_da_comprare= lista_frutta+lista_verdura\n",
        "print(lista_cose_da_comprare)"
      ],
      "metadata": {
        "colab": {
          "base_uri": "https://localhost:8080/"
        },
        "id": "tXyZKne8dt7J",
        "outputId": "444b40c5-cf4a-4d9b-fdd7-f8f5478030b8"
      },
      "execution_count": null,
      "outputs": [
        {
          "output_type": "stream",
          "name": "stdout",
          "text": [
            "['ananas', 'banana', 'anguria', 'zucchina', 'peperone', 'ravanello']\n"
          ]
        }
      ]
    },
    {
      "cell_type": "code",
      "source": [
        "lista_cose_da_comprare.pop(3) #estraggo l'elemento in una certa posizione da una lista (ultimo elemento scelto se non e' dato nessun indice)"
      ],
      "metadata": {
        "colab": {
          "base_uri": "https://localhost:8080/",
          "height": 35
        },
        "id": "Bai8AZwxeN_r",
        "outputId": "a08e8596-edcf-4d30-8579-5433b9b3f910"
      },
      "execution_count": null,
      "outputs": [
        {
          "output_type": "execute_result",
          "data": {
            "text/plain": [
              "'zucchina'"
            ],
            "application/vnd.google.colaboratory.intrinsic+json": {
              "type": "string"
            }
          },
          "metadata": {},
          "execution_count": 26
        }
      ]
    },
    {
      "cell_type": "code",
      "source": [
        "'ananas' in lista_cose_da_comprare\n",
        "'pompelmo' in lista_cose_da_comprare"
      ],
      "metadata": {
        "colab": {
          "base_uri": "https://localhost:8080/"
        },
        "id": "t_JsGauGejDT",
        "outputId": "e8aae781-3390-4244-ec25-aefdb43a4a53"
      },
      "execution_count": null,
      "outputs": [
        {
          "output_type": "execute_result",
          "data": {
            "text/plain": [
              "False"
            ]
          },
          "metadata": {},
          "execution_count": 28
        }
      ]
    },
    {
      "cell_type": "code",
      "source": [
        "soggetti=[(11,'Ugo','Rossi'),(12,'Ugo','Rossi'),(13,'Ugo','Rossi')]\n",
        "soggetti[0][1]"
      ],
      "metadata": {
        "colab": {
          "base_uri": "https://localhost:8080/",
          "height": 35
        },
        "id": "41CLRocLevSE",
        "outputId": "25742d07-408d-4b91-b95c-f1625cf4c155"
      },
      "execution_count": null,
      "outputs": [
        {
          "output_type": "execute_result",
          "data": {
            "text/plain": [
              "'Ugo'"
            ],
            "application/vnd.google.colaboratory.intrinsic+json": {
              "type": "string"
            }
          },
          "metadata": {},
          "execution_count": 29
        }
      ]
    },
    {
      "cell_type": "code",
      "source": [
        "x=tuple() #creo una tupla vuota\n",
        "type(tuple)"
      ],
      "metadata": {
        "id": "MKVXzFUHfQ8T",
        "outputId": "43bfe48b-da81-4566-c49a-8ecd83e10d70",
        "colab": {
          "base_uri": "https://localhost:8080/"
        }
      },
      "execution_count": null,
      "outputs": [
        {
          "output_type": "execute_result",
          "data": {
            "text/plain": [
              "type"
            ]
          },
          "metadata": {},
          "execution_count": 30
        }
      ]
    },
    {
      "cell_type": "markdown",
      "source": [
        "## I dizionari\n",
        "I dizionari sono strutture dati associative che consentono di conservare _record_ nella forma (K,V0, dove K e' la chiave con cui il record e' indicizzato, e V e' il valore corrispondente. Sono strutture dati ottimizzate per operazioni di **accesso puntuale**, implementate mediante l'uso di tabelle _hash_.\n",
        "Un dizionario e' una struttura che sulla parte destra ha un _array_ i cui elementi sono ordinati, sulla sinistra ha una serie di chiavi che, una volta fornita alla _hash function_, mi restituisce l'indice dell'elemento dell'_array_. Normalmente gli elementi dell'array del dizionario sono delle tuple. L'operazione per trovare un elemento si chiama _look up_.\n",
        "I dizionari sono meglio delle liste perche' per trovare un elemento in una lista bisogna scorrere l'intera struttura dati (ogni elemento della lista)."
      ],
      "metadata": {
        "id": "ojggHDqwUc0X"
      }
    },
    {
      "cell_type": "code",
      "source": [
        "#Creo u dizionario vuoto\n",
        "prezzi=dict()\n",
        "#creo un dizionario contenente dell eassociazioni\n",
        "prezzi={'mele':250,'ciliegie':450, 'anguria':50}"
      ],
      "metadata": {
        "id": "AFZQwVgaWhEI"
      },
      "execution_count": null,
      "outputs": []
    },
    {
      "cell_type": "markdown",
      "source": [
        "Una volta creato un dizionario e' possibile conoscere il valore associato ad una chiave mediante l'operatore *[ ]*."
      ],
      "metadata": {
        "id": "4JN1ZNaCW_lW"
      }
    },
    {
      "cell_type": "code",
      "source": [
        "prezzi['mele']"
      ],
      "metadata": {
        "colab": {
          "base_uri": "https://localhost:8080/"
        },
        "id": "YpYPnlKuXLBD",
        "outputId": "6f577402-cd6c-42e7-dfda-759dc556e179"
      },
      "execution_count": null,
      "outputs": [
        {
          "output_type": "execute_result",
          "data": {
            "text/plain": [
              "250"
            ]
          },
          "metadata": {},
          "execution_count": 4
        }
      ]
    },
    {
      "cell_type": "markdown",
      "source": [
        "Posso operare lo stesso operatore anche per aggiornare il dizionario."
      ],
      "metadata": {
        "id": "2GnaSDCVXXOp"
      }
    },
    {
      "cell_type": "code",
      "source": [
        "prezzi['melone']=60\n",
        "prezzi['mele']=230\n",
        "\n",
        "if 'fragole' in prezzi:\n",
        "  print(prezzi['fragole'])\n",
        "else:\n",
        "    print('le abbiamo finite')"
      ],
      "metadata": {
        "colab": {
          "base_uri": "https://localhost:8080/"
        },
        "id": "8NuVnS9kXb2a",
        "outputId": "fdb88e76-2d4e-45bb-e955-e2b63ff7302f"
      },
      "execution_count": null,
      "outputs": [
        {
          "output_type": "stream",
          "name": "stdout",
          "text": [
            "le abbiamo finite\n"
          ]
        }
      ]
    },
    {
      "cell_type": "markdown",
      "source": [
        "In alternativa all'operatore *[ ]* e' possibile usare il metodo *get*. La differenza e' che se la chiave e' assente il metodo non fallisce, ma restituisce _None_."
      ],
      "metadata": {
        "id": "np2-9qXwYkU6"
      }
    },
    {
      "cell_type": "code",
      "source": [
        "print(prezzi.get('melel'))"
      ],
      "metadata": {
        "colab": {
          "base_uri": "https://localhost:8080/"
        },
        "id": "o9KmvMK_YXe5",
        "outputId": "00d649bc-3f16-444d-b846-c1a2d10ce25a"
      },
      "execution_count": null,
      "outputs": [
        {
          "output_type": "stream",
          "name": "stdout",
          "text": [
            "None\n"
          ]
        }
      ]
    },
    {
      "cell_type": "code",
      "source": [
        "#cancello un'associazione dal dizionario, a partire dalla sua chiave\n",
        "del(prezzi['miele'])\n",
        "#estraggo il valore associato ad una certa chiave, cancellando l'associazione sottostante\n",
        "print(prezzi.pop('melone'))"
      ],
      "metadata": {
        "id": "zgoW2-i0YwNO"
      },
      "execution_count": null,
      "outputs": []
    },
    {
      "cell_type": "code",
      "source": [
        "#posso ottenere una collection contenente tutte le chiavi di un dizionario attraverso il metodo keys\n",
        "for k in prezzi.keys():\n",
        "  print(k)\n",
        "\n",
        "#allo stesso modo posso ottenere tuti i valori con la funzione values\n",
        "for k in prezzi.values():\n",
        "  print(k)\n",
        "\n",
        "#converto le collections in liste\n",
        "list(prezzi.keys())"
      ],
      "metadata": {
        "colab": {
          "base_uri": "https://localhost:8080/"
        },
        "id": "tx1ZW3LVZKGY",
        "outputId": "0378f809-3ec1-45f3-d76d-5a9bda3f93f5"
      },
      "execution_count": null,
      "outputs": [
        {
          "output_type": "stream",
          "name": "stdout",
          "text": [
            "mele\n",
            "ciliegie\n",
            "anguria\n",
            "melone\n",
            "230\n",
            "450\n",
            "50\n",
            "60\n"
          ]
        },
        {
          "output_type": "execute_result",
          "data": {
            "text/plain": [
              "['mele', 'ciliegie', 'anguria', 'melone']"
            ]
          },
          "metadata": {},
          "execution_count": 15
        }
      ]
    },
    {
      "cell_type": "markdown",
      "source": [
        "## Gli insiemi\n",
        "La struttura dati _set_ consente di mantenere collezioni dinamiche di valori omogenei non ordinate. Per definizione in un insieme non possono esistere duplicati (nel caso si inserisca un valore gia' presente, il nuovo input viene ignorato)."
      ],
      "metadata": {
        "id": "dNfSHaORapRT"
      }
    },
    {
      "cell_type": "code",
      "source": [
        "gusti_paolo={'pizza','messicano', 'cinese'}\n",
        "gusti_lara={'vietnamita', 'veggie','cinese'}\n",
        "gusti_enzo={'cinese','pizza', 'texmex'}"
      ],
      "metadata": {
        "id": "iKc0QLhGa7Sa"
      },
      "execution_count": null,
      "outputs": []
    },
    {
      "cell_type": "code",
      "source": [
        "for g in gusti_paolo:\n",
        "  print(g)"
      ],
      "metadata": {
        "colab": {
          "base_uri": "https://localhost:8080/"
        },
        "id": "umlRrn9PbXAn",
        "outputId": "ea6d0c5c-4986-4bdb-b458-009617079216"
      },
      "execution_count": null,
      "outputs": [
        {
          "output_type": "stream",
          "name": "stdout",
          "text": [
            "cinese\n",
            "vietnamita\n",
            "pizza\n",
            "messicano\n"
          ]
        }
      ]
    },
    {
      "cell_type": "code",
      "source": [
        "gusti_paolo.add('vietnamita')\n",
        "gusti_paolo.add('messicano')"
      ],
      "metadata": {
        "id": "p_URrcFPbhyS"
      },
      "execution_count": null,
      "outputs": []
    },
    {
      "cell_type": "code",
      "source": [
        "#remove cancella un elemento se presnete, altrimenti restituisce un'eccezione\n",
        "gusti_lara.remove('vietnamita')\n",
        "#remove un elemento se presente \n",
        "gusti_lara.discard('vietnamita')"
      ],
      "metadata": {
        "colab": {
          "base_uri": "https://localhost:8080/",
          "height": 219
        },
        "id": "BAge8STWbsdu",
        "outputId": "acb1e42e-fc34-4e4c-9097-f7e1cb32d2a8"
      },
      "execution_count": null,
      "outputs": [
        {
          "output_type": "error",
          "ename": "KeyError",
          "evalue": "ignored",
          "traceback": [
            "\u001b[0;31m---------------------------------------------------------------------------\u001b[0m",
            "\u001b[0;31mKeyError\u001b[0m                                  Traceback (most recent call last)",
            "\u001b[0;32m<ipython-input-21-07114bd7334d>\u001b[0m in \u001b[0;36m<module>\u001b[0;34m()\u001b[0m\n\u001b[1;32m      1\u001b[0m \u001b[0;31m#remove cancella un elemento se presnete, altrimenti restituisce un'eccezione\u001b[0m\u001b[0;34m\u001b[0m\u001b[0;34m\u001b[0m\u001b[0;34m\u001b[0m\u001b[0m\n\u001b[0;32m----> 2\u001b[0;31m \u001b[0mgusti_lara\u001b[0m\u001b[0;34m.\u001b[0m\u001b[0mremove\u001b[0m\u001b[0;34m(\u001b[0m\u001b[0;34m'vietnamita'\u001b[0m\u001b[0;34m)\u001b[0m\u001b[0;34m\u001b[0m\u001b[0;34m\u001b[0m\u001b[0m\n\u001b[0m\u001b[1;32m      3\u001b[0m \u001b[0;34m\u001b[0m\u001b[0m\n\u001b[1;32m      4\u001b[0m \u001b[0mgusti_lara\u001b[0m\u001b[0;34m.\u001b[0m\u001b[0mdiscard\u001b[0m\u001b[0;34m(\u001b[0m\u001b[0;34m'vietnamita'\u001b[0m\u001b[0;34m)\u001b[0m\u001b[0;34m\u001b[0m\u001b[0;34m\u001b[0m\u001b[0m\n",
            "\u001b[0;31mKeyError\u001b[0m: 'vietnamita'"
          ]
        }
      ]
    },
    {
      "cell_type": "code",
      "source": [
        "gusti_almeno_uno=gusti_paolo | gusti_lara | gusti_enzo\n",
        "for g in gusti_almeno_uno:\n",
        "  print(g)\n",
        "\n",
        "gusti_condivisi= gusti_paolo & gusti_lara & gusti_enzo \n",
        "for g in gusti_condivisi:\n",
        "  print(g)\n",
        "\n",
        "#l'operatore - valuta la differenza tra due insiemi\n",
        "gusti_paolo-gusti_lara"
      ],
      "metadata": {
        "colab": {
          "base_uri": "https://localhost:8080/"
        },
        "id": "PiJXj6PPcG5y",
        "outputId": "73a35a7f-c5fd-48f6-d15c-dad8ab1dd582"
      },
      "execution_count": null,
      "outputs": [
        {
          "output_type": "stream",
          "name": "stdout",
          "text": [
            "vietnamita\n",
            "pizza\n",
            "cinese\n",
            "veggie\n",
            "texmex\n",
            "messicano\n",
            "cinese\n"
          ]
        },
        {
          "output_type": "execute_result",
          "data": {
            "text/plain": [
              "{'messicano', 'pizza', 'vietnamita'}"
            ]
          },
          "metadata": {},
          "execution_count": 25
        }
      ]
    },
    {
      "cell_type": "markdown",
      "source": [
        "Nel caso ci sia bisogno di cristallizzare il contenuto di un insieme rendendolo accesibile in sola lettura, e' possibile convertirlo in un **frozenset** con una funzione omonima."
      ],
      "metadata": {
        "id": "MsCIT6DtdQDA"
      }
    },
    {
      "cell_type": "code",
      "source": [
        "gusti_condivisi=frozenset(gusti_condivisi)\n",
        "'cinese' in gusti_condivisi"
      ],
      "metadata": {
        "colab": {
          "base_uri": "https://localhost:8080/"
        },
        "id": "mH7EBRJVdDR2",
        "outputId": "acdd84d6-1c43-4087-b72f-7a58464a182e"
      },
      "execution_count": null,
      "outputs": [
        {
          "output_type": "execute_result",
          "data": {
            "text/plain": [
              "True"
            ]
          },
          "metadata": {},
          "execution_count": 26
        }
      ]
    },
    {
      "cell_type": "markdown",
      "source": [
        "# Caso di studio: Indici diretti e indici inversi\n",
        "Nell'ambito della realizzazione di un motore di ricerca occorre predisporre delle strutture dati utilizzate per indicizzare le parole presenti in un certo documento di testo. Le domande cui rispondono queste strutture sono due:\n",
        "\n",
        "* quali parole sono presenti in un certo documento\n",
        "* in quale documento sono presenti certe parole\n",
        "\n",
        "Per rispondere a queste domande si costruiscono e si mantengono un indice diretto e un indice inverso."
      ],
      "metadata": {
        "id": "WkNbdXZbpA8o"
      }
    },
    {
      "cell_type": "markdown",
      "source": [
        "## Costruzione di un indice diretto\n",
        "Supponiamo di ricevere in input una collezione di cdocumenti di testo C, il nostro obiettivo e' realizzare una funzione che ci restituisca una struttura dati associativa. Interroganso questa struttura dati fornendo in input il nome di un certo documento, ci aspettiamo come uotput la lista delle parole presenti al suo interno.Piu' correttamente, la lista non dovrebbe prevedere duplicati, escludere parole di uso comune che non danno significato al testo e indicare le frequenze relative."
      ],
      "metadata": {
        "id": "YvQRPlLxp0TA"
      }
    },
    {
      "cell_type": "code",
      "source": [
        "#prima versione della funzione per l'estrazione delle parole in un testo \n",
        "# il risultato viene fissato in una lista di stringhe\n",
        "def estrai_parole_v1(filename):\n",
        "  parole=[]\n",
        "  f=open(filename)\n",
        "  for line in f:\n",
        "    words=line.split()\n",
        "    for word in words:\n",
        "      w=word.strip('.,;:-()?! ').lower();\n",
        "      if w not in parole:  #\"not in\" e' una funzione molto costosa per le liste\n",
        "        parole.append(w)\n",
        "\n",
        "  return parole"
      ],
      "metadata": {
        "id": "OMAAGIpgqiYP"
      },
      "execution_count": null,
      "outputs": []
    },
    {
      "cell_type": "code",
      "source": [
        "def estrai_parole_v2(filename):\n",
        "  parole=set()\n",
        "  f=open(filename)\n",
        "  for line in f:\n",
        "    words=line.split()\n",
        "    for word in words:\n",
        "      w=word.strip('.,;:-()?! ').lower();\n",
        "      parole.add(w)\n",
        "      \n",
        "  return parole"
      ],
      "metadata": {
        "id": "oVMaQzUk1_1h"
      },
      "execution_count": null,
      "outputs": []
    },
    {
      "cell_type": "code",
      "source": [
        "# prima versione che conta il numero di volte che una parola appare \n",
        "# (scritta da Francesco)\n",
        "def estrai_parole_v3f(filename):\n",
        "  parole_indexed=[]\n",
        "  f=open(filename)\n",
        "  for line in f:\n",
        "    words=line.split()  \n",
        "\n",
        "    for word in words:\n",
        "      w=word.strip('.,;:-()?! ').lower();\n",
        "\n",
        "      if w in parole_indexed:\n",
        "         ind=parole_indexed.index(w)+1\n",
        "         parole_indexed[ind+1]+=1\n",
        "      else:\n",
        "         parole_indexed.append(w)\n",
        "         parole_indexed.append(1) \n",
        "                  \n",
        "  return parole_indexed"
      ],
      "metadata": {
        "id": "O87tXeQa4fTB"
      },
      "execution_count": null,
      "outputs": []
    },
    {
      "cell_type": "code",
      "source": [
        "# versione milgiore della funzione estrai_parole \n",
        "# (scritta da Francesco)\n",
        "def estrai_parole_v4(filename):\n",
        "  parole=[]\n",
        "  freq=dict()\n",
        "\n",
        "  f=open(filename)\n",
        "  for line in f:\n",
        "    words=line.split()  \n",
        "    for word in words:\n",
        "      w=word.strip('.,;:-()?! ').lower();\n",
        "      if len(w)==0:\n",
        "        continue\n",
        "      \n",
        "      if w not in freq:\n",
        "        freq[w]=1\n",
        "      else:\n",
        "        freq[w]=freq[w]+1\n",
        "                  \n",
        "  return list(freq.items())"
      ],
      "metadata": {
        "id": "UadaE04rBJXF"
      },
      "execution_count": null,
      "outputs": []
    },
    {
      "cell_type": "code",
      "source": [
        "before=datetime.datetime.now()\n",
        "estratto=estrai_parole_v3('nasodargento.txt')\n",
        "after=datetime.datetime.now()\n",
        "print(after-before)\n"
      ],
      "metadata": {
        "colab": {
          "base_uri": "https://localhost:8080/"
        },
        "id": "QxYb0cF95ry7",
        "outputId": "67b6ce16-87c8-47cd-cae6-7911099012f1"
      },
      "execution_count": null,
      "outputs": [
        {
          "output_type": "stream",
          "name": "stdout",
          "text": [
            "0:00:00.026819\n"
          ]
        }
      ]
    },
    {
      "cell_type": "code",
      "source": [
        "type(estratto[0])\n",
        "type(estratto[1])"
      ],
      "metadata": {
        "colab": {
          "base_uri": "https://localhost:8080/"
        },
        "id": "gITVjGjB5G4p",
        "outputId": "deb0d0c4-2329-4b16-a773-bef2324e76cf"
      },
      "execution_count": null,
      "outputs": [
        {
          "output_type": "execute_result",
          "data": {
            "text/plain": [
              "int"
            ]
          },
          "metadata": {},
          "execution_count": 75
        }
      ]
    },
    {
      "cell_type": "code",
      "source": [
        "import datetime\n",
        "before=datetime.datetime.now()\n",
        "parole=estrai_parole_v1('nasodargento.txt')\n",
        "after=datetime.datetime.now()\n",
        "print(f\"Trmpo di esecuzione richiesto: {after-before}\")\n",
        "print(f\"Numero di parole estratte: {len(parole)}\")"
      ],
      "metadata": {
        "colab": {
          "base_uri": "https://localhost:8080/"
        },
        "id": "jshze4-cySZN",
        "outputId": "b4671357-424e-4122-8805-6588fcefb13d"
      },
      "execution_count": null,
      "outputs": [
        {
          "output_type": "stream",
          "name": "stdout",
          "text": [
            "Trmpo di esecuzione richiesto: 0:00:00.007484\n",
            "Numero di parole estratte: 574\n"
          ]
        }
      ]
    },
    {
      "cell_type": "code",
      "source": [
        "import datetime\n",
        "before=datetime.datetime.now()\n",
        "parole=estrai_parole_v2('nasodargento.txt')\n",
        "after=datetime.datetime.now()\n",
        "print(f\"Trmpo di esecuzione richiesto: {after-before}\")\n",
        "print(f\"Numero di parole estratte: {len(parole)}\")"
      ],
      "metadata": {
        "colab": {
          "base_uri": "https://localhost:8080/"
        },
        "id": "QZK_H-ib2Jqs",
        "outputId": "17b1e4aa-a6fb-4923-d7ea-51190d9fd41c"
      },
      "execution_count": null,
      "outputs": [
        {
          "output_type": "stream",
          "name": "stdout",
          "text": [
            "Trmpo di esecuzione richiesto: 0:00:00.001348\n",
            "Numero di parole estratte: 574\n"
          ]
        }
      ]
    },
    {
      "cell_type": "code",
      "source": [
        "def costruisci_indice_diretto(lista_file):\n",
        "  indice_diretto=dict()\n",
        "\n",
        "  for file in lista_file:\n",
        "    parole=estrai_parole_v4(file)\n",
        "    indice_diretto[file]=parole\n",
        "\n",
        "  return indice_diretto\n",
        "\n",
        "def construisci_indice_inverso(lista_file):\n",
        "  indice_diretto=costruisci_indice_diretto(lista_file)\n",
        "  \n",
        "  indice_inverso=dict()\n",
        "\n",
        "  for file in lista_file:\n",
        "    print(indice_diretto[file].values())\n",
        "    word_list=[]\n",
        "    for p in indice_diretto[file].values():\n",
        "      for g in p:\n",
        "        word_list.append(g[0])\n",
        "      \n",
        "    for word in word_list:\n",
        "      indice_inverso[word]=[file]\n",
        "    else:\n",
        "      indice_inverso[word].append(file)\n",
        "  \n",
        "  return indice_inverso\n"
      ],
      "metadata": {
        "id": "1Q3xbY1Q0kd0"
      },
      "execution_count": null,
      "outputs": []
    },
    {
      "cell_type": "code",
      "source": [
        "def estrai_parole_v5(filename):\n",
        "  parole=[]\n",
        "  freq=dict()\n",
        "\n",
        "  f=open(filename)\n",
        "  for line in f:\n",
        "    words=line.split()  \n",
        "    for word in words:\n",
        "      w=word.strip('.,;:-()?! ').lower();\n",
        "      if len(w)==0:\n",
        "        continue\n",
        "      \n",
        "      if w not in freq:\n",
        "        freq[w]=1\n",
        "      else:\n",
        "        freq[w]=freq[w]+1\n",
        "                  \n",
        "  return list(freq.items())\n",
        "\n",
        "\n",
        "# costruisce l'indice inverso con il supporto delle frequenze\n",
        "def construisci_indice_inverso_v2(lista_file):\n",
        "  indice_diretto=costruisci_indice_diretto(lista_file)\n",
        "  \n",
        "  indice_inverso=dict()\n",
        "\n",
        "  for file in lista_file:\n",
        "      \n",
        "    for t in indice_diretto[file]:\n",
        "      if t[0] not in indice_inverso:\n",
        "        indice_inverso[t[0]]=[(file,t[1])]\n",
        "    else:\n",
        "      indice_inverso[t[0]].append((file,t[1]))\n",
        "  \n",
        "  return indice_inverso"
      ],
      "metadata": {
        "id": "b6gMrhR5ajn7"
      },
      "execution_count": null,
      "outputs": []
    },
    {
      "cell_type": "code",
      "source": [
        "lista_files=['filocolo.txt','principegranchio.txt','nasodargento.txt']\n",
        "\n",
        "indice_inverso=construisci_indice_inverso_v2(lista_files)\n"
      ],
      "metadata": {
        "id": "GBHXDy5m3Shm"
      },
      "execution_count": null,
      "outputs": []
    },
    {
      "cell_type": "code",
      "source": [
        "indice_inverso['casa']"
      ],
      "metadata": {
        "colab": {
          "base_uri": "https://localhost:8080/"
        },
        "id": "oOzL_9O73_lX",
        "outputId": "883e18ff-dad9-42f3-9124-8525e32b1fa9"
      },
      "execution_count": null,
      "outputs": [
        {
          "output_type": "execute_result",
          "data": {
            "text/plain": [
              "[('filocolo.txt', 75)]"
            ]
          },
          "metadata": {},
          "execution_count": 163
        }
      ]
    },
    {
      "cell_type": "code",
      "source": [
        "indice_diretto_naso=costruisci_indice_diretto([\"nasodargento.txt\"])"
      ],
      "metadata": {
        "id": "LZKTyn7h4E9r"
      },
      "execution_count": null,
      "outputs": []
    },
    {
      "cell_type": "code",
      "source": [
        "print(indice_diretto_naso)"
      ],
      "metadata": {
        "colab": {
          "base_uri": "https://localhost:8080/"
        },
        "id": "L2fzB8-yUKGM",
        "outputId": "119f04c0-e82f-45cf-808c-5187797456ba"
      },
      "execution_count": null,
      "outputs": [
        {
          "output_type": "stream",
          "name": "stdout",
          "text": [
            "{'nasodargento.txt': [('naso', 26), ('d’argento', 27), ('di', 30), ('italo', 1), ('calvino', 1), ('c’era', 3), ('una', 12), ('lavandaia', 6), ('che', 38), ('era', 12), ('rimasta', 3), ('vedova', 1), ('con', 12), ('tre', 2), ('figliole', 1), ('s’ingegnavano', 1), ('tutte', 6), ('e', 62), ('quattro', 1), ('a', 38), ('lavar', 1), ('roba', 11), ('più', 7), ('potevano', 2), ('ma', 16), ('pativano', 1), ('la', 70), ('fame', 1), ('lo', 8), ('stesso', 2), ('un', 22), ('giorno', 3), ('figlia', 9), ('maggiore', 5), ('disse', 22), ('alla', 6), ('madre', 10), ('—', 71), ('dovessi', 1), ('anche', 10), ('andare', 2), ('servire', 1), ('il', 37), ('diavolo', 16), ('voglio', 3), ('andarmene', 1), ('via', 3), ('casa', 17), ('non', 23), ('dire', 2), ('così', 14), ('mia', 7), ('fece', 9), ('sai', 1), ('cosa', 6), ('ti', 11), ('può', 1), ('succedere', 1), ('passarono', 1), ('molti', 1), ('giorni', 1), ('loro', 1), ('si', 19), ('presentò', 1), ('signore', 2), ('vestito', 2), ('nero', 1), ('tutto', 3), ('compito', 1), ('col', 3), ('so', 1), ('avete', 1), ('figlie', 1), ('lascereste', 1), ('ne', 6), ('venisse', 1), ('mio', 1), ('servizio', 1), ('l’avrebbe', 1), ('lasciata', 2), ('subito', 5), ('quel', 1), ('le', 24), ('piaceva', 1), ('chiamò', 1), ('in', 26), ('disparte', 1), ('guarda', 2), ('questo', 3), ('mondo', 1), ('uomini', 1), ('ce', 2), ('sono', 3), ('sta’', 1), ('attenta', 1), ('se', 16), ('vai', 1), ('lui', 3), ('te', 1), ('potresti', 1), ('pentire', 1), ('vedeva', 1), ('l’ora', 1), ('d’andarsene', 1), ('partì', 1), ('quell’uomo', 1), ('fecero', 1), ('molta', 1), ('strada', 2), ('per', 12), ('boschi', 1), ('montagne', 1), ('certo', 2), ('punto', 1), ('lontano', 4), ('vide', 5), ('gran', 3), ('chiarore', 1), ('come', 5), ('d’un', 1), ('incendio', 1), ('c’è', 3), ('laggiù', 1), ('chiese', 1), ('ragazza', 14), ('cominciando', 1), ('sentire', 1), ('po’', 3), ('d’apprensione', 1), ('là', 1), ('andiamo', 2), ('proseguì', 1), ('sapeva', 3), ('ormai', 4), ('trattenere', 1), ('tremito', 1), ('arrivarono', 1), ('palazzo', 1), ('portò', 3), ('vedere', 6), ('stanze', 2), ('bella', 1), ('dell’altra', 2), ('d’ognuna', 1), ('dava', 1), ('chiave', 2), ('giunti', 1), ('porta', 12), ('dell’ultima', 1), ('stanza', 4), ('diede', 3), ('questa', 8), ('devi', 1), ('aprire', 4), ('nessuna', 1), ('ragione', 1), ('no', 2), ('guai', 1), ('resto', 1), ('sei', 2), ('padrona', 1), ('pensò', 3), ('“qui', 1), ('qualcosa', 1), ('sotto!”', 1), ('ripromise', 1), ('d’aprire', 1), ('quella', 6), ('appena', 6), ('l’avesse', 1), ('sola', 5), ('sera', 3), ('dormiva', 1), ('nella', 1), ('sua', 9), ('cameretta', 1), ('quando', 8), ('entrò', 1), ('furtivamente', 1), ('s’avvicinò', 2), ('al', 7), ('suo', 4), ('letto', 6), ('pose', 1), ('tra', 5), ('i', 6), ('capelli', 5), ('rosa', 3), ('silenzioso', 1), ('com’era', 1), ('venuto', 1), ('andò', 4), ('l’indomani', 2), ('mattina', 4), ('uscì', 1), ('suoi', 1), ('affari', 1), ('chiavi', 2), ('corse', 1), ('ad', 2), ('proibita', 2), ('schiuse', 1), ('uscirono', 1), ('fuori', 2), ('fiamme', 3), ('fumo', 3), ('mezzo', 3), ('fuoco', 4), ('pieno', 1), ('d’anime', 1), ('dannate', 1), ('bruciavano', 1), ('capì', 1), ('allora', 1), ('l’inferno', 1), ('grido', 1), ('chiuse', 4), ('scappò', 2), ('quanto', 3), ('poteva', 3), ('da', 16), ('infernale', 1), ('lingua', 1), ('aveva', 2), ('bruciacchiato', 1), ('portava', 1), ('tornò', 6), ('strinata', 1), ('ah', 2), ('m’hai', 1), ('obbedito', 1), ('prese', 2), ('peso', 3), ('aperse', 4), ('dell’inferno', 2), ('scagliò', 1), ('dopo', 3), ('ritornò', 1), ('donna', 1), ('vostra', 3), ('trova', 1), ('tanto', 7), ('bene', 6), ('me', 3), ('lavoro', 2), ('è', 11), ('molto', 1), ('ha', 1), ('bisogno', 1), ('d’aiuto', 1), ('ci', 5), ('mandereste', 1), ('seconda', 4), ('l’altra', 1), ('sorella', 9), ('lei', 9), ('mostrò', 2), ('tranne', 1), ('quell’ultima', 1), ('figuratevi', 2), ('perché', 6), ('dovrei', 1), ('aprirla', 1), ('n’importa', 1), ('dei', 1), ('fatti', 1), ('vostri', 1), ('piano', 2), ('mise', 7), ('garofano', 2), ('fu', 5), ('uscito', 2), ('prima', 5), ('d’andare', 1), ('urla', 1), ('dannati', 1), ('riconobbe', 1), ('gridò', 3), ('liberami', 1), ('tu', 3), ('quest’inferno', 1), ('sentiva', 1), ('svenire', 1), ('fretta', 2), ('dove', 1), ('nascondersi', 1), ('sicura', 1), ('mano', 2), ('senza', 3), ('scampo', 1), ('guardò', 2), ('testa', 4), ('appassito', 1), ('dirle', 1), ('parola', 1), ('buttò', 1), ('all’inferno', 1), ('solito', 1), ('ripresentò', 1), ('della', 6), ('due', 1), ('ragazze', 1), ('bastano', 1), ('mi', 7), ('dareste', 1), ('terza', 2), ('chiamava', 1), ('lucia', 17), ('ed', 1), ('furba', 1), ('solite', 1), ('raccomandazioni', 1), ('mestruare', 1), ('addormentata', 2), ('fiore', 1), ('nei', 1), ('fior', 1), ('gelsomino', 5), ('s’alzò', 1), ('pettinarsi', 1), ('guardandosi', 1), ('nello', 1), ('specchio', 1), ('“guarda', 1), ('po’”', 1), ('“naso', 1), ('m’ha', 1), ('messo', 1), ('gentile', 1), ('pensiero', 3), ('mah', 1), ('metterò', 1), ('fresco”', 1), ('bicchiere', 1), ('du', 1), ('pettinata', 1), ('visto', 1), ('“adesso', 1), ('misteriosa.”', 1), ('aperto', 1), ('ecco', 1), ('vien', 1), ('contro', 1), ('vampa', 1), ('vede', 2), ('tanta', 1), ('gente', 1), ('bruciava', 1), ('tutti', 1), ('poi', 3), ('gridarono', 1), ('toglici', 1), ('qui', 4), ('salvaci', 1), ('richiuse', 1), ('salvare', 1), ('sorelle', 1), ('s’era', 4), ('rimessa', 1), ('faceva', 1), ('finta', 1), ('niente', 3), ('oh', 1), ('fresco', 2), ('avrebbe', 2), ('dovuto', 1), ('esser', 1), ('tengono', 1), ('fiori', 1), ('secchi', 1), ('dicevo', 1), ('sembri', 1), ('brava', 1), ('continuerai', 1), ('andremo', 1), ('sempre', 1), ('d’accordo', 1), ('contenta', 1), ('sì', 3), ('sto', 1), ('starei', 1), ('ancor', 1), ('meglio', 2), ('avessi', 1), ('partita', 1), ('stava', 1), ('ora', 4), ('sue', 1), ('notizie', 4), ('faccio', 1), ('passo', 1), ('io', 6), ('porto', 1), ('grazie', 1), ('siete', 1), ('proprio', 2), ('buono', 1), ('potete', 2), ('passarci', 1), ('domani', 1), ('intanto', 1), ('preparo', 1), ('sacco', 20), ('sporca', 4), ('sta', 1), ('gliela', 1), ('date', 1), ('lavare', 5), ('vi', 3), ('pesa', 2), ('figurati', 1), ('posso', 2), ('portare', 1), ('qualsiasi', 1), ('tirò', 1), ('stattene', 1), ('lì', 2), ('tranquilla', 1), ('carlotta', 1), ('adesso', 1), ('persona', 1), ('riporterà', 1), ('senti', 1), ('fa', 1), ('posare', 3), ('bisogna', 2), ('dica', 1), ('«ti', 1), ('vedo', 8), ('vedo!»', 1), ('venne', 1), ('gli', 1), ('portate', 1), ('davvero', 2), ('fin', 1), ('fidi', 1), ('fido', 1), ('ho', 1), ('virtù', 2), ('fate', 1), ('qualche', 1), ('parte', 1), ('storia', 2), ('credeva', 1), ('poco', 2), ('spalla', 4), ('sfido', 1), ('quanti', 1), ('anni', 1), ('erano', 1), ('davate', 1), ('cammino', 1), ('arrivato', 1), ('mezza', 1), ('“sarà', 1), ('però', 1), ('scusa', 1), ('mandare', 1), ('vuota', 1), ('casa”', 1), ('aprirlo', 2), ('dentro', 2), ('“perbacco', 2), ('vero', 1), ('distante!”', 1), ('rimessosi', 1), ('difilato', 1), ('manda', 1), ('vuol', 1), ('sapere', 2), ('state…', 1), ('piacere', 1), ('ritrovare', 1), ('settimana', 1), ('far', 1), ('malinconica', 1), ('dirgli', 1), ('voleva', 1), ('mandò', 1), ('altro', 2), ('riuscì', 1), ('guardare', 1), ('sentì', 1), ('gridare', 1), ('piena', 1), ('paura', 1), ('vedendolo', 1), ('tornare', 3), ('pensava', 1), ('chiesto', 1), ('lavata', 2), ('volta', 2), ('posò', 2), ('nuovo', 2), ('verrò', 1), ('prendere', 2), ('pesante', 1), ('son', 1), ('rotto', 1), ('ossa', 1), ('scarico', 1), ('andato', 1), ('tutta', 1), ('ansiosa', 1), ('abbracciò', 1), ('cominciò', 1), ('essere', 1), ('pena', 1), ('mai', 1), ('riattaccò', 1), ('delle', 1), ('seccato', 1), ('portar', 1), ('sacchi', 1), ('obbediente', 1), ('teneva', 1), ('cara', 1), ('mal', 1), ('andava', 1), ('lascio', 1), ('preparato', 1), ('domattina', 1), ('sento', 1), ('trovate', 1), ('alzata', 1), ('prenderlo', 1), ('voi', 1), ('cucita', 1), ('bambola', 2), ('stracci', 1), ('grande', 1), ('sepolta', 1), ('sotto', 2), ('coperte', 2), ('tagliò', 1), ('trecce', 1), ('cucì', 1), ('sembrava', 1), ('nel', 1), ('sprofondata', 1), ('“stamattina', 1), ('malata”', 1), ('“non', 1), ('farà', 1), ('attenzione', 1), ('buona', 1), ('solo', 1), ('sporca.”', 1), ('lesto', 1), ('voce', 1), ('fosse', 1), ('scherzarci', 1), ('tanto.”', 1), ('rimise', 1), ('passerò', 1), ('devo', 1), ('ammalata', 1), ('famiglia', 1), ('riunita', 1), ('siccome', 1), ('portata', 1), ('dietro', 1), ('tanti', 1), ('quattrini', 1), ('del', 1), ('vivere', 1), ('felici', 1), ('contente', 1), ('piantarono', 1), ('croce', 1), ('davanti', 1), ('all’uscio', 1), ('oso', 1), ('avvicinarsi', 1)]}\n"
          ]
        }
      ]
    },
    {
      "cell_type": "code",
      "source": [],
      "metadata": {
        "id": "6B8zODSTXNt0"
      },
      "execution_count": null,
      "outputs": []
    },
    {
      "cell_type": "markdown",
      "source": [
        "## I moduli Python\n",
        "Python, come altri linguaggi, supporta la riusabilita' del codice medante la possibilita; di utilizzare dei moduli che in un secondo tempo potranno essere importati nelle nostre applicaioni per adoperare le funzioni e le classi presenti al loro interno. Nel momento in cui si importa un modulo in una applicazione Python, si rendono disponibili le definizioni presenti al suo interno alla nostra applicazione. Per tenere ordine tra la diversre cose sara; possibile accedere a quelle definizioni indicando preventivamente il nomde del modulo."
      ],
      "metadata": {
        "id": "XKnMB_yOdGRs"
      }
    },
    {
      "cell_type": "code",
      "source": [
        "import math\n",
        "math.sqrt(4)"
      ],
      "metadata": {
        "colab": {
          "base_uri": "https://localhost:8080/"
        },
        "id": "mCe0v4m4dyF-",
        "outputId": "054dadbd-acb3-4851-9074-baa812c77105"
      },
      "execution_count": null,
      "outputs": [
        {
          "output_type": "execute_result",
          "data": {
            "text/plain": [
              "2.0"
            ]
          },
          "metadata": {},
          "execution_count": 164
        }
      ]
    },
    {
      "cell_type": "markdown",
      "source": [
        "In alcuni casi i nomoi dei moduli possonno essere particolatmente prolissi, e' possibile abbreviarli un _nickname_."
      ],
      "metadata": {
        "id": "0fT5V8GWeAZt"
      }
    },
    {
      "cell_type": "code",
      "source": [
        "import math as banana\n",
        "banana.sqrt(4)"
      ],
      "metadata": {
        "colab": {
          "base_uri": "https://localhost:8080/"
        },
        "id": "xEiVF4Gjd8m3",
        "outputId": "38031f9c-88cc-4ad8-be15-823a97af4a35"
      },
      "execution_count": null,
      "outputs": [
        {
          "output_type": "execute_result",
          "data": {
            "text/plain": [
              "2.0"
            ]
          },
          "metadata": {},
          "execution_count": 165
        }
      ]
    },
    {
      "cell_type": "markdown",
      "source": [
        "Se in un modulo e' oresnete una funzione che conto di utilizzare particolatmente spesso, posso trasferire la definizione di quella funzione nel mio scopo/environment attuale."
      ],
      "metadata": {
        "id": "Em_pQS_reTjd"
      }
    },
    {
      "cell_type": "code",
      "source": [
        "from math import sqrt\n",
        "sqrt(2)"
      ],
      "metadata": {
        "colab": {
          "base_uri": "https://localhost:8080/"
        },
        "id": "IIOPs_6YelRY",
        "outputId": "29af13b8-f6b8-4b72-e63b-f7dfa522bc47"
      },
      "execution_count": null,
      "outputs": [
        {
          "output_type": "execute_result",
          "data": {
            "text/plain": [
              "1.4142135623730951"
            ]
          },
          "metadata": {},
          "execution_count": 166
        }
      ]
    },
    {
      "cell_type": "markdown",
      "source": [
        "# La libreria Pandas\n",
        "Abbaimo visto come Python ci offra numerose strutture dati che ci aiutano nel momenti in cui sobiamo gestire collezioni di valori, dove ciascua struttura e' ottimizzata per una particolare operazione o per una cera famiglia di operazioni. La realta' e' molto piu' complessa: i dati che abbiamo bisogno di analizzare possono essere codificati nei modi piu' disparati e provenire da fonti eterogenee. Tutte queste attivita' possono essere accelerate usando librerie come **Pandas**. Pandas mette a disposizione delle strutture dati piu' astratte rispetto a quelle disponibili con Python. Pandas offre numerose funzioni di utilita; utilizzabili per gestire input-output dai formati e dalle forme piu' disparate. La libreria Pandas e' costruita sulla libreria Numpy.\n",
        "\n",
        "# La struttura dati Series\n",
        "La struttura dati Series ci sonsente di mantenere una collezione di valori indicizzati. \n",
        "Il modo piu' semplice per istanziare una Series e' quello "
      ],
      "metadata": {
        "id": "UHED0kRUfSkp"
      }
    },
    {
      "cell_type": "code",
      "source": [
        "import pandas as pd\n",
        " #data input contenente i valori di popolazione di citta' italiane\n",
        "p=[4000,4000,3000,2000,2000]\n",
        "labels=['Rome', 'Milan','Naples','Turin','Bari']\n",
        "p=pd.Series(p,labels)\n",
        "type(p)"
      ],
      "metadata": {
        "colab": {
          "base_uri": "https://localhost:8080/"
        },
        "id": "6EEOYxFAhMQz",
        "outputId": "bd03a806-3c39-42e2-ab63-c12e15b1a9d6"
      },
      "execution_count": null,
      "outputs": [
        {
          "output_type": "execute_result",
          "data": {
            "text/plain": [
              "pandas.core.series.Series"
            ]
          },
          "metadata": {},
          "execution_count": 4
        }
      ]
    },
    {
      "cell_type": "markdown",
      "source": [
        "Quando istanziamo una nuova sries intervinene un meccanismo di type guessing per cui automaticamente si sceglie per la Series il tipo di dato piu' calzante ai dati che abbiamo presnetato in input.\n",
        "Posso scegliere seaffidarmi ad un oindice di etichettamento automatico o scriverne uno ad hoc. Ma ricordiamo che le etichette non sono univoche."
      ],
      "metadata": {
        "id": "OhuLBp88iHeQ"
      }
    },
    {
      "cell_type": "code",
      "source": [
        "p[['Milan','Rome']]"
      ],
      "metadata": {
        "colab": {
          "base_uri": "https://localhost:8080/"
        },
        "id": "rqgJTNs_eQRN",
        "outputId": "72850722-55e9-4386-df67-d3cf93d6e366"
      },
      "execution_count": null,
      "outputs": [
        {
          "output_type": "execute_result",
          "data": {
            "text/plain": [
              "Milan    4000\n",
              "Rome     4000\n",
              "dtype: int64"
            ]
          },
          "metadata": {},
          "execution_count": 180
        }
      ]
    },
    {
      "cell_type": "markdown",
      "source": [
        "Posso accedere al valore di una Series indicando l'etichetta in input. Se esistono piu' valoi con la stssa etichetta, viene restituita una "
      ],
      "metadata": {
        "id": "aq3d_5q_jusG"
      }
    },
    {
      "cell_type": "code",
      "source": [
        "p['Rome']=4500"
      ],
      "metadata": {
        "id": "GKM2lKCphwsq"
      },
      "execution_count": null,
      "outputs": []
    },
    {
      "cell_type": "markdown",
      "source": [
        "### Vettorizzazione\n",
        "Capita spesso di dover applicare un certo operatore a tutti gli elementi di una collezione, di un dataset, di una Series. Quando usiamo Python siamo scoraggiati dall'usare dei cicli for. Su tutti i pc sono disponibili multicore. Nel caso di **numpy** e **Pandas** e' possibile eseguire numerose operazioni in modalita' vettorizzata. Ossia, lo sviluppatore richiede una certa operazione de applicarsi a tutti gli elementi di una struttura dati. La librearia trasforma quella richiesta su;;'intera struttura dari in un codice che processa, spesso in parallelo, tutti gli elementei della stessa struttura dati. Nell'esempio sottostante rilizzo un'espressione vettorizzata per individuare i casi in cui i valori superano una certa soglia. Vengono filtrati solo i valori cui corrisponde il valore True."
      ],
      "metadata": {
        "id": "3Y3NL79OkN0t"
      }
    },
    {
      "cell_type": "code",
      "source": [
        "p[p>3000]"
      ],
      "metadata": {
        "colab": {
          "base_uri": "https://localhost:8080/"
        },
        "id": "4ihRgvSAlIxZ",
        "outputId": "f28e6bf6-f43b-4210-ba0f-143a96d075ef"
      },
      "execution_count": null,
      "outputs": [
        {
          "output_type": "execute_result",
          "data": {
            "text/plain": [
              "Rome     4500\n",
              "Milan    4000\n",
              "dtype: int64"
            ]
          },
          "metadata": {},
          "execution_count": 183
        }
      ]
    },
    {
      "cell_type": "markdown",
      "source": [
        "E' possibile aggiungere nuovi valori ad una Series preesistente, creando una struttura compatibile con quella preesistente e concatenandole."
      ],
      "metadata": {
        "id": "wEgQwzTIluKK"
      }
    },
    {
      "cell_type": "code",
      "source": [
        "p1=pd.Series([500],['Venice'])"
      ],
      "metadata": {
        "id": "_RPfaz1MlJm_"
      },
      "execution_count": null,
      "outputs": []
    },
    {
      "cell_type": "code",
      "source": [
        "p=pd.concat([p,p1])"
      ],
      "metadata": {
        "id": "0S8ESLGYmDGh"
      },
      "execution_count": null,
      "outputs": []
    },
    {
      "cell_type": "code",
      "source": [
        "p"
      ],
      "metadata": {
        "colab": {
          "base_uri": "https://localhost:8080/"
        },
        "id": "IooNZGDKmLFU",
        "outputId": "86095acf-179b-42d2-dfab-24642db6bb8c"
      },
      "execution_count": null,
      "outputs": [
        {
          "output_type": "execute_result",
          "data": {
            "text/plain": [
              "Rome      4500\n",
              "Milan     4000\n",
              "Naples    3000\n",
              "Turin     2000\n",
              "Bari      2000\n",
              "Venice     500\n",
              "dtype: int64"
            ]
          },
          "metadata": {},
          "execution_count": 186
        }
      ]
    },
    {
      "cell_type": "markdown",
      "source": [
        "Di converso posso eliminare i dati da una Series utilizzando il metodo **drop**."
      ],
      "metadata": {
        "id": "mhQKWcWZmRJ9"
      }
    },
    {
      "cell_type": "code",
      "source": [
        "p.drop('Venice')"
      ],
      "metadata": {
        "colab": {
          "base_uri": "https://localhost:8080/"
        },
        "id": "r0RhmsGNmL_a",
        "outputId": "ec4607ff-4104-46fc-8475-c24c9b3acd81"
      },
      "execution_count": null,
      "outputs": [
        {
          "output_type": "execute_result",
          "data": {
            "text/plain": [
              "Rome      4500\n",
              "Milan     4000\n",
              "Naples    3000\n",
              "Turin     2000\n",
              "Bari      2000\n",
              "dtype: int64"
            ]
          },
          "metadata": {},
          "execution_count": 187
        }
      ]
    },
    {
      "cell_type": "code",
      "source": [
        "p.max()\n",
        "p.sum()"
      ],
      "metadata": {
        "colab": {
          "base_uri": "https://localhost:8080/"
        },
        "id": "oTJJbJvMmfil",
        "outputId": "e568a7c3-8db6-4856-b4e3-2a1934902d13"
      },
      "execution_count": null,
      "outputs": [
        {
          "output_type": "execute_result",
          "data": {
            "text/plain": [
              "16000"
            ]
          },
          "metadata": {},
          "execution_count": 189
        }
      ]
    },
    {
      "cell_type": "code",
      "source": [],
      "metadata": {
        "id": "mDjYI2d_nFuT"
      },
      "execution_count": null,
      "outputs": []
    },
    {
      "cell_type": "markdown",
      "source": [
        "## La struttura dati DataFrame\n",
        "un DataFrame e' una struttura dati offerta da Pandas che consente di conservare in memoria un dataset secondo un approccio tabellare. Possiamo visualizzare/organizzare un DataFrame per variabili (o colonne) o per osservazioni (o righe). L'implementazione di un DataFrame prevede la presenza di un collezione di Series.\n",
        "\n",
        "Se ho un certo dataset che descrive un insieme di osservazioni "
      ],
      "metadata": {
        "id": "o69_9TpWnWUZ"
      }
    },
    {
      "cell_type": "code",
      "source": [
        "subjects=[(1,'Ugo','Rossi',21),(2,'Enzo','Verdi',25),(3,'Eva','Neri',24)]\n",
        "subjects=pd.DataFrame(subjects, columns=['ID','Nome','Cognome', \"eta'\"])"
      ],
      "metadata": {
        "id": "npKb0Hb8n5mH"
      },
      "execution_count": null,
      "outputs": []
    },
    {
      "cell_type": "code",
      "source": [
        "subjects"
      ],
      "metadata": {
        "colab": {
          "base_uri": "https://localhost:8080/",
          "height": 143
        },
        "id": "DKSQVALyob5P",
        "outputId": "d571719a-c6eb-4fb2-97ec-de3e0b737bdf"
      },
      "execution_count": null,
      "outputs": [
        {
          "output_type": "execute_result",
          "data": {
            "text/plain": [
              "   ID  Nome Cognome  eta'\n",
              "0   1   Ugo   Rossi    21\n",
              "1   2  Enzo   Verdi    25\n",
              "2   3   Eva    Neri    24"
            ],
            "text/html": [
              "\n",
              "  <div id=\"df-9bc382b1-a605-4aab-9603-ee07fb470ea1\">\n",
              "    <div class=\"colab-df-container\">\n",
              "      <div>\n",
              "<style scoped>\n",
              "    .dataframe tbody tr th:only-of-type {\n",
              "        vertical-align: middle;\n",
              "    }\n",
              "\n",
              "    .dataframe tbody tr th {\n",
              "        vertical-align: top;\n",
              "    }\n",
              "\n",
              "    .dataframe thead th {\n",
              "        text-align: right;\n",
              "    }\n",
              "</style>\n",
              "<table border=\"1\" class=\"dataframe\">\n",
              "  <thead>\n",
              "    <tr style=\"text-align: right;\">\n",
              "      <th></th>\n",
              "      <th>ID</th>\n",
              "      <th>Nome</th>\n",
              "      <th>Cognome</th>\n",
              "      <th>eta'</th>\n",
              "    </tr>\n",
              "  </thead>\n",
              "  <tbody>\n",
              "    <tr>\n",
              "      <th>0</th>\n",
              "      <td>1</td>\n",
              "      <td>Ugo</td>\n",
              "      <td>Rossi</td>\n",
              "      <td>21</td>\n",
              "    </tr>\n",
              "    <tr>\n",
              "      <th>1</th>\n",
              "      <td>2</td>\n",
              "      <td>Enzo</td>\n",
              "      <td>Verdi</td>\n",
              "      <td>25</td>\n",
              "    </tr>\n",
              "    <tr>\n",
              "      <th>2</th>\n",
              "      <td>3</td>\n",
              "      <td>Eva</td>\n",
              "      <td>Neri</td>\n",
              "      <td>24</td>\n",
              "    </tr>\n",
              "  </tbody>\n",
              "</table>\n",
              "</div>\n",
              "      <button class=\"colab-df-convert\" onclick=\"convertToInteractive('df-9bc382b1-a605-4aab-9603-ee07fb470ea1')\"\n",
              "              title=\"Convert this dataframe to an interactive table.\"\n",
              "              style=\"display:none;\">\n",
              "        \n",
              "  <svg xmlns=\"http://www.w3.org/2000/svg\" height=\"24px\"viewBox=\"0 0 24 24\"\n",
              "       width=\"24px\">\n",
              "    <path d=\"M0 0h24v24H0V0z\" fill=\"none\"/>\n",
              "    <path d=\"M18.56 5.44l.94 2.06.94-2.06 2.06-.94-2.06-.94-.94-2.06-.94 2.06-2.06.94zm-11 1L8.5 8.5l.94-2.06 2.06-.94-2.06-.94L8.5 2.5l-.94 2.06-2.06.94zm10 10l.94 2.06.94-2.06 2.06-.94-2.06-.94-.94-2.06-.94 2.06-2.06.94z\"/><path d=\"M17.41 7.96l-1.37-1.37c-.4-.4-.92-.59-1.43-.59-.52 0-1.04.2-1.43.59L10.3 9.45l-7.72 7.72c-.78.78-.78 2.05 0 2.83L4 21.41c.39.39.9.59 1.41.59.51 0 1.02-.2 1.41-.59l7.78-7.78 2.81-2.81c.8-.78.8-2.07 0-2.86zM5.41 20L4 18.59l7.72-7.72 1.47 1.35L5.41 20z\"/>\n",
              "  </svg>\n",
              "      </button>\n",
              "      \n",
              "  <style>\n",
              "    .colab-df-container {\n",
              "      display:flex;\n",
              "      flex-wrap:wrap;\n",
              "      gap: 12px;\n",
              "    }\n",
              "\n",
              "    .colab-df-convert {\n",
              "      background-color: #E8F0FE;\n",
              "      border: none;\n",
              "      border-radius: 50%;\n",
              "      cursor: pointer;\n",
              "      display: none;\n",
              "      fill: #1967D2;\n",
              "      height: 32px;\n",
              "      padding: 0 0 0 0;\n",
              "      width: 32px;\n",
              "    }\n",
              "\n",
              "    .colab-df-convert:hover {\n",
              "      background-color: #E2EBFA;\n",
              "      box-shadow: 0px 1px 2px rgba(60, 64, 67, 0.3), 0px 1px 3px 1px rgba(60, 64, 67, 0.15);\n",
              "      fill: #174EA6;\n",
              "    }\n",
              "\n",
              "    [theme=dark] .colab-df-convert {\n",
              "      background-color: #3B4455;\n",
              "      fill: #D2E3FC;\n",
              "    }\n",
              "\n",
              "    [theme=dark] .colab-df-convert:hover {\n",
              "      background-color: #434B5C;\n",
              "      box-shadow: 0px 1px 3px 1px rgba(0, 0, 0, 0.15);\n",
              "      filter: drop-shadow(0px 1px 2px rgba(0, 0, 0, 0.3));\n",
              "      fill: #FFFFFF;\n",
              "    }\n",
              "  </style>\n",
              "\n",
              "      <script>\n",
              "        const buttonEl =\n",
              "          document.querySelector('#df-9bc382b1-a605-4aab-9603-ee07fb470ea1 button.colab-df-convert');\n",
              "        buttonEl.style.display =\n",
              "          google.colab.kernel.accessAllowed ? 'block' : 'none';\n",
              "\n",
              "        async function convertToInteractive(key) {\n",
              "          const element = document.querySelector('#df-9bc382b1-a605-4aab-9603-ee07fb470ea1');\n",
              "          const dataTable =\n",
              "            await google.colab.kernel.invokeFunction('convertToInteractive',\n",
              "                                                     [key], {});\n",
              "          if (!dataTable) return;\n",
              "\n",
              "          const docLinkHtml = 'Like what you see? Visit the ' +\n",
              "            '<a target=\"_blank\" href=https://colab.research.google.com/notebooks/data_table.ipynb>data table notebook</a>'\n",
              "            + ' to learn more about interactive tables.';\n",
              "          element.innerHTML = '';\n",
              "          dataTable['output_type'] = 'display_data';\n",
              "          await google.colab.output.renderOutput(dataTable, element);\n",
              "          const docLink = document.createElement('div');\n",
              "          docLink.innerHTML = docLinkHtml;\n",
              "          element.appendChild(docLink);\n",
              "        }\n",
              "      </script>\n",
              "    </div>\n",
              "  </div>\n",
              "  "
            ]
          },
          "metadata": {},
          "execution_count": 197
        }
      ]
    },
    {
      "cell_type": "markdown",
      "source": [
        "La libreria mette a disposizione numerose funzioni che posso utilizzare per investigare la geometria e la struttura di un certo DataFrame"
      ],
      "metadata": {
        "id": "0H4cqQhlo9AQ"
      }
    },
    {
      "cell_type": "code",
      "source": [
        "subjects.columns\n",
        "subjects.shape\n",
        "subjects.dtypes\n",
        "subjects.head(2)\n",
        "subjects.tail(2)\n",
        "subjects.info()"
      ],
      "metadata": {
        "colab": {
          "base_uri": "https://localhost:8080/"
        },
        "id": "q9wOqdgmodFq",
        "outputId": "ac7cc26a-5c22-41fc-dcb7-f94714c31252"
      },
      "execution_count": null,
      "outputs": [
        {
          "output_type": "stream",
          "name": "stdout",
          "text": [
            "<class 'pandas.core.frame.DataFrame'>\n",
            "RangeIndex: 3 entries, 0 to 2\n",
            "Data columns (total 4 columns):\n",
            " #   Column   Non-Null Count  Dtype \n",
            "---  ------   --------------  ----- \n",
            " 0   ID       3 non-null      int64 \n",
            " 1   Nome     3 non-null      object\n",
            " 2   Cognome  3 non-null      object\n",
            " 3   eta'     3 non-null      int64 \n",
            "dtypes: int64(2), object(2)\n",
            "memory usage: 224.0+ bytes\n"
          ]
        }
      ]
    },
    {
      "cell_type": "code",
      "source": [
        "subjects[['Cognome','Nome']]"
      ],
      "metadata": {
        "colab": {
          "base_uri": "https://localhost:8080/",
          "height": 143
        },
        "id": "AqnGOfUBpP6j",
        "outputId": "c9317425-23a4-432d-fb1d-442b39957271"
      },
      "execution_count": null,
      "outputs": [
        {
          "output_type": "execute_result",
          "data": {
            "text/plain": [
              "  Cognome  Nome\n",
              "0   Rossi   Ugo\n",
              "1   Verdi  Enzo\n",
              "2    Neri   Eva"
            ],
            "text/html": [
              "\n",
              "  <div id=\"df-61fc70e1-bba4-44b9-b372-2d259a454acd\">\n",
              "    <div class=\"colab-df-container\">\n",
              "      <div>\n",
              "<style scoped>\n",
              "    .dataframe tbody tr th:only-of-type {\n",
              "        vertical-align: middle;\n",
              "    }\n",
              "\n",
              "    .dataframe tbody tr th {\n",
              "        vertical-align: top;\n",
              "    }\n",
              "\n",
              "    .dataframe thead th {\n",
              "        text-align: right;\n",
              "    }\n",
              "</style>\n",
              "<table border=\"1\" class=\"dataframe\">\n",
              "  <thead>\n",
              "    <tr style=\"text-align: right;\">\n",
              "      <th></th>\n",
              "      <th>Cognome</th>\n",
              "      <th>Nome</th>\n",
              "    </tr>\n",
              "  </thead>\n",
              "  <tbody>\n",
              "    <tr>\n",
              "      <th>0</th>\n",
              "      <td>Rossi</td>\n",
              "      <td>Ugo</td>\n",
              "    </tr>\n",
              "    <tr>\n",
              "      <th>1</th>\n",
              "      <td>Verdi</td>\n",
              "      <td>Enzo</td>\n",
              "    </tr>\n",
              "    <tr>\n",
              "      <th>2</th>\n",
              "      <td>Neri</td>\n",
              "      <td>Eva</td>\n",
              "    </tr>\n",
              "  </tbody>\n",
              "</table>\n",
              "</div>\n",
              "      <button class=\"colab-df-convert\" onclick=\"convertToInteractive('df-61fc70e1-bba4-44b9-b372-2d259a454acd')\"\n",
              "              title=\"Convert this dataframe to an interactive table.\"\n",
              "              style=\"display:none;\">\n",
              "        \n",
              "  <svg xmlns=\"http://www.w3.org/2000/svg\" height=\"24px\"viewBox=\"0 0 24 24\"\n",
              "       width=\"24px\">\n",
              "    <path d=\"M0 0h24v24H0V0z\" fill=\"none\"/>\n",
              "    <path d=\"M18.56 5.44l.94 2.06.94-2.06 2.06-.94-2.06-.94-.94-2.06-.94 2.06-2.06.94zm-11 1L8.5 8.5l.94-2.06 2.06-.94-2.06-.94L8.5 2.5l-.94 2.06-2.06.94zm10 10l.94 2.06.94-2.06 2.06-.94-2.06-.94-.94-2.06-.94 2.06-2.06.94z\"/><path d=\"M17.41 7.96l-1.37-1.37c-.4-.4-.92-.59-1.43-.59-.52 0-1.04.2-1.43.59L10.3 9.45l-7.72 7.72c-.78.78-.78 2.05 0 2.83L4 21.41c.39.39.9.59 1.41.59.51 0 1.02-.2 1.41-.59l7.78-7.78 2.81-2.81c.8-.78.8-2.07 0-2.86zM5.41 20L4 18.59l7.72-7.72 1.47 1.35L5.41 20z\"/>\n",
              "  </svg>\n",
              "      </button>\n",
              "      \n",
              "  <style>\n",
              "    .colab-df-container {\n",
              "      display:flex;\n",
              "      flex-wrap:wrap;\n",
              "      gap: 12px;\n",
              "    }\n",
              "\n",
              "    .colab-df-convert {\n",
              "      background-color: #E8F0FE;\n",
              "      border: none;\n",
              "      border-radius: 50%;\n",
              "      cursor: pointer;\n",
              "      display: none;\n",
              "      fill: #1967D2;\n",
              "      height: 32px;\n",
              "      padding: 0 0 0 0;\n",
              "      width: 32px;\n",
              "    }\n",
              "\n",
              "    .colab-df-convert:hover {\n",
              "      background-color: #E2EBFA;\n",
              "      box-shadow: 0px 1px 2px rgba(60, 64, 67, 0.3), 0px 1px 3px 1px rgba(60, 64, 67, 0.15);\n",
              "      fill: #174EA6;\n",
              "    }\n",
              "\n",
              "    [theme=dark] .colab-df-convert {\n",
              "      background-color: #3B4455;\n",
              "      fill: #D2E3FC;\n",
              "    }\n",
              "\n",
              "    [theme=dark] .colab-df-convert:hover {\n",
              "      background-color: #434B5C;\n",
              "      box-shadow: 0px 1px 3px 1px rgba(0, 0, 0, 0.15);\n",
              "      filter: drop-shadow(0px 1px 2px rgba(0, 0, 0, 0.3));\n",
              "      fill: #FFFFFF;\n",
              "    }\n",
              "  </style>\n",
              "\n",
              "      <script>\n",
              "        const buttonEl =\n",
              "          document.querySelector('#df-61fc70e1-bba4-44b9-b372-2d259a454acd button.colab-df-convert');\n",
              "        buttonEl.style.display =\n",
              "          google.colab.kernel.accessAllowed ? 'block' : 'none';\n",
              "\n",
              "        async function convertToInteractive(key) {\n",
              "          const element = document.querySelector('#df-61fc70e1-bba4-44b9-b372-2d259a454acd');\n",
              "          const dataTable =\n",
              "            await google.colab.kernel.invokeFunction('convertToInteractive',\n",
              "                                                     [key], {});\n",
              "          if (!dataTable) return;\n",
              "\n",
              "          const docLinkHtml = 'Like what you see? Visit the ' +\n",
              "            '<a target=\"_blank\" href=https://colab.research.google.com/notebooks/data_table.ipynb>data table notebook</a>'\n",
              "            + ' to learn more about interactive tables.';\n",
              "          element.innerHTML = '';\n",
              "          dataTable['output_type'] = 'display_data';\n",
              "          await google.colab.output.renderOutput(dataTable, element);\n",
              "          const docLink = document.createElement('div');\n",
              "          docLink.innerHTML = docLinkHtml;\n",
              "          element.appendChild(docLink);\n",
              "        }\n",
              "      </script>\n",
              "    </div>\n",
              "  </div>\n",
              "  "
            ]
          },
          "metadata": {},
          "execution_count": 206
        }
      ]
    },
    {
      "cell_type": "markdown",
      "source": [
        "E' possibile selezionare il contenuto di un DataFrame utilizzando l'operatore *[ ]* . In prima istanza si indica il nome della variabile, seguito eventualmente dagli indici delle righe che si intendono selezionare."
      ],
      "metadata": {
        "id": "9bX23SXOp1ws"
      }
    },
    {
      "cell_type": "markdown",
      "source": [
        "Nel caso piu' generale i dataset che avremo bisogno di analizzare proverranno da fonti esterne. Ne vediamo un esmpio con il caso Transazioni.csv "
      ],
      "metadata": {
        "id": "veCLgng6q9DB"
      }
    },
    {
      "cell_type": "code",
      "source": [
        "t=pd.read_csv('Transazioni.csv',names=['id', 'importo','beneficiario','ordinante','tipo'],dtype={'beneficiario':str,'ordinante':str})"
      ],
      "metadata": {
        "id": "_2PcAL2ZppDb"
      },
      "execution_count": null,
      "outputs": []
    },
    {
      "cell_type": "code",
      "source": [
        "t.info()"
      ],
      "metadata": {
        "colab": {
          "base_uri": "https://localhost:8080/"
        },
        "id": "To3RghMHrTr0",
        "outputId": "febf1c8c-9e47-497f-e5b7-e021433b7c82"
      },
      "execution_count": null,
      "outputs": [
        {
          "output_type": "stream",
          "name": "stdout",
          "text": [
            "<class 'pandas.core.frame.DataFrame'>\n",
            "RangeIndex: 20 entries, 0 to 19\n",
            "Data columns (total 5 columns):\n",
            " #   Column        Non-Null Count  Dtype \n",
            "---  ------        --------------  ----- \n",
            " 0   id            20 non-null     int64 \n",
            " 1   importo       20 non-null     int64 \n",
            " 2   beneficiario  20 non-null     object\n",
            " 3   ordinante     15 non-null     object\n",
            " 4   tipo          20 non-null     object\n",
            "dtypes: int64(2), object(3)\n",
            "memory usage: 928.0+ bytes\n"
          ]
        }
      ]
    },
    {
      "cell_type": "code",
      "source": [
        "t.shape\n",
        "t.head(5)"
      ],
      "metadata": {
        "colab": {
          "base_uri": "https://localhost:8080/",
          "height": 206
        },
        "id": "eGRlZINVrwll",
        "outputId": "f8af4027-e500-476a-9187-a7bb8ea47fb0"
      },
      "execution_count": null,
      "outputs": [
        {
          "output_type": "execute_result",
          "data": {
            "text/plain": [
              "   id  importo beneficiario ordinante              tipo\n",
              "0   1     3450          872       516          bonifico\n",
              "1   2      505          989       NaN  carta di credito\n",
              "2   3    11320          178       136          bonifico\n",
              "3   4     9325          729       378           assegno\n",
              "4   5      620          706       NaN  carta di credito"
            ],
            "text/html": [
              "\n",
              "  <div id=\"df-c1357f0c-8a6a-4031-a792-ce7631c43c67\">\n",
              "    <div class=\"colab-df-container\">\n",
              "      <div>\n",
              "<style scoped>\n",
              "    .dataframe tbody tr th:only-of-type {\n",
              "        vertical-align: middle;\n",
              "    }\n",
              "\n",
              "    .dataframe tbody tr th {\n",
              "        vertical-align: top;\n",
              "    }\n",
              "\n",
              "    .dataframe thead th {\n",
              "        text-align: right;\n",
              "    }\n",
              "</style>\n",
              "<table border=\"1\" class=\"dataframe\">\n",
              "  <thead>\n",
              "    <tr style=\"text-align: right;\">\n",
              "      <th></th>\n",
              "      <th>id</th>\n",
              "      <th>importo</th>\n",
              "      <th>beneficiario</th>\n",
              "      <th>ordinante</th>\n",
              "      <th>tipo</th>\n",
              "    </tr>\n",
              "  </thead>\n",
              "  <tbody>\n",
              "    <tr>\n",
              "      <th>0</th>\n",
              "      <td>1</td>\n",
              "      <td>3450</td>\n",
              "      <td>872</td>\n",
              "      <td>516</td>\n",
              "      <td>bonifico</td>\n",
              "    </tr>\n",
              "    <tr>\n",
              "      <th>1</th>\n",
              "      <td>2</td>\n",
              "      <td>505</td>\n",
              "      <td>989</td>\n",
              "      <td>NaN</td>\n",
              "      <td>carta di credito</td>\n",
              "    </tr>\n",
              "    <tr>\n",
              "      <th>2</th>\n",
              "      <td>3</td>\n",
              "      <td>11320</td>\n",
              "      <td>178</td>\n",
              "      <td>136</td>\n",
              "      <td>bonifico</td>\n",
              "    </tr>\n",
              "    <tr>\n",
              "      <th>3</th>\n",
              "      <td>4</td>\n",
              "      <td>9325</td>\n",
              "      <td>729</td>\n",
              "      <td>378</td>\n",
              "      <td>assegno</td>\n",
              "    </tr>\n",
              "    <tr>\n",
              "      <th>4</th>\n",
              "      <td>5</td>\n",
              "      <td>620</td>\n",
              "      <td>706</td>\n",
              "      <td>NaN</td>\n",
              "      <td>carta di credito</td>\n",
              "    </tr>\n",
              "  </tbody>\n",
              "</table>\n",
              "</div>\n",
              "      <button class=\"colab-df-convert\" onclick=\"convertToInteractive('df-c1357f0c-8a6a-4031-a792-ce7631c43c67')\"\n",
              "              title=\"Convert this dataframe to an interactive table.\"\n",
              "              style=\"display:none;\">\n",
              "        \n",
              "  <svg xmlns=\"http://www.w3.org/2000/svg\" height=\"24px\"viewBox=\"0 0 24 24\"\n",
              "       width=\"24px\">\n",
              "    <path d=\"M0 0h24v24H0V0z\" fill=\"none\"/>\n",
              "    <path d=\"M18.56 5.44l.94 2.06.94-2.06 2.06-.94-2.06-.94-.94-2.06-.94 2.06-2.06.94zm-11 1L8.5 8.5l.94-2.06 2.06-.94-2.06-.94L8.5 2.5l-.94 2.06-2.06.94zm10 10l.94 2.06.94-2.06 2.06-.94-2.06-.94-.94-2.06-.94 2.06-2.06.94z\"/><path d=\"M17.41 7.96l-1.37-1.37c-.4-.4-.92-.59-1.43-.59-.52 0-1.04.2-1.43.59L10.3 9.45l-7.72 7.72c-.78.78-.78 2.05 0 2.83L4 21.41c.39.39.9.59 1.41.59.51 0 1.02-.2 1.41-.59l7.78-7.78 2.81-2.81c.8-.78.8-2.07 0-2.86zM5.41 20L4 18.59l7.72-7.72 1.47 1.35L5.41 20z\"/>\n",
              "  </svg>\n",
              "      </button>\n",
              "      \n",
              "  <style>\n",
              "    .colab-df-container {\n",
              "      display:flex;\n",
              "      flex-wrap:wrap;\n",
              "      gap: 12px;\n",
              "    }\n",
              "\n",
              "    .colab-df-convert {\n",
              "      background-color: #E8F0FE;\n",
              "      border: none;\n",
              "      border-radius: 50%;\n",
              "      cursor: pointer;\n",
              "      display: none;\n",
              "      fill: #1967D2;\n",
              "      height: 32px;\n",
              "      padding: 0 0 0 0;\n",
              "      width: 32px;\n",
              "    }\n",
              "\n",
              "    .colab-df-convert:hover {\n",
              "      background-color: #E2EBFA;\n",
              "      box-shadow: 0px 1px 2px rgba(60, 64, 67, 0.3), 0px 1px 3px 1px rgba(60, 64, 67, 0.15);\n",
              "      fill: #174EA6;\n",
              "    }\n",
              "\n",
              "    [theme=dark] .colab-df-convert {\n",
              "      background-color: #3B4455;\n",
              "      fill: #D2E3FC;\n",
              "    }\n",
              "\n",
              "    [theme=dark] .colab-df-convert:hover {\n",
              "      background-color: #434B5C;\n",
              "      box-shadow: 0px 1px 3px 1px rgba(0, 0, 0, 0.15);\n",
              "      filter: drop-shadow(0px 1px 2px rgba(0, 0, 0, 0.3));\n",
              "      fill: #FFFFFF;\n",
              "    }\n",
              "  </style>\n",
              "\n",
              "      <script>\n",
              "        const buttonEl =\n",
              "          document.querySelector('#df-c1357f0c-8a6a-4031-a792-ce7631c43c67 button.colab-df-convert');\n",
              "        buttonEl.style.display =\n",
              "          google.colab.kernel.accessAllowed ? 'block' : 'none';\n",
              "\n",
              "        async function convertToInteractive(key) {\n",
              "          const element = document.querySelector('#df-c1357f0c-8a6a-4031-a792-ce7631c43c67');\n",
              "          const dataTable =\n",
              "            await google.colab.kernel.invokeFunction('convertToInteractive',\n",
              "                                                     [key], {});\n",
              "          if (!dataTable) return;\n",
              "\n",
              "          const docLinkHtml = 'Like what you see? Visit the ' +\n",
              "            '<a target=\"_blank\" href=https://colab.research.google.com/notebooks/data_table.ipynb>data table notebook</a>'\n",
              "            + ' to learn more about interactive tables.';\n",
              "          element.innerHTML = '';\n",
              "          dataTable['output_type'] = 'display_data';\n",
              "          await google.colab.output.renderOutput(dataTable, element);\n",
              "          const docLink = document.createElement('div');\n",
              "          docLink.innerHTML = docLinkHtml;\n",
              "          element.appendChild(docLink);\n",
              "        }\n",
              "      </script>\n",
              "    </div>\n",
              "  </div>\n",
              "  "
            ]
          },
          "metadata": {},
          "execution_count": 223
        }
      ]
    },
    {
      "cell_type": "markdown",
      "source": [
        "Diamo un'occhiata al DataFrame risultante. Ci sono alcune sbavature su cui vorremmo intervenire:\n",
        "\n",
        "* le variabili ordinante e beneficiario "
      ],
      "metadata": {
        "id": "ybNkLz3vsPHV"
      }
    },
    {
      "cell_type": "markdown",
      "source": [
        "Posso indagare la presenza di valori Null nel DataFrame usando il metodo **isnull**"
      ],
      "metadata": {
        "id": "ZKYXhhlStV4P"
      }
    },
    {
      "cell_type": "code",
      "source": [
        "t[t.isnull()['ordinante']==True]\n",
        "#in questo caso definisco un nuov dataframe\n",
        "t=t.fillna('nd')\n",
        "# in questo caso l'operazione viene eseguita sul dataframe originario\n",
        "t.fillna('nd',inplace)"
      ],
      "metadata": {
        "colab": {
          "base_uri": "https://localhost:8080/",
          "height": 201
        },
        "id": "SqtBQavXth7Q",
        "outputId": "dc71f64c-9866-4030-eafa-f6976ca17567"
      },
      "execution_count": null,
      "outputs": [
        {
          "output_type": "error",
          "ename": "NameError",
          "evalue": "ignored",
          "traceback": [
            "\u001b[0;31m---------------------------------------------------------------------------\u001b[0m",
            "\u001b[0;31mNameError\u001b[0m                                 Traceback (most recent call last)",
            "\u001b[0;32m<ipython-input-228-4e73d096a4ee>\u001b[0m in \u001b[0;36m<module>\u001b[0;34m()\u001b[0m\n\u001b[1;32m      3\u001b[0m \u001b[0mt\u001b[0m\u001b[0;34m=\u001b[0m\u001b[0mt\u001b[0m\u001b[0;34m.\u001b[0m\u001b[0mfillna\u001b[0m\u001b[0;34m(\u001b[0m\u001b[0;34m'nd'\u001b[0m\u001b[0;34m)\u001b[0m\u001b[0;34m\u001b[0m\u001b[0;34m\u001b[0m\u001b[0m\n\u001b[1;32m      4\u001b[0m \u001b[0;31m# in questo caso l'operazione viene eseguita sul dataframe originario\u001b[0m\u001b[0;34m\u001b[0m\u001b[0;34m\u001b[0m\u001b[0;34m\u001b[0m\u001b[0m\n\u001b[0;32m----> 5\u001b[0;31m \u001b[0mt\u001b[0m\u001b[0;34m.\u001b[0m\u001b[0mfillna\u001b[0m\u001b[0;34m(\u001b[0m\u001b[0;34m'nd'\u001b[0m\u001b[0;34m,\u001b[0m\u001b[0minplace\u001b[0m\u001b[0;34m)\u001b[0m\u001b[0;34m\u001b[0m\u001b[0;34m\u001b[0m\u001b[0m\n\u001b[0m",
            "\u001b[0;31mNameError\u001b[0m: name 'inplace' is not defined"
          ]
        }
      ]
    },
    {
      "cell_type": "markdown",
      "source": [
        "## Elaborazioni inplace\n",
        "La stragrande maggioranza delle trasformzioni presenti in Pandas agisce sul DataFrame su cui  viene invocata, creandone una vopia su cui si applica concretamente quella trasformazione. Questa operaione richiede memoria e CPU. Per molte di queste operazioni si puo' usare il parametro **inplace()**."
      ],
      "metadata": {
        "id": "HRfdmFijunKs"
      }
    },
    {
      "cell_type": "code",
      "source": [
        "t[['ordinante','beneficiario','importo']]"
      ],
      "metadata": {
        "colab": {
          "base_uri": "https://localhost:8080/",
          "height": 676
        },
        "id": "J1tsLKrwr1Sf",
        "outputId": "a599ac0a-1782-4053-f6f1-e7a6880a1c0b"
      },
      "execution_count": null,
      "outputs": [
        {
          "output_type": "execute_result",
          "data": {
            "text/plain": [
              "   ordinante beneficiario  importo\n",
              "0        516          872     3450\n",
              "1         nd          989      505\n",
              "2        136          178    11320\n",
              "3        378          729     9325\n",
              "4         nd          706      620\n",
              "5        127          842     5775\n",
              "6        136          713     7255\n",
              "7        194          143    33600\n",
              "8        247          979     7250\n",
              "9        843          648    36545\n",
              "10       759          443     1825\n",
              "11       275          279    17050\n",
              "12        35           66    11100\n",
              "13       964          664    43880\n",
              "14        nd           78      675\n",
              "15        nd          437      595\n",
              "16       919          760    21575\n",
              "17       828          889    14710\n",
              "18        nd           78      420\n",
              "19       323          796     6490"
            ],
            "text/html": [
              "\n",
              "  <div id=\"df-139ee8ac-2f36-4f30-88ee-c5470bb50285\">\n",
              "    <div class=\"colab-df-container\">\n",
              "      <div>\n",
              "<style scoped>\n",
              "    .dataframe tbody tr th:only-of-type {\n",
              "        vertical-align: middle;\n",
              "    }\n",
              "\n",
              "    .dataframe tbody tr th {\n",
              "        vertical-align: top;\n",
              "    }\n",
              "\n",
              "    .dataframe thead th {\n",
              "        text-align: right;\n",
              "    }\n",
              "</style>\n",
              "<table border=\"1\" class=\"dataframe\">\n",
              "  <thead>\n",
              "    <tr style=\"text-align: right;\">\n",
              "      <th></th>\n",
              "      <th>ordinante</th>\n",
              "      <th>beneficiario</th>\n",
              "      <th>importo</th>\n",
              "    </tr>\n",
              "  </thead>\n",
              "  <tbody>\n",
              "    <tr>\n",
              "      <th>0</th>\n",
              "      <td>516</td>\n",
              "      <td>872</td>\n",
              "      <td>3450</td>\n",
              "    </tr>\n",
              "    <tr>\n",
              "      <th>1</th>\n",
              "      <td>nd</td>\n",
              "      <td>989</td>\n",
              "      <td>505</td>\n",
              "    </tr>\n",
              "    <tr>\n",
              "      <th>2</th>\n",
              "      <td>136</td>\n",
              "      <td>178</td>\n",
              "      <td>11320</td>\n",
              "    </tr>\n",
              "    <tr>\n",
              "      <th>3</th>\n",
              "      <td>378</td>\n",
              "      <td>729</td>\n",
              "      <td>9325</td>\n",
              "    </tr>\n",
              "    <tr>\n",
              "      <th>4</th>\n",
              "      <td>nd</td>\n",
              "      <td>706</td>\n",
              "      <td>620</td>\n",
              "    </tr>\n",
              "    <tr>\n",
              "      <th>5</th>\n",
              "      <td>127</td>\n",
              "      <td>842</td>\n",
              "      <td>5775</td>\n",
              "    </tr>\n",
              "    <tr>\n",
              "      <th>6</th>\n",
              "      <td>136</td>\n",
              "      <td>713</td>\n",
              "      <td>7255</td>\n",
              "    </tr>\n",
              "    <tr>\n",
              "      <th>7</th>\n",
              "      <td>194</td>\n",
              "      <td>143</td>\n",
              "      <td>33600</td>\n",
              "    </tr>\n",
              "    <tr>\n",
              "      <th>8</th>\n",
              "      <td>247</td>\n",
              "      <td>979</td>\n",
              "      <td>7250</td>\n",
              "    </tr>\n",
              "    <tr>\n",
              "      <th>9</th>\n",
              "      <td>843</td>\n",
              "      <td>648</td>\n",
              "      <td>36545</td>\n",
              "    </tr>\n",
              "    <tr>\n",
              "      <th>10</th>\n",
              "      <td>759</td>\n",
              "      <td>443</td>\n",
              "      <td>1825</td>\n",
              "    </tr>\n",
              "    <tr>\n",
              "      <th>11</th>\n",
              "      <td>275</td>\n",
              "      <td>279</td>\n",
              "      <td>17050</td>\n",
              "    </tr>\n",
              "    <tr>\n",
              "      <th>12</th>\n",
              "      <td>35</td>\n",
              "      <td>66</td>\n",
              "      <td>11100</td>\n",
              "    </tr>\n",
              "    <tr>\n",
              "      <th>13</th>\n",
              "      <td>964</td>\n",
              "      <td>664</td>\n",
              "      <td>43880</td>\n",
              "    </tr>\n",
              "    <tr>\n",
              "      <th>14</th>\n",
              "      <td>nd</td>\n",
              "      <td>78</td>\n",
              "      <td>675</td>\n",
              "    </tr>\n",
              "    <tr>\n",
              "      <th>15</th>\n",
              "      <td>nd</td>\n",
              "      <td>437</td>\n",
              "      <td>595</td>\n",
              "    </tr>\n",
              "    <tr>\n",
              "      <th>16</th>\n",
              "      <td>919</td>\n",
              "      <td>760</td>\n",
              "      <td>21575</td>\n",
              "    </tr>\n",
              "    <tr>\n",
              "      <th>17</th>\n",
              "      <td>828</td>\n",
              "      <td>889</td>\n",
              "      <td>14710</td>\n",
              "    </tr>\n",
              "    <tr>\n",
              "      <th>18</th>\n",
              "      <td>nd</td>\n",
              "      <td>78</td>\n",
              "      <td>420</td>\n",
              "    </tr>\n",
              "    <tr>\n",
              "      <th>19</th>\n",
              "      <td>323</td>\n",
              "      <td>796</td>\n",
              "      <td>6490</td>\n",
              "    </tr>\n",
              "  </tbody>\n",
              "</table>\n",
              "</div>\n",
              "      <button class=\"colab-df-convert\" onclick=\"convertToInteractive('df-139ee8ac-2f36-4f30-88ee-c5470bb50285')\"\n",
              "              title=\"Convert this dataframe to an interactive table.\"\n",
              "              style=\"display:none;\">\n",
              "        \n",
              "  <svg xmlns=\"http://www.w3.org/2000/svg\" height=\"24px\"viewBox=\"0 0 24 24\"\n",
              "       width=\"24px\">\n",
              "    <path d=\"M0 0h24v24H0V0z\" fill=\"none\"/>\n",
              "    <path d=\"M18.56 5.44l.94 2.06.94-2.06 2.06-.94-2.06-.94-.94-2.06-.94 2.06-2.06.94zm-11 1L8.5 8.5l.94-2.06 2.06-.94-2.06-.94L8.5 2.5l-.94 2.06-2.06.94zm10 10l.94 2.06.94-2.06 2.06-.94-2.06-.94-.94-2.06-.94 2.06-2.06.94z\"/><path d=\"M17.41 7.96l-1.37-1.37c-.4-.4-.92-.59-1.43-.59-.52 0-1.04.2-1.43.59L10.3 9.45l-7.72 7.72c-.78.78-.78 2.05 0 2.83L4 21.41c.39.39.9.59 1.41.59.51 0 1.02-.2 1.41-.59l7.78-7.78 2.81-2.81c.8-.78.8-2.07 0-2.86zM5.41 20L4 18.59l7.72-7.72 1.47 1.35L5.41 20z\"/>\n",
              "  </svg>\n",
              "      </button>\n",
              "      \n",
              "  <style>\n",
              "    .colab-df-container {\n",
              "      display:flex;\n",
              "      flex-wrap:wrap;\n",
              "      gap: 12px;\n",
              "    }\n",
              "\n",
              "    .colab-df-convert {\n",
              "      background-color: #E8F0FE;\n",
              "      border: none;\n",
              "      border-radius: 50%;\n",
              "      cursor: pointer;\n",
              "      display: none;\n",
              "      fill: #1967D2;\n",
              "      height: 32px;\n",
              "      padding: 0 0 0 0;\n",
              "      width: 32px;\n",
              "    }\n",
              "\n",
              "    .colab-df-convert:hover {\n",
              "      background-color: #E2EBFA;\n",
              "      box-shadow: 0px 1px 2px rgba(60, 64, 67, 0.3), 0px 1px 3px 1px rgba(60, 64, 67, 0.15);\n",
              "      fill: #174EA6;\n",
              "    }\n",
              "\n",
              "    [theme=dark] .colab-df-convert {\n",
              "      background-color: #3B4455;\n",
              "      fill: #D2E3FC;\n",
              "    }\n",
              "\n",
              "    [theme=dark] .colab-df-convert:hover {\n",
              "      background-color: #434B5C;\n",
              "      box-shadow: 0px 1px 3px 1px rgba(0, 0, 0, 0.15);\n",
              "      filter: drop-shadow(0px 1px 2px rgba(0, 0, 0, 0.3));\n",
              "      fill: #FFFFFF;\n",
              "    }\n",
              "  </style>\n",
              "\n",
              "      <script>\n",
              "        const buttonEl =\n",
              "          document.querySelector('#df-139ee8ac-2f36-4f30-88ee-c5470bb50285 button.colab-df-convert');\n",
              "        buttonEl.style.display =\n",
              "          google.colab.kernel.accessAllowed ? 'block' : 'none';\n",
              "\n",
              "        async function convertToInteractive(key) {\n",
              "          const element = document.querySelector('#df-139ee8ac-2f36-4f30-88ee-c5470bb50285');\n",
              "          const dataTable =\n",
              "            await google.colab.kernel.invokeFunction('convertToInteractive',\n",
              "                                                     [key], {});\n",
              "          if (!dataTable) return;\n",
              "\n",
              "          const docLinkHtml = 'Like what you see? Visit the ' +\n",
              "            '<a target=\"_blank\" href=https://colab.research.google.com/notebooks/data_table.ipynb>data table notebook</a>'\n",
              "            + ' to learn more about interactive tables.';\n",
              "          element.innerHTML = '';\n",
              "          dataTable['output_type'] = 'display_data';\n",
              "          await google.colab.output.renderOutput(dataTable, element);\n",
              "          const docLink = document.createElement('div');\n",
              "          docLink.innerHTML = docLinkHtml;\n",
              "          element.appendChild(docLink);\n",
              "        }\n",
              "      </script>\n",
              "    </div>\n",
              "  </div>\n",
              "  "
            ]
          },
          "metadata": {},
          "execution_count": 231
        }
      ]
    },
    {
      "cell_type": "markdown",
      "source": [
        "E' possibile accedere alle righe di un DataFrame per mezzo del metodo **iloc**."
      ],
      "metadata": {
        "id": "2uON_qWnvxa1"
      }
    },
    {
      "cell_type": "code",
      "source": [
        "t.iloc[[1,2,3]]\n",
        "t.iloc[1:3]"
      ],
      "metadata": {
        "colab": {
          "base_uri": "https://localhost:8080/",
          "height": 112
        },
        "id": "_n3U4aOBvfVX",
        "outputId": "ba4f3f0a-3452-42ce-88f4-ccbab7276114"
      },
      "execution_count": null,
      "outputs": [
        {
          "output_type": "execute_result",
          "data": {
            "text/plain": [
              "   id  importo beneficiario ordinante              tipo\n",
              "1   2      505          989        nd  carta di credito\n",
              "2   3    11320          178       136          bonifico"
            ],
            "text/html": [
              "\n",
              "  <div id=\"df-e47d9148-5c20-4b58-bdef-7340ebf15f1e\">\n",
              "    <div class=\"colab-df-container\">\n",
              "      <div>\n",
              "<style scoped>\n",
              "    .dataframe tbody tr th:only-of-type {\n",
              "        vertical-align: middle;\n",
              "    }\n",
              "\n",
              "    .dataframe tbody tr th {\n",
              "        vertical-align: top;\n",
              "    }\n",
              "\n",
              "    .dataframe thead th {\n",
              "        text-align: right;\n",
              "    }\n",
              "</style>\n",
              "<table border=\"1\" class=\"dataframe\">\n",
              "  <thead>\n",
              "    <tr style=\"text-align: right;\">\n",
              "      <th></th>\n",
              "      <th>id</th>\n",
              "      <th>importo</th>\n",
              "      <th>beneficiario</th>\n",
              "      <th>ordinante</th>\n",
              "      <th>tipo</th>\n",
              "    </tr>\n",
              "  </thead>\n",
              "  <tbody>\n",
              "    <tr>\n",
              "      <th>1</th>\n",
              "      <td>2</td>\n",
              "      <td>505</td>\n",
              "      <td>989</td>\n",
              "      <td>nd</td>\n",
              "      <td>carta di credito</td>\n",
              "    </tr>\n",
              "    <tr>\n",
              "      <th>2</th>\n",
              "      <td>3</td>\n",
              "      <td>11320</td>\n",
              "      <td>178</td>\n",
              "      <td>136</td>\n",
              "      <td>bonifico</td>\n",
              "    </tr>\n",
              "  </tbody>\n",
              "</table>\n",
              "</div>\n",
              "      <button class=\"colab-df-convert\" onclick=\"convertToInteractive('df-e47d9148-5c20-4b58-bdef-7340ebf15f1e')\"\n",
              "              title=\"Convert this dataframe to an interactive table.\"\n",
              "              style=\"display:none;\">\n",
              "        \n",
              "  <svg xmlns=\"http://www.w3.org/2000/svg\" height=\"24px\"viewBox=\"0 0 24 24\"\n",
              "       width=\"24px\">\n",
              "    <path d=\"M0 0h24v24H0V0z\" fill=\"none\"/>\n",
              "    <path d=\"M18.56 5.44l.94 2.06.94-2.06 2.06-.94-2.06-.94-.94-2.06-.94 2.06-2.06.94zm-11 1L8.5 8.5l.94-2.06 2.06-.94-2.06-.94L8.5 2.5l-.94 2.06-2.06.94zm10 10l.94 2.06.94-2.06 2.06-.94-2.06-.94-.94-2.06-.94 2.06-2.06.94z\"/><path d=\"M17.41 7.96l-1.37-1.37c-.4-.4-.92-.59-1.43-.59-.52 0-1.04.2-1.43.59L10.3 9.45l-7.72 7.72c-.78.78-.78 2.05 0 2.83L4 21.41c.39.39.9.59 1.41.59.51 0 1.02-.2 1.41-.59l7.78-7.78 2.81-2.81c.8-.78.8-2.07 0-2.86zM5.41 20L4 18.59l7.72-7.72 1.47 1.35L5.41 20z\"/>\n",
              "  </svg>\n",
              "      </button>\n",
              "      \n",
              "  <style>\n",
              "    .colab-df-container {\n",
              "      display:flex;\n",
              "      flex-wrap:wrap;\n",
              "      gap: 12px;\n",
              "    }\n",
              "\n",
              "    .colab-df-convert {\n",
              "      background-color: #E8F0FE;\n",
              "      border: none;\n",
              "      border-radius: 50%;\n",
              "      cursor: pointer;\n",
              "      display: none;\n",
              "      fill: #1967D2;\n",
              "      height: 32px;\n",
              "      padding: 0 0 0 0;\n",
              "      width: 32px;\n",
              "    }\n",
              "\n",
              "    .colab-df-convert:hover {\n",
              "      background-color: #E2EBFA;\n",
              "      box-shadow: 0px 1px 2px rgba(60, 64, 67, 0.3), 0px 1px 3px 1px rgba(60, 64, 67, 0.15);\n",
              "      fill: #174EA6;\n",
              "    }\n",
              "\n",
              "    [theme=dark] .colab-df-convert {\n",
              "      background-color: #3B4455;\n",
              "      fill: #D2E3FC;\n",
              "    }\n",
              "\n",
              "    [theme=dark] .colab-df-convert:hover {\n",
              "      background-color: #434B5C;\n",
              "      box-shadow: 0px 1px 3px 1px rgba(0, 0, 0, 0.15);\n",
              "      filter: drop-shadow(0px 1px 2px rgba(0, 0, 0, 0.3));\n",
              "      fill: #FFFFFF;\n",
              "    }\n",
              "  </style>\n",
              "\n",
              "      <script>\n",
              "        const buttonEl =\n",
              "          document.querySelector('#df-e47d9148-5c20-4b58-bdef-7340ebf15f1e button.colab-df-convert');\n",
              "        buttonEl.style.display =\n",
              "          google.colab.kernel.accessAllowed ? 'block' : 'none';\n",
              "\n",
              "        async function convertToInteractive(key) {\n",
              "          const element = document.querySelector('#df-e47d9148-5c20-4b58-bdef-7340ebf15f1e');\n",
              "          const dataTable =\n",
              "            await google.colab.kernel.invokeFunction('convertToInteractive',\n",
              "                                                     [key], {});\n",
              "          if (!dataTable) return;\n",
              "\n",
              "          const docLinkHtml = 'Like what you see? Visit the ' +\n",
              "            '<a target=\"_blank\" href=https://colab.research.google.com/notebooks/data_table.ipynb>data table notebook</a>'\n",
              "            + ' to learn more about interactive tables.';\n",
              "          element.innerHTML = '';\n",
              "          dataTable['output_type'] = 'display_data';\n",
              "          await google.colab.output.renderOutput(dataTable, element);\n",
              "          const docLink = document.createElement('div');\n",
              "          docLink.innerHTML = docLinkHtml;\n",
              "          element.appendChild(docLink);\n",
              "        }\n",
              "      </script>\n",
              "    </div>\n",
              "  </div>\n",
              "  "
            ]
          },
          "metadata": {},
          "execution_count": 235
        }
      ]
    },
    {
      "cell_type": "markdown",
      "source": [
        "## Selezione condizionata\n",
        "Siamo interessati a filtrare le sole riche del DataFrame che obbediscono a una certa condizione. (e,g. le transazioni di tipo 'bonifico').\n",
        "Possiamo ancora una volta usare la vettorizzazione."
      ],
      "metadata": {
        "id": "y9EZD3ytwV2f"
      }
    },
    {
      "cell_type": "code",
      "source": [
        "t['tipo']=='bonifico'"
      ],
      "metadata": {
        "colab": {
          "base_uri": "https://localhost:8080/"
        },
        "id": "o6F9H295v7q8",
        "outputId": "0b306a08-f058-478e-b77f-31443a60f8fd"
      },
      "execution_count": null,
      "outputs": [
        {
          "output_type": "execute_result",
          "data": {
            "text/plain": [
              "0      True\n",
              "1     False\n",
              "2      True\n",
              "3     False\n",
              "4     False\n",
              "5      True\n",
              "6      True\n",
              "7     False\n",
              "8      True\n",
              "9      True\n",
              "10    False\n",
              "11    False\n",
              "12     True\n",
              "13    False\n",
              "14    False\n",
              "15    False\n",
              "16     True\n",
              "17     True\n",
              "18    False\n",
              "19    False\n",
              "Name: tipo, dtype: bool"
            ]
          },
          "metadata": {},
          "execution_count": 239
        }
      ]
    },
    {
      "cell_type": "code",
      "source": [
        "t[(t['tipo']=='bonifico') | (t['tipo']=='carta di credito')]"
      ],
      "metadata": {
        "colab": {
          "base_uri": "https://localhost:8080/",
          "height": 488
        },
        "id": "ko-I00Olwho-",
        "outputId": "c68828da-c5b7-41f6-d0e3-0c0083684206"
      },
      "execution_count": null,
      "outputs": [
        {
          "output_type": "execute_result",
          "data": {
            "text/plain": [
              "    id  importo beneficiario ordinante              tipo\n",
              "0    1     3450          872       516          bonifico\n",
              "1    2      505          989       NaN  carta di credito\n",
              "2    3    11320          178       136          bonifico\n",
              "4    5      620          706       NaN  carta di credito\n",
              "5    6     5775          842       127          bonifico\n",
              "6    7     7255          713       136          bonifico\n",
              "8    9     7250          979       247          bonifico\n",
              "9   10    36545          648       843          bonifico\n",
              "12  13    11100           66        35          bonifico\n",
              "14  15      675           78       NaN  carta di credito\n",
              "15  16      595          437       NaN  carta di credito\n",
              "16  17    21575          760       919          bonifico\n",
              "17  18    14710          889       828          bonifico\n",
              "18  19      420           78       NaN  carta di credito"
            ],
            "text/html": [
              "\n",
              "  <div id=\"df-405e7762-2d8a-4426-b7fa-b1b22b8e48ae\">\n",
              "    <div class=\"colab-df-container\">\n",
              "      <div>\n",
              "<style scoped>\n",
              "    .dataframe tbody tr th:only-of-type {\n",
              "        vertical-align: middle;\n",
              "    }\n",
              "\n",
              "    .dataframe tbody tr th {\n",
              "        vertical-align: top;\n",
              "    }\n",
              "\n",
              "    .dataframe thead th {\n",
              "        text-align: right;\n",
              "    }\n",
              "</style>\n",
              "<table border=\"1\" class=\"dataframe\">\n",
              "  <thead>\n",
              "    <tr style=\"text-align: right;\">\n",
              "      <th></th>\n",
              "      <th>id</th>\n",
              "      <th>importo</th>\n",
              "      <th>beneficiario</th>\n",
              "      <th>ordinante</th>\n",
              "      <th>tipo</th>\n",
              "    </tr>\n",
              "  </thead>\n",
              "  <tbody>\n",
              "    <tr>\n",
              "      <th>0</th>\n",
              "      <td>1</td>\n",
              "      <td>3450</td>\n",
              "      <td>872</td>\n",
              "      <td>516</td>\n",
              "      <td>bonifico</td>\n",
              "    </tr>\n",
              "    <tr>\n",
              "      <th>1</th>\n",
              "      <td>2</td>\n",
              "      <td>505</td>\n",
              "      <td>989</td>\n",
              "      <td>NaN</td>\n",
              "      <td>carta di credito</td>\n",
              "    </tr>\n",
              "    <tr>\n",
              "      <th>2</th>\n",
              "      <td>3</td>\n",
              "      <td>11320</td>\n",
              "      <td>178</td>\n",
              "      <td>136</td>\n",
              "      <td>bonifico</td>\n",
              "    </tr>\n",
              "    <tr>\n",
              "      <th>4</th>\n",
              "      <td>5</td>\n",
              "      <td>620</td>\n",
              "      <td>706</td>\n",
              "      <td>NaN</td>\n",
              "      <td>carta di credito</td>\n",
              "    </tr>\n",
              "    <tr>\n",
              "      <th>5</th>\n",
              "      <td>6</td>\n",
              "      <td>5775</td>\n",
              "      <td>842</td>\n",
              "      <td>127</td>\n",
              "      <td>bonifico</td>\n",
              "    </tr>\n",
              "    <tr>\n",
              "      <th>6</th>\n",
              "      <td>7</td>\n",
              "      <td>7255</td>\n",
              "      <td>713</td>\n",
              "      <td>136</td>\n",
              "      <td>bonifico</td>\n",
              "    </tr>\n",
              "    <tr>\n",
              "      <th>8</th>\n",
              "      <td>9</td>\n",
              "      <td>7250</td>\n",
              "      <td>979</td>\n",
              "      <td>247</td>\n",
              "      <td>bonifico</td>\n",
              "    </tr>\n",
              "    <tr>\n",
              "      <th>9</th>\n",
              "      <td>10</td>\n",
              "      <td>36545</td>\n",
              "      <td>648</td>\n",
              "      <td>843</td>\n",
              "      <td>bonifico</td>\n",
              "    </tr>\n",
              "    <tr>\n",
              "      <th>12</th>\n",
              "      <td>13</td>\n",
              "      <td>11100</td>\n",
              "      <td>66</td>\n",
              "      <td>35</td>\n",
              "      <td>bonifico</td>\n",
              "    </tr>\n",
              "    <tr>\n",
              "      <th>14</th>\n",
              "      <td>15</td>\n",
              "      <td>675</td>\n",
              "      <td>78</td>\n",
              "      <td>NaN</td>\n",
              "      <td>carta di credito</td>\n",
              "    </tr>\n",
              "    <tr>\n",
              "      <th>15</th>\n",
              "      <td>16</td>\n",
              "      <td>595</td>\n",
              "      <td>437</td>\n",
              "      <td>NaN</td>\n",
              "      <td>carta di credito</td>\n",
              "    </tr>\n",
              "    <tr>\n",
              "      <th>16</th>\n",
              "      <td>17</td>\n",
              "      <td>21575</td>\n",
              "      <td>760</td>\n",
              "      <td>919</td>\n",
              "      <td>bonifico</td>\n",
              "    </tr>\n",
              "    <tr>\n",
              "      <th>17</th>\n",
              "      <td>18</td>\n",
              "      <td>14710</td>\n",
              "      <td>889</td>\n",
              "      <td>828</td>\n",
              "      <td>bonifico</td>\n",
              "    </tr>\n",
              "    <tr>\n",
              "      <th>18</th>\n",
              "      <td>19</td>\n",
              "      <td>420</td>\n",
              "      <td>78</td>\n",
              "      <td>NaN</td>\n",
              "      <td>carta di credito</td>\n",
              "    </tr>\n",
              "  </tbody>\n",
              "</table>\n",
              "</div>\n",
              "      <button class=\"colab-df-convert\" onclick=\"convertToInteractive('df-405e7762-2d8a-4426-b7fa-b1b22b8e48ae')\"\n",
              "              title=\"Convert this dataframe to an interactive table.\"\n",
              "              style=\"display:none;\">\n",
              "        \n",
              "  <svg xmlns=\"http://www.w3.org/2000/svg\" height=\"24px\"viewBox=\"0 0 24 24\"\n",
              "       width=\"24px\">\n",
              "    <path d=\"M0 0h24v24H0V0z\" fill=\"none\"/>\n",
              "    <path d=\"M18.56 5.44l.94 2.06.94-2.06 2.06-.94-2.06-.94-.94-2.06-.94 2.06-2.06.94zm-11 1L8.5 8.5l.94-2.06 2.06-.94-2.06-.94L8.5 2.5l-.94 2.06-2.06.94zm10 10l.94 2.06.94-2.06 2.06-.94-2.06-.94-.94-2.06-.94 2.06-2.06.94z\"/><path d=\"M17.41 7.96l-1.37-1.37c-.4-.4-.92-.59-1.43-.59-.52 0-1.04.2-1.43.59L10.3 9.45l-7.72 7.72c-.78.78-.78 2.05 0 2.83L4 21.41c.39.39.9.59 1.41.59.51 0 1.02-.2 1.41-.59l7.78-7.78 2.81-2.81c.8-.78.8-2.07 0-2.86zM5.41 20L4 18.59l7.72-7.72 1.47 1.35L5.41 20z\"/>\n",
              "  </svg>\n",
              "      </button>\n",
              "      \n",
              "  <style>\n",
              "    .colab-df-container {\n",
              "      display:flex;\n",
              "      flex-wrap:wrap;\n",
              "      gap: 12px;\n",
              "    }\n",
              "\n",
              "    .colab-df-convert {\n",
              "      background-color: #E8F0FE;\n",
              "      border: none;\n",
              "      border-radius: 50%;\n",
              "      cursor: pointer;\n",
              "      display: none;\n",
              "      fill: #1967D2;\n",
              "      height: 32px;\n",
              "      padding: 0 0 0 0;\n",
              "      width: 32px;\n",
              "    }\n",
              "\n",
              "    .colab-df-convert:hover {\n",
              "      background-color: #E2EBFA;\n",
              "      box-shadow: 0px 1px 2px rgba(60, 64, 67, 0.3), 0px 1px 3px 1px rgba(60, 64, 67, 0.15);\n",
              "      fill: #174EA6;\n",
              "    }\n",
              "\n",
              "    [theme=dark] .colab-df-convert {\n",
              "      background-color: #3B4455;\n",
              "      fill: #D2E3FC;\n",
              "    }\n",
              "\n",
              "    [theme=dark] .colab-df-convert:hover {\n",
              "      background-color: #434B5C;\n",
              "      box-shadow: 0px 1px 3px 1px rgba(0, 0, 0, 0.15);\n",
              "      filter: drop-shadow(0px 1px 2px rgba(0, 0, 0, 0.3));\n",
              "      fill: #FFFFFF;\n",
              "    }\n",
              "  </style>\n",
              "\n",
              "      <script>\n",
              "        const buttonEl =\n",
              "          document.querySelector('#df-405e7762-2d8a-4426-b7fa-b1b22b8e48ae button.colab-df-convert');\n",
              "        buttonEl.style.display =\n",
              "          google.colab.kernel.accessAllowed ? 'block' : 'none';\n",
              "\n",
              "        async function convertToInteractive(key) {\n",
              "          const element = document.querySelector('#df-405e7762-2d8a-4426-b7fa-b1b22b8e48ae');\n",
              "          const dataTable =\n",
              "            await google.colab.kernel.invokeFunction('convertToInteractive',\n",
              "                                                     [key], {});\n",
              "          if (!dataTable) return;\n",
              "\n",
              "          const docLinkHtml = 'Like what you see? Visit the ' +\n",
              "            '<a target=\"_blank\" href=https://colab.research.google.com/notebooks/data_table.ipynb>data table notebook</a>'\n",
              "            + ' to learn more about interactive tables.';\n",
              "          element.innerHTML = '';\n",
              "          dataTable['output_type'] = 'display_data';\n",
              "          await google.colab.output.renderOutput(dataTable, element);\n",
              "          const docLink = document.createElement('div');\n",
              "          docLink.innerHTML = docLinkHtml;\n",
              "          element.appendChild(docLink);\n",
              "        }\n",
              "      </script>\n",
              "    </div>\n",
              "  </div>\n",
              "  "
            ]
          },
          "metadata": {},
          "execution_count": 242
        }
      ]
    },
    {
      "cell_type": "markdown",
      "source": [
        "E' possibile filtrare in base a piu' condizioni contemporaneamente. Dapprima predispongo un'espressione per ciascuna condizione, questa restituira' valori booleani. Poi combino le espressioni tramite operatori logici (&, |, ...)"
      ],
      "metadata": {
        "id": "s98-pT4HxiPj"
      }
    },
    {
      "cell_type": "code",
      "source": [
        "t[(t['tipo']=='bonifico') & (t['importo']>10000)]"
      ],
      "metadata": {
        "colab": {
          "base_uri": "https://localhost:8080/",
          "height": 206
        },
        "id": "S_-FWFIzxN13",
        "outputId": "0abbfa8c-d9b6-4cd6-8f93-ee0cba898ccd"
      },
      "execution_count": null,
      "outputs": [
        {
          "output_type": "execute_result",
          "data": {
            "text/plain": [
              "    id  importo beneficiario ordinante      tipo\n",
              "2    3    11320          178       136  bonifico\n",
              "9   10    36545          648       843  bonifico\n",
              "12  13    11100           66        35  bonifico\n",
              "16  17    21575          760       919  bonifico\n",
              "17  18    14710          889       828  bonifico"
            ],
            "text/html": [
              "\n",
              "  <div id=\"df-d7aab951-3e84-4276-941c-2eb8fc91a6e6\">\n",
              "    <div class=\"colab-df-container\">\n",
              "      <div>\n",
              "<style scoped>\n",
              "    .dataframe tbody tr th:only-of-type {\n",
              "        vertical-align: middle;\n",
              "    }\n",
              "\n",
              "    .dataframe tbody tr th {\n",
              "        vertical-align: top;\n",
              "    }\n",
              "\n",
              "    .dataframe thead th {\n",
              "        text-align: right;\n",
              "    }\n",
              "</style>\n",
              "<table border=\"1\" class=\"dataframe\">\n",
              "  <thead>\n",
              "    <tr style=\"text-align: right;\">\n",
              "      <th></th>\n",
              "      <th>id</th>\n",
              "      <th>importo</th>\n",
              "      <th>beneficiario</th>\n",
              "      <th>ordinante</th>\n",
              "      <th>tipo</th>\n",
              "    </tr>\n",
              "  </thead>\n",
              "  <tbody>\n",
              "    <tr>\n",
              "      <th>2</th>\n",
              "      <td>3</td>\n",
              "      <td>11320</td>\n",
              "      <td>178</td>\n",
              "      <td>136</td>\n",
              "      <td>bonifico</td>\n",
              "    </tr>\n",
              "    <tr>\n",
              "      <th>9</th>\n",
              "      <td>10</td>\n",
              "      <td>36545</td>\n",
              "      <td>648</td>\n",
              "      <td>843</td>\n",
              "      <td>bonifico</td>\n",
              "    </tr>\n",
              "    <tr>\n",
              "      <th>12</th>\n",
              "      <td>13</td>\n",
              "      <td>11100</td>\n",
              "      <td>66</td>\n",
              "      <td>35</td>\n",
              "      <td>bonifico</td>\n",
              "    </tr>\n",
              "    <tr>\n",
              "      <th>16</th>\n",
              "      <td>17</td>\n",
              "      <td>21575</td>\n",
              "      <td>760</td>\n",
              "      <td>919</td>\n",
              "      <td>bonifico</td>\n",
              "    </tr>\n",
              "    <tr>\n",
              "      <th>17</th>\n",
              "      <td>18</td>\n",
              "      <td>14710</td>\n",
              "      <td>889</td>\n",
              "      <td>828</td>\n",
              "      <td>bonifico</td>\n",
              "    </tr>\n",
              "  </tbody>\n",
              "</table>\n",
              "</div>\n",
              "      <button class=\"colab-df-convert\" onclick=\"convertToInteractive('df-d7aab951-3e84-4276-941c-2eb8fc91a6e6')\"\n",
              "              title=\"Convert this dataframe to an interactive table.\"\n",
              "              style=\"display:none;\">\n",
              "        \n",
              "  <svg xmlns=\"http://www.w3.org/2000/svg\" height=\"24px\"viewBox=\"0 0 24 24\"\n",
              "       width=\"24px\">\n",
              "    <path d=\"M0 0h24v24H0V0z\" fill=\"none\"/>\n",
              "    <path d=\"M18.56 5.44l.94 2.06.94-2.06 2.06-.94-2.06-.94-.94-2.06-.94 2.06-2.06.94zm-11 1L8.5 8.5l.94-2.06 2.06-.94-2.06-.94L8.5 2.5l-.94 2.06-2.06.94zm10 10l.94 2.06.94-2.06 2.06-.94-2.06-.94-.94-2.06-.94 2.06-2.06.94z\"/><path d=\"M17.41 7.96l-1.37-1.37c-.4-.4-.92-.59-1.43-.59-.52 0-1.04.2-1.43.59L10.3 9.45l-7.72 7.72c-.78.78-.78 2.05 0 2.83L4 21.41c.39.39.9.59 1.41.59.51 0 1.02-.2 1.41-.59l7.78-7.78 2.81-2.81c.8-.78.8-2.07 0-2.86zM5.41 20L4 18.59l7.72-7.72 1.47 1.35L5.41 20z\"/>\n",
              "  </svg>\n",
              "      </button>\n",
              "      \n",
              "  <style>\n",
              "    .colab-df-container {\n",
              "      display:flex;\n",
              "      flex-wrap:wrap;\n",
              "      gap: 12px;\n",
              "    }\n",
              "\n",
              "    .colab-df-convert {\n",
              "      background-color: #E8F0FE;\n",
              "      border: none;\n",
              "      border-radius: 50%;\n",
              "      cursor: pointer;\n",
              "      display: none;\n",
              "      fill: #1967D2;\n",
              "      height: 32px;\n",
              "      padding: 0 0 0 0;\n",
              "      width: 32px;\n",
              "    }\n",
              "\n",
              "    .colab-df-convert:hover {\n",
              "      background-color: #E2EBFA;\n",
              "      box-shadow: 0px 1px 2px rgba(60, 64, 67, 0.3), 0px 1px 3px 1px rgba(60, 64, 67, 0.15);\n",
              "      fill: #174EA6;\n",
              "    }\n",
              "\n",
              "    [theme=dark] .colab-df-convert {\n",
              "      background-color: #3B4455;\n",
              "      fill: #D2E3FC;\n",
              "    }\n",
              "\n",
              "    [theme=dark] .colab-df-convert:hover {\n",
              "      background-color: #434B5C;\n",
              "      box-shadow: 0px 1px 3px 1px rgba(0, 0, 0, 0.15);\n",
              "      filter: drop-shadow(0px 1px 2px rgba(0, 0, 0, 0.3));\n",
              "      fill: #FFFFFF;\n",
              "    }\n",
              "  </style>\n",
              "\n",
              "      <script>\n",
              "        const buttonEl =\n",
              "          document.querySelector('#df-d7aab951-3e84-4276-941c-2eb8fc91a6e6 button.colab-df-convert');\n",
              "        buttonEl.style.display =\n",
              "          google.colab.kernel.accessAllowed ? 'block' : 'none';\n",
              "\n",
              "        async function convertToInteractive(key) {\n",
              "          const element = document.querySelector('#df-d7aab951-3e84-4276-941c-2eb8fc91a6e6');\n",
              "          const dataTable =\n",
              "            await google.colab.kernel.invokeFunction('convertToInteractive',\n",
              "                                                     [key], {});\n",
              "          if (!dataTable) return;\n",
              "\n",
              "          const docLinkHtml = 'Like what you see? Visit the ' +\n",
              "            '<a target=\"_blank\" href=https://colab.research.google.com/notebooks/data_table.ipynb>data table notebook</a>'\n",
              "            + ' to learn more about interactive tables.';\n",
              "          element.innerHTML = '';\n",
              "          dataTable['output_type'] = 'display_data';\n",
              "          await google.colab.output.renderOutput(dataTable, element);\n",
              "          const docLink = document.createElement('div');\n",
              "          docLink.innerHTML = docLinkHtml;\n",
              "          element.appendChild(docLink);\n",
              "        }\n",
              "      </script>\n",
              "    </div>\n",
              "  </div>\n",
              "  "
            ]
          },
          "metadata": {},
          "execution_count": 268
        }
      ]
    },
    {
      "cell_type": "code",
      "source": [
        "t[t['beneficiario'].str.contains('13')]"
      ],
      "metadata": {
        "colab": {
          "base_uri": "https://localhost:8080/",
          "height": 80
        },
        "id": "SUTfhlaVyNrN",
        "outputId": "ba22f3bd-f6af-44b4-8bf5-b3df7816ddd7"
      },
      "execution_count": null,
      "outputs": [
        {
          "output_type": "execute_result",
          "data": {
            "text/plain": [
              "   id  importo beneficiario ordinante      tipo\n",
              "6   7     7255          713       136  bonifico"
            ],
            "text/html": [
              "\n",
              "  <div id=\"df-90b5269c-89cf-48e2-a695-7d0df3795faa\">\n",
              "    <div class=\"colab-df-container\">\n",
              "      <div>\n",
              "<style scoped>\n",
              "    .dataframe tbody tr th:only-of-type {\n",
              "        vertical-align: middle;\n",
              "    }\n",
              "\n",
              "    .dataframe tbody tr th {\n",
              "        vertical-align: top;\n",
              "    }\n",
              "\n",
              "    .dataframe thead th {\n",
              "        text-align: right;\n",
              "    }\n",
              "</style>\n",
              "<table border=\"1\" class=\"dataframe\">\n",
              "  <thead>\n",
              "    <tr style=\"text-align: right;\">\n",
              "      <th></th>\n",
              "      <th>id</th>\n",
              "      <th>importo</th>\n",
              "      <th>beneficiario</th>\n",
              "      <th>ordinante</th>\n",
              "      <th>tipo</th>\n",
              "    </tr>\n",
              "  </thead>\n",
              "  <tbody>\n",
              "    <tr>\n",
              "      <th>6</th>\n",
              "      <td>7</td>\n",
              "      <td>7255</td>\n",
              "      <td>713</td>\n",
              "      <td>136</td>\n",
              "      <td>bonifico</td>\n",
              "    </tr>\n",
              "  </tbody>\n",
              "</table>\n",
              "</div>\n",
              "      <button class=\"colab-df-convert\" onclick=\"convertToInteractive('df-90b5269c-89cf-48e2-a695-7d0df3795faa')\"\n",
              "              title=\"Convert this dataframe to an interactive table.\"\n",
              "              style=\"display:none;\">\n",
              "        \n",
              "  <svg xmlns=\"http://www.w3.org/2000/svg\" height=\"24px\"viewBox=\"0 0 24 24\"\n",
              "       width=\"24px\">\n",
              "    <path d=\"M0 0h24v24H0V0z\" fill=\"none\"/>\n",
              "    <path d=\"M18.56 5.44l.94 2.06.94-2.06 2.06-.94-2.06-.94-.94-2.06-.94 2.06-2.06.94zm-11 1L8.5 8.5l.94-2.06 2.06-.94-2.06-.94L8.5 2.5l-.94 2.06-2.06.94zm10 10l.94 2.06.94-2.06 2.06-.94-2.06-.94-.94-2.06-.94 2.06-2.06.94z\"/><path d=\"M17.41 7.96l-1.37-1.37c-.4-.4-.92-.59-1.43-.59-.52 0-1.04.2-1.43.59L10.3 9.45l-7.72 7.72c-.78.78-.78 2.05 0 2.83L4 21.41c.39.39.9.59 1.41.59.51 0 1.02-.2 1.41-.59l7.78-7.78 2.81-2.81c.8-.78.8-2.07 0-2.86zM5.41 20L4 18.59l7.72-7.72 1.47 1.35L5.41 20z\"/>\n",
              "  </svg>\n",
              "      </button>\n",
              "      \n",
              "  <style>\n",
              "    .colab-df-container {\n",
              "      display:flex;\n",
              "      flex-wrap:wrap;\n",
              "      gap: 12px;\n",
              "    }\n",
              "\n",
              "    .colab-df-convert {\n",
              "      background-color: #E8F0FE;\n",
              "      border: none;\n",
              "      border-radius: 50%;\n",
              "      cursor: pointer;\n",
              "      display: none;\n",
              "      fill: #1967D2;\n",
              "      height: 32px;\n",
              "      padding: 0 0 0 0;\n",
              "      width: 32px;\n",
              "    }\n",
              "\n",
              "    .colab-df-convert:hover {\n",
              "      background-color: #E2EBFA;\n",
              "      box-shadow: 0px 1px 2px rgba(60, 64, 67, 0.3), 0px 1px 3px 1px rgba(60, 64, 67, 0.15);\n",
              "      fill: #174EA6;\n",
              "    }\n",
              "\n",
              "    [theme=dark] .colab-df-convert {\n",
              "      background-color: #3B4455;\n",
              "      fill: #D2E3FC;\n",
              "    }\n",
              "\n",
              "    [theme=dark] .colab-df-convert:hover {\n",
              "      background-color: #434B5C;\n",
              "      box-shadow: 0px 1px 3px 1px rgba(0, 0, 0, 0.15);\n",
              "      filter: drop-shadow(0px 1px 2px rgba(0, 0, 0, 0.3));\n",
              "      fill: #FFFFFF;\n",
              "    }\n",
              "  </style>\n",
              "\n",
              "      <script>\n",
              "        const buttonEl =\n",
              "          document.querySelector('#df-90b5269c-89cf-48e2-a695-7d0df3795faa button.colab-df-convert');\n",
              "        buttonEl.style.display =\n",
              "          google.colab.kernel.accessAllowed ? 'block' : 'none';\n",
              "\n",
              "        async function convertToInteractive(key) {\n",
              "          const element = document.querySelector('#df-90b5269c-89cf-48e2-a695-7d0df3795faa');\n",
              "          const dataTable =\n",
              "            await google.colab.kernel.invokeFunction('convertToInteractive',\n",
              "                                                     [key], {});\n",
              "          if (!dataTable) return;\n",
              "\n",
              "          const docLinkHtml = 'Like what you see? Visit the ' +\n",
              "            '<a target=\"_blank\" href=https://colab.research.google.com/notebooks/data_table.ipynb>data table notebook</a>'\n",
              "            + ' to learn more about interactive tables.';\n",
              "          element.innerHTML = '';\n",
              "          dataTable['output_type'] = 'display_data';\n",
              "          await google.colab.output.renderOutput(dataTable, element);\n",
              "          const docLink = document.createElement('div');\n",
              "          docLink.innerHTML = docLinkHtml;\n",
              "          element.appendChild(docLink);\n",
              "        }\n",
              "      </script>\n",
              "    </div>\n",
              "  </div>\n",
              "  "
            ]
          },
          "metadata": {},
          "execution_count": 244
        }
      ]
    },
    {
      "cell_type": "code",
      "source": [
        "t[t['tipo']=='bonifico']"
      ],
      "metadata": {
        "colab": {
          "base_uri": "https://localhost:8080/",
          "height": 331
        },
        "id": "kZQGfYzayn_h",
        "outputId": "6452673d-de5b-4140-e0c2-bcd0bd24fb0d"
      },
      "execution_count": null,
      "outputs": [
        {
          "output_type": "execute_result",
          "data": {
            "text/plain": [
              "    id  importo beneficiario ordinante      tipo\n",
              "0    1     3450          872       516  bonifico\n",
              "2    3    11320          178       136  bonifico\n",
              "5    6     5775          842       127  bonifico\n",
              "6    7     7255          713       136  bonifico\n",
              "8    9     7250          979       247  bonifico\n",
              "9   10    36545          648       843  bonifico\n",
              "12  13    11100           66        35  bonifico\n",
              "16  17    21575          760       919  bonifico\n",
              "17  18    14710          889       828  bonifico"
            ],
            "text/html": [
              "\n",
              "  <div id=\"df-f7688b17-4922-4d91-af1c-2a97d175447d\">\n",
              "    <div class=\"colab-df-container\">\n",
              "      <div>\n",
              "<style scoped>\n",
              "    .dataframe tbody tr th:only-of-type {\n",
              "        vertical-align: middle;\n",
              "    }\n",
              "\n",
              "    .dataframe tbody tr th {\n",
              "        vertical-align: top;\n",
              "    }\n",
              "\n",
              "    .dataframe thead th {\n",
              "        text-align: right;\n",
              "    }\n",
              "</style>\n",
              "<table border=\"1\" class=\"dataframe\">\n",
              "  <thead>\n",
              "    <tr style=\"text-align: right;\">\n",
              "      <th></th>\n",
              "      <th>id</th>\n",
              "      <th>importo</th>\n",
              "      <th>beneficiario</th>\n",
              "      <th>ordinante</th>\n",
              "      <th>tipo</th>\n",
              "    </tr>\n",
              "  </thead>\n",
              "  <tbody>\n",
              "    <tr>\n",
              "      <th>0</th>\n",
              "      <td>1</td>\n",
              "      <td>3450</td>\n",
              "      <td>872</td>\n",
              "      <td>516</td>\n",
              "      <td>bonifico</td>\n",
              "    </tr>\n",
              "    <tr>\n",
              "      <th>2</th>\n",
              "      <td>3</td>\n",
              "      <td>11320</td>\n",
              "      <td>178</td>\n",
              "      <td>136</td>\n",
              "      <td>bonifico</td>\n",
              "    </tr>\n",
              "    <tr>\n",
              "      <th>5</th>\n",
              "      <td>6</td>\n",
              "      <td>5775</td>\n",
              "      <td>842</td>\n",
              "      <td>127</td>\n",
              "      <td>bonifico</td>\n",
              "    </tr>\n",
              "    <tr>\n",
              "      <th>6</th>\n",
              "      <td>7</td>\n",
              "      <td>7255</td>\n",
              "      <td>713</td>\n",
              "      <td>136</td>\n",
              "      <td>bonifico</td>\n",
              "    </tr>\n",
              "    <tr>\n",
              "      <th>8</th>\n",
              "      <td>9</td>\n",
              "      <td>7250</td>\n",
              "      <td>979</td>\n",
              "      <td>247</td>\n",
              "      <td>bonifico</td>\n",
              "    </tr>\n",
              "    <tr>\n",
              "      <th>9</th>\n",
              "      <td>10</td>\n",
              "      <td>36545</td>\n",
              "      <td>648</td>\n",
              "      <td>843</td>\n",
              "      <td>bonifico</td>\n",
              "    </tr>\n",
              "    <tr>\n",
              "      <th>12</th>\n",
              "      <td>13</td>\n",
              "      <td>11100</td>\n",
              "      <td>66</td>\n",
              "      <td>35</td>\n",
              "      <td>bonifico</td>\n",
              "    </tr>\n",
              "    <tr>\n",
              "      <th>16</th>\n",
              "      <td>17</td>\n",
              "      <td>21575</td>\n",
              "      <td>760</td>\n",
              "      <td>919</td>\n",
              "      <td>bonifico</td>\n",
              "    </tr>\n",
              "    <tr>\n",
              "      <th>17</th>\n",
              "      <td>18</td>\n",
              "      <td>14710</td>\n",
              "      <td>889</td>\n",
              "      <td>828</td>\n",
              "      <td>bonifico</td>\n",
              "    </tr>\n",
              "  </tbody>\n",
              "</table>\n",
              "</div>\n",
              "      <button class=\"colab-df-convert\" onclick=\"convertToInteractive('df-f7688b17-4922-4d91-af1c-2a97d175447d')\"\n",
              "              title=\"Convert this dataframe to an interactive table.\"\n",
              "              style=\"display:none;\">\n",
              "        \n",
              "  <svg xmlns=\"http://www.w3.org/2000/svg\" height=\"24px\"viewBox=\"0 0 24 24\"\n",
              "       width=\"24px\">\n",
              "    <path d=\"M0 0h24v24H0V0z\" fill=\"none\"/>\n",
              "    <path d=\"M18.56 5.44l.94 2.06.94-2.06 2.06-.94-2.06-.94-.94-2.06-.94 2.06-2.06.94zm-11 1L8.5 8.5l.94-2.06 2.06-.94-2.06-.94L8.5 2.5l-.94 2.06-2.06.94zm10 10l.94 2.06.94-2.06 2.06-.94-2.06-.94-.94-2.06-.94 2.06-2.06.94z\"/><path d=\"M17.41 7.96l-1.37-1.37c-.4-.4-.92-.59-1.43-.59-.52 0-1.04.2-1.43.59L10.3 9.45l-7.72 7.72c-.78.78-.78 2.05 0 2.83L4 21.41c.39.39.9.59 1.41.59.51 0 1.02-.2 1.41-.59l7.78-7.78 2.81-2.81c.8-.78.8-2.07 0-2.86zM5.41 20L4 18.59l7.72-7.72 1.47 1.35L5.41 20z\"/>\n",
              "  </svg>\n",
              "      </button>\n",
              "      \n",
              "  <style>\n",
              "    .colab-df-container {\n",
              "      display:flex;\n",
              "      flex-wrap:wrap;\n",
              "      gap: 12px;\n",
              "    }\n",
              "\n",
              "    .colab-df-convert {\n",
              "      background-color: #E8F0FE;\n",
              "      border: none;\n",
              "      border-radius: 50%;\n",
              "      cursor: pointer;\n",
              "      display: none;\n",
              "      fill: #1967D2;\n",
              "      height: 32px;\n",
              "      padding: 0 0 0 0;\n",
              "      width: 32px;\n",
              "    }\n",
              "\n",
              "    .colab-df-convert:hover {\n",
              "      background-color: #E2EBFA;\n",
              "      box-shadow: 0px 1px 2px rgba(60, 64, 67, 0.3), 0px 1px 3px 1px rgba(60, 64, 67, 0.15);\n",
              "      fill: #174EA6;\n",
              "    }\n",
              "\n",
              "    [theme=dark] .colab-df-convert {\n",
              "      background-color: #3B4455;\n",
              "      fill: #D2E3FC;\n",
              "    }\n",
              "\n",
              "    [theme=dark] .colab-df-convert:hover {\n",
              "      background-color: #434B5C;\n",
              "      box-shadow: 0px 1px 3px 1px rgba(0, 0, 0, 0.15);\n",
              "      filter: drop-shadow(0px 1px 2px rgba(0, 0, 0, 0.3));\n",
              "      fill: #FFFFFF;\n",
              "    }\n",
              "  </style>\n",
              "\n",
              "      <script>\n",
              "        const buttonEl =\n",
              "          document.querySelector('#df-f7688b17-4922-4d91-af1c-2a97d175447d button.colab-df-convert');\n",
              "        buttonEl.style.display =\n",
              "          google.colab.kernel.accessAllowed ? 'block' : 'none';\n",
              "\n",
              "        async function convertToInteractive(key) {\n",
              "          const element = document.querySelector('#df-f7688b17-4922-4d91-af1c-2a97d175447d');\n",
              "          const dataTable =\n",
              "            await google.colab.kernel.invokeFunction('convertToInteractive',\n",
              "                                                     [key], {});\n",
              "          if (!dataTable) return;\n",
              "\n",
              "          const docLinkHtml = 'Like what you see? Visit the ' +\n",
              "            '<a target=\"_blank\" href=https://colab.research.google.com/notebooks/data_table.ipynb>data table notebook</a>'\n",
              "            + ' to learn more about interactive tables.';\n",
              "          element.innerHTML = '';\n",
              "          dataTable['output_type'] = 'display_data';\n",
              "          await google.colab.output.renderOutput(dataTable, element);\n",
              "          const docLink = document.createElement('div');\n",
              "          docLink.innerHTML = docLinkHtml;\n",
              "          element.appendChild(docLink);\n",
              "        }\n",
              "      </script>\n",
              "    </div>\n",
              "  </div>\n",
              "  "
            ]
          },
          "metadata": {},
          "execution_count": 245
        }
      ]
    },
    {
      "cell_type": "code",
      "source": [
        "t[t['ordinante']=='323']\n",
        "t[(t['ordinante']=='323') | (t['ordinante']=='194')]\n",
        "#soluzione alternativa \n",
        "t[t['ordinante'].isin(['323','194'])]"
      ],
      "metadata": {
        "colab": {
          "base_uri": "https://localhost:8080/",
          "height": 112
        },
        "id": "l5JF6QEOzuKx",
        "outputId": "0c0bf421-1de3-4a51-c07e-402e0d47fbef"
      },
      "execution_count": null,
      "outputs": [
        {
          "output_type": "execute_result",
          "data": {
            "text/plain": [
              "    id  importo beneficiario ordinante      tipo\n",
              "7    8    33600          143       194   assegno\n",
              "19  20     6490          796       323  contante"
            ],
            "text/html": [
              "\n",
              "  <div id=\"df-489a7516-bbad-451b-94d9-3e2789ef4a7c\">\n",
              "    <div class=\"colab-df-container\">\n",
              "      <div>\n",
              "<style scoped>\n",
              "    .dataframe tbody tr th:only-of-type {\n",
              "        vertical-align: middle;\n",
              "    }\n",
              "\n",
              "    .dataframe tbody tr th {\n",
              "        vertical-align: top;\n",
              "    }\n",
              "\n",
              "    .dataframe thead th {\n",
              "        text-align: right;\n",
              "    }\n",
              "</style>\n",
              "<table border=\"1\" class=\"dataframe\">\n",
              "  <thead>\n",
              "    <tr style=\"text-align: right;\">\n",
              "      <th></th>\n",
              "      <th>id</th>\n",
              "      <th>importo</th>\n",
              "      <th>beneficiario</th>\n",
              "      <th>ordinante</th>\n",
              "      <th>tipo</th>\n",
              "    </tr>\n",
              "  </thead>\n",
              "  <tbody>\n",
              "    <tr>\n",
              "      <th>7</th>\n",
              "      <td>8</td>\n",
              "      <td>33600</td>\n",
              "      <td>143</td>\n",
              "      <td>194</td>\n",
              "      <td>assegno</td>\n",
              "    </tr>\n",
              "    <tr>\n",
              "      <th>19</th>\n",
              "      <td>20</td>\n",
              "      <td>6490</td>\n",
              "      <td>796</td>\n",
              "      <td>323</td>\n",
              "      <td>contante</td>\n",
              "    </tr>\n",
              "  </tbody>\n",
              "</table>\n",
              "</div>\n",
              "      <button class=\"colab-df-convert\" onclick=\"convertToInteractive('df-489a7516-bbad-451b-94d9-3e2789ef4a7c')\"\n",
              "              title=\"Convert this dataframe to an interactive table.\"\n",
              "              style=\"display:none;\">\n",
              "        \n",
              "  <svg xmlns=\"http://www.w3.org/2000/svg\" height=\"24px\"viewBox=\"0 0 24 24\"\n",
              "       width=\"24px\">\n",
              "    <path d=\"M0 0h24v24H0V0z\" fill=\"none\"/>\n",
              "    <path d=\"M18.56 5.44l.94 2.06.94-2.06 2.06-.94-2.06-.94-.94-2.06-.94 2.06-2.06.94zm-11 1L8.5 8.5l.94-2.06 2.06-.94-2.06-.94L8.5 2.5l-.94 2.06-2.06.94zm10 10l.94 2.06.94-2.06 2.06-.94-2.06-.94-.94-2.06-.94 2.06-2.06.94z\"/><path d=\"M17.41 7.96l-1.37-1.37c-.4-.4-.92-.59-1.43-.59-.52 0-1.04.2-1.43.59L10.3 9.45l-7.72 7.72c-.78.78-.78 2.05 0 2.83L4 21.41c.39.39.9.59 1.41.59.51 0 1.02-.2 1.41-.59l7.78-7.78 2.81-2.81c.8-.78.8-2.07 0-2.86zM5.41 20L4 18.59l7.72-7.72 1.47 1.35L5.41 20z\"/>\n",
              "  </svg>\n",
              "      </button>\n",
              "      \n",
              "  <style>\n",
              "    .colab-df-container {\n",
              "      display:flex;\n",
              "      flex-wrap:wrap;\n",
              "      gap: 12px;\n",
              "    }\n",
              "\n",
              "    .colab-df-convert {\n",
              "      background-color: #E8F0FE;\n",
              "      border: none;\n",
              "      border-radius: 50%;\n",
              "      cursor: pointer;\n",
              "      display: none;\n",
              "      fill: #1967D2;\n",
              "      height: 32px;\n",
              "      padding: 0 0 0 0;\n",
              "      width: 32px;\n",
              "    }\n",
              "\n",
              "    .colab-df-convert:hover {\n",
              "      background-color: #E2EBFA;\n",
              "      box-shadow: 0px 1px 2px rgba(60, 64, 67, 0.3), 0px 1px 3px 1px rgba(60, 64, 67, 0.15);\n",
              "      fill: #174EA6;\n",
              "    }\n",
              "\n",
              "    [theme=dark] .colab-df-convert {\n",
              "      background-color: #3B4455;\n",
              "      fill: #D2E3FC;\n",
              "    }\n",
              "\n",
              "    [theme=dark] .colab-df-convert:hover {\n",
              "      background-color: #434B5C;\n",
              "      box-shadow: 0px 1px 3px 1px rgba(0, 0, 0, 0.15);\n",
              "      filter: drop-shadow(0px 1px 2px rgba(0, 0, 0, 0.3));\n",
              "      fill: #FFFFFF;\n",
              "    }\n",
              "  </style>\n",
              "\n",
              "      <script>\n",
              "        const buttonEl =\n",
              "          document.querySelector('#df-489a7516-bbad-451b-94d9-3e2789ef4a7c button.colab-df-convert');\n",
              "        buttonEl.style.display =\n",
              "          google.colab.kernel.accessAllowed ? 'block' : 'none';\n",
              "\n",
              "        async function convertToInteractive(key) {\n",
              "          const element = document.querySelector('#df-489a7516-bbad-451b-94d9-3e2789ef4a7c');\n",
              "          const dataTable =\n",
              "            await google.colab.kernel.invokeFunction('convertToInteractive',\n",
              "                                                     [key], {});\n",
              "          if (!dataTable) return;\n",
              "\n",
              "          const docLinkHtml = 'Like what you see? Visit the ' +\n",
              "            '<a target=\"_blank\" href=https://colab.research.google.com/notebooks/data_table.ipynb>data table notebook</a>'\n",
              "            + ' to learn more about interactive tables.';\n",
              "          element.innerHTML = '';\n",
              "          dataTable['output_type'] = 'display_data';\n",
              "          await google.colab.output.renderOutput(dataTable, element);\n",
              "          const docLink = document.createElement('div');\n",
              "          docLink.innerHTML = docLinkHtml;\n",
              "          element.appendChild(docLink);\n",
              "        }\n",
              "      </script>\n",
              "    </div>\n",
              "  </div>\n",
              "  "
            ]
          },
          "metadata": {},
          "execution_count": 277
        }
      ]
    },
    {
      "cell_type": "code",
      "source": [
        "t[(t['tipo']=='assegno') | (t['tipo']=='bonifico')]\n",
        "#soluzione alternativa\n",
        "t[t['tipo'].isin(['assegno','bonifico'])]"
      ],
      "metadata": {
        "colab": {
          "base_uri": "https://localhost:8080/",
          "height": 488
        },
        "id": "SKpcbbigz68H",
        "outputId": "18a04685-028c-4fb3-ca62-dfe1865036f1"
      },
      "execution_count": null,
      "outputs": [
        {
          "output_type": "execute_result",
          "data": {
            "text/plain": [
              "    id  importo beneficiario ordinante      tipo\n",
              "0    1     3450          872       516  bonifico\n",
              "2    3    11320          178       136  bonifico\n",
              "3    4     9325          729       378   assegno\n",
              "5    6     5775          842       127  bonifico\n",
              "6    7     7255          713       136  bonifico\n",
              "7    8    33600          143       194   assegno\n",
              "8    9     7250          979       247  bonifico\n",
              "9   10    36545          648       843  bonifico\n",
              "10  11     1825          443       759   assegno\n",
              "11  12    17050          279       275   assegno\n",
              "12  13    11100           66        35  bonifico\n",
              "13  14    43880          664       964   assegno\n",
              "16  17    21575          760       919  bonifico\n",
              "17  18    14710          889       828  bonifico"
            ],
            "text/html": [
              "\n",
              "  <div id=\"df-ed251b33-0869-4ec3-a288-13b0590f1479\">\n",
              "    <div class=\"colab-df-container\">\n",
              "      <div>\n",
              "<style scoped>\n",
              "    .dataframe tbody tr th:only-of-type {\n",
              "        vertical-align: middle;\n",
              "    }\n",
              "\n",
              "    .dataframe tbody tr th {\n",
              "        vertical-align: top;\n",
              "    }\n",
              "\n",
              "    .dataframe thead th {\n",
              "        text-align: right;\n",
              "    }\n",
              "</style>\n",
              "<table border=\"1\" class=\"dataframe\">\n",
              "  <thead>\n",
              "    <tr style=\"text-align: right;\">\n",
              "      <th></th>\n",
              "      <th>id</th>\n",
              "      <th>importo</th>\n",
              "      <th>beneficiario</th>\n",
              "      <th>ordinante</th>\n",
              "      <th>tipo</th>\n",
              "    </tr>\n",
              "  </thead>\n",
              "  <tbody>\n",
              "    <tr>\n",
              "      <th>0</th>\n",
              "      <td>1</td>\n",
              "      <td>3450</td>\n",
              "      <td>872</td>\n",
              "      <td>516</td>\n",
              "      <td>bonifico</td>\n",
              "    </tr>\n",
              "    <tr>\n",
              "      <th>2</th>\n",
              "      <td>3</td>\n",
              "      <td>11320</td>\n",
              "      <td>178</td>\n",
              "      <td>136</td>\n",
              "      <td>bonifico</td>\n",
              "    </tr>\n",
              "    <tr>\n",
              "      <th>3</th>\n",
              "      <td>4</td>\n",
              "      <td>9325</td>\n",
              "      <td>729</td>\n",
              "      <td>378</td>\n",
              "      <td>assegno</td>\n",
              "    </tr>\n",
              "    <tr>\n",
              "      <th>5</th>\n",
              "      <td>6</td>\n",
              "      <td>5775</td>\n",
              "      <td>842</td>\n",
              "      <td>127</td>\n",
              "      <td>bonifico</td>\n",
              "    </tr>\n",
              "    <tr>\n",
              "      <th>6</th>\n",
              "      <td>7</td>\n",
              "      <td>7255</td>\n",
              "      <td>713</td>\n",
              "      <td>136</td>\n",
              "      <td>bonifico</td>\n",
              "    </tr>\n",
              "    <tr>\n",
              "      <th>7</th>\n",
              "      <td>8</td>\n",
              "      <td>33600</td>\n",
              "      <td>143</td>\n",
              "      <td>194</td>\n",
              "      <td>assegno</td>\n",
              "    </tr>\n",
              "    <tr>\n",
              "      <th>8</th>\n",
              "      <td>9</td>\n",
              "      <td>7250</td>\n",
              "      <td>979</td>\n",
              "      <td>247</td>\n",
              "      <td>bonifico</td>\n",
              "    </tr>\n",
              "    <tr>\n",
              "      <th>9</th>\n",
              "      <td>10</td>\n",
              "      <td>36545</td>\n",
              "      <td>648</td>\n",
              "      <td>843</td>\n",
              "      <td>bonifico</td>\n",
              "    </tr>\n",
              "    <tr>\n",
              "      <th>10</th>\n",
              "      <td>11</td>\n",
              "      <td>1825</td>\n",
              "      <td>443</td>\n",
              "      <td>759</td>\n",
              "      <td>assegno</td>\n",
              "    </tr>\n",
              "    <tr>\n",
              "      <th>11</th>\n",
              "      <td>12</td>\n",
              "      <td>17050</td>\n",
              "      <td>279</td>\n",
              "      <td>275</td>\n",
              "      <td>assegno</td>\n",
              "    </tr>\n",
              "    <tr>\n",
              "      <th>12</th>\n",
              "      <td>13</td>\n",
              "      <td>11100</td>\n",
              "      <td>66</td>\n",
              "      <td>35</td>\n",
              "      <td>bonifico</td>\n",
              "    </tr>\n",
              "    <tr>\n",
              "      <th>13</th>\n",
              "      <td>14</td>\n",
              "      <td>43880</td>\n",
              "      <td>664</td>\n",
              "      <td>964</td>\n",
              "      <td>assegno</td>\n",
              "    </tr>\n",
              "    <tr>\n",
              "      <th>16</th>\n",
              "      <td>17</td>\n",
              "      <td>21575</td>\n",
              "      <td>760</td>\n",
              "      <td>919</td>\n",
              "      <td>bonifico</td>\n",
              "    </tr>\n",
              "    <tr>\n",
              "      <th>17</th>\n",
              "      <td>18</td>\n",
              "      <td>14710</td>\n",
              "      <td>889</td>\n",
              "      <td>828</td>\n",
              "      <td>bonifico</td>\n",
              "    </tr>\n",
              "  </tbody>\n",
              "</table>\n",
              "</div>\n",
              "      <button class=\"colab-df-convert\" onclick=\"convertToInteractive('df-ed251b33-0869-4ec3-a288-13b0590f1479')\"\n",
              "              title=\"Convert this dataframe to an interactive table.\"\n",
              "              style=\"display:none;\">\n",
              "        \n",
              "  <svg xmlns=\"http://www.w3.org/2000/svg\" height=\"24px\"viewBox=\"0 0 24 24\"\n",
              "       width=\"24px\">\n",
              "    <path d=\"M0 0h24v24H0V0z\" fill=\"none\"/>\n",
              "    <path d=\"M18.56 5.44l.94 2.06.94-2.06 2.06-.94-2.06-.94-.94-2.06-.94 2.06-2.06.94zm-11 1L8.5 8.5l.94-2.06 2.06-.94-2.06-.94L8.5 2.5l-.94 2.06-2.06.94zm10 10l.94 2.06.94-2.06 2.06-.94-2.06-.94-.94-2.06-.94 2.06-2.06.94z\"/><path d=\"M17.41 7.96l-1.37-1.37c-.4-.4-.92-.59-1.43-.59-.52 0-1.04.2-1.43.59L10.3 9.45l-7.72 7.72c-.78.78-.78 2.05 0 2.83L4 21.41c.39.39.9.59 1.41.59.51 0 1.02-.2 1.41-.59l7.78-7.78 2.81-2.81c.8-.78.8-2.07 0-2.86zM5.41 20L4 18.59l7.72-7.72 1.47 1.35L5.41 20z\"/>\n",
              "  </svg>\n",
              "      </button>\n",
              "      \n",
              "  <style>\n",
              "    .colab-df-container {\n",
              "      display:flex;\n",
              "      flex-wrap:wrap;\n",
              "      gap: 12px;\n",
              "    }\n",
              "\n",
              "    .colab-df-convert {\n",
              "      background-color: #E8F0FE;\n",
              "      border: none;\n",
              "      border-radius: 50%;\n",
              "      cursor: pointer;\n",
              "      display: none;\n",
              "      fill: #1967D2;\n",
              "      height: 32px;\n",
              "      padding: 0 0 0 0;\n",
              "      width: 32px;\n",
              "    }\n",
              "\n",
              "    .colab-df-convert:hover {\n",
              "      background-color: #E2EBFA;\n",
              "      box-shadow: 0px 1px 2px rgba(60, 64, 67, 0.3), 0px 1px 3px 1px rgba(60, 64, 67, 0.15);\n",
              "      fill: #174EA6;\n",
              "    }\n",
              "\n",
              "    [theme=dark] .colab-df-convert {\n",
              "      background-color: #3B4455;\n",
              "      fill: #D2E3FC;\n",
              "    }\n",
              "\n",
              "    [theme=dark] .colab-df-convert:hover {\n",
              "      background-color: #434B5C;\n",
              "      box-shadow: 0px 1px 3px 1px rgba(0, 0, 0, 0.15);\n",
              "      filter: drop-shadow(0px 1px 2px rgba(0, 0, 0, 0.3));\n",
              "      fill: #FFFFFF;\n",
              "    }\n",
              "  </style>\n",
              "\n",
              "      <script>\n",
              "        const buttonEl =\n",
              "          document.querySelector('#df-ed251b33-0869-4ec3-a288-13b0590f1479 button.colab-df-convert');\n",
              "        buttonEl.style.display =\n",
              "          google.colab.kernel.accessAllowed ? 'block' : 'none';\n",
              "\n",
              "        async function convertToInteractive(key) {\n",
              "          const element = document.querySelector('#df-ed251b33-0869-4ec3-a288-13b0590f1479');\n",
              "          const dataTable =\n",
              "            await google.colab.kernel.invokeFunction('convertToInteractive',\n",
              "                                                     [key], {});\n",
              "          if (!dataTable) return;\n",
              "\n",
              "          const docLinkHtml = 'Like what you see? Visit the ' +\n",
              "            '<a target=\"_blank\" href=https://colab.research.google.com/notebooks/data_table.ipynb>data table notebook</a>'\n",
              "            + ' to learn more about interactive tables.';\n",
              "          element.innerHTML = '';\n",
              "          dataTable['output_type'] = 'display_data';\n",
              "          await google.colab.output.renderOutput(dataTable, element);\n",
              "          const docLink = document.createElement('div');\n",
              "          docLink.innerHTML = docLinkHtml;\n",
              "          element.appendChild(docLink);\n",
              "        }\n",
              "      </script>\n",
              "    </div>\n",
              "  </div>\n",
              "  "
            ]
          },
          "metadata": {},
          "execution_count": 278
        }
      ]
    },
    {
      "cell_type": "code",
      "source": [
        "t.iloc[0:10][t['tipo']=='bonifico']\n"
      ],
      "metadata": {
        "colab": {
          "base_uri": "https://localhost:8080/",
          "height": 292
        },
        "id": "-CblfnXb03O6",
        "outputId": "8af20aca-ae21-48a2-fde9-769d1f5964bb"
      },
      "execution_count": null,
      "outputs": [
        {
          "output_type": "stream",
          "name": "stderr",
          "text": [
            "/usr/local/lib/python3.7/dist-packages/ipykernel_launcher.py:1: UserWarning: Boolean Series key will be reindexed to match DataFrame index.\n",
            "  \"\"\"Entry point for launching an IPython kernel.\n"
          ]
        },
        {
          "output_type": "execute_result",
          "data": {
            "text/plain": [
              "   id  importo beneficiario ordinante      tipo\n",
              "0   1     3450          872       516  bonifico\n",
              "2   3    11320          178       136  bonifico\n",
              "5   6     5775          842       127  bonifico\n",
              "6   7     7255          713       136  bonifico\n",
              "8   9     7250          979       247  bonifico\n",
              "9  10    36545          648       843  bonifico"
            ],
            "text/html": [
              "\n",
              "  <div id=\"df-d1292600-7be7-4a04-9c9f-c00ea71200e8\">\n",
              "    <div class=\"colab-df-container\">\n",
              "      <div>\n",
              "<style scoped>\n",
              "    .dataframe tbody tr th:only-of-type {\n",
              "        vertical-align: middle;\n",
              "    }\n",
              "\n",
              "    .dataframe tbody tr th {\n",
              "        vertical-align: top;\n",
              "    }\n",
              "\n",
              "    .dataframe thead th {\n",
              "        text-align: right;\n",
              "    }\n",
              "</style>\n",
              "<table border=\"1\" class=\"dataframe\">\n",
              "  <thead>\n",
              "    <tr style=\"text-align: right;\">\n",
              "      <th></th>\n",
              "      <th>id</th>\n",
              "      <th>importo</th>\n",
              "      <th>beneficiario</th>\n",
              "      <th>ordinante</th>\n",
              "      <th>tipo</th>\n",
              "    </tr>\n",
              "  </thead>\n",
              "  <tbody>\n",
              "    <tr>\n",
              "      <th>0</th>\n",
              "      <td>1</td>\n",
              "      <td>3450</td>\n",
              "      <td>872</td>\n",
              "      <td>516</td>\n",
              "      <td>bonifico</td>\n",
              "    </tr>\n",
              "    <tr>\n",
              "      <th>2</th>\n",
              "      <td>3</td>\n",
              "      <td>11320</td>\n",
              "      <td>178</td>\n",
              "      <td>136</td>\n",
              "      <td>bonifico</td>\n",
              "    </tr>\n",
              "    <tr>\n",
              "      <th>5</th>\n",
              "      <td>6</td>\n",
              "      <td>5775</td>\n",
              "      <td>842</td>\n",
              "      <td>127</td>\n",
              "      <td>bonifico</td>\n",
              "    </tr>\n",
              "    <tr>\n",
              "      <th>6</th>\n",
              "      <td>7</td>\n",
              "      <td>7255</td>\n",
              "      <td>713</td>\n",
              "      <td>136</td>\n",
              "      <td>bonifico</td>\n",
              "    </tr>\n",
              "    <tr>\n",
              "      <th>8</th>\n",
              "      <td>9</td>\n",
              "      <td>7250</td>\n",
              "      <td>979</td>\n",
              "      <td>247</td>\n",
              "      <td>bonifico</td>\n",
              "    </tr>\n",
              "    <tr>\n",
              "      <th>9</th>\n",
              "      <td>10</td>\n",
              "      <td>36545</td>\n",
              "      <td>648</td>\n",
              "      <td>843</td>\n",
              "      <td>bonifico</td>\n",
              "    </tr>\n",
              "  </tbody>\n",
              "</table>\n",
              "</div>\n",
              "      <button class=\"colab-df-convert\" onclick=\"convertToInteractive('df-d1292600-7be7-4a04-9c9f-c00ea71200e8')\"\n",
              "              title=\"Convert this dataframe to an interactive table.\"\n",
              "              style=\"display:none;\">\n",
              "        \n",
              "  <svg xmlns=\"http://www.w3.org/2000/svg\" height=\"24px\"viewBox=\"0 0 24 24\"\n",
              "       width=\"24px\">\n",
              "    <path d=\"M0 0h24v24H0V0z\" fill=\"none\"/>\n",
              "    <path d=\"M18.56 5.44l.94 2.06.94-2.06 2.06-.94-2.06-.94-.94-2.06-.94 2.06-2.06.94zm-11 1L8.5 8.5l.94-2.06 2.06-.94-2.06-.94L8.5 2.5l-.94 2.06-2.06.94zm10 10l.94 2.06.94-2.06 2.06-.94-2.06-.94-.94-2.06-.94 2.06-2.06.94z\"/><path d=\"M17.41 7.96l-1.37-1.37c-.4-.4-.92-.59-1.43-.59-.52 0-1.04.2-1.43.59L10.3 9.45l-7.72 7.72c-.78.78-.78 2.05 0 2.83L4 21.41c.39.39.9.59 1.41.59.51 0 1.02-.2 1.41-.59l7.78-7.78 2.81-2.81c.8-.78.8-2.07 0-2.86zM5.41 20L4 18.59l7.72-7.72 1.47 1.35L5.41 20z\"/>\n",
              "  </svg>\n",
              "      </button>\n",
              "      \n",
              "  <style>\n",
              "    .colab-df-container {\n",
              "      display:flex;\n",
              "      flex-wrap:wrap;\n",
              "      gap: 12px;\n",
              "    }\n",
              "\n",
              "    .colab-df-convert {\n",
              "      background-color: #E8F0FE;\n",
              "      border: none;\n",
              "      border-radius: 50%;\n",
              "      cursor: pointer;\n",
              "      display: none;\n",
              "      fill: #1967D2;\n",
              "      height: 32px;\n",
              "      padding: 0 0 0 0;\n",
              "      width: 32px;\n",
              "    }\n",
              "\n",
              "    .colab-df-convert:hover {\n",
              "      background-color: #E2EBFA;\n",
              "      box-shadow: 0px 1px 2px rgba(60, 64, 67, 0.3), 0px 1px 3px 1px rgba(60, 64, 67, 0.15);\n",
              "      fill: #174EA6;\n",
              "    }\n",
              "\n",
              "    [theme=dark] .colab-df-convert {\n",
              "      background-color: #3B4455;\n",
              "      fill: #D2E3FC;\n",
              "    }\n",
              "\n",
              "    [theme=dark] .colab-df-convert:hover {\n",
              "      background-color: #434B5C;\n",
              "      box-shadow: 0px 1px 3px 1px rgba(0, 0, 0, 0.15);\n",
              "      filter: drop-shadow(0px 1px 2px rgba(0, 0, 0, 0.3));\n",
              "      fill: #FFFFFF;\n",
              "    }\n",
              "  </style>\n",
              "\n",
              "      <script>\n",
              "        const buttonEl =\n",
              "          document.querySelector('#df-d1292600-7be7-4a04-9c9f-c00ea71200e8 button.colab-df-convert');\n",
              "        buttonEl.style.display =\n",
              "          google.colab.kernel.accessAllowed ? 'block' : 'none';\n",
              "\n",
              "        async function convertToInteractive(key) {\n",
              "          const element = document.querySelector('#df-d1292600-7be7-4a04-9c9f-c00ea71200e8');\n",
              "          const dataTable =\n",
              "            await google.colab.kernel.invokeFunction('convertToInteractive',\n",
              "                                                     [key], {});\n",
              "          if (!dataTable) return;\n",
              "\n",
              "          const docLinkHtml = 'Like what you see? Visit the ' +\n",
              "            '<a target=\"_blank\" href=https://colab.research.google.com/notebooks/data_table.ipynb>data table notebook</a>'\n",
              "            + ' to learn more about interactive tables.';\n",
              "          element.innerHTML = '';\n",
              "          dataTable['output_type'] = 'display_data';\n",
              "          await google.colab.output.renderOutput(dataTable, element);\n",
              "          const docLink = document.createElement('div');\n",
              "          docLink.innerHTML = docLinkHtml;\n",
              "          element.appendChild(docLink);\n",
              "        }\n",
              "      </script>\n",
              "    </div>\n",
              "  </div>\n",
              "  "
            ]
          },
          "metadata": {},
          "execution_count": 280
        }
      ]
    },
    {
      "cell_type": "code",
      "source": [
        "t"
      ],
      "metadata": {
        "colab": {
          "base_uri": "https://localhost:8080/",
          "height": 676
        },
        "id": "SdBxw1hg2pIi",
        "outputId": "fe4721a0-5bec-4c72-a08b-0e9b84703720"
      },
      "execution_count": null,
      "outputs": [
        {
          "output_type": "execute_result",
          "data": {
            "text/plain": [
              "    id  importo beneficiario ordinante              tipo\n",
              "0    1     3450          872       516          bonifico\n",
              "1    2      505          989       NaN  carta di credito\n",
              "2    3    11320          178       136          bonifico\n",
              "3    4     9325          729       378           assegno\n",
              "4    5      620          706       NaN  carta di credito\n",
              "5    6     5775          842       127          bonifico\n",
              "6    7     7255          713       136          bonifico\n",
              "7    8    33600          143       194           assegno\n",
              "8    9     7250          979       247          bonifico\n",
              "9   10    36545          648       843          bonifico\n",
              "10  11     1825          443       759           assegno\n",
              "11  12    17050          279       275           assegno\n",
              "12  13    11100           66        35          bonifico\n",
              "13  14    43880          664       964           assegno\n",
              "14  15      675           78       NaN  carta di credito\n",
              "15  16      595          437       NaN  carta di credito\n",
              "16  17    21575          760       919          bonifico\n",
              "17  18    14710          889       828          bonifico\n",
              "18  19      420           78       NaN  carta di credito\n",
              "19  20     6490          796       323          contante"
            ],
            "text/html": [
              "\n",
              "  <div id=\"df-aae7ec2d-1518-40ef-a9a3-6c94ccded07d\">\n",
              "    <div class=\"colab-df-container\">\n",
              "      <div>\n",
              "<style scoped>\n",
              "    .dataframe tbody tr th:only-of-type {\n",
              "        vertical-align: middle;\n",
              "    }\n",
              "\n",
              "    .dataframe tbody tr th {\n",
              "        vertical-align: top;\n",
              "    }\n",
              "\n",
              "    .dataframe thead th {\n",
              "        text-align: right;\n",
              "    }\n",
              "</style>\n",
              "<table border=\"1\" class=\"dataframe\">\n",
              "  <thead>\n",
              "    <tr style=\"text-align: right;\">\n",
              "      <th></th>\n",
              "      <th>id</th>\n",
              "      <th>importo</th>\n",
              "      <th>beneficiario</th>\n",
              "      <th>ordinante</th>\n",
              "      <th>tipo</th>\n",
              "    </tr>\n",
              "  </thead>\n",
              "  <tbody>\n",
              "    <tr>\n",
              "      <th>0</th>\n",
              "      <td>1</td>\n",
              "      <td>3450</td>\n",
              "      <td>872</td>\n",
              "      <td>516</td>\n",
              "      <td>bonifico</td>\n",
              "    </tr>\n",
              "    <tr>\n",
              "      <th>1</th>\n",
              "      <td>2</td>\n",
              "      <td>505</td>\n",
              "      <td>989</td>\n",
              "      <td>NaN</td>\n",
              "      <td>carta di credito</td>\n",
              "    </tr>\n",
              "    <tr>\n",
              "      <th>2</th>\n",
              "      <td>3</td>\n",
              "      <td>11320</td>\n",
              "      <td>178</td>\n",
              "      <td>136</td>\n",
              "      <td>bonifico</td>\n",
              "    </tr>\n",
              "    <tr>\n",
              "      <th>3</th>\n",
              "      <td>4</td>\n",
              "      <td>9325</td>\n",
              "      <td>729</td>\n",
              "      <td>378</td>\n",
              "      <td>assegno</td>\n",
              "    </tr>\n",
              "    <tr>\n",
              "      <th>4</th>\n",
              "      <td>5</td>\n",
              "      <td>620</td>\n",
              "      <td>706</td>\n",
              "      <td>NaN</td>\n",
              "      <td>carta di credito</td>\n",
              "    </tr>\n",
              "    <tr>\n",
              "      <th>5</th>\n",
              "      <td>6</td>\n",
              "      <td>5775</td>\n",
              "      <td>842</td>\n",
              "      <td>127</td>\n",
              "      <td>bonifico</td>\n",
              "    </tr>\n",
              "    <tr>\n",
              "      <th>6</th>\n",
              "      <td>7</td>\n",
              "      <td>7255</td>\n",
              "      <td>713</td>\n",
              "      <td>136</td>\n",
              "      <td>bonifico</td>\n",
              "    </tr>\n",
              "    <tr>\n",
              "      <th>7</th>\n",
              "      <td>8</td>\n",
              "      <td>33600</td>\n",
              "      <td>143</td>\n",
              "      <td>194</td>\n",
              "      <td>assegno</td>\n",
              "    </tr>\n",
              "    <tr>\n",
              "      <th>8</th>\n",
              "      <td>9</td>\n",
              "      <td>7250</td>\n",
              "      <td>979</td>\n",
              "      <td>247</td>\n",
              "      <td>bonifico</td>\n",
              "    </tr>\n",
              "    <tr>\n",
              "      <th>9</th>\n",
              "      <td>10</td>\n",
              "      <td>36545</td>\n",
              "      <td>648</td>\n",
              "      <td>843</td>\n",
              "      <td>bonifico</td>\n",
              "    </tr>\n",
              "    <tr>\n",
              "      <th>10</th>\n",
              "      <td>11</td>\n",
              "      <td>1825</td>\n",
              "      <td>443</td>\n",
              "      <td>759</td>\n",
              "      <td>assegno</td>\n",
              "    </tr>\n",
              "    <tr>\n",
              "      <th>11</th>\n",
              "      <td>12</td>\n",
              "      <td>17050</td>\n",
              "      <td>279</td>\n",
              "      <td>275</td>\n",
              "      <td>assegno</td>\n",
              "    </tr>\n",
              "    <tr>\n",
              "      <th>12</th>\n",
              "      <td>13</td>\n",
              "      <td>11100</td>\n",
              "      <td>66</td>\n",
              "      <td>35</td>\n",
              "      <td>bonifico</td>\n",
              "    </tr>\n",
              "    <tr>\n",
              "      <th>13</th>\n",
              "      <td>14</td>\n",
              "      <td>43880</td>\n",
              "      <td>664</td>\n",
              "      <td>964</td>\n",
              "      <td>assegno</td>\n",
              "    </tr>\n",
              "    <tr>\n",
              "      <th>14</th>\n",
              "      <td>15</td>\n",
              "      <td>675</td>\n",
              "      <td>78</td>\n",
              "      <td>NaN</td>\n",
              "      <td>carta di credito</td>\n",
              "    </tr>\n",
              "    <tr>\n",
              "      <th>15</th>\n",
              "      <td>16</td>\n",
              "      <td>595</td>\n",
              "      <td>437</td>\n",
              "      <td>NaN</td>\n",
              "      <td>carta di credito</td>\n",
              "    </tr>\n",
              "    <tr>\n",
              "      <th>16</th>\n",
              "      <td>17</td>\n",
              "      <td>21575</td>\n",
              "      <td>760</td>\n",
              "      <td>919</td>\n",
              "      <td>bonifico</td>\n",
              "    </tr>\n",
              "    <tr>\n",
              "      <th>17</th>\n",
              "      <td>18</td>\n",
              "      <td>14710</td>\n",
              "      <td>889</td>\n",
              "      <td>828</td>\n",
              "      <td>bonifico</td>\n",
              "    </tr>\n",
              "    <tr>\n",
              "      <th>18</th>\n",
              "      <td>19</td>\n",
              "      <td>420</td>\n",
              "      <td>78</td>\n",
              "      <td>NaN</td>\n",
              "      <td>carta di credito</td>\n",
              "    </tr>\n",
              "    <tr>\n",
              "      <th>19</th>\n",
              "      <td>20</td>\n",
              "      <td>6490</td>\n",
              "      <td>796</td>\n",
              "      <td>323</td>\n",
              "      <td>contante</td>\n",
              "    </tr>\n",
              "  </tbody>\n",
              "</table>\n",
              "</div>\n",
              "      <button class=\"colab-df-convert\" onclick=\"convertToInteractive('df-aae7ec2d-1518-40ef-a9a3-6c94ccded07d')\"\n",
              "              title=\"Convert this dataframe to an interactive table.\"\n",
              "              style=\"display:none;\">\n",
              "        \n",
              "  <svg xmlns=\"http://www.w3.org/2000/svg\" height=\"24px\"viewBox=\"0 0 24 24\"\n",
              "       width=\"24px\">\n",
              "    <path d=\"M0 0h24v24H0V0z\" fill=\"none\"/>\n",
              "    <path d=\"M18.56 5.44l.94 2.06.94-2.06 2.06-.94-2.06-.94-.94-2.06-.94 2.06-2.06.94zm-11 1L8.5 8.5l.94-2.06 2.06-.94-2.06-.94L8.5 2.5l-.94 2.06-2.06.94zm10 10l.94 2.06.94-2.06 2.06-.94-2.06-.94-.94-2.06-.94 2.06-2.06.94z\"/><path d=\"M17.41 7.96l-1.37-1.37c-.4-.4-.92-.59-1.43-.59-.52 0-1.04.2-1.43.59L10.3 9.45l-7.72 7.72c-.78.78-.78 2.05 0 2.83L4 21.41c.39.39.9.59 1.41.59.51 0 1.02-.2 1.41-.59l7.78-7.78 2.81-2.81c.8-.78.8-2.07 0-2.86zM5.41 20L4 18.59l7.72-7.72 1.47 1.35L5.41 20z\"/>\n",
              "  </svg>\n",
              "      </button>\n",
              "      \n",
              "  <style>\n",
              "    .colab-df-container {\n",
              "      display:flex;\n",
              "      flex-wrap:wrap;\n",
              "      gap: 12px;\n",
              "    }\n",
              "\n",
              "    .colab-df-convert {\n",
              "      background-color: #E8F0FE;\n",
              "      border: none;\n",
              "      border-radius: 50%;\n",
              "      cursor: pointer;\n",
              "      display: none;\n",
              "      fill: #1967D2;\n",
              "      height: 32px;\n",
              "      padding: 0 0 0 0;\n",
              "      width: 32px;\n",
              "    }\n",
              "\n",
              "    .colab-df-convert:hover {\n",
              "      background-color: #E2EBFA;\n",
              "      box-shadow: 0px 1px 2px rgba(60, 64, 67, 0.3), 0px 1px 3px 1px rgba(60, 64, 67, 0.15);\n",
              "      fill: #174EA6;\n",
              "    }\n",
              "\n",
              "    [theme=dark] .colab-df-convert {\n",
              "      background-color: #3B4455;\n",
              "      fill: #D2E3FC;\n",
              "    }\n",
              "\n",
              "    [theme=dark] .colab-df-convert:hover {\n",
              "      background-color: #434B5C;\n",
              "      box-shadow: 0px 1px 3px 1px rgba(0, 0, 0, 0.15);\n",
              "      filter: drop-shadow(0px 1px 2px rgba(0, 0, 0, 0.3));\n",
              "      fill: #FFFFFF;\n",
              "    }\n",
              "  </style>\n",
              "\n",
              "      <script>\n",
              "        const buttonEl =\n",
              "          document.querySelector('#df-aae7ec2d-1518-40ef-a9a3-6c94ccded07d button.colab-df-convert');\n",
              "        buttonEl.style.display =\n",
              "          google.colab.kernel.accessAllowed ? 'block' : 'none';\n",
              "\n",
              "        async function convertToInteractive(key) {\n",
              "          const element = document.querySelector('#df-aae7ec2d-1518-40ef-a9a3-6c94ccded07d');\n",
              "          const dataTable =\n",
              "            await google.colab.kernel.invokeFunction('convertToInteractive',\n",
              "                                                     [key], {});\n",
              "          if (!dataTable) return;\n",
              "\n",
              "          const docLinkHtml = 'Like what you see? Visit the ' +\n",
              "            '<a target=\"_blank\" href=https://colab.research.google.com/notebooks/data_table.ipynb>data table notebook</a>'\n",
              "            + ' to learn more about interactive tables.';\n",
              "          element.innerHTML = '';\n",
              "          dataTable['output_type'] = 'display_data';\n",
              "          await google.colab.output.renderOutput(dataTable, element);\n",
              "          const docLink = document.createElement('div');\n",
              "          docLink.innerHTML = docLinkHtml;\n",
              "          element.appendChild(docLink);\n",
              "        }\n",
              "      </script>\n",
              "    </div>\n",
              "  </div>\n",
              "  "
            ]
          },
          "metadata": {},
          "execution_count": 279
        }
      ]
    },
    {
      "cell_type": "code",
      "source": [
        "t[(t['tipo']=='bonifico') & (t['importo']>10000)][['importo','beneficiario']]"
      ],
      "metadata": {
        "colab": {
          "base_uri": "https://localhost:8080/",
          "height": 206
        },
        "id": "0sezJ6Jy1zl9",
        "outputId": "9c83e1e1-97b5-4079-f8d7-c40d11b26746"
      },
      "execution_count": null,
      "outputs": [
        {
          "output_type": "execute_result",
          "data": {
            "text/plain": [
              "    importo beneficiario\n",
              "2     11320          178\n",
              "9     36545          648\n",
              "12    11100           66\n",
              "16    21575          760\n",
              "17    14710          889"
            ],
            "text/html": [
              "\n",
              "  <div id=\"df-4cb227fb-bd0a-4277-a8fc-884346e1ccc1\">\n",
              "    <div class=\"colab-df-container\">\n",
              "      <div>\n",
              "<style scoped>\n",
              "    .dataframe tbody tr th:only-of-type {\n",
              "        vertical-align: middle;\n",
              "    }\n",
              "\n",
              "    .dataframe tbody tr th {\n",
              "        vertical-align: top;\n",
              "    }\n",
              "\n",
              "    .dataframe thead th {\n",
              "        text-align: right;\n",
              "    }\n",
              "</style>\n",
              "<table border=\"1\" class=\"dataframe\">\n",
              "  <thead>\n",
              "    <tr style=\"text-align: right;\">\n",
              "      <th></th>\n",
              "      <th>importo</th>\n",
              "      <th>beneficiario</th>\n",
              "    </tr>\n",
              "  </thead>\n",
              "  <tbody>\n",
              "    <tr>\n",
              "      <th>2</th>\n",
              "      <td>11320</td>\n",
              "      <td>178</td>\n",
              "    </tr>\n",
              "    <tr>\n",
              "      <th>9</th>\n",
              "      <td>36545</td>\n",
              "      <td>648</td>\n",
              "    </tr>\n",
              "    <tr>\n",
              "      <th>12</th>\n",
              "      <td>11100</td>\n",
              "      <td>66</td>\n",
              "    </tr>\n",
              "    <tr>\n",
              "      <th>16</th>\n",
              "      <td>21575</td>\n",
              "      <td>760</td>\n",
              "    </tr>\n",
              "    <tr>\n",
              "      <th>17</th>\n",
              "      <td>14710</td>\n",
              "      <td>889</td>\n",
              "    </tr>\n",
              "  </tbody>\n",
              "</table>\n",
              "</div>\n",
              "      <button class=\"colab-df-convert\" onclick=\"convertToInteractive('df-4cb227fb-bd0a-4277-a8fc-884346e1ccc1')\"\n",
              "              title=\"Convert this dataframe to an interactive table.\"\n",
              "              style=\"display:none;\">\n",
              "        \n",
              "  <svg xmlns=\"http://www.w3.org/2000/svg\" height=\"24px\"viewBox=\"0 0 24 24\"\n",
              "       width=\"24px\">\n",
              "    <path d=\"M0 0h24v24H0V0z\" fill=\"none\"/>\n",
              "    <path d=\"M18.56 5.44l.94 2.06.94-2.06 2.06-.94-2.06-.94-.94-2.06-.94 2.06-2.06.94zm-11 1L8.5 8.5l.94-2.06 2.06-.94-2.06-.94L8.5 2.5l-.94 2.06-2.06.94zm10 10l.94 2.06.94-2.06 2.06-.94-2.06-.94-.94-2.06-.94 2.06-2.06.94z\"/><path d=\"M17.41 7.96l-1.37-1.37c-.4-.4-.92-.59-1.43-.59-.52 0-1.04.2-1.43.59L10.3 9.45l-7.72 7.72c-.78.78-.78 2.05 0 2.83L4 21.41c.39.39.9.59 1.41.59.51 0 1.02-.2 1.41-.59l7.78-7.78 2.81-2.81c.8-.78.8-2.07 0-2.86zM5.41 20L4 18.59l7.72-7.72 1.47 1.35L5.41 20z\"/>\n",
              "  </svg>\n",
              "      </button>\n",
              "      \n",
              "  <style>\n",
              "    .colab-df-container {\n",
              "      display:flex;\n",
              "      flex-wrap:wrap;\n",
              "      gap: 12px;\n",
              "    }\n",
              "\n",
              "    .colab-df-convert {\n",
              "      background-color: #E8F0FE;\n",
              "      border: none;\n",
              "      border-radius: 50%;\n",
              "      cursor: pointer;\n",
              "      display: none;\n",
              "      fill: #1967D2;\n",
              "      height: 32px;\n",
              "      padding: 0 0 0 0;\n",
              "      width: 32px;\n",
              "    }\n",
              "\n",
              "    .colab-df-convert:hover {\n",
              "      background-color: #E2EBFA;\n",
              "      box-shadow: 0px 1px 2px rgba(60, 64, 67, 0.3), 0px 1px 3px 1px rgba(60, 64, 67, 0.15);\n",
              "      fill: #174EA6;\n",
              "    }\n",
              "\n",
              "    [theme=dark] .colab-df-convert {\n",
              "      background-color: #3B4455;\n",
              "      fill: #D2E3FC;\n",
              "    }\n",
              "\n",
              "    [theme=dark] .colab-df-convert:hover {\n",
              "      background-color: #434B5C;\n",
              "      box-shadow: 0px 1px 3px 1px rgba(0, 0, 0, 0.15);\n",
              "      filter: drop-shadow(0px 1px 2px rgba(0, 0, 0, 0.3));\n",
              "      fill: #FFFFFF;\n",
              "    }\n",
              "  </style>\n",
              "\n",
              "      <script>\n",
              "        const buttonEl =\n",
              "          document.querySelector('#df-4cb227fb-bd0a-4277-a8fc-884346e1ccc1 button.colab-df-convert');\n",
              "        buttonEl.style.display =\n",
              "          google.colab.kernel.accessAllowed ? 'block' : 'none';\n",
              "\n",
              "        async function convertToInteractive(key) {\n",
              "          const element = document.querySelector('#df-4cb227fb-bd0a-4277-a8fc-884346e1ccc1');\n",
              "          const dataTable =\n",
              "            await google.colab.kernel.invokeFunction('convertToInteractive',\n",
              "                                                     [key], {});\n",
              "          if (!dataTable) return;\n",
              "\n",
              "          const docLinkHtml = 'Like what you see? Visit the ' +\n",
              "            '<a target=\"_blank\" href=https://colab.research.google.com/notebooks/data_table.ipynb>data table notebook</a>'\n",
              "            + ' to learn more about interactive tables.';\n",
              "          element.innerHTML = '';\n",
              "          dataTable['output_type'] = 'display_data';\n",
              "          await google.colab.output.renderOutput(dataTable, element);\n",
              "          const docLink = document.createElement('div');\n",
              "          docLink.innerHTML = docLinkHtml;\n",
              "          element.appendChild(docLink);\n",
              "        }\n",
              "      </script>\n",
              "    </div>\n",
              "  </div>\n",
              "  "
            ]
          },
          "metadata": {},
          "execution_count": 276
        }
      ]
    },
    {
      "cell_type": "markdown",
      "source": [
        "### Aggiornamenro del contenuto dei un DataFrame\n",
        "Quando operiamo una selezione condizionata su un DataFrame, l'oggetto che otteniamo in output e' una sorta di vista accessibile alla sola lettura.\n",
        "Se proviamo a modificare il constenuto di una delle sue variabili otteniamo errore. "
      ],
      "metadata": {
        "id": "Nht2dfGmaaZT"
      }
    },
    {
      "cell_type": "code",
      "source": [
        "t.head()"
      ],
      "metadata": {
        "id": "zUTjO-qk2K1i",
        "colab": {
          "base_uri": "https://localhost:8080/",
          "height": 206
        },
        "outputId": "2480ebb1-146b-4ea7-edc0-4e5a8943dd04"
      },
      "execution_count": null,
      "outputs": [
        {
          "output_type": "execute_result",
          "data": {
            "text/plain": [
              "   id  importo beneficiario ordinante              tipo\n",
              "0   1     3450          872       516          bonifico\n",
              "1   2      505          989       NaN  carta di credito\n",
              "2   3    11320          178       136          bonifico\n",
              "3   4     9325          729       378           assegno\n",
              "4   5      620          706       NaN  carta di credito"
            ],
            "text/html": [
              "\n",
              "  <div id=\"df-5e9a2630-69ac-45f8-a3fd-fb3898950e76\">\n",
              "    <div class=\"colab-df-container\">\n",
              "      <div>\n",
              "<style scoped>\n",
              "    .dataframe tbody tr th:only-of-type {\n",
              "        vertical-align: middle;\n",
              "    }\n",
              "\n",
              "    .dataframe tbody tr th {\n",
              "        vertical-align: top;\n",
              "    }\n",
              "\n",
              "    .dataframe thead th {\n",
              "        text-align: right;\n",
              "    }\n",
              "</style>\n",
              "<table border=\"1\" class=\"dataframe\">\n",
              "  <thead>\n",
              "    <tr style=\"text-align: right;\">\n",
              "      <th></th>\n",
              "      <th>id</th>\n",
              "      <th>importo</th>\n",
              "      <th>beneficiario</th>\n",
              "      <th>ordinante</th>\n",
              "      <th>tipo</th>\n",
              "    </tr>\n",
              "  </thead>\n",
              "  <tbody>\n",
              "    <tr>\n",
              "      <th>0</th>\n",
              "      <td>1</td>\n",
              "      <td>3450</td>\n",
              "      <td>872</td>\n",
              "      <td>516</td>\n",
              "      <td>bonifico</td>\n",
              "    </tr>\n",
              "    <tr>\n",
              "      <th>1</th>\n",
              "      <td>2</td>\n",
              "      <td>505</td>\n",
              "      <td>989</td>\n",
              "      <td>NaN</td>\n",
              "      <td>carta di credito</td>\n",
              "    </tr>\n",
              "    <tr>\n",
              "      <th>2</th>\n",
              "      <td>3</td>\n",
              "      <td>11320</td>\n",
              "      <td>178</td>\n",
              "      <td>136</td>\n",
              "      <td>bonifico</td>\n",
              "    </tr>\n",
              "    <tr>\n",
              "      <th>3</th>\n",
              "      <td>4</td>\n",
              "      <td>9325</td>\n",
              "      <td>729</td>\n",
              "      <td>378</td>\n",
              "      <td>assegno</td>\n",
              "    </tr>\n",
              "    <tr>\n",
              "      <th>4</th>\n",
              "      <td>5</td>\n",
              "      <td>620</td>\n",
              "      <td>706</td>\n",
              "      <td>NaN</td>\n",
              "      <td>carta di credito</td>\n",
              "    </tr>\n",
              "  </tbody>\n",
              "</table>\n",
              "</div>\n",
              "      <button class=\"colab-df-convert\" onclick=\"convertToInteractive('df-5e9a2630-69ac-45f8-a3fd-fb3898950e76')\"\n",
              "              title=\"Convert this dataframe to an interactive table.\"\n",
              "              style=\"display:none;\">\n",
              "        \n",
              "  <svg xmlns=\"http://www.w3.org/2000/svg\" height=\"24px\"viewBox=\"0 0 24 24\"\n",
              "       width=\"24px\">\n",
              "    <path d=\"M0 0h24v24H0V0z\" fill=\"none\"/>\n",
              "    <path d=\"M18.56 5.44l.94 2.06.94-2.06 2.06-.94-2.06-.94-.94-2.06-.94 2.06-2.06.94zm-11 1L8.5 8.5l.94-2.06 2.06-.94-2.06-.94L8.5 2.5l-.94 2.06-2.06.94zm10 10l.94 2.06.94-2.06 2.06-.94-2.06-.94-.94-2.06-.94 2.06-2.06.94z\"/><path d=\"M17.41 7.96l-1.37-1.37c-.4-.4-.92-.59-1.43-.59-.52 0-1.04.2-1.43.59L10.3 9.45l-7.72 7.72c-.78.78-.78 2.05 0 2.83L4 21.41c.39.39.9.59 1.41.59.51 0 1.02-.2 1.41-.59l7.78-7.78 2.81-2.81c.8-.78.8-2.07 0-2.86zM5.41 20L4 18.59l7.72-7.72 1.47 1.35L5.41 20z\"/>\n",
              "  </svg>\n",
              "      </button>\n",
              "      \n",
              "  <style>\n",
              "    .colab-df-container {\n",
              "      display:flex;\n",
              "      flex-wrap:wrap;\n",
              "      gap: 12px;\n",
              "    }\n",
              "\n",
              "    .colab-df-convert {\n",
              "      background-color: #E8F0FE;\n",
              "      border: none;\n",
              "      border-radius: 50%;\n",
              "      cursor: pointer;\n",
              "      display: none;\n",
              "      fill: #1967D2;\n",
              "      height: 32px;\n",
              "      padding: 0 0 0 0;\n",
              "      width: 32px;\n",
              "    }\n",
              "\n",
              "    .colab-df-convert:hover {\n",
              "      background-color: #E2EBFA;\n",
              "      box-shadow: 0px 1px 2px rgba(60, 64, 67, 0.3), 0px 1px 3px 1px rgba(60, 64, 67, 0.15);\n",
              "      fill: #174EA6;\n",
              "    }\n",
              "\n",
              "    [theme=dark] .colab-df-convert {\n",
              "      background-color: #3B4455;\n",
              "      fill: #D2E3FC;\n",
              "    }\n",
              "\n",
              "    [theme=dark] .colab-df-convert:hover {\n",
              "      background-color: #434B5C;\n",
              "      box-shadow: 0px 1px 3px 1px rgba(0, 0, 0, 0.15);\n",
              "      filter: drop-shadow(0px 1px 2px rgba(0, 0, 0, 0.3));\n",
              "      fill: #FFFFFF;\n",
              "    }\n",
              "  </style>\n",
              "\n",
              "      <script>\n",
              "        const buttonEl =\n",
              "          document.querySelector('#df-5e9a2630-69ac-45f8-a3fd-fb3898950e76 button.colab-df-convert');\n",
              "        buttonEl.style.display =\n",
              "          google.colab.kernel.accessAllowed ? 'block' : 'none';\n",
              "\n",
              "        async function convertToInteractive(key) {\n",
              "          const element = document.querySelector('#df-5e9a2630-69ac-45f8-a3fd-fb3898950e76');\n",
              "          const dataTable =\n",
              "            await google.colab.kernel.invokeFunction('convertToInteractive',\n",
              "                                                     [key], {});\n",
              "          if (!dataTable) return;\n",
              "\n",
              "          const docLinkHtml = 'Like what you see? Visit the ' +\n",
              "            '<a target=\"_blank\" href=https://colab.research.google.com/notebooks/data_table.ipynb>data table notebook</a>'\n",
              "            + ' to learn more about interactive tables.';\n",
              "          element.innerHTML = '';\n",
              "          dataTable['output_type'] = 'display_data';\n",
              "          await google.colab.output.renderOutput(dataTable, element);\n",
              "          const docLink = document.createElement('div');\n",
              "          docLink.innerHTML = docLinkHtml;\n",
              "          element.appendChild(docLink);\n",
              "        }\n",
              "      </script>\n",
              "    </div>\n",
              "  </div>\n",
              "  "
            ]
          },
          "metadata": {},
          "execution_count": 6
        }
      ]
    },
    {
      "cell_type": "markdown",
      "source": [
        "Utilizziamo comunque la query per selezionare le righe; una volta ottenute le righe, estrapoliamo l'indice che contengono ed utilizzaimo il metodo su DataFrame  per individuare le righe da modificare."
      ],
      "metadata": {
        "id": "YAz2dFMZbS-5"
      }
    },
    {
      "cell_type": "code",
      "source": [
        "# rimpiazza tutte le occorrenze di 'bonifico' con 'b'\n",
        "t.loc[t['tipo']=='bonifico','tipo']='b'\n",
        "t.head()"
      ],
      "metadata": {
        "colab": {
          "base_uri": "https://localhost:8080/",
          "height": 206
        },
        "id": "hAOHE_FOahQG",
        "outputId": "d974a6fe-e26f-4753-8071-d99f231c4417"
      },
      "execution_count": null,
      "outputs": [
        {
          "output_type": "execute_result",
          "data": {
            "text/plain": [
              "   id  importo beneficiario ordinante              tipo\n",
              "0   1     3450          872       516                 b\n",
              "1   2      505          989       NaN  carta di credito\n",
              "2   3    11320          178       136                 b\n",
              "3   4     9325          729       378           assegno\n",
              "4   5      620          706       NaN  carta di credito"
            ],
            "text/html": [
              "\n",
              "  <div id=\"df-7a15bc8b-2111-438b-b9eb-507ec9cb1b7e\">\n",
              "    <div class=\"colab-df-container\">\n",
              "      <div>\n",
              "<style scoped>\n",
              "    .dataframe tbody tr th:only-of-type {\n",
              "        vertical-align: middle;\n",
              "    }\n",
              "\n",
              "    .dataframe tbody tr th {\n",
              "        vertical-align: top;\n",
              "    }\n",
              "\n",
              "    .dataframe thead th {\n",
              "        text-align: right;\n",
              "    }\n",
              "</style>\n",
              "<table border=\"1\" class=\"dataframe\">\n",
              "  <thead>\n",
              "    <tr style=\"text-align: right;\">\n",
              "      <th></th>\n",
              "      <th>id</th>\n",
              "      <th>importo</th>\n",
              "      <th>beneficiario</th>\n",
              "      <th>ordinante</th>\n",
              "      <th>tipo</th>\n",
              "    </tr>\n",
              "  </thead>\n",
              "  <tbody>\n",
              "    <tr>\n",
              "      <th>0</th>\n",
              "      <td>1</td>\n",
              "      <td>3450</td>\n",
              "      <td>872</td>\n",
              "      <td>516</td>\n",
              "      <td>b</td>\n",
              "    </tr>\n",
              "    <tr>\n",
              "      <th>1</th>\n",
              "      <td>2</td>\n",
              "      <td>505</td>\n",
              "      <td>989</td>\n",
              "      <td>NaN</td>\n",
              "      <td>carta di credito</td>\n",
              "    </tr>\n",
              "    <tr>\n",
              "      <th>2</th>\n",
              "      <td>3</td>\n",
              "      <td>11320</td>\n",
              "      <td>178</td>\n",
              "      <td>136</td>\n",
              "      <td>b</td>\n",
              "    </tr>\n",
              "    <tr>\n",
              "      <th>3</th>\n",
              "      <td>4</td>\n",
              "      <td>9325</td>\n",
              "      <td>729</td>\n",
              "      <td>378</td>\n",
              "      <td>assegno</td>\n",
              "    </tr>\n",
              "    <tr>\n",
              "      <th>4</th>\n",
              "      <td>5</td>\n",
              "      <td>620</td>\n",
              "      <td>706</td>\n",
              "      <td>NaN</td>\n",
              "      <td>carta di credito</td>\n",
              "    </tr>\n",
              "  </tbody>\n",
              "</table>\n",
              "</div>\n",
              "      <button class=\"colab-df-convert\" onclick=\"convertToInteractive('df-7a15bc8b-2111-438b-b9eb-507ec9cb1b7e')\"\n",
              "              title=\"Convert this dataframe to an interactive table.\"\n",
              "              style=\"display:none;\">\n",
              "        \n",
              "  <svg xmlns=\"http://www.w3.org/2000/svg\" height=\"24px\"viewBox=\"0 0 24 24\"\n",
              "       width=\"24px\">\n",
              "    <path d=\"M0 0h24v24H0V0z\" fill=\"none\"/>\n",
              "    <path d=\"M18.56 5.44l.94 2.06.94-2.06 2.06-.94-2.06-.94-.94-2.06-.94 2.06-2.06.94zm-11 1L8.5 8.5l.94-2.06 2.06-.94-2.06-.94L8.5 2.5l-.94 2.06-2.06.94zm10 10l.94 2.06.94-2.06 2.06-.94-2.06-.94-.94-2.06-.94 2.06-2.06.94z\"/><path d=\"M17.41 7.96l-1.37-1.37c-.4-.4-.92-.59-1.43-.59-.52 0-1.04.2-1.43.59L10.3 9.45l-7.72 7.72c-.78.78-.78 2.05 0 2.83L4 21.41c.39.39.9.59 1.41.59.51 0 1.02-.2 1.41-.59l7.78-7.78 2.81-2.81c.8-.78.8-2.07 0-2.86zM5.41 20L4 18.59l7.72-7.72 1.47 1.35L5.41 20z\"/>\n",
              "  </svg>\n",
              "      </button>\n",
              "      \n",
              "  <style>\n",
              "    .colab-df-container {\n",
              "      display:flex;\n",
              "      flex-wrap:wrap;\n",
              "      gap: 12px;\n",
              "    }\n",
              "\n",
              "    .colab-df-convert {\n",
              "      background-color: #E8F0FE;\n",
              "      border: none;\n",
              "      border-radius: 50%;\n",
              "      cursor: pointer;\n",
              "      display: none;\n",
              "      fill: #1967D2;\n",
              "      height: 32px;\n",
              "      padding: 0 0 0 0;\n",
              "      width: 32px;\n",
              "    }\n",
              "\n",
              "    .colab-df-convert:hover {\n",
              "      background-color: #E2EBFA;\n",
              "      box-shadow: 0px 1px 2px rgba(60, 64, 67, 0.3), 0px 1px 3px 1px rgba(60, 64, 67, 0.15);\n",
              "      fill: #174EA6;\n",
              "    }\n",
              "\n",
              "    [theme=dark] .colab-df-convert {\n",
              "      background-color: #3B4455;\n",
              "      fill: #D2E3FC;\n",
              "    }\n",
              "\n",
              "    [theme=dark] .colab-df-convert:hover {\n",
              "      background-color: #434B5C;\n",
              "      box-shadow: 0px 1px 3px 1px rgba(0, 0, 0, 0.15);\n",
              "      filter: drop-shadow(0px 1px 2px rgba(0, 0, 0, 0.3));\n",
              "      fill: #FFFFFF;\n",
              "    }\n",
              "  </style>\n",
              "\n",
              "      <script>\n",
              "        const buttonEl =\n",
              "          document.querySelector('#df-7a15bc8b-2111-438b-b9eb-507ec9cb1b7e button.colab-df-convert');\n",
              "        buttonEl.style.display =\n",
              "          google.colab.kernel.accessAllowed ? 'block' : 'none';\n",
              "\n",
              "        async function convertToInteractive(key) {\n",
              "          const element = document.querySelector('#df-7a15bc8b-2111-438b-b9eb-507ec9cb1b7e');\n",
              "          const dataTable =\n",
              "            await google.colab.kernel.invokeFunction('convertToInteractive',\n",
              "                                                     [key], {});\n",
              "          if (!dataTable) return;\n",
              "\n",
              "          const docLinkHtml = 'Like what you see? Visit the ' +\n",
              "            '<a target=\"_blank\" href=https://colab.research.google.com/notebooks/data_table.ipynb>data table notebook</a>'\n",
              "            + ' to learn more about interactive tables.';\n",
              "          element.innerHTML = '';\n",
              "          dataTable['output_type'] = 'display_data';\n",
              "          await google.colab.output.renderOutput(dataTable, element);\n",
              "          const docLink = document.createElement('div');\n",
              "          docLink.innerHTML = docLinkHtml;\n",
              "          element.appendChild(docLink);\n",
              "        }\n",
              "      </script>\n",
              "    </div>\n",
              "  </div>\n",
              "  "
            ]
          },
          "metadata": {},
          "execution_count": 8
        }
      ]
    },
    {
      "cell_type": "code",
      "source": [
        "# modifico il DataFrame originario con 'inplace'\n",
        "t['tipo'].replace('bonifico','b',inplace=True)\n",
        "\n",
        "# esegui molte sostituzioni insieme\n",
        "substitutions={'bonifico':'b', 'carta di credito': 'cc', 'assegno':'a', 'contante':'c'}\n",
        "t['tipo'].replace(substitutions,inplace=True)"
      ],
      "metadata": {
        "id": "8ivVkpL2bxA5"
      },
      "execution_count": null,
      "outputs": []
    },
    {
      "cell_type": "code",
      "source": [
        "t.head()"
      ],
      "metadata": {
        "colab": {
          "base_uri": "https://localhost:8080/",
          "height": 206
        },
        "id": "isbPEuffcBF3",
        "outputId": "ee5a58a0-dec6-4cee-8a98-7dc27116a916"
      },
      "execution_count": null,
      "outputs": [
        {
          "output_type": "execute_result",
          "data": {
            "text/plain": [
              "   id  importo beneficiario ordinante tipo\n",
              "0   1     3450          872       516    b\n",
              "1   2      505          989       NaN   cc\n",
              "2   3    11320          178       136    b\n",
              "3   4     9325          729       378    a\n",
              "4   5      620          706       NaN   cc"
            ],
            "text/html": [
              "\n",
              "  <div id=\"df-45f0b1bf-620c-49b8-95b2-51709f34aa2f\">\n",
              "    <div class=\"colab-df-container\">\n",
              "      <div>\n",
              "<style scoped>\n",
              "    .dataframe tbody tr th:only-of-type {\n",
              "        vertical-align: middle;\n",
              "    }\n",
              "\n",
              "    .dataframe tbody tr th {\n",
              "        vertical-align: top;\n",
              "    }\n",
              "\n",
              "    .dataframe thead th {\n",
              "        text-align: right;\n",
              "    }\n",
              "</style>\n",
              "<table border=\"1\" class=\"dataframe\">\n",
              "  <thead>\n",
              "    <tr style=\"text-align: right;\">\n",
              "      <th></th>\n",
              "      <th>id</th>\n",
              "      <th>importo</th>\n",
              "      <th>beneficiario</th>\n",
              "      <th>ordinante</th>\n",
              "      <th>tipo</th>\n",
              "    </tr>\n",
              "  </thead>\n",
              "  <tbody>\n",
              "    <tr>\n",
              "      <th>0</th>\n",
              "      <td>1</td>\n",
              "      <td>3450</td>\n",
              "      <td>872</td>\n",
              "      <td>516</td>\n",
              "      <td>b</td>\n",
              "    </tr>\n",
              "    <tr>\n",
              "      <th>1</th>\n",
              "      <td>2</td>\n",
              "      <td>505</td>\n",
              "      <td>989</td>\n",
              "      <td>NaN</td>\n",
              "      <td>cc</td>\n",
              "    </tr>\n",
              "    <tr>\n",
              "      <th>2</th>\n",
              "      <td>3</td>\n",
              "      <td>11320</td>\n",
              "      <td>178</td>\n",
              "      <td>136</td>\n",
              "      <td>b</td>\n",
              "    </tr>\n",
              "    <tr>\n",
              "      <th>3</th>\n",
              "      <td>4</td>\n",
              "      <td>9325</td>\n",
              "      <td>729</td>\n",
              "      <td>378</td>\n",
              "      <td>a</td>\n",
              "    </tr>\n",
              "    <tr>\n",
              "      <th>4</th>\n",
              "      <td>5</td>\n",
              "      <td>620</td>\n",
              "      <td>706</td>\n",
              "      <td>NaN</td>\n",
              "      <td>cc</td>\n",
              "    </tr>\n",
              "  </tbody>\n",
              "</table>\n",
              "</div>\n",
              "      <button class=\"colab-df-convert\" onclick=\"convertToInteractive('df-45f0b1bf-620c-49b8-95b2-51709f34aa2f')\"\n",
              "              title=\"Convert this dataframe to an interactive table.\"\n",
              "              style=\"display:none;\">\n",
              "        \n",
              "  <svg xmlns=\"http://www.w3.org/2000/svg\" height=\"24px\"viewBox=\"0 0 24 24\"\n",
              "       width=\"24px\">\n",
              "    <path d=\"M0 0h24v24H0V0z\" fill=\"none\"/>\n",
              "    <path d=\"M18.56 5.44l.94 2.06.94-2.06 2.06-.94-2.06-.94-.94-2.06-.94 2.06-2.06.94zm-11 1L8.5 8.5l.94-2.06 2.06-.94-2.06-.94L8.5 2.5l-.94 2.06-2.06.94zm10 10l.94 2.06.94-2.06 2.06-.94-2.06-.94-.94-2.06-.94 2.06-2.06.94z\"/><path d=\"M17.41 7.96l-1.37-1.37c-.4-.4-.92-.59-1.43-.59-.52 0-1.04.2-1.43.59L10.3 9.45l-7.72 7.72c-.78.78-.78 2.05 0 2.83L4 21.41c.39.39.9.59 1.41.59.51 0 1.02-.2 1.41-.59l7.78-7.78 2.81-2.81c.8-.78.8-2.07 0-2.86zM5.41 20L4 18.59l7.72-7.72 1.47 1.35L5.41 20z\"/>\n",
              "  </svg>\n",
              "      </button>\n",
              "      \n",
              "  <style>\n",
              "    .colab-df-container {\n",
              "      display:flex;\n",
              "      flex-wrap:wrap;\n",
              "      gap: 12px;\n",
              "    }\n",
              "\n",
              "    .colab-df-convert {\n",
              "      background-color: #E8F0FE;\n",
              "      border: none;\n",
              "      border-radius: 50%;\n",
              "      cursor: pointer;\n",
              "      display: none;\n",
              "      fill: #1967D2;\n",
              "      height: 32px;\n",
              "      padding: 0 0 0 0;\n",
              "      width: 32px;\n",
              "    }\n",
              "\n",
              "    .colab-df-convert:hover {\n",
              "      background-color: #E2EBFA;\n",
              "      box-shadow: 0px 1px 2px rgba(60, 64, 67, 0.3), 0px 1px 3px 1px rgba(60, 64, 67, 0.15);\n",
              "      fill: #174EA6;\n",
              "    }\n",
              "\n",
              "    [theme=dark] .colab-df-convert {\n",
              "      background-color: #3B4455;\n",
              "      fill: #D2E3FC;\n",
              "    }\n",
              "\n",
              "    [theme=dark] .colab-df-convert:hover {\n",
              "      background-color: #434B5C;\n",
              "      box-shadow: 0px 1px 3px 1px rgba(0, 0, 0, 0.15);\n",
              "      filter: drop-shadow(0px 1px 2px rgba(0, 0, 0, 0.3));\n",
              "      fill: #FFFFFF;\n",
              "    }\n",
              "  </style>\n",
              "\n",
              "      <script>\n",
              "        const buttonEl =\n",
              "          document.querySelector('#df-45f0b1bf-620c-49b8-95b2-51709f34aa2f button.colab-df-convert');\n",
              "        buttonEl.style.display =\n",
              "          google.colab.kernel.accessAllowed ? 'block' : 'none';\n",
              "\n",
              "        async function convertToInteractive(key) {\n",
              "          const element = document.querySelector('#df-45f0b1bf-620c-49b8-95b2-51709f34aa2f');\n",
              "          const dataTable =\n",
              "            await google.colab.kernel.invokeFunction('convertToInteractive',\n",
              "                                                     [key], {});\n",
              "          if (!dataTable) return;\n",
              "\n",
              "          const docLinkHtml = 'Like what you see? Visit the ' +\n",
              "            '<a target=\"_blank\" href=https://colab.research.google.com/notebooks/data_table.ipynb>data table notebook</a>'\n",
              "            + ' to learn more about interactive tables.';\n",
              "          element.innerHTML = '';\n",
              "          dataTable['output_type'] = 'display_data';\n",
              "          await google.colab.output.renderOutput(dataTable, element);\n",
              "          const docLink = document.createElement('div');\n",
              "          docLink.innerHTML = docLinkHtml;\n",
              "          element.appendChild(docLink);\n",
              "        }\n",
              "      </script>\n",
              "    </div>\n",
              "  </div>\n",
              "  "
            ]
          },
          "metadata": {},
          "execution_count": 15
        }
      ]
    },
    {
      "cell_type": "code",
      "source": [
        "# dobbiamo usare dtype=dtype={'ID':str} perche' vorremo fare merge con t, e \n",
        "# le variabili perno devono essere dello stesso tipo (str in questo caso )\n",
        "a=pd.read_csv('Anagrafe.csv',sep=';',dtype={'ID':str})"
      ],
      "metadata": {
        "id": "0wrl2O-OdC-c"
      },
      "execution_count": null,
      "outputs": []
    },
    {
      "cell_type": "code",
      "source": [
        "a.info()"
      ],
      "metadata": {
        "colab": {
          "base_uri": "https://localhost:8080/"
        },
        "id": "zx506Jihd4iI",
        "outputId": "d080a0ba-9147-4c5e-fa23-a80c2ca56236"
      },
      "execution_count": null,
      "outputs": [
        {
          "output_type": "stream",
          "name": "stdout",
          "text": [
            "<class 'pandas.core.frame.DataFrame'>\n",
            "RangeIndex: 39 entries, 0 to 38\n",
            "Data columns (total 22 columns):\n",
            " #   Column                Non-Null Count  Dtype \n",
            "---  ------                --------------  ----- \n",
            " 0   id                    39 non-null     int64 \n",
            " 1   ID                    39 non-null     int64 \n",
            " 2   COGNOME               39 non-null     object\n",
            " 3   NOME                  39 non-null     object\n",
            " 4   GIORNONASCITA         39 non-null     int64 \n",
            " 5   MESENASCITA           39 non-null     int64 \n",
            " 6   ANNONASCITA           39 non-null     int64 \n",
            " 7   SESSO                 39 non-null     object\n",
            " 8   INDIRIZZO             39 non-null     object\n",
            " 9   CAP                   39 non-null     int64 \n",
            " 10  CODICECOMUNEISTAT     39 non-null     int64 \n",
            " 11  DESCRIZIONECOMUNE     39 non-null     object\n",
            " 12  FRAZIONE              39 non-null     object\n",
            " 13  CODICEPROVINCIAISTAT  39 non-null     int64 \n",
            " 14  SIGLAPROVINCIA        36 non-null     object\n",
            " 15  DESCRIZIONEPROVINCIA  39 non-null     object\n",
            " 16  CODICEREGIONE         39 non-null     int64 \n",
            " 17  DESCRIZIONEREGIONE    39 non-null     object\n",
            " 18  COMUNENASCITA         39 non-null     object\n",
            " 19  PROVINCIANASCITA      39 non-null     object\n",
            " 20  LATITUDINE            39 non-null     object\n",
            " 21  LONGITUDINE           39 non-null     object\n",
            "dtypes: int64(9), object(13)\n",
            "memory usage: 6.8+ KB\n"
          ]
        }
      ]
    },
    {
      "cell_type": "code",
      "source": [
        "a.head()"
      ],
      "metadata": {
        "id": "eqQRD05Jd9Bs"
      },
      "execution_count": null,
      "outputs": []
    },
    {
      "cell_type": "markdown",
      "source": [
        "## Merge di DataFrames\n",
        "Se posseggo due DataFrame distinti in cui le righe di uno dei due contengono un riferimento a righe dell'altro, posso relazionare questi due DataFrame mediante un'operazione di **merge**. Questa operazione restituisce un terzo DataFrame la cui struttura e' la somma delle strutture deu dye DataFrame di partenza. La corrispondenza tra le righe dei due DataFrame viene stabilita indicando, per ciascuno di essi, quale attributo usare per risolverla. L'operazione e; equivalente al join nel linguaggio SQL. Come per il join, per default, nel DataFrame sono presenti di ciascuno dei due DataFrame di partenza le sole righe per cui esiste "
      ],
      "metadata": {
        "id": "y_xB4vUDejHk"
      }
    },
    {
      "cell_type": "code",
      "source": [
        "t_a=pd.merge(a,t,left_on='ID',right_on='ordinante')"
      ],
      "metadata": {
        "id": "zyiLGv0ceOFv"
      },
      "execution_count": null,
      "outputs": []
    },
    {
      "cell_type": "code",
      "source": [
        "t_a.head()"
      ],
      "metadata": {
        "colab": {
          "base_uri": "https://localhost:8080/",
          "height": 403
        },
        "id": "49yW-WOKfp0q",
        "outputId": "707284b7-29dc-47ed-ffe5-9e0df653ff85"
      },
      "execution_count": null,
      "outputs": [
        {
          "output_type": "execute_result",
          "data": {
            "text/plain": [
              "   id_x   ID     COGNOME      NOME  GIORNONASCITA  MESENASCITA  ANNONASCITA  \\\n",
              "0    34   35   Bianchini  Vincenza              9            5         1987   \n",
              "1   126  127      Piazzi      Lara             28            7         1987   \n",
              "2   135  136     D'amico    Manuel             23            3         1983   \n",
              "3   135  136     D'amico    Manuel             23            3         1983   \n",
              "4   193  194  Bentivogli  Gabriele             28            6         1987   \n",
              "\n",
              "     SESSO              INDIRIZZO    CAP  ...  DESCRIZIONEREGIONE  \\\n",
              "0  Femmina    Piazza Centrale, 21  10070  ...            PIEMONTE   \n",
              "1  Femmina  Via Conciliazione, 61  20024  ...           LOMBARDIA   \n",
              "2  Maschio  Corso V. Emanuele, 31  84010  ...            CAMPANIA   \n",
              "3  Maschio  Corso V. Emanuele, 31  84010  ...            CAMPANIA   \n",
              "4  Maschio      Via G. Cesare, 70  80125  ...            CAMPANIA   \n",
              "\n",
              "  COMUNENASCITA PROVINCIANASCITA   LATITUDINE  LONGITUDINE id_y  importo  \\\n",
              "0        Verrua               AO  45,30684118  7,282311239   13    11100   \n",
              "1       Valleve               BG  45,57524566  9,079421143    6     5775   \n",
              "2        Aquino               FR  40,65941273  14,62540238    3    11320   \n",
              "3        Aquino               FR  40,65941273  14,62540238    7     7255   \n",
              "4        Romeno               TN   40,8506962   14,2463172    8    33600   \n",
              "\n",
              "  beneficiario ordinante tipo  \n",
              "0           66        35    b  \n",
              "1          842       127    b  \n",
              "2          178       136    b  \n",
              "3          713       136    b  \n",
              "4          143       194    a  \n",
              "\n",
              "[5 rows x 27 columns]"
            ],
            "text/html": [
              "\n",
              "  <div id=\"df-87bf76bc-7506-4441-af8b-49fb30b55d25\">\n",
              "    <div class=\"colab-df-container\">\n",
              "      <div>\n",
              "<style scoped>\n",
              "    .dataframe tbody tr th:only-of-type {\n",
              "        vertical-align: middle;\n",
              "    }\n",
              "\n",
              "    .dataframe tbody tr th {\n",
              "        vertical-align: top;\n",
              "    }\n",
              "\n",
              "    .dataframe thead th {\n",
              "        text-align: right;\n",
              "    }\n",
              "</style>\n",
              "<table border=\"1\" class=\"dataframe\">\n",
              "  <thead>\n",
              "    <tr style=\"text-align: right;\">\n",
              "      <th></th>\n",
              "      <th>id_x</th>\n",
              "      <th>ID</th>\n",
              "      <th>COGNOME</th>\n",
              "      <th>NOME</th>\n",
              "      <th>GIORNONASCITA</th>\n",
              "      <th>MESENASCITA</th>\n",
              "      <th>ANNONASCITA</th>\n",
              "      <th>SESSO</th>\n",
              "      <th>INDIRIZZO</th>\n",
              "      <th>CAP</th>\n",
              "      <th>...</th>\n",
              "      <th>DESCRIZIONEREGIONE</th>\n",
              "      <th>COMUNENASCITA</th>\n",
              "      <th>PROVINCIANASCITA</th>\n",
              "      <th>LATITUDINE</th>\n",
              "      <th>LONGITUDINE</th>\n",
              "      <th>id_y</th>\n",
              "      <th>importo</th>\n",
              "      <th>beneficiario</th>\n",
              "      <th>ordinante</th>\n",
              "      <th>tipo</th>\n",
              "    </tr>\n",
              "  </thead>\n",
              "  <tbody>\n",
              "    <tr>\n",
              "      <th>0</th>\n",
              "      <td>34</td>\n",
              "      <td>35</td>\n",
              "      <td>Bianchini</td>\n",
              "      <td>Vincenza</td>\n",
              "      <td>9</td>\n",
              "      <td>5</td>\n",
              "      <td>1987</td>\n",
              "      <td>Femmina</td>\n",
              "      <td>Piazza Centrale, 21</td>\n",
              "      <td>10070</td>\n",
              "      <td>...</td>\n",
              "      <td>PIEMONTE</td>\n",
              "      <td>Verrua</td>\n",
              "      <td>AO</td>\n",
              "      <td>45,30684118</td>\n",
              "      <td>7,282311239</td>\n",
              "      <td>13</td>\n",
              "      <td>11100</td>\n",
              "      <td>66</td>\n",
              "      <td>35</td>\n",
              "      <td>b</td>\n",
              "    </tr>\n",
              "    <tr>\n",
              "      <th>1</th>\n",
              "      <td>126</td>\n",
              "      <td>127</td>\n",
              "      <td>Piazzi</td>\n",
              "      <td>Lara</td>\n",
              "      <td>28</td>\n",
              "      <td>7</td>\n",
              "      <td>1987</td>\n",
              "      <td>Femmina</td>\n",
              "      <td>Via Conciliazione, 61</td>\n",
              "      <td>20024</td>\n",
              "      <td>...</td>\n",
              "      <td>LOMBARDIA</td>\n",
              "      <td>Valleve</td>\n",
              "      <td>BG</td>\n",
              "      <td>45,57524566</td>\n",
              "      <td>9,079421143</td>\n",
              "      <td>6</td>\n",
              "      <td>5775</td>\n",
              "      <td>842</td>\n",
              "      <td>127</td>\n",
              "      <td>b</td>\n",
              "    </tr>\n",
              "    <tr>\n",
              "      <th>2</th>\n",
              "      <td>135</td>\n",
              "      <td>136</td>\n",
              "      <td>D'amico</td>\n",
              "      <td>Manuel</td>\n",
              "      <td>23</td>\n",
              "      <td>3</td>\n",
              "      <td>1983</td>\n",
              "      <td>Maschio</td>\n",
              "      <td>Corso V. Emanuele, 31</td>\n",
              "      <td>84010</td>\n",
              "      <td>...</td>\n",
              "      <td>CAMPANIA</td>\n",
              "      <td>Aquino</td>\n",
              "      <td>FR</td>\n",
              "      <td>40,65941273</td>\n",
              "      <td>14,62540238</td>\n",
              "      <td>3</td>\n",
              "      <td>11320</td>\n",
              "      <td>178</td>\n",
              "      <td>136</td>\n",
              "      <td>b</td>\n",
              "    </tr>\n",
              "    <tr>\n",
              "      <th>3</th>\n",
              "      <td>135</td>\n",
              "      <td>136</td>\n",
              "      <td>D'amico</td>\n",
              "      <td>Manuel</td>\n",
              "      <td>23</td>\n",
              "      <td>3</td>\n",
              "      <td>1983</td>\n",
              "      <td>Maschio</td>\n",
              "      <td>Corso V. Emanuele, 31</td>\n",
              "      <td>84010</td>\n",
              "      <td>...</td>\n",
              "      <td>CAMPANIA</td>\n",
              "      <td>Aquino</td>\n",
              "      <td>FR</td>\n",
              "      <td>40,65941273</td>\n",
              "      <td>14,62540238</td>\n",
              "      <td>7</td>\n",
              "      <td>7255</td>\n",
              "      <td>713</td>\n",
              "      <td>136</td>\n",
              "      <td>b</td>\n",
              "    </tr>\n",
              "    <tr>\n",
              "      <th>4</th>\n",
              "      <td>193</td>\n",
              "      <td>194</td>\n",
              "      <td>Bentivogli</td>\n",
              "      <td>Gabriele</td>\n",
              "      <td>28</td>\n",
              "      <td>6</td>\n",
              "      <td>1987</td>\n",
              "      <td>Maschio</td>\n",
              "      <td>Via G. Cesare, 70</td>\n",
              "      <td>80125</td>\n",
              "      <td>...</td>\n",
              "      <td>CAMPANIA</td>\n",
              "      <td>Romeno</td>\n",
              "      <td>TN</td>\n",
              "      <td>40,8506962</td>\n",
              "      <td>14,2463172</td>\n",
              "      <td>8</td>\n",
              "      <td>33600</td>\n",
              "      <td>143</td>\n",
              "      <td>194</td>\n",
              "      <td>a</td>\n",
              "    </tr>\n",
              "  </tbody>\n",
              "</table>\n",
              "<p>5 rows × 27 columns</p>\n",
              "</div>\n",
              "      <button class=\"colab-df-convert\" onclick=\"convertToInteractive('df-87bf76bc-7506-4441-af8b-49fb30b55d25')\"\n",
              "              title=\"Convert this dataframe to an interactive table.\"\n",
              "              style=\"display:none;\">\n",
              "        \n",
              "  <svg xmlns=\"http://www.w3.org/2000/svg\" height=\"24px\"viewBox=\"0 0 24 24\"\n",
              "       width=\"24px\">\n",
              "    <path d=\"M0 0h24v24H0V0z\" fill=\"none\"/>\n",
              "    <path d=\"M18.56 5.44l.94 2.06.94-2.06 2.06-.94-2.06-.94-.94-2.06-.94 2.06-2.06.94zm-11 1L8.5 8.5l.94-2.06 2.06-.94-2.06-.94L8.5 2.5l-.94 2.06-2.06.94zm10 10l.94 2.06.94-2.06 2.06-.94-2.06-.94-.94-2.06-.94 2.06-2.06.94z\"/><path d=\"M17.41 7.96l-1.37-1.37c-.4-.4-.92-.59-1.43-.59-.52 0-1.04.2-1.43.59L10.3 9.45l-7.72 7.72c-.78.78-.78 2.05 0 2.83L4 21.41c.39.39.9.59 1.41.59.51 0 1.02-.2 1.41-.59l7.78-7.78 2.81-2.81c.8-.78.8-2.07 0-2.86zM5.41 20L4 18.59l7.72-7.72 1.47 1.35L5.41 20z\"/>\n",
              "  </svg>\n",
              "      </button>\n",
              "      \n",
              "  <style>\n",
              "    .colab-df-container {\n",
              "      display:flex;\n",
              "      flex-wrap:wrap;\n",
              "      gap: 12px;\n",
              "    }\n",
              "\n",
              "    .colab-df-convert {\n",
              "      background-color: #E8F0FE;\n",
              "      border: none;\n",
              "      border-radius: 50%;\n",
              "      cursor: pointer;\n",
              "      display: none;\n",
              "      fill: #1967D2;\n",
              "      height: 32px;\n",
              "      padding: 0 0 0 0;\n",
              "      width: 32px;\n",
              "    }\n",
              "\n",
              "    .colab-df-convert:hover {\n",
              "      background-color: #E2EBFA;\n",
              "      box-shadow: 0px 1px 2px rgba(60, 64, 67, 0.3), 0px 1px 3px 1px rgba(60, 64, 67, 0.15);\n",
              "      fill: #174EA6;\n",
              "    }\n",
              "\n",
              "    [theme=dark] .colab-df-convert {\n",
              "      background-color: #3B4455;\n",
              "      fill: #D2E3FC;\n",
              "    }\n",
              "\n",
              "    [theme=dark] .colab-df-convert:hover {\n",
              "      background-color: #434B5C;\n",
              "      box-shadow: 0px 1px 3px 1px rgba(0, 0, 0, 0.15);\n",
              "      filter: drop-shadow(0px 1px 2px rgba(0, 0, 0, 0.3));\n",
              "      fill: #FFFFFF;\n",
              "    }\n",
              "  </style>\n",
              "\n",
              "      <script>\n",
              "        const buttonEl =\n",
              "          document.querySelector('#df-87bf76bc-7506-4441-af8b-49fb30b55d25 button.colab-df-convert');\n",
              "        buttonEl.style.display =\n",
              "          google.colab.kernel.accessAllowed ? 'block' : 'none';\n",
              "\n",
              "        async function convertToInteractive(key) {\n",
              "          const element = document.querySelector('#df-87bf76bc-7506-4441-af8b-49fb30b55d25');\n",
              "          const dataTable =\n",
              "            await google.colab.kernel.invokeFunction('convertToInteractive',\n",
              "                                                     [key], {});\n",
              "          if (!dataTable) return;\n",
              "\n",
              "          const docLinkHtml = 'Like what you see? Visit the ' +\n",
              "            '<a target=\"_blank\" href=https://colab.research.google.com/notebooks/data_table.ipynb>data table notebook</a>'\n",
              "            + ' to learn more about interactive tables.';\n",
              "          element.innerHTML = '';\n",
              "          dataTable['output_type'] = 'display_data';\n",
              "          await google.colab.output.renderOutput(dataTable, element);\n",
              "          const docLink = document.createElement('div');\n",
              "          docLink.innerHTML = docLinkHtml;\n",
              "          element.appendChild(docLink);\n",
              "        }\n",
              "      </script>\n",
              "    </div>\n",
              "  </div>\n",
              "  "
            ]
          },
          "metadata": {},
          "execution_count": 30
        }
      ]
    },
    {
      "cell_type": "code",
      "source": [
        "t_a[['COGNOME', 'NOME','importo','tipo']]"
      ],
      "metadata": {
        "colab": {
          "base_uri": "https://localhost:8080/",
          "height": 520
        },
        "id": "YHy7CRwggylV",
        "outputId": "c7f71c29-4c2a-4357-f079-33c4fc4c96b2"
      },
      "execution_count": null,
      "outputs": [
        {
          "output_type": "execute_result",
          "data": {
            "text/plain": [
              "       COGNOME        NOME  importo tipo\n",
              "0    Bianchini    Vincenza    11100    b\n",
              "1       Piazzi        Lara     5775    b\n",
              "2      D'amico      Manuel    11320    b\n",
              "3      D'amico      Manuel     7255    b\n",
              "4   Bentivogli    Gabriele    33600    a\n",
              "5      Biagini   Angiolina     7250    b\n",
              "6        Bruni        Alex    17050    a\n",
              "7        Leone        Sara     6490    c\n",
              "8    Cremonini     Tiziano     9325    a\n",
              "9     Rossetti    Domenico     3450    b\n",
              "10       Billi   Angiolina     1825    a\n",
              "11      Parisi      Sandro    14710    b\n",
              "12   Calzolari     Pierina    36545    b\n",
              "13   Tartarini  Sebastiano    21575    b\n",
              "14       Lippi        Emma    43880    a"
            ],
            "text/html": [
              "\n",
              "  <div id=\"df-0650f22c-9df8-4c6c-beb0-5f7057a8ac16\">\n",
              "    <div class=\"colab-df-container\">\n",
              "      <div>\n",
              "<style scoped>\n",
              "    .dataframe tbody tr th:only-of-type {\n",
              "        vertical-align: middle;\n",
              "    }\n",
              "\n",
              "    .dataframe tbody tr th {\n",
              "        vertical-align: top;\n",
              "    }\n",
              "\n",
              "    .dataframe thead th {\n",
              "        text-align: right;\n",
              "    }\n",
              "</style>\n",
              "<table border=\"1\" class=\"dataframe\">\n",
              "  <thead>\n",
              "    <tr style=\"text-align: right;\">\n",
              "      <th></th>\n",
              "      <th>COGNOME</th>\n",
              "      <th>NOME</th>\n",
              "      <th>importo</th>\n",
              "      <th>tipo</th>\n",
              "    </tr>\n",
              "  </thead>\n",
              "  <tbody>\n",
              "    <tr>\n",
              "      <th>0</th>\n",
              "      <td>Bianchini</td>\n",
              "      <td>Vincenza</td>\n",
              "      <td>11100</td>\n",
              "      <td>b</td>\n",
              "    </tr>\n",
              "    <tr>\n",
              "      <th>1</th>\n",
              "      <td>Piazzi</td>\n",
              "      <td>Lara</td>\n",
              "      <td>5775</td>\n",
              "      <td>b</td>\n",
              "    </tr>\n",
              "    <tr>\n",
              "      <th>2</th>\n",
              "      <td>D'amico</td>\n",
              "      <td>Manuel</td>\n",
              "      <td>11320</td>\n",
              "      <td>b</td>\n",
              "    </tr>\n",
              "    <tr>\n",
              "      <th>3</th>\n",
              "      <td>D'amico</td>\n",
              "      <td>Manuel</td>\n",
              "      <td>7255</td>\n",
              "      <td>b</td>\n",
              "    </tr>\n",
              "    <tr>\n",
              "      <th>4</th>\n",
              "      <td>Bentivogli</td>\n",
              "      <td>Gabriele</td>\n",
              "      <td>33600</td>\n",
              "      <td>a</td>\n",
              "    </tr>\n",
              "    <tr>\n",
              "      <th>5</th>\n",
              "      <td>Biagini</td>\n",
              "      <td>Angiolina</td>\n",
              "      <td>7250</td>\n",
              "      <td>b</td>\n",
              "    </tr>\n",
              "    <tr>\n",
              "      <th>6</th>\n",
              "      <td>Bruni</td>\n",
              "      <td>Alex</td>\n",
              "      <td>17050</td>\n",
              "      <td>a</td>\n",
              "    </tr>\n",
              "    <tr>\n",
              "      <th>7</th>\n",
              "      <td>Leone</td>\n",
              "      <td>Sara</td>\n",
              "      <td>6490</td>\n",
              "      <td>c</td>\n",
              "    </tr>\n",
              "    <tr>\n",
              "      <th>8</th>\n",
              "      <td>Cremonini</td>\n",
              "      <td>Tiziano</td>\n",
              "      <td>9325</td>\n",
              "      <td>a</td>\n",
              "    </tr>\n",
              "    <tr>\n",
              "      <th>9</th>\n",
              "      <td>Rossetti</td>\n",
              "      <td>Domenico</td>\n",
              "      <td>3450</td>\n",
              "      <td>b</td>\n",
              "    </tr>\n",
              "    <tr>\n",
              "      <th>10</th>\n",
              "      <td>Billi</td>\n",
              "      <td>Angiolina</td>\n",
              "      <td>1825</td>\n",
              "      <td>a</td>\n",
              "    </tr>\n",
              "    <tr>\n",
              "      <th>11</th>\n",
              "      <td>Parisi</td>\n",
              "      <td>Sandro</td>\n",
              "      <td>14710</td>\n",
              "      <td>b</td>\n",
              "    </tr>\n",
              "    <tr>\n",
              "      <th>12</th>\n",
              "      <td>Calzolari</td>\n",
              "      <td>Pierina</td>\n",
              "      <td>36545</td>\n",
              "      <td>b</td>\n",
              "    </tr>\n",
              "    <tr>\n",
              "      <th>13</th>\n",
              "      <td>Tartarini</td>\n",
              "      <td>Sebastiano</td>\n",
              "      <td>21575</td>\n",
              "      <td>b</td>\n",
              "    </tr>\n",
              "    <tr>\n",
              "      <th>14</th>\n",
              "      <td>Lippi</td>\n",
              "      <td>Emma</td>\n",
              "      <td>43880</td>\n",
              "      <td>a</td>\n",
              "    </tr>\n",
              "  </tbody>\n",
              "</table>\n",
              "</div>\n",
              "      <button class=\"colab-df-convert\" onclick=\"convertToInteractive('df-0650f22c-9df8-4c6c-beb0-5f7057a8ac16')\"\n",
              "              title=\"Convert this dataframe to an interactive table.\"\n",
              "              style=\"display:none;\">\n",
              "        \n",
              "  <svg xmlns=\"http://www.w3.org/2000/svg\" height=\"24px\"viewBox=\"0 0 24 24\"\n",
              "       width=\"24px\">\n",
              "    <path d=\"M0 0h24v24H0V0z\" fill=\"none\"/>\n",
              "    <path d=\"M18.56 5.44l.94 2.06.94-2.06 2.06-.94-2.06-.94-.94-2.06-.94 2.06-2.06.94zm-11 1L8.5 8.5l.94-2.06 2.06-.94-2.06-.94L8.5 2.5l-.94 2.06-2.06.94zm10 10l.94 2.06.94-2.06 2.06-.94-2.06-.94-.94-2.06-.94 2.06-2.06.94z\"/><path d=\"M17.41 7.96l-1.37-1.37c-.4-.4-.92-.59-1.43-.59-.52 0-1.04.2-1.43.59L10.3 9.45l-7.72 7.72c-.78.78-.78 2.05 0 2.83L4 21.41c.39.39.9.59 1.41.59.51 0 1.02-.2 1.41-.59l7.78-7.78 2.81-2.81c.8-.78.8-2.07 0-2.86zM5.41 20L4 18.59l7.72-7.72 1.47 1.35L5.41 20z\"/>\n",
              "  </svg>\n",
              "      </button>\n",
              "      \n",
              "  <style>\n",
              "    .colab-df-container {\n",
              "      display:flex;\n",
              "      flex-wrap:wrap;\n",
              "      gap: 12px;\n",
              "    }\n",
              "\n",
              "    .colab-df-convert {\n",
              "      background-color: #E8F0FE;\n",
              "      border: none;\n",
              "      border-radius: 50%;\n",
              "      cursor: pointer;\n",
              "      display: none;\n",
              "      fill: #1967D2;\n",
              "      height: 32px;\n",
              "      padding: 0 0 0 0;\n",
              "      width: 32px;\n",
              "    }\n",
              "\n",
              "    .colab-df-convert:hover {\n",
              "      background-color: #E2EBFA;\n",
              "      box-shadow: 0px 1px 2px rgba(60, 64, 67, 0.3), 0px 1px 3px 1px rgba(60, 64, 67, 0.15);\n",
              "      fill: #174EA6;\n",
              "    }\n",
              "\n",
              "    [theme=dark] .colab-df-convert {\n",
              "      background-color: #3B4455;\n",
              "      fill: #D2E3FC;\n",
              "    }\n",
              "\n",
              "    [theme=dark] .colab-df-convert:hover {\n",
              "      background-color: #434B5C;\n",
              "      box-shadow: 0px 1px 3px 1px rgba(0, 0, 0, 0.15);\n",
              "      filter: drop-shadow(0px 1px 2px rgba(0, 0, 0, 0.3));\n",
              "      fill: #FFFFFF;\n",
              "    }\n",
              "  </style>\n",
              "\n",
              "      <script>\n",
              "        const buttonEl =\n",
              "          document.querySelector('#df-0650f22c-9df8-4c6c-beb0-5f7057a8ac16 button.colab-df-convert');\n",
              "        buttonEl.style.display =\n",
              "          google.colab.kernel.accessAllowed ? 'block' : 'none';\n",
              "\n",
              "        async function convertToInteractive(key) {\n",
              "          const element = document.querySelector('#df-0650f22c-9df8-4c6c-beb0-5f7057a8ac16');\n",
              "          const dataTable =\n",
              "            await google.colab.kernel.invokeFunction('convertToInteractive',\n",
              "                                                     [key], {});\n",
              "          if (!dataTable) return;\n",
              "\n",
              "          const docLinkHtml = 'Like what you see? Visit the ' +\n",
              "            '<a target=\"_blank\" href=https://colab.research.google.com/notebooks/data_table.ipynb>data table notebook</a>'\n",
              "            + ' to learn more about interactive tables.';\n",
              "          element.innerHTML = '';\n",
              "          dataTable['output_type'] = 'display_data';\n",
              "          await google.colab.output.renderOutput(dataTable, element);\n",
              "          const docLink = document.createElement('div');\n",
              "          docLink.innerHTML = docLinkHtml;\n",
              "          element.appendChild(docLink);\n",
              "        }\n",
              "      </script>\n",
              "    </div>\n",
              "  </div>\n",
              "  "
            ]
          },
          "metadata": {},
          "execution_count": 31
        }
      ]
    },
    {
      "cell_type": "markdown",
      "source": [
        "## Interrogazioni aggregate e funzioni di aggregazione\n",
        "Pandas offre la possibilita' di partizionare ed aggregare le righe di un DataFrame sulla base dei valori assunti da una o piu' variabili (e.g., aggregare le operazioni in base al tipo). Una volta ottenuti questi aggregati, e' possibile processarne il contenuto per mezzo di funzioni di aggregazione."
      ],
      "metadata": {
        "id": "01LZDjVDhLcX"
      }
    },
    {
      "cell_type": "code",
      "source": [
        "t.groupby(['tipo']).agg(numero_operazioni=('tipo','count'),importo_totale=('importo','sum'),importo_minimo=('importo','min'),importo_massimo=('importo','max'))"
      ],
      "metadata": {
        "colab": {
          "base_uri": "https://localhost:8080/",
          "height": 206
        },
        "id": "AObRsmfMg9-z",
        "outputId": "c874e730-c0ae-4f56-e327-7eafe41156bd"
      },
      "execution_count": null,
      "outputs": [
        {
          "output_type": "execute_result",
          "data": {
            "text/plain": [
              "      numero_operazioni  importo_totale  importo_minimo  importo_massimo\n",
              "tipo                                                                    \n",
              "a                     5          105680            1825            43880\n",
              "b                     9          118980            3450            36545\n",
              "c                     1            6490            6490             6490\n",
              "cc                    5            2815             420              675"
            ],
            "text/html": [
              "\n",
              "  <div id=\"df-a0cfd812-74fc-412c-8c69-eaa74d17459d\">\n",
              "    <div class=\"colab-df-container\">\n",
              "      <div>\n",
              "<style scoped>\n",
              "    .dataframe tbody tr th:only-of-type {\n",
              "        vertical-align: middle;\n",
              "    }\n",
              "\n",
              "    .dataframe tbody tr th {\n",
              "        vertical-align: top;\n",
              "    }\n",
              "\n",
              "    .dataframe thead th {\n",
              "        text-align: right;\n",
              "    }\n",
              "</style>\n",
              "<table border=\"1\" class=\"dataframe\">\n",
              "  <thead>\n",
              "    <tr style=\"text-align: right;\">\n",
              "      <th></th>\n",
              "      <th>numero_operazioni</th>\n",
              "      <th>importo_totale</th>\n",
              "      <th>importo_minimo</th>\n",
              "      <th>importo_massimo</th>\n",
              "    </tr>\n",
              "    <tr>\n",
              "      <th>tipo</th>\n",
              "      <th></th>\n",
              "      <th></th>\n",
              "      <th></th>\n",
              "      <th></th>\n",
              "    </tr>\n",
              "  </thead>\n",
              "  <tbody>\n",
              "    <tr>\n",
              "      <th>a</th>\n",
              "      <td>5</td>\n",
              "      <td>105680</td>\n",
              "      <td>1825</td>\n",
              "      <td>43880</td>\n",
              "    </tr>\n",
              "    <tr>\n",
              "      <th>b</th>\n",
              "      <td>9</td>\n",
              "      <td>118980</td>\n",
              "      <td>3450</td>\n",
              "      <td>36545</td>\n",
              "    </tr>\n",
              "    <tr>\n",
              "      <th>c</th>\n",
              "      <td>1</td>\n",
              "      <td>6490</td>\n",
              "      <td>6490</td>\n",
              "      <td>6490</td>\n",
              "    </tr>\n",
              "    <tr>\n",
              "      <th>cc</th>\n",
              "      <td>5</td>\n",
              "      <td>2815</td>\n",
              "      <td>420</td>\n",
              "      <td>675</td>\n",
              "    </tr>\n",
              "  </tbody>\n",
              "</table>\n",
              "</div>\n",
              "      <button class=\"colab-df-convert\" onclick=\"convertToInteractive('df-a0cfd812-74fc-412c-8c69-eaa74d17459d')\"\n",
              "              title=\"Convert this dataframe to an interactive table.\"\n",
              "              style=\"display:none;\">\n",
              "        \n",
              "  <svg xmlns=\"http://www.w3.org/2000/svg\" height=\"24px\"viewBox=\"0 0 24 24\"\n",
              "       width=\"24px\">\n",
              "    <path d=\"M0 0h24v24H0V0z\" fill=\"none\"/>\n",
              "    <path d=\"M18.56 5.44l.94 2.06.94-2.06 2.06-.94-2.06-.94-.94-2.06-.94 2.06-2.06.94zm-11 1L8.5 8.5l.94-2.06 2.06-.94-2.06-.94L8.5 2.5l-.94 2.06-2.06.94zm10 10l.94 2.06.94-2.06 2.06-.94-2.06-.94-.94-2.06-.94 2.06-2.06.94z\"/><path d=\"M17.41 7.96l-1.37-1.37c-.4-.4-.92-.59-1.43-.59-.52 0-1.04.2-1.43.59L10.3 9.45l-7.72 7.72c-.78.78-.78 2.05 0 2.83L4 21.41c.39.39.9.59 1.41.59.51 0 1.02-.2 1.41-.59l7.78-7.78 2.81-2.81c.8-.78.8-2.07 0-2.86zM5.41 20L4 18.59l7.72-7.72 1.47 1.35L5.41 20z\"/>\n",
              "  </svg>\n",
              "      </button>\n",
              "      \n",
              "  <style>\n",
              "    .colab-df-container {\n",
              "      display:flex;\n",
              "      flex-wrap:wrap;\n",
              "      gap: 12px;\n",
              "    }\n",
              "\n",
              "    .colab-df-convert {\n",
              "      background-color: #E8F0FE;\n",
              "      border: none;\n",
              "      border-radius: 50%;\n",
              "      cursor: pointer;\n",
              "      display: none;\n",
              "      fill: #1967D2;\n",
              "      height: 32px;\n",
              "      padding: 0 0 0 0;\n",
              "      width: 32px;\n",
              "    }\n",
              "\n",
              "    .colab-df-convert:hover {\n",
              "      background-color: #E2EBFA;\n",
              "      box-shadow: 0px 1px 2px rgba(60, 64, 67, 0.3), 0px 1px 3px 1px rgba(60, 64, 67, 0.15);\n",
              "      fill: #174EA6;\n",
              "    }\n",
              "\n",
              "    [theme=dark] .colab-df-convert {\n",
              "      background-color: #3B4455;\n",
              "      fill: #D2E3FC;\n",
              "    }\n",
              "\n",
              "    [theme=dark] .colab-df-convert:hover {\n",
              "      background-color: #434B5C;\n",
              "      box-shadow: 0px 1px 3px 1px rgba(0, 0, 0, 0.15);\n",
              "      filter: drop-shadow(0px 1px 2px rgba(0, 0, 0, 0.3));\n",
              "      fill: #FFFFFF;\n",
              "    }\n",
              "  </style>\n",
              "\n",
              "      <script>\n",
              "        const buttonEl =\n",
              "          document.querySelector('#df-a0cfd812-74fc-412c-8c69-eaa74d17459d button.colab-df-convert');\n",
              "        buttonEl.style.display =\n",
              "          google.colab.kernel.accessAllowed ? 'block' : 'none';\n",
              "\n",
              "        async function convertToInteractive(key) {\n",
              "          const element = document.querySelector('#df-a0cfd812-74fc-412c-8c69-eaa74d17459d');\n",
              "          const dataTable =\n",
              "            await google.colab.kernel.invokeFunction('convertToInteractive',\n",
              "                                                     [key], {});\n",
              "          if (!dataTable) return;\n",
              "\n",
              "          const docLinkHtml = 'Like what you see? Visit the ' +\n",
              "            '<a target=\"_blank\" href=https://colab.research.google.com/notebooks/data_table.ipynb>data table notebook</a>'\n",
              "            + ' to learn more about interactive tables.';\n",
              "          element.innerHTML = '';\n",
              "          dataTable['output_type'] = 'display_data';\n",
              "          await google.colab.output.renderOutput(dataTable, element);\n",
              "          const docLink = document.createElement('div');\n",
              "          docLink.innerHTML = docLinkHtml;\n",
              "          element.appendChild(docLink);\n",
              "        }\n",
              "      </script>\n",
              "    </div>\n",
              "  </div>\n",
              "  "
            ]
          },
          "metadata": {},
          "execution_count": 36
        }
      ]
    },
    {
      "cell_type": "markdown",
      "source": [
        "## Definizione di funzioni\n",
        "La sintassi prevista da Pyhont per la desinizione di funzioni e; estremamente succinta. Cio' nonostante, puo' esserci bisogno di renderla ancora piu' essenziale in diversi contesti. Consideriamo i seguenti esempi:"
      ],
      "metadata": {
        "id": "7sdKpsItj2n2"
      }
    },
    {
      "cell_type": "code",
      "source": [
        "def doubler(x):\n",
        "  return 2*x\n",
        "\n",
        "def is_positive(x):\n",
        "  return x>0\n",
        "\n",
        "def sum(x,y):\n",
        "  return x+y"
      ],
      "metadata": {
        "id": "yhpMM-OOiWHm"
      },
      "execution_count": null,
      "outputs": []
    },
    {
      "cell_type": "code",
      "source": [
        "print(doubler(5))\n",
        "print(is_positive(0))\n",
        "print(sum(4,11))"
      ],
      "metadata": {
        "colab": {
          "base_uri": "https://localhost:8080/"
        },
        "id": "5LQ-gXt9keZ2",
        "outputId": "5bab73e8-faf1-49f0-902b-af8b9cb5d317"
      },
      "execution_count": null,
      "outputs": [
        {
          "output_type": "stream",
          "name": "stdout",
          "text": [
            "10\n",
            "False\n",
            "15\n"
          ]
        }
      ]
    },
    {
      "cell_type": "markdown",
      "source": [
        "In determinati contesti puo' essere necessario la definizioni di funzioni al volo, **funzioni effimere**, da utilizzare solo in quel punto del codice. Per questi casi e' possibile usare le funzioni lambda. Si tratta di una sintassi alternativa che ci permette di definire al volo una funzione. Nel caso avessimo bisogno di fissare queste funzione per utilizzarle altrove, le possiamo salvera in alcune variabili.\n"
      ],
      "metadata": {
        "id": "lNyLrbgikvAy"
      }
    },
    {
      "cell_type": "code",
      "source": [
        "doubler2=(lambda x: 2*x)\n",
        "\n",
        "is_positive2=(lambda x: x>0)\n",
        "\n",
        "sum2=(lambda x,y: x+y)"
      ],
      "metadata": {
        "id": "hIeXSx-ikfqS"
      },
      "execution_count": null,
      "outputs": []
    },
    {
      "cell_type": "code",
      "source": [
        "print(doubler2(32))\n",
        "print(is_positive2(3))\n",
        "print(sum(1,1))\n"
      ],
      "metadata": {
        "colab": {
          "base_uri": "https://localhost:8080/"
        },
        "id": "f8clciXAlaJV",
        "outputId": "b896638b-00f2-4e47-99ff-c0803d356ded"
      },
      "execution_count": null,
      "outputs": [
        {
          "output_type": "stream",
          "name": "stdout",
          "text": [
            "64\n",
            "True\n",
            "2\n"
          ]
        }
      ]
    },
    {
      "cell_type": "code",
      "source": [],
      "metadata": {
        "id": "1-ZD1jn0lp6r"
      },
      "execution_count": null,
      "outputs": []
    }
  ]
}