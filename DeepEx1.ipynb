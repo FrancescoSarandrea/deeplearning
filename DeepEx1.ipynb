{
  "nbformat": 4,
  "nbformat_minor": 0,
  "metadata": {
    "colab": {
      "provenance": [],
      "authorship_tag": "ABX9TyMJh3r039lIWLi6Lg0AwnEa",
      "include_colab_link": true
    },
    "kernelspec": {
      "name": "python3",
      "display_name": "Python 3"
    },
    "language_info": {
      "name": "python"
    }
  },
  "cells": [
    {
      "cell_type": "markdown",
      "metadata": {
        "id": "view-in-github",
        "colab_type": "text"
      },
      "source": [
        "<a href=\"https://colab.research.google.com/github/FrancescoSarandrea/deeplearning/blob/main/DeepEx1.ipynb\" target=\"_parent\"><img src=\"https://colab.research.google.com/assets/colab-badge.svg\" alt=\"Open In Colab\"/></a>"
      ]
    },
    {
      "cell_type": "markdown",
      "source": [
        "#Esercizio 1\n",
        "Chiede all' utente di inserire un tempo nel formato hh:mm:ss e lo converte in numero totale di secondi"
      ],
      "metadata": {
        "id": "Zz_ykzNLujpT"
      }
    },
    {
      "cell_type": "code",
      "execution_count": null,
      "metadata": {
        "colab": {
          "base_uri": "https://localhost:8080/"
        },
        "id": "oY1vbgFroa40",
        "outputId": "702bcd48-54f7-491a-e03a-b21ea2cd8e05"
      },
      "outputs": [
        {
          "output_type": "stream",
          "name": "stdout",
          "text": [
            "Inserisci tempo: 114:33:41\n",
            "412421\n"
          ]
        }
      ],
      "source": [
        "tempo=input('Inserisci tempo: ')\n",
        "totale_secondi=int(tempo.split(':')[0])*3600+int(tempo.split(':')[1])*60+int(tempo.split(':')[2])\n",
        "print(totale_secondi)"
      ]
    },
    {
      "cell_type": "code",
      "source": [],
      "metadata": {
        "colab": {
          "base_uri": "https://localhost:8080/"
        },
        "id": "LhMad7I-osgW",
        "outputId": "5c9f22f4-6def-4c3f-e299-9ca8bead6f54"
      },
      "execution_count": null,
      "outputs": [
        {
          "output_type": "execute_result",
          "data": {
            "text/plain": [
              "40812"
            ]
          },
          "metadata": {},
          "execution_count": 18
        }
      ]
    },
    {
      "cell_type": "markdown",
      "source": [
        "#Esercizio 2\n",
        "Chiede all'utente un numero di millisecondi e restituisce il tempo nel formato hh:mm:ss"
      ],
      "metadata": {
        "id": "F9wyX8Tvu0Jc"
      }
    },
    {
      "cell_type": "code",
      "source": [
        "millisecondi=input('Inserisci tempo: ')\n",
        "secondi_totali=int(millisecondi)//1000\n",
        "ore=secondi_totali//3600\n",
        "c=secondi_totali%3600\n",
        "minuti=c//60\n",
        "secondi=c%60\n",
        "\n",
        "\n",
        "print(f\"Total time is {ore} : {minuti}: {secondi}\")"
      ],
      "metadata": {
        "colab": {
          "base_uri": "https://localhost:8080/"
        },
        "id": "iZvXHA2mqVo4",
        "outputId": "410c22cd-bf67-41f1-8b2b-27895b4489a7"
      },
      "execution_count": null,
      "outputs": [
        {
          "output_type": "stream",
          "name": "stdout",
          "text": [
            "Inserisci tempo: 4214321\n",
            "Total time is 1 : 10: 14\n"
          ]
        }
      ]
    },
    {
      "cell_type": "code",
      "source": [],
      "metadata": {
        "id": "--VHCV-dtdxs"
      },
      "execution_count": null,
      "outputs": []
    }
  ]
}