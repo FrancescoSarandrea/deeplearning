{
  "nbformat": 4,
  "nbformat_minor": 0,
  "metadata": {
    "colab": {
      "provenance": [],
      "authorship_tag": "ABX9TyMDj3dc+awqznnKQ41sBh0D",
      "include_colab_link": true
    },
    "kernelspec": {
      "name": "python3",
      "display_name": "Python 3"
    },
    "language_info": {
      "name": "python"
    }
  },
  "cells": [
    {
      "cell_type": "markdown",
      "metadata": {
        "id": "view-in-github",
        "colab_type": "text"
      },
      "source": [
        "<a href=\"https://colab.research.google.com/github/FrancescoSarandrea/deeplearning/blob/main/DeepEx3b.ipynb\" target=\"_parent\"><img src=\"https://colab.research.google.com/assets/colab-badge.svg\" alt=\"Open In Colab\"/></a>"
      ]
    },
    {
      "cell_type": "markdown",
      "source": [
        "Semplice esercizio per confrontare le caratteristiche di liste e tuple. La prima soluzione provata utilizza una lista di tuple, uno degli elementi della tupla sara' a sua volta una lista (voti degli esami) per poter essere modificabili."
      ],
      "metadata": {
        "id": "wVENWMLglIs0"
      }
    },
    {
      "cell_type": "code",
      "execution_count": null,
      "metadata": {
        "id": "EywelJt5eC25"
      },
      "outputs": [],
      "source": [
        "students=[('Matteo Rossi',(32,7,1980),[\"Matematica\",\"2/30\",\"14\",\"6\",\"2012\"]), ('Anna Karenina',(12,12,2012),[\"Matematica\",\"2/30\",\"14\",\"6\",\"2012\"]),('Carlotta Santi',(3,1,1930),[\"Matematica\",\"2/30\",\"14\",\"6\",\"2012\"]),('Alessandro Chiari',(24,2,1991),[\"Matematica\",\"2/30\",\"14\",\"6\",\"2012\"])]"
      ]
    },
    {
      "cell_type": "code",
      "source": [
        "#visualizza l'anno di nascita del terzo studente\n",
        "print(students[2][1][2])\n",
        "\n",
        "#modifica il voto di matematica del primo studente\n",
        "students[0][2][1]=\"4/30\"\n",
        "print(students[0][2][1])"
      ],
      "metadata": {
        "colab": {
          "base_uri": "https://localhost:8080/"
        },
        "id": "QFiUCrzxhcP6",
        "outputId": "9368878f-9866-4eb6-e0f5-df3b3ee3d45e"
      },
      "execution_count": null,
      "outputs": [
        {
          "output_type": "stream",
          "name": "stdout",
          "text": [
            "1930\n",
            "4/30\n"
          ]
        }
      ]
    },
    {
      "cell_type": "code",
      "source": [
        "#visualizza l'esame, il voto e l'anno per ogni studente\n",
        "for i in range(0,len(students)):\n",
        "  print([students[i][2][0],students[i][2][1],students[i][2][4]])"
      ],
      "metadata": {
        "colab": {
          "base_uri": "https://localhost:8080/"
        },
        "id": "jI0b6ueBi13Y",
        "outputId": "cb115c56-1054-4ecb-d7b6-6fceaff07602"
      },
      "execution_count": null,
      "outputs": [
        {
          "output_type": "stream",
          "name": "stdout",
          "text": [
            "['Matematica', '4/30', '2012']\n",
            "['Matematica', '2/30', '2012']\n",
            "['Matematica', '2/30', '2012']\n",
            "['Matematica', '2/30', '2012']\n"
          ]
        }
      ]
    },
    {
      "cell_type": "markdown",
      "source": [
        "E se invece avessimo una tupla di tuple? "
      ],
      "metadata": {
        "id": "qYmba53LnF2N"
      }
    },
    {
      "cell_type": "code",
      "source": [
        "students2=(('Matteo Rossi',(32,7,1980),[\"Matematica\",\"2/30\",\"14\",\"6\",\"2012\"]))\n",
        "# devo creare una copia della tupla\n",
        "t= students[0][2][1]"
      ],
      "metadata": {
        "colab": {
          "base_uri": "https://localhost:8080/",
          "height": 35
        },
        "id": "YoNiV88GnKj0",
        "outputId": "619d9c3c-8260-471c-e35a-c324c17df973"
      },
      "execution_count": null,
      "outputs": [
        {
          "output_type": "execute_result",
          "data": {
            "text/plain": [
              "'2/30'"
            ],
            "application/vnd.google.colaboratory.intrinsic+json": {
              "type": "string"
            }
          },
          "metadata": {},
          "execution_count": 55
        }
      ]
    },
    {
      "cell_type": "code",
      "source": [],
      "metadata": {
        "id": "xlE5XjhCgHC1"
      },
      "execution_count": null,
      "outputs": []
    }
  ]
}