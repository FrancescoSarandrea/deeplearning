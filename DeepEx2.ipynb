{
  "nbformat": 4,
  "nbformat_minor": 0,
  "metadata": {
    "colab": {
      "provenance": [],
      "authorship_tag": "ABX9TyPUz0qkwUczvOzmJlS1YLdn",
      "include_colab_link": true
    },
    "kernelspec": {
      "name": "python3",
      "display_name": "Python 3"
    },
    "language_info": {
      "name": "python"
    }
  },
  "cells": [
    {
      "cell_type": "markdown",
      "metadata": {
        "id": "view-in-github",
        "colab_type": "text"
      },
      "source": [
        "<a href=\"https://colab.research.google.com/github/FrancescoSarandrea/deeplearning/blob/main/DeepEx2.ipynb\" target=\"_parent\"><img src=\"https://colab.research.google.com/assets/colab-badge.svg\" alt=\"Open In Colab\"/></a>"
      ]
    },
    {
      "cell_type": "code",
      "execution_count": null,
      "metadata": {
        "id": "VUaaNLcZNTYr"
      },
      "outputs": [],
      "source": [
        "def starts_with(s1,s2, check=False):\n",
        "    if len(s2)>len(s1):\n",
        "      return False\n",
        "    return s1[:len(s2)]==s2 \n",
        " \n",
        "#  if check:\n",
        "#    prova=input(\"Input di prova (s1_List,s2): \")\n",
        "#    return prova[0]==prova[1] \n",
        "#  return s1[0]==s2\n",
        "    "
      ]
    },
    {
      "cell_type": "code",
      "source": [
        "starts_with(\"abracadabra\",\"abbra\")"
      ],
      "metadata": {
        "colab": {
          "base_uri": "https://localhost:8080/"
        },
        "id": "UpAR2nx0Nmfz",
        "outputId": "fe6306f3-998f-4ff1-ba40-12985d9b567a"
      },
      "execution_count": null,
      "outputs": [
        {
          "output_type": "execute_result",
          "data": {
            "text/plain": [
              "False"
            ]
          },
          "metadata": {},
          "execution_count": 50
        }
      ]
    },
    {
      "cell_type": "code",
      "source": [
        "def contains2(s1,s2):\n",
        "   for i in range(0,len(s1)-len(s2)+1):\n",
        "      if s1[i:i+len(s2)]==s2:\n",
        "        return True\n",
        "   return False\n",
        "\n",
        "contains2(\"abracadabra\",\"aba\")"
      ],
      "metadata": {
        "colab": {
          "base_uri": "https://localhost:8080/"
        },
        "id": "tj4WxuTQTZao",
        "outputId": "a71818ed-ba34-4a0c-cec3-664004748034"
      },
      "execution_count": null,
      "outputs": [
        {
          "output_type": "execute_result",
          "data": {
            "text/plain": [
              "False"
            ]
          },
          "metadata": {},
          "execution_count": 70
        }
      ]
    },
    {
      "cell_type": "code",
      "source": [],
      "metadata": {
        "colab": {
          "base_uri": "https://localhost:8080/"
        },
        "id": "Cv51YQ-wN28N",
        "outputId": "13d97fcb-034e-40d3-a318-7d771135ddd8"
      },
      "execution_count": null,
      "outputs": [
        {
          "output_type": "execute_result",
          "data": {
            "text/plain": [
              "False"
            ]
          },
          "metadata": {},
          "execution_count": 64
        }
      ]
    },
    {
      "cell_type": "code",
      "source": [
        "def is_palindrome(x,check=False):\n",
        "  if check:\n",
        "    prova=input(\"Input di prova (stringa): \")\n",
        "    return prova==prova[::-1]\n",
        "  return x==x[::-1]"
      ],
      "metadata": {
        "id": "lVv3qi8oN7rT"
      },
      "execution_count": null,
      "outputs": []
    },
    {
      "cell_type": "code",
      "source": [
        "is_palindrome(\"itopinonavevanonipota\",check=True)\n",
        "is_palindrome(\"calla\",check=True)"
      ],
      "metadata": {
        "colab": {
          "base_uri": "https://localhost:8080/"
        },
        "id": "hpL3t1oLOIqC",
        "outputId": "d1b7eb45-42c0-4731-ac29-1b5eb4310483"
      },
      "execution_count": null,
      "outputs": [
        {
          "name": "stdout",
          "output_type": "stream",
          "text": [
            "Input di prova (stringa): qw\n",
            "Input di prova (stringa): wq\n"
          ]
        },
        {
          "output_type": "execute_result",
          "data": {
            "text/plain": [
              "False"
            ]
          },
          "metadata": {},
          "execution_count": 37
        }
      ]
    }
  ]
}